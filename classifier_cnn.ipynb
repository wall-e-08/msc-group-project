{
 "cells": [
  {
   "cell_type": "code",
   "execution_count": 97,
   "id": "initial_id",
   "metadata": {
    "collapsed": true,
    "ExecuteTime": {
     "end_time": "2024-03-03T23:14:56.898142200Z",
     "start_time": "2024-03-03T23:14:56.878149700Z"
    }
   },
   "outputs": [],
   "source": [
    "import json\n",
    "import numpy as np\n",
    "from sklearn.model_selection import train_test_split\n",
    "from tensorflow.keras import Sequential, optimizers\n",
    "from tensorflow.keras.optimizers import Adam\n",
    "from tensorflow.keras.layers import (Conv2D, MaxPooling2D, BatchNormalization,\n",
    "                                     Flatten, Dense, Dropout)\n",
    "import matplotlib.pyplot as plt"
   ]
  },
  {
   "cell_type": "code",
   "execution_count": 98,
   "outputs": [],
   "source": [
    "with open(\"data2.json\", \"r\") as fp:\n",
    "  data = json.load(fp)\n",
    "\n",
    "X = np.array(data[\"mfcc\"])\n",
    "y = np.array(data[\"labels\"])"
   ],
   "metadata": {
    "collapsed": false,
    "ExecuteTime": {
     "end_time": "2024-03-03T23:14:58.116756700Z",
     "start_time": "2024-03-03T23:14:57.287229400Z"
    }
   },
   "id": "e6ae8edc4857c662"
  },
  {
   "cell_type": "code",
   "execution_count": 99,
   "outputs": [
    {
     "data": {
      "text/plain": "(160, 259, 13)"
     },
     "execution_count": 99,
     "metadata": {},
     "output_type": "execute_result"
    }
   ],
   "source": [
    "X.shape"
   ],
   "metadata": {
    "collapsed": false,
    "ExecuteTime": {
     "end_time": "2024-03-03T23:14:58.748742500Z",
     "start_time": "2024-03-03T23:14:58.696731Z"
    }
   },
   "id": "be48259f2f2f1928"
  },
  {
   "cell_type": "code",
   "execution_count": 100,
   "outputs": [],
   "source": [
    "X_train, X_test, y_train, y_test = train_test_split(X, y, test_size=0.2,\n",
    "                                                    random_state=42)"
   ],
   "metadata": {
    "collapsed": false,
    "ExecuteTime": {
     "end_time": "2024-03-03T23:14:59.282652600Z",
     "start_time": "2024-03-03T23:14:59.276146300Z"
    }
   },
   "id": "d77112ff530c0a4e"
  },
  {
   "cell_type": "code",
   "execution_count": 101,
   "outputs": [
    {
     "data": {
      "text/plain": "(128, 259, 13)"
     },
     "execution_count": 101,
     "metadata": {},
     "output_type": "execute_result"
    }
   ],
   "source": [
    "X_train.shape"
   ],
   "metadata": {
    "collapsed": false,
    "ExecuteTime": {
     "end_time": "2024-03-03T23:14:59.898158Z",
     "start_time": "2024-03-03T23:14:59.889150300Z"
    }
   },
   "id": "28db287a24a57637"
  },
  {
   "cell_type": "code",
   "execution_count": 102,
   "outputs": [],
   "source": [
    "# add an axis to input sets\n",
    "X_train = X_train[..., np.newaxis]\n",
    "X_test = X_test[..., np.newaxis]"
   ],
   "metadata": {
    "collapsed": false,
    "ExecuteTime": {
     "end_time": "2024-03-03T23:15:00.353319600Z",
     "start_time": "2024-03-03T23:15:00.328820400Z"
    }
   },
   "id": "c1a0f79cc75b34ca"
  },
  {
   "cell_type": "code",
   "execution_count": 103,
   "outputs": [
    {
     "data": {
      "text/plain": "(128, 259, 13, 1)"
     },
     "execution_count": 103,
     "metadata": {},
     "output_type": "execute_result"
    }
   ],
   "source": [
    "X_train.shape"
   ],
   "metadata": {
    "collapsed": false,
    "ExecuteTime": {
     "end_time": "2024-03-03T23:15:01.182712700Z",
     "start_time": "2024-03-03T23:15:01.174207100Z"
    }
   },
   "id": "fdddd6c1eec008db"
  },
  {
   "cell_type": "code",
   "execution_count": 104,
   "outputs": [
    {
     "data": {
      "text/plain": "(32, 259, 13, 1)"
     },
     "execution_count": 104,
     "metadata": {},
     "output_type": "execute_result"
    }
   ],
   "source": [
    "X_test.shape"
   ],
   "metadata": {
    "collapsed": false,
    "ExecuteTime": {
     "end_time": "2024-03-03T23:15:01.924050100Z",
     "start_time": "2024-03-03T23:15:01.917053200Z"
    }
   },
   "id": "370d732db47ce23c"
  },
  {
   "cell_type": "code",
   "execution_count": 105,
   "outputs": [],
   "source": [
    "model = Sequential([\n",
    "  Conv2D(32, (3, 3), activation='relu',\n",
    "         input_shape=(X_train.shape[1], X_train.shape[2], 1)),\n",
    "  MaxPooling2D((3, 3), strides=(2, 2), padding='same'),\n",
    "  BatchNormalization(),\n",
    "  \n",
    "  Conv2D(32, (3, 3), activation='relu'),\n",
    "  MaxPooling2D((3, 3), strides=(2, 2), padding='same'),\n",
    "  BatchNormalization(),\n",
    "  \n",
    "  Conv2D(32, (2, 2), activation='relu'),\n",
    "  MaxPooling2D((2, 2), strides=(2, 2), padding='same'),\n",
    "  BatchNormalization(),\n",
    "  \n",
    "  # flatten output\n",
    "  Flatten(),\n",
    "  Dense(64, activation='relu'),\n",
    "  Dropout(0.3),\n",
    "  \n",
    "  # output\n",
    "  Dense(3, activation='softmax')\n",
    "])"
   ],
   "metadata": {
    "collapsed": false,
    "ExecuteTime": {
     "end_time": "2024-03-03T23:15:02.650596100Z",
     "start_time": "2024-03-03T23:15:02.551989300Z"
    }
   },
   "id": "af8406d2dd35fe6d"
  },
  {
   "cell_type": "code",
   "execution_count": 106,
   "outputs": [
    {
     "name": "stdout",
     "output_type": "stream",
     "text": [
      "Model: \"sequential_5\"\n",
      "_________________________________________________________________\n",
      " Layer (type)                Output Shape              Param #   \n",
      "=================================================================\n",
      " conv2d_15 (Conv2D)          (None, 257, 11, 32)       320       \n",
      "                                                                 \n",
      " max_pooling2d_15 (MaxPooli  (None, 129, 6, 32)        0         \n",
      " ng2D)                                                           \n",
      "                                                                 \n",
      " batch_normalization_15 (Ba  (None, 129, 6, 32)        128       \n",
      " tchNormalization)                                               \n",
      "                                                                 \n",
      " conv2d_16 (Conv2D)          (None, 127, 4, 32)        9248      \n",
      "                                                                 \n",
      " max_pooling2d_16 (MaxPooli  (None, 64, 2, 32)         0         \n",
      " ng2D)                                                           \n",
      "                                                                 \n",
      " batch_normalization_16 (Ba  (None, 64, 2, 32)         128       \n",
      " tchNormalization)                                               \n",
      "                                                                 \n",
      " conv2d_17 (Conv2D)          (None, 63, 1, 32)         4128      \n",
      "                                                                 \n",
      " max_pooling2d_17 (MaxPooli  (None, 32, 1, 32)         0         \n",
      " ng2D)                                                           \n",
      "                                                                 \n",
      " batch_normalization_17 (Ba  (None, 32, 1, 32)         128       \n",
      " tchNormalization)                                               \n",
      "                                                                 \n",
      " flatten_5 (Flatten)         (None, 1024)              0         \n",
      "                                                                 \n",
      " dense_10 (Dense)            (None, 64)                65600     \n",
      "                                                                 \n",
      " dropout_5 (Dropout)         (None, 64)                0         \n",
      "                                                                 \n",
      " dense_11 (Dense)            (None, 3)                 195       \n",
      "                                                                 \n",
      "=================================================================\n",
      "Total params: 79875 (312.01 KB)\n",
      "Trainable params: 79683 (311.26 KB)\n",
      "Non-trainable params: 192 (768.00 Byte)\n",
      "_________________________________________________________________\n"
     ]
    }
   ],
   "source": [
    "model.compile(optimizer=Adam(learning_rate=0.0001),\n",
    "              loss='sparse_categorical_crossentropy',\n",
    "              # loss='categorical_crossentropy',\n",
    "              metrics=['accuracy'])\n",
    "\n",
    "model.summary()"
   ],
   "metadata": {
    "collapsed": false,
    "ExecuteTime": {
     "end_time": "2024-03-03T23:15:03.737039700Z",
     "start_time": "2024-03-03T23:15:03.708503200Z"
    }
   },
   "id": "b5ff678d30d1a10a"
  },
  {
   "cell_type": "code",
   "execution_count": 107,
   "outputs": [
    {
     "name": "stdout",
     "output_type": "stream",
     "text": [
      "Epoch 1/50\n",
      "4/4 [==============================] - 1s 54ms/step - loss: 2.0686 - accuracy: 0.2891 - val_loss: 5.9627 - val_accuracy: 0.4688\n",
      "Epoch 2/50\n",
      "4/4 [==============================] - 0s 26ms/step - loss: 1.8813 - accuracy: 0.3594 - val_loss: 4.8901 - val_accuracy: 0.4688\n",
      "Epoch 3/50\n",
      "4/4 [==============================] - 0s 27ms/step - loss: 1.5131 - accuracy: 0.4297 - val_loss: 4.2856 - val_accuracy: 0.4688\n",
      "Epoch 4/50\n",
      "4/4 [==============================] - 0s 26ms/step - loss: 1.4004 - accuracy: 0.4453 - val_loss: 3.8104 - val_accuracy: 0.4688\n",
      "Epoch 5/50\n",
      "4/4 [==============================] - 0s 26ms/step - loss: 1.2966 - accuracy: 0.5156 - val_loss: 3.4894 - val_accuracy: 0.4688\n",
      "Epoch 6/50\n",
      "4/4 [==============================] - 0s 25ms/step - loss: 1.0151 - accuracy: 0.5938 - val_loss: 3.2525 - val_accuracy: 0.4688\n",
      "Epoch 7/50\n",
      "4/4 [==============================] - 0s 25ms/step - loss: 0.9633 - accuracy: 0.5938 - val_loss: 3.0189 - val_accuracy: 0.4688\n",
      "Epoch 8/50\n",
      "4/4 [==============================] - 0s 24ms/step - loss: 0.8835 - accuracy: 0.6016 - val_loss: 2.8444 - val_accuracy: 0.4688\n",
      "Epoch 9/50\n",
      "4/4 [==============================] - 0s 26ms/step - loss: 0.8046 - accuracy: 0.6172 - val_loss: 2.6980 - val_accuracy: 0.4688\n",
      "Epoch 10/50\n",
      "4/4 [==============================] - 0s 25ms/step - loss: 0.7262 - accuracy: 0.7109 - val_loss: 2.5263 - val_accuracy: 0.4688\n",
      "Epoch 11/50\n",
      "4/4 [==============================] - 0s 25ms/step - loss: 0.5948 - accuracy: 0.7109 - val_loss: 2.3631 - val_accuracy: 0.4688\n",
      "Epoch 12/50\n",
      "4/4 [==============================] - 0s 25ms/step - loss: 0.6191 - accuracy: 0.7422 - val_loss: 2.1903 - val_accuracy: 0.4688\n",
      "Epoch 13/50\n",
      "4/4 [==============================] - 0s 25ms/step - loss: 0.5761 - accuracy: 0.7734 - val_loss: 2.0313 - val_accuracy: 0.4688\n",
      "Epoch 14/50\n",
      "4/4 [==============================] - 0s 25ms/step - loss: 0.5891 - accuracy: 0.7578 - val_loss: 1.9028 - val_accuracy: 0.4688\n",
      "Epoch 15/50\n",
      "4/4 [==============================] - 0s 24ms/step - loss: 0.4340 - accuracy: 0.8281 - val_loss: 1.7966 - val_accuracy: 0.5000\n",
      "Epoch 16/50\n",
      "4/4 [==============================] - 0s 25ms/step - loss: 0.4447 - accuracy: 0.8281 - val_loss: 1.7123 - val_accuracy: 0.5312\n",
      "Epoch 17/50\n",
      "4/4 [==============================] - 0s 26ms/step - loss: 0.4649 - accuracy: 0.8359 - val_loss: 1.6450 - val_accuracy: 0.5000\n",
      "Epoch 18/50\n",
      "4/4 [==============================] - 0s 26ms/step - loss: 0.4448 - accuracy: 0.8047 - val_loss: 1.5837 - val_accuracy: 0.5000\n",
      "Epoch 19/50\n",
      "4/4 [==============================] - 0s 26ms/step - loss: 0.3787 - accuracy: 0.8672 - val_loss: 1.5430 - val_accuracy: 0.5000\n",
      "Epoch 20/50\n",
      "4/4 [==============================] - 0s 24ms/step - loss: 0.4384 - accuracy: 0.8125 - val_loss: 1.4993 - val_accuracy: 0.5000\n",
      "Epoch 21/50\n",
      "4/4 [==============================] - 0s 25ms/step - loss: 0.3237 - accuracy: 0.8906 - val_loss: 1.4529 - val_accuracy: 0.5000\n",
      "Epoch 22/50\n",
      "4/4 [==============================] - 0s 25ms/step - loss: 0.3821 - accuracy: 0.8672 - val_loss: 1.4022 - val_accuracy: 0.5000\n",
      "Epoch 23/50\n",
      "4/4 [==============================] - 0s 25ms/step - loss: 0.3773 - accuracy: 0.8672 - val_loss: 1.3504 - val_accuracy: 0.5312\n",
      "Epoch 24/50\n",
      "4/4 [==============================] - 0s 24ms/step - loss: 0.3074 - accuracy: 0.8984 - val_loss: 1.3120 - val_accuracy: 0.5312\n",
      "Epoch 25/50\n",
      "4/4 [==============================] - 0s 24ms/step - loss: 0.3116 - accuracy: 0.8828 - val_loss: 1.2719 - val_accuracy: 0.5000\n",
      "Epoch 26/50\n",
      "4/4 [==============================] - 0s 25ms/step - loss: 0.2662 - accuracy: 0.9219 - val_loss: 1.2353 - val_accuracy: 0.5000\n",
      "Epoch 27/50\n",
      "4/4 [==============================] - 0s 25ms/step - loss: 0.3464 - accuracy: 0.8906 - val_loss: 1.2040 - val_accuracy: 0.5000\n",
      "Epoch 28/50\n",
      "4/4 [==============================] - 0s 23ms/step - loss: 0.2863 - accuracy: 0.9219 - val_loss: 1.1783 - val_accuracy: 0.5000\n",
      "Epoch 29/50\n",
      "4/4 [==============================] - 0s 23ms/step - loss: 0.2329 - accuracy: 0.9375 - val_loss: 1.1650 - val_accuracy: 0.5000\n",
      "Epoch 30/50\n",
      "4/4 [==============================] - 0s 26ms/step - loss: 0.2068 - accuracy: 0.9609 - val_loss: 1.1563 - val_accuracy: 0.5000\n",
      "Epoch 31/50\n",
      "4/4 [==============================] - 0s 25ms/step - loss: 0.2270 - accuracy: 0.9609 - val_loss: 1.1434 - val_accuracy: 0.5000\n",
      "Epoch 32/50\n",
      "4/4 [==============================] - 0s 25ms/step - loss: 0.2472 - accuracy: 0.9141 - val_loss: 1.1193 - val_accuracy: 0.5000\n",
      "Epoch 33/50\n",
      "4/4 [==============================] - 0s 25ms/step - loss: 0.2141 - accuracy: 0.9219 - val_loss: 1.0963 - val_accuracy: 0.5000\n",
      "Epoch 34/50\n",
      "4/4 [==============================] - 0s 25ms/step - loss: 0.2067 - accuracy: 0.9609 - val_loss: 1.0764 - val_accuracy: 0.5000\n",
      "Epoch 35/50\n",
      "4/4 [==============================] - 0s 24ms/step - loss: 0.2196 - accuracy: 0.9375 - val_loss: 1.0605 - val_accuracy: 0.4688\n",
      "Epoch 36/50\n",
      "4/4 [==============================] - 0s 25ms/step - loss: 0.2640 - accuracy: 0.9141 - val_loss: 1.0460 - val_accuracy: 0.4688\n",
      "Epoch 37/50\n",
      "4/4 [==============================] - 0s 24ms/step - loss: 0.1775 - accuracy: 0.9688 - val_loss: 1.0303 - val_accuracy: 0.4688\n",
      "Epoch 38/50\n",
      "4/4 [==============================] - 0s 24ms/step - loss: 0.1901 - accuracy: 0.9375 - val_loss: 1.0175 - val_accuracy: 0.4688\n",
      "Epoch 39/50\n",
      "4/4 [==============================] - 0s 26ms/step - loss: 0.1799 - accuracy: 0.9766 - val_loss: 1.0097 - val_accuracy: 0.5000\n",
      "Epoch 40/50\n",
      "4/4 [==============================] - 0s 25ms/step - loss: 0.1605 - accuracy: 0.9844 - val_loss: 1.0035 - val_accuracy: 0.5312\n",
      "Epoch 41/50\n",
      "4/4 [==============================] - 0s 24ms/step - loss: 0.1593 - accuracy: 0.9766 - val_loss: 0.9991 - val_accuracy: 0.5312\n",
      "Epoch 42/50\n",
      "4/4 [==============================] - 0s 25ms/step - loss: 0.1586 - accuracy: 0.9688 - val_loss: 0.9895 - val_accuracy: 0.5938\n",
      "Epoch 43/50\n",
      "4/4 [==============================] - 0s 25ms/step - loss: 0.1694 - accuracy: 0.9531 - val_loss: 0.9749 - val_accuracy: 0.5938\n",
      "Epoch 44/50\n",
      "4/4 [==============================] - 0s 25ms/step - loss: 0.1213 - accuracy: 0.9922 - val_loss: 0.9608 - val_accuracy: 0.6250\n",
      "Epoch 45/50\n",
      "4/4 [==============================] - 0s 23ms/step - loss: 0.1397 - accuracy: 0.9922 - val_loss: 0.9528 - val_accuracy: 0.6250\n",
      "Epoch 46/50\n",
      "4/4 [==============================] - 0s 25ms/step - loss: 0.1267 - accuracy: 0.9766 - val_loss: 0.9489 - val_accuracy: 0.6250\n",
      "Epoch 47/50\n",
      "4/4 [==============================] - 0s 24ms/step - loss: 0.1287 - accuracy: 0.9688 - val_loss: 0.9414 - val_accuracy: 0.6250\n",
      "Epoch 48/50\n",
      "4/4 [==============================] - 0s 25ms/step - loss: 0.1368 - accuracy: 0.9844 - val_loss: 0.9320 - val_accuracy: 0.6250\n",
      "Epoch 49/50\n",
      "4/4 [==============================] - 0s 23ms/step - loss: 0.1343 - accuracy: 0.9766 - val_loss: 0.9271 - val_accuracy: 0.6250\n",
      "Epoch 50/50\n",
      "4/4 [==============================] - 0s 24ms/step - loss: 0.1416 - accuracy: 0.9688 - val_loss: 0.9225 - val_accuracy: 0.6250\n"
     ]
    }
   ],
   "source": [
    "history = model.fit(X_train, y_train,\n",
    "                    validation_data=(X_test, y_test),\n",
    "                    batch_size=32, epochs=50)"
   ],
   "metadata": {
    "collapsed": false,
    "ExecuteTime": {
     "end_time": "2024-03-03T23:15:09.693738500Z",
     "start_time": "2024-03-03T23:15:04.749796900Z"
    }
   },
   "id": "177c0942c2475141"
  },
  {
   "cell_type": "code",
   "execution_count": 108,
   "outputs": [
    {
     "data": {
      "text/plain": "<Figure size 640x480 with 2 Axes>",
      "image/png": "[encoded data removed]"
     },
     "metadata": {},
     "output_type": "display_data"
    }
   ],
   "source": [
    "fig, axs = plt.subplots(2)\n",
    "\n",
    "# create accuracy sublpot\n",
    "axs[0].plot(history.history[\"accuracy\"], label=\"train accuracy\")\n",
    "axs[0].plot(history.history[\"val_accuracy\"], label=\"test accuracy\")\n",
    "axs[0].set_ylabel(\"Accuracy\")\n",
    "axs[0].legend(loc=\"lower right\")\n",
    "axs[0].set_title(\"Accuracy eval\")\n",
    "\n",
    "# create error sublpot\n",
    "axs[1].plot(history.history[\"loss\"], label=\"train error\")\n",
    "axs[1].plot(history.history[\"val_loss\"], label=\"test error\")\n",
    "axs[1].set_ylabel(\"Error\")\n",
    "axs[1].set_xlabel(\"Epoch\")\n",
    "axs[1].legend(loc=\"upper right\")\n",
    "axs[1].set_title(\"Error eval\")\n",
    "\n",
    "plt.show()"
   ],
   "metadata": {
    "collapsed": false,
    "ExecuteTime": {
     "end_time": "2024-03-03T23:15:18.275209Z",
     "start_time": "2024-03-03T23:15:18.165468100Z"
    }
   },
   "id": "be694d6aec198d0f"
  },
  {
   "cell_type": "code",
   "execution_count": 109,
   "outputs": [
    {
     "name": "stdout",
     "output_type": "stream",
     "text": [
      "1/1 - 0s - loss: 0.9225 - accuracy: 0.6250 - 20ms/epoch - 20ms/step\n"
     ]
    },
    {
     "data": {
      "text/plain": "'Loss: 0.9224556088447571, Accuracy: 0.625'"
     },
     "execution_count": 109,
     "metadata": {},
     "output_type": "execute_result"
    }
   ],
   "source": [
    "loss, accuracy = model.evaluate(X_test, y_test, verbose=2)\n",
    "f'Loss: {loss}, Accuracy: {accuracy}'"
   ],
   "metadata": {
    "collapsed": false,
    "ExecuteTime": {
     "end_time": "2024-03-03T23:15:19.500545Z",
     "start_time": "2024-03-03T23:15:19.400461400Z"
    }
   },
   "id": "e1b372282915109d"
  },
  {
   "cell_type": "code",
   "execution_count": 112,
   "outputs": [
    {
     "name": "stdout",
     "output_type": "stream",
     "text": [
      "1/1 [==============================] - 0s 15ms/step\n",
      "Target: 1, Predicted label: [1]\n"
     ]
    }
   ],
   "source": [
    "# Prediction\n",
    "X_to_predict = X_test[1]\n",
    "y_to_predict = y_test[1]\n",
    "\n",
    "# add 1 dimension to input data for sample - model.predict() expects a 4d array in this case\n",
    "X_to_predict = X_to_predict[np.newaxis, ...]\n",
    "\n",
    "prediction = model.predict(X_to_predict)\n",
    "\n",
    "predicted_index = np.argmax(prediction, axis=1)\n",
    "\n",
    "print(f\"Target: {y_to_predict}, Predicted label: {predicted_index}\")"
   ],
   "metadata": {
    "collapsed": false,
    "ExecuteTime": {
     "end_time": "2024-03-03T23:15:35.671793Z",
     "start_time": "2024-03-03T23:15:35.636279800Z"
    }
   },
   "id": "e74fbaedd69be351"
  },
  {
   "cell_type": "code",
   "execution_count": null,
   "outputs": [],
   "source": [],
   "metadata": {
    "collapsed": false
   },
   "id": "a83a29942c82da85"
  }
 ],
 "metadata": {
  "kernelspec": {
   "display_name": "Python 3",
   "language": "python",
   "name": "python3"
  },
  "language_info": {
   "codemirror_mode": {
    "name": "ipython",
    "version": 2
   },
   "file_extension": ".py",
   "mimetype": "text/x-python",
   "name": "python",
   "nbconvert_exporter": "python",
   "pygments_lexer": "ipython2",
   "version": "2.7.6"
  }
 },
 "nbformat": 4,
 "nbformat_minor": 5
}
