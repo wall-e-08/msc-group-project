{
 "cells": [
  {
   "cell_type": "markdown",
   "source": [
    "# Audio signal pre-processing\n",
    "\n",
    "Audio signal data will be converted into time domain features and frequency domain features"
   ],
   "metadata": {
    "collapsed": false
   },
   "id": "3b0d1533f003f65f"
  },
  {
   "cell_type": "code",
   "execution_count": 1,
   "id": "initial_id",
   "metadata": {
    "collapsed": true,
    "ExecuteTime": {
     "end_time": "2024-03-06T21:18:21.504038700Z",
     "start_time": "2024-03-06T21:18:21.249244200Z"
    }
   },
   "outputs": [],
   "source": [
    "import os\n",
    "import math\n",
    "import librosa"
   ]
  },
  {
   "cell_type": "code",
   "execution_count": 2,
   "outputs": [],
   "source": [
    "DATASET_PATH = \"datasets/final_audio\"\n",
    "SAMPLE_RATE = 22050\n",
    "TRACK_DURATION = 30  # seconds\n",
    "SAMPLES_PER_TRACK = SAMPLE_RATE * TRACK_DURATION\n",
    "\n",
    "MFCC_NUM = 13\n",
    "FFT_NUM = 2048\n",
    "HOP_LENGTH = 512\n",
    "SEGMENTS_NUM = 5\n",
    "\n",
    "category_labelling_map = {\n",
    "  \"ambulance\": 0,\n",
    "  \"police\": 1,\n",
    "  \"fire-and-trucks\": 2,\n",
    "}"
   ],
   "metadata": {
    "collapsed": false,
    "ExecuteTime": {
     "end_time": "2024-03-06T21:18:23.734729200Z",
     "start_time": "2024-03-06T21:18:23.648970500Z"
    }
   },
   "id": "d7a3645202cc9d1b"
  },
  {
   "cell_type": "markdown",
   "source": [
    "# Time domain feature extraction"
   ],
   "metadata": {
    "collapsed": false
   },
   "id": "48e92ac5ac2e0fa9"
  },
  {
   "cell_type": "code",
   "execution_count": null,
   "outputs": [],
   "source": [
    "time_domain_features = {\n",
    "  \"category\": [],\n",
    "  \"labels\": [],\n",
    "  \"data\": []\n",
    "}\n",
    "\n",
    "for i, f in enumerate(os.listdir(DATASET_PATH)):\n",
    "  file_path = os.path.join(DATASET_PATH, f)\n",
    "  signal, sample_rate = librosa.load(file_path, sr=SAMPLE_RATE)\n",
    "\n",
    "  # number of segments based on duration\n",
    "  num_segments = int(len(signal) / SAMPLES_PER_TRACK) + 1\n",
    "\n",
    "  category = f.split(\"_\")[0]\n",
    "  time_domain_features[\"category\"].append(category)\n",
    "  time_domain_features[\"labels\"].append(category_labelling_map[category])\n",
    "  time_domain_features[\"data\"].append(signal)"
   ],
   "metadata": {
    "collapsed": false
   },
   "id": "3c7d3d6c3167c28b"
  },
  {
   "cell_type": "markdown",
   "source": [
    "## Mel-Spectogram feature extraction on each frame of audio chunks"
   ],
   "metadata": {
    "collapsed": false
   },
   "id": "6350c17c56f17fbc"
  },
  {
   "cell_type": "code",
   "execution_count": null,
   "outputs": [],
   "source": [
    "spect_features = {\n",
    "  \"category\": [],\n",
    "  \"labels\": [],\n",
    "  \"spectogram\": []\n",
    "}\n",
    "\n",
    "samples_per_segment = int(SAMPLES_PER_TRACK / SEGMENTS_NUM)\n",
    "num_spect_vectors_per_segment = math.ceil(samples_per_segment / HOP_LENGTH)\n",
    "\n",
    "for i, f in enumerate(os.listdir(DATASET_PATH)):\n",
    "  file_path = os.path.join(DATASET_PATH, f)\n",
    "  signal, sample_rate = librosa.load(file_path, sr=SAMPLE_RATE)\n",
    "\n",
    "  # number of segments based on duration\n",
    "  num_segments = int(len(signal) / SAMPLES_PER_TRACK) + 1\n",
    "\n",
    "  category = f.split(\"_\")[0]\n",
    "  spect_features[\"category\"].append(category)\n",
    "\n",
    "  signal, sample_rate = librosa.load(file_path, sr=SAMPLE_RATE)\n",
    "\n",
    "  for d in range(num_segments):\n",
    "    start = samples_per_segment * d\n",
    "    finish = start + samples_per_segment\n",
    "\n",
    "    # extract mel-spectogram\n",
    "    mel_spect = librosa.feature.melspectrogram(y=signal[start:finish],\n",
    "                                sr=sample_rate, n_fft=FFT_NUM,\n",
    "                                hop_length=HOP_LENGTH)\n",
    "    mel_spect = mel_spect.T\n",
    "\n",
    "    # store only spectogram feature with expected number of vectors\n",
    "    if len(mel_spect) == num_spect_vectors_per_segment:\n",
    "      spect_features[\"spectogram\"].append(mel_spect.tolist())\n",
    "      spect_features[\"labels\"].append(category_labelling_map[category])"
   ],
   "metadata": {
    "collapsed": false
   },
   "id": "e1220491f0e6994d"
  },
  {
   "cell_type": "markdown",
   "source": [
    "# MFCC feature extraction on each frame of audio chunks"
   ],
   "metadata": {
    "collapsed": false
   },
   "id": "c92a383586c2f45d"
  },
  {
   "cell_type": "code",
   "execution_count": null,
   "outputs": [],
   "source": [
    "mfcc_feature = {\n",
    "  \"category\": [],\n",
    "  \"labels\": [],\n",
    "  \"mfcc\": []\n",
    "}\n",
    "\n",
    "samples_per_segment = int(SAMPLES_PER_TRACK / SEGMENTS_NUM)\n",
    "num_mfcc_vectors_per_segment = math.ceil(samples_per_segment / HOP_LENGTH)\n",
    "\n",
    "for i, f in enumerate(os.listdir(DATASET_PATH)):\n",
    "  file_path = os.path.join(DATASET_PATH, f)\n",
    "  signal, sample_rate = librosa.load(file_path, sr=SAMPLE_RATE)\n",
    "\n",
    "  # number of segments based on duration\n",
    "  num_segments = int(len(signal) / SAMPLES_PER_TRACK) + 1\n",
    "\n",
    "  category = f.split(\"_\")[0]\n",
    "  mfcc_feature[\"category\"].append(category)\n",
    "\n",
    "  signal, sample_rate = librosa.load(file_path, sr=SAMPLE_RATE)\n",
    "\n",
    "  for d in range(num_segments):\n",
    "    start = samples_per_segment * d\n",
    "    finish = start + samples_per_segment\n",
    "\n",
    "    # extract mfcc\n",
    "    mfcc = librosa.feature.mfcc(y=signal[start:finish],\n",
    "                                sr=sample_rate, n_mfcc=MFCC_NUM, n_fft=FFT_NUM,\n",
    "                                hop_length=HOP_LENGTH)\n",
    "    mfcc = mfcc.T\n",
    "\n",
    "    # store only mfcc feature with expected number of vectors\n",
    "    if len(mfcc) == num_mfcc_vectors_per_segment:\n",
    "      mfcc_feature[\"mfcc\"].append(mfcc.tolist())\n",
    "      mfcc_feature[\"labels\"].append(category_labelling_map[category])"
   ],
   "metadata": {
    "collapsed": false
   },
   "id": "d72733f2f2fe0e30"
  },
  {
   "cell_type": "markdown",
   "source": [
    "## We will be using `mfcc_feature` variable on ML algorithms "
   ],
   "metadata": {
    "collapsed": false
   },
   "id": "a83905e07df255e5"
  },
  {
   "cell_type": "markdown",
   "source": [
    "## Algorithms consideration:\n",
    "- SVM\n",
    "- Logistic Regression\n",
    "- Decision Tree\n",
    "- Convolutional Neural Network\n",
    "- LSTM"
   ],
   "metadata": {
    "collapsed": false
   },
   "id": "2f997ff1f893fd86"
  },
  {
   "cell_type": "code",
   "execution_count": 6,
   "outputs": [],
   "source": [
    "import numpy as np\n",
    "from sklearn.model_selection import train_test_split\n",
    "from sklearn.svm import SVC\n",
    "from sklearn.metrics import accuracy_score\n",
    "from sklearn.linear_model import LogisticRegression\n",
    "from sklearn.tree import DecisionTreeClassifier"
   ],
   "metadata": {
    "collapsed": false,
    "ExecuteTime": {
     "end_time": "2024-03-06T21:19:19.996898500Z",
     "start_time": "2024-03-06T21:19:19.736301200Z"
    }
   },
   "id": "a17dea40997afcb"
  },
  {
   "cell_type": "code",
   "execution_count": 7,
   "outputs": [
    {
     "data": {
      "text/plain": "(160, 259, 13)"
     },
     "execution_count": 7,
     "metadata": {},
     "output_type": "execute_result"
    }
   ],
   "source": [
    "X = np.array(mfcc_feature[\"mfcc\"])\n",
    "y = np.array(mfcc_feature[\"labels\"])\n",
    "X.shape"
   ],
   "metadata": {
    "collapsed": false,
    "ExecuteTime": {
     "end_time": "2024-03-06T21:19:23.391900900Z",
     "start_time": "2024-03-06T21:19:23.386849Z"
    }
   },
   "id": "e08f740fcd961852"
  },
  {
   "cell_type": "code",
   "execution_count": 8,
   "outputs": [],
   "source": [
    "# Reshape X to 2D array where each row represents a sample and each column represents a feature\n",
    "samples, frames, ft_per_frame = X.shape\n",
    "X_reshaped = X.reshape(samples, -1)\n",
    "\n",
    "X_train, X_test, y_train, y_test = train_test_split(X_reshaped, y,\n",
    "                                                    test_size=0.2, random_state=42)"
   ],
   "metadata": {
    "collapsed": false,
    "ExecuteTime": {
     "end_time": "2024-03-06T21:19:26.620974600Z",
     "start_time": "2024-03-06T21:19:26.610328100Z"
    }
   },
   "id": "e599e14f7ee06d40"
  },
  {
   "cell_type": "markdown",
   "source": [
    "# Support Vector Machine / SVM"
   ],
   "metadata": {
    "collapsed": false
   },
   "id": "dccbb555d3bf511b"
  },
  {
   "cell_type": "code",
   "execution_count": 23,
   "outputs": [
    {
     "data": {
      "text/plain": "0.53125"
     },
     "execution_count": 23,
     "metadata": {},
     "output_type": "execute_result"
    }
   ],
   "source": [
    "svm_clf = SVC(kernel='linear', C=1.0)\n",
    "svm_clf.fit(X_train, y_train)\n",
    "svm_predictions = svm_clf.predict(X_test)\n",
    "svm_accuracy = accuracy_score(y_test, svm_predictions)\n",
    "svm_accuracy"
   ],
   "metadata": {
    "collapsed": false,
    "ExecuteTime": {
     "end_time": "2024-03-06T21:02:24.805067700Z",
     "start_time": "2024-03-06T21:02:24.709299300Z"
    }
   },
   "id": "31b1adc9b77e3480"
  },
  {
   "cell_type": "markdown",
   "source": [
    "# Logistic Regression Classifier"
   ],
   "metadata": {
    "collapsed": false
   },
   "id": "9244fce128a5624b"
  },
  {
   "cell_type": "code",
   "execution_count": 24,
   "outputs": [
    {
     "data": {
      "text/plain": "0.65625"
     },
     "execution_count": 24,
     "metadata": {},
     "output_type": "execute_result"
    }
   ],
   "source": [
    "lr_clf = LogisticRegression(max_iter=1000)\n",
    "lr_clf.fit(X_train, y_train)\n",
    "lr_predictions = lr_clf.predict(X_test)\n",
    "lr_accuracy = accuracy_score(y_test, lr_predictions)\n",
    "lr_accuracy"
   ],
   "metadata": {
    "collapsed": false,
    "ExecuteTime": {
     "end_time": "2024-03-06T21:02:35.845218800Z",
     "start_time": "2024-03-06T21:02:34.239276100Z"
    }
   },
   "id": "eeda0d4f995d9f05"
  },
  {
   "cell_type": "markdown",
   "source": [
    "# Decision Tree Classifier"
   ],
   "metadata": {
    "collapsed": false
   },
   "id": "de14374f8e7d4f57"
  },
  {
   "cell_type": "code",
   "execution_count": 25,
   "outputs": [
    {
     "data": {
      "text/plain": "0.40625"
     },
     "execution_count": 25,
     "metadata": {},
     "output_type": "execute_result"
    }
   ],
   "source": [
    "dt_clf = DecisionTreeClassifier()\n",
    "dt_clf.fit(X_train, y_train)\n",
    "dt_predictions = dt_clf.predict(X_test)\n",
    "dt_accuracy = accuracy_score(y_test, dt_predictions)\n",
    "dt_accuracy"
   ],
   "metadata": {
    "collapsed": false,
    "ExecuteTime": {
     "end_time": "2024-03-06T21:02:43.628627600Z",
     "start_time": "2024-03-06T21:02:42.662548200Z"
    }
   },
   "id": "a16f2c266f27df9c"
  },
  {
   "cell_type": "markdown",
   "source": [
    "# Convolutional Neural Network"
   ],
   "metadata": {
    "collapsed": false
   },
   "id": "f9a6d8083ad96072"
  },
  {
   "cell_type": "code",
   "execution_count": 40,
   "outputs": [],
   "source": [
    "from tensorflow.keras import Sequential, optimizers\n",
    "from tensorflow.keras.optimizers import Adam\n",
    "from tensorflow.keras.layers import (Conv2D, MaxPooling2D, BatchNormalization,\n",
    "                                     Flatten, Dense, Dropout)\n",
    "import matplotlib.pyplot as plt"
   ],
   "metadata": {
    "collapsed": false,
    "ExecuteTime": {
     "end_time": "2024-03-06T21:30:18.230534400Z",
     "start_time": "2024-03-06T21:30:18.217057200Z"
    }
   },
   "id": "8baa0fac9748a2ce"
  },
  {
   "cell_type": "code",
   "execution_count": 41,
   "outputs": [
    {
     "data": {
      "text/plain": "(128, 259, 13, 1)"
     },
     "execution_count": 41,
     "metadata": {},
     "output_type": "execute_result"
    }
   ],
   "source": [
    "X_train, X_test, y_train, y_test = train_test_split(X, y, test_size=0.2,\n",
    "                                                    random_state=42)\n",
    "\n",
    "# add an axis to input sets\n",
    "X_train = X_train[..., np.newaxis]\n",
    "X_test = X_test[..., np.newaxis]\n",
    "X_train.shape"
   ],
   "metadata": {
    "collapsed": false,
    "ExecuteTime": {
     "end_time": "2024-03-06T21:30:19.042306400Z",
     "start_time": "2024-03-06T21:30:18.983308100Z"
    }
   },
   "id": "2b69824ecfb29f64"
  },
  {
   "cell_type": "code",
   "execution_count": 42,
   "outputs": [
    {
     "name": "stdout",
     "output_type": "stream",
     "text": [
      "Model: \"sequential_9\"\n",
      "_________________________________________________________________\n",
      " Layer (type)                Output Shape              Param #   \n",
      "=================================================================\n",
      " conv2d_27 (Conv2D)          (None, 257, 11, 32)       320       \n",
      "                                                                 \n",
      " max_pooling2d_27 (MaxPooli  (None, 129, 6, 32)        0         \n",
      " ng2D)                                                           \n",
      "                                                                 \n",
      " batch_normalization_27 (Ba  (None, 129, 6, 32)        128       \n",
      " tchNormalization)                                               \n",
      "                                                                 \n",
      " conv2d_28 (Conv2D)          (None, 127, 4, 32)        9248      \n",
      "                                                                 \n",
      " max_pooling2d_28 (MaxPooli  (None, 64, 2, 32)         0         \n",
      " ng2D)                                                           \n",
      "                                                                 \n",
      " batch_normalization_28 (Ba  (None, 64, 2, 32)         128       \n",
      " tchNormalization)                                               \n",
      "                                                                 \n",
      " conv2d_29 (Conv2D)          (None, 63, 1, 32)         4128      \n",
      "                                                                 \n",
      " max_pooling2d_29 (MaxPooli  (None, 32, 1, 32)         0         \n",
      " ng2D)                                                           \n",
      "                                                                 \n",
      " batch_normalization_29 (Ba  (None, 32, 1, 32)         128       \n",
      " tchNormalization)                                               \n",
      "                                                                 \n",
      " flatten_9 (Flatten)         (None, 1024)              0         \n",
      "                                                                 \n",
      " dense_18 (Dense)            (None, 64)                65600     \n",
      "                                                                 \n",
      " dropout_9 (Dropout)         (None, 64)                0         \n",
      "                                                                 \n",
      " dense_19 (Dense)            (None, 3)                 195       \n",
      "                                                                 \n",
      "=================================================================\n",
      "Total params: 79875 (312.01 KB)\n",
      "Trainable params: 79683 (311.26 KB)\n",
      "Non-trainable params: 192 (768.00 Byte)\n",
      "_________________________________________________________________\n"
     ]
    }
   ],
   "source": [
    "cnn_model = Sequential([\n",
    "  Conv2D(32, (3, 3), activation='relu',\n",
    "         input_shape=(X_train.shape[1], X_train.shape[2], 1)),\n",
    "  MaxPooling2D((3, 3), strides=(2, 2), padding='same'),\n",
    "  BatchNormalization(),\n",
    "  \n",
    "  Conv2D(32, (3, 3), activation='relu'),\n",
    "  MaxPooling2D((3, 3), strides=(2, 2), padding='same'),\n",
    "  BatchNormalization(),\n",
    "  \n",
    "  Conv2D(32, (2, 2), activation='relu'),\n",
    "  MaxPooling2D((2, 2), strides=(2, 2), padding='same'),\n",
    "  BatchNormalization(),\n",
    "  \n",
    "  # flatten output\n",
    "  Flatten(),\n",
    "  Dense(64, activation='relu'),\n",
    "  Dropout(0.3),\n",
    "  \n",
    "  # output\n",
    "  Dense(3, activation='softmax')\n",
    "])\n",
    "\n",
    "cnn_model.compile(optimizer=Adam(learning_rate=0.0001),\n",
    "              loss='sparse_categorical_crossentropy',\n",
    "              # loss='categorical_crossentropy',\n",
    "              metrics=['accuracy'])\n",
    "\n",
    "cnn_model.summary()"
   ],
   "metadata": {
    "collapsed": false,
    "ExecuteTime": {
     "end_time": "2024-03-06T21:30:19.882388500Z",
     "start_time": "2024-03-06T21:30:19.780027Z"
    }
   },
   "id": "4f25308f6ada94bd"
  },
  {
   "cell_type": "code",
   "execution_count": 43,
   "outputs": [
    {
     "name": "stdout",
     "output_type": "stream",
     "text": [
      "Epoch 1/150\n",
      "4/4 [==============================] - 1s 47ms/step - loss: 1.4757 - accuracy: 0.3594 - val_loss: 2.5578 - val_accuracy: 0.4062\n",
      "Epoch 2/150\n",
      "4/4 [==============================] - 0s 24ms/step - loss: 1.3450 - accuracy: 0.4375 - val_loss: 2.3602 - val_accuracy: 0.4375\n",
      "Epoch 3/150\n",
      "4/4 [==============================] - 0s 23ms/step - loss: 1.0484 - accuracy: 0.5469 - val_loss: 2.2876 - val_accuracy: 0.4375\n",
      "Epoch 4/150\n",
      "4/4 [==============================] - 0s 22ms/step - loss: 1.0346 - accuracy: 0.5391 - val_loss: 2.2308 - val_accuracy: 0.4375\n",
      "Epoch 5/150\n",
      "4/4 [==============================] - 0s 23ms/step - loss: 0.8815 - accuracy: 0.6172 - val_loss: 2.2016 - val_accuracy: 0.4375\n",
      "Epoch 6/150\n",
      "4/4 [==============================] - 0s 23ms/step - loss: 0.7463 - accuracy: 0.6406 - val_loss: 2.1653 - val_accuracy: 0.4375\n",
      "Epoch 7/150\n",
      "4/4 [==============================] - 0s 22ms/step - loss: 0.7592 - accuracy: 0.6797 - val_loss: 2.1333 - val_accuracy: 0.4375\n",
      "Epoch 8/150\n",
      "4/4 [==============================] - 0s 22ms/step - loss: 0.6751 - accuracy: 0.7031 - val_loss: 2.0464 - val_accuracy: 0.4375\n",
      "Epoch 9/150\n",
      "4/4 [==============================] - 0s 23ms/step - loss: 0.5632 - accuracy: 0.7969 - val_loss: 1.9837 - val_accuracy: 0.4375\n",
      "Epoch 10/150\n",
      "4/4 [==============================] - 0s 22ms/step - loss: 0.5125 - accuracy: 0.8047 - val_loss: 1.9178 - val_accuracy: 0.4375\n",
      "Epoch 11/150\n",
      "4/4 [==============================] - 0s 22ms/step - loss: 0.4121 - accuracy: 0.8594 - val_loss: 1.8463 - val_accuracy: 0.4375\n",
      "Epoch 12/150\n",
      "4/4 [==============================] - 0s 22ms/step - loss: 0.4390 - accuracy: 0.8281 - val_loss: 1.7848 - val_accuracy: 0.4375\n",
      "Epoch 13/150\n",
      "4/4 [==============================] - 0s 23ms/step - loss: 0.4006 - accuracy: 0.8281 - val_loss: 1.7123 - val_accuracy: 0.4375\n",
      "Epoch 14/150\n",
      "4/4 [==============================] - 0s 23ms/step - loss: 0.3979 - accuracy: 0.8516 - val_loss: 1.6570 - val_accuracy: 0.4375\n",
      "Epoch 15/150\n",
      "4/4 [==============================] - 0s 23ms/step - loss: 0.3985 - accuracy: 0.8438 - val_loss: 1.5881 - val_accuracy: 0.4375\n",
      "Epoch 16/150\n",
      "4/4 [==============================] - 0s 23ms/step - loss: 0.3708 - accuracy: 0.8359 - val_loss: 1.5378 - val_accuracy: 0.4375\n",
      "Epoch 17/150\n",
      "4/4 [==============================] - 0s 23ms/step - loss: 0.2557 - accuracy: 0.9453 - val_loss: 1.4970 - val_accuracy: 0.4375\n",
      "Epoch 18/150\n",
      "4/4 [==============================] - 0s 23ms/step - loss: 0.2916 - accuracy: 0.9297 - val_loss: 1.4718 - val_accuracy: 0.4375\n",
      "Epoch 19/150\n",
      "4/4 [==============================] - 0s 22ms/step - loss: 0.2536 - accuracy: 0.9375 - val_loss: 1.4476 - val_accuracy: 0.4375\n",
      "Epoch 20/150\n",
      "4/4 [==============================] - 0s 24ms/step - loss: 0.3154 - accuracy: 0.8828 - val_loss: 1.4122 - val_accuracy: 0.4375\n",
      "Epoch 21/150\n",
      "4/4 [==============================] - 0s 22ms/step - loss: 0.2678 - accuracy: 0.9141 - val_loss: 1.3621 - val_accuracy: 0.4375\n",
      "Epoch 22/150\n",
      "4/4 [==============================] - 0s 22ms/step - loss: 0.2320 - accuracy: 0.9219 - val_loss: 1.3257 - val_accuracy: 0.4375\n",
      "Epoch 23/150\n",
      "4/4 [==============================] - 0s 27ms/step - loss: 0.2288 - accuracy: 0.9531 - val_loss: 1.2895 - val_accuracy: 0.4375\n",
      "Epoch 24/150\n",
      "4/4 [==============================] - 0s 23ms/step - loss: 0.2185 - accuracy: 0.9453 - val_loss: 1.2678 - val_accuracy: 0.4375\n",
      "Epoch 25/150\n",
      "4/4 [==============================] - 0s 23ms/step - loss: 0.2058 - accuracy: 0.9453 - val_loss: 1.2488 - val_accuracy: 0.4375\n",
      "Epoch 26/150\n",
      "4/4 [==============================] - 0s 22ms/step - loss: 0.2164 - accuracy: 0.9297 - val_loss: 1.2242 - val_accuracy: 0.4375\n",
      "Epoch 27/150\n",
      "4/4 [==============================] - 0s 23ms/step - loss: 0.1902 - accuracy: 0.9766 - val_loss: 1.2050 - val_accuracy: 0.4375\n",
      "Epoch 28/150\n",
      "4/4 [==============================] - 0s 22ms/step - loss: 0.2021 - accuracy: 0.9531 - val_loss: 1.1857 - val_accuracy: 0.4375\n",
      "Epoch 29/150\n",
      "4/4 [==============================] - 0s 22ms/step - loss: 0.2159 - accuracy: 0.9375 - val_loss: 1.1576 - val_accuracy: 0.4375\n",
      "Epoch 30/150\n",
      "4/4 [==============================] - 0s 21ms/step - loss: 0.1753 - accuracy: 0.9609 - val_loss: 1.1211 - val_accuracy: 0.4375\n",
      "Epoch 31/150\n",
      "4/4 [==============================] - 0s 21ms/step - loss: 0.1727 - accuracy: 0.9375 - val_loss: 1.0936 - val_accuracy: 0.4375\n",
      "Epoch 32/150\n",
      "4/4 [==============================] - 0s 22ms/step - loss: 0.1380 - accuracy: 0.9922 - val_loss: 1.0738 - val_accuracy: 0.4375\n",
      "Epoch 33/150\n",
      "4/4 [==============================] - 0s 22ms/step - loss: 0.1834 - accuracy: 0.9375 - val_loss: 1.0569 - val_accuracy: 0.4688\n",
      "Epoch 34/150\n",
      "4/4 [==============================] - 0s 23ms/step - loss: 0.1832 - accuracy: 0.9375 - val_loss: 1.0477 - val_accuracy: 0.4688\n",
      "Epoch 35/150\n",
      "4/4 [==============================] - 0s 22ms/step - loss: 0.1642 - accuracy: 0.9766 - val_loss: 1.0407 - val_accuracy: 0.5000\n",
      "Epoch 36/150\n",
      "4/4 [==============================] - 0s 23ms/step - loss: 0.1277 - accuracy: 1.0000 - val_loss: 1.0408 - val_accuracy: 0.5000\n",
      "Epoch 37/150\n",
      "4/4 [==============================] - 0s 22ms/step - loss: 0.1753 - accuracy: 0.9766 - val_loss: 1.0344 - val_accuracy: 0.5000\n",
      "Epoch 38/150\n",
      "4/4 [==============================] - 0s 23ms/step - loss: 0.1158 - accuracy: 0.9844 - val_loss: 1.0240 - val_accuracy: 0.5312\n",
      "Epoch 39/150\n",
      "4/4 [==============================] - 0s 22ms/step - loss: 0.1189 - accuracy: 0.9844 - val_loss: 1.0092 - val_accuracy: 0.5938\n",
      "Epoch 40/150\n",
      "4/4 [==============================] - 0s 25ms/step - loss: 0.1127 - accuracy: 0.9922 - val_loss: 0.9939 - val_accuracy: 0.5938\n",
      "Epoch 41/150\n",
      "4/4 [==============================] - 0s 23ms/step - loss: 0.1200 - accuracy: 0.9844 - val_loss: 0.9774 - val_accuracy: 0.5938\n",
      "Epoch 42/150\n",
      "4/4 [==============================] - 0s 23ms/step - loss: 0.1015 - accuracy: 0.9844 - val_loss: 0.9600 - val_accuracy: 0.5938\n",
      "Epoch 43/150\n",
      "4/4 [==============================] - 0s 22ms/step - loss: 0.1108 - accuracy: 0.9844 - val_loss: 0.9512 - val_accuracy: 0.6250\n",
      "Epoch 44/150\n",
      "4/4 [==============================] - 0s 22ms/step - loss: 0.1233 - accuracy: 0.9844 - val_loss: 0.9474 - val_accuracy: 0.6250\n",
      "Epoch 45/150\n",
      "4/4 [==============================] - 0s 22ms/step - loss: 0.1057 - accuracy: 0.9766 - val_loss: 0.9433 - val_accuracy: 0.6250\n",
      "Epoch 46/150\n",
      "4/4 [==============================] - 0s 22ms/step - loss: 0.0980 - accuracy: 0.9922 - val_loss: 0.9398 - val_accuracy: 0.6250\n",
      "Epoch 47/150\n",
      "4/4 [==============================] - 0s 22ms/step - loss: 0.0724 - accuracy: 1.0000 - val_loss: 0.9375 - val_accuracy: 0.6250\n",
      "Epoch 48/150\n",
      "4/4 [==============================] - 0s 23ms/step - loss: 0.0928 - accuracy: 0.9766 - val_loss: 0.9392 - val_accuracy: 0.6250\n",
      "Epoch 49/150\n",
      "4/4 [==============================] - 0s 22ms/step - loss: 0.1073 - accuracy: 0.9844 - val_loss: 0.9378 - val_accuracy: 0.6250\n",
      "Epoch 50/150\n",
      "4/4 [==============================] - 0s 22ms/step - loss: 0.0808 - accuracy: 0.9844 - val_loss: 0.9357 - val_accuracy: 0.6250\n",
      "Epoch 51/150\n",
      "4/4 [==============================] - 0s 22ms/step - loss: 0.1251 - accuracy: 0.9766 - val_loss: 0.9322 - val_accuracy: 0.6562\n",
      "Epoch 52/150\n",
      "4/4 [==============================] - 0s 22ms/step - loss: 0.0867 - accuracy: 0.9922 - val_loss: 0.9286 - val_accuracy: 0.6562\n",
      "Epoch 53/150\n",
      "4/4 [==============================] - 0s 22ms/step - loss: 0.0776 - accuracy: 0.9922 - val_loss: 0.9254 - val_accuracy: 0.6562\n",
      "Epoch 54/150\n",
      "4/4 [==============================] - 0s 22ms/step - loss: 0.0995 - accuracy: 0.9844 - val_loss: 0.9245 - val_accuracy: 0.6562\n",
      "Epoch 55/150\n",
      "4/4 [==============================] - 0s 23ms/step - loss: 0.0661 - accuracy: 1.0000 - val_loss: 0.9271 - val_accuracy: 0.6562\n",
      "Epoch 56/150\n",
      "4/4 [==============================] - 0s 22ms/step - loss: 0.0889 - accuracy: 0.9922 - val_loss: 0.9264 - val_accuracy: 0.6562\n",
      "Epoch 57/150\n",
      "4/4 [==============================] - 0s 22ms/step - loss: 0.0746 - accuracy: 1.0000 - val_loss: 0.9229 - val_accuracy: 0.6562\n",
      "Epoch 58/150\n",
      "4/4 [==============================] - 0s 23ms/step - loss: 0.0591 - accuracy: 1.0000 - val_loss: 0.9172 - val_accuracy: 0.6562\n",
      "Epoch 59/150\n",
      "4/4 [==============================] - 0s 22ms/step - loss: 0.0627 - accuracy: 1.0000 - val_loss: 0.9176 - val_accuracy: 0.6562\n",
      "Epoch 60/150\n",
      "4/4 [==============================] - 0s 22ms/step - loss: 0.0843 - accuracy: 0.9922 - val_loss: 0.9162 - val_accuracy: 0.6562\n",
      "Epoch 61/150\n",
      "4/4 [==============================] - 0s 25ms/step - loss: 0.0711 - accuracy: 1.0000 - val_loss: 0.9150 - val_accuracy: 0.6562\n",
      "Epoch 62/150\n",
      "4/4 [==============================] - 0s 22ms/step - loss: 0.0822 - accuracy: 0.9844 - val_loss: 0.9148 - val_accuracy: 0.6562\n",
      "Epoch 63/150\n",
      "4/4 [==============================] - 0s 24ms/step - loss: 0.0655 - accuracy: 1.0000 - val_loss: 0.9166 - val_accuracy: 0.6562\n",
      "Epoch 64/150\n",
      "4/4 [==============================] - 0s 23ms/step - loss: 0.0649 - accuracy: 1.0000 - val_loss: 0.9226 - val_accuracy: 0.6562\n",
      "Epoch 65/150\n",
      "4/4 [==============================] - 0s 24ms/step - loss: 0.0840 - accuracy: 0.9766 - val_loss: 0.9229 - val_accuracy: 0.6562\n",
      "Epoch 66/150\n",
      "4/4 [==============================] - 0s 22ms/step - loss: 0.0601 - accuracy: 1.0000 - val_loss: 0.9229 - val_accuracy: 0.6562\n",
      "Epoch 67/150\n",
      "4/4 [==============================] - 0s 22ms/step - loss: 0.0440 - accuracy: 1.0000 - val_loss: 0.9248 - val_accuracy: 0.6562\n",
      "Epoch 68/150\n",
      "4/4 [==============================] - 0s 25ms/step - loss: 0.0674 - accuracy: 0.9844 - val_loss: 0.9264 - val_accuracy: 0.6562\n",
      "Epoch 69/150\n",
      "4/4 [==============================] - 0s 22ms/step - loss: 0.0623 - accuracy: 0.9844 - val_loss: 0.9276 - val_accuracy: 0.6562\n",
      "Epoch 70/150\n",
      "4/4 [==============================] - 0s 22ms/step - loss: 0.0515 - accuracy: 0.9922 - val_loss: 0.9275 - val_accuracy: 0.6562\n",
      "Epoch 71/150\n",
      "4/4 [==============================] - 0s 22ms/step - loss: 0.0505 - accuracy: 1.0000 - val_loss: 0.9301 - val_accuracy: 0.6562\n",
      "Epoch 72/150\n",
      "4/4 [==============================] - 0s 22ms/step - loss: 0.0705 - accuracy: 0.9922 - val_loss: 0.9300 - val_accuracy: 0.6562\n",
      "Epoch 73/150\n",
      "4/4 [==============================] - 0s 22ms/step - loss: 0.0532 - accuracy: 0.9922 - val_loss: 0.9330 - val_accuracy: 0.6562\n",
      "Epoch 74/150\n",
      "4/4 [==============================] - 0s 23ms/step - loss: 0.0399 - accuracy: 1.0000 - val_loss: 0.9370 - val_accuracy: 0.6562\n",
      "Epoch 75/150\n",
      "4/4 [==============================] - 0s 21ms/step - loss: 0.0560 - accuracy: 0.9922 - val_loss: 0.9390 - val_accuracy: 0.6562\n",
      "Epoch 76/150\n",
      "4/4 [==============================] - 0s 22ms/step - loss: 0.0439 - accuracy: 1.0000 - val_loss: 0.9419 - val_accuracy: 0.6562\n",
      "Epoch 77/150\n",
      "4/4 [==============================] - 0s 23ms/step - loss: 0.0457 - accuracy: 1.0000 - val_loss: 0.9543 - val_accuracy: 0.6562\n",
      "Epoch 78/150\n",
      "4/4 [==============================] - 0s 22ms/step - loss: 0.0496 - accuracy: 0.9922 - val_loss: 0.9647 - val_accuracy: 0.6562\n",
      "Epoch 79/150\n",
      "4/4 [==============================] - 0s 22ms/step - loss: 0.0534 - accuracy: 0.9922 - val_loss: 0.9692 - val_accuracy: 0.6562\n",
      "Epoch 80/150\n",
      "4/4 [==============================] - 0s 22ms/step - loss: 0.0537 - accuracy: 0.9922 - val_loss: 0.9732 - val_accuracy: 0.6562\n",
      "Epoch 81/150\n",
      "4/4 [==============================] - 0s 23ms/step - loss: 0.0457 - accuracy: 0.9922 - val_loss: 0.9777 - val_accuracy: 0.6562\n",
      "Epoch 82/150\n",
      "4/4 [==============================] - 0s 22ms/step - loss: 0.0472 - accuracy: 1.0000 - val_loss: 0.9805 - val_accuracy: 0.6562\n",
      "Epoch 83/150\n",
      "4/4 [==============================] - 0s 22ms/step - loss: 0.0395 - accuracy: 1.0000 - val_loss: 0.9868 - val_accuracy: 0.6562\n",
      "Epoch 84/150\n",
      "4/4 [==============================] - 0s 23ms/step - loss: 0.0448 - accuracy: 0.9922 - val_loss: 0.9912 - val_accuracy: 0.6562\n",
      "Epoch 85/150\n",
      "4/4 [==============================] - 0s 23ms/step - loss: 0.0341 - accuracy: 1.0000 - val_loss: 0.9964 - val_accuracy: 0.6562\n",
      "Epoch 86/150\n",
      "4/4 [==============================] - 0s 22ms/step - loss: 0.0437 - accuracy: 1.0000 - val_loss: 1.0077 - val_accuracy: 0.6562\n",
      "Epoch 87/150\n",
      "4/4 [==============================] - 0s 22ms/step - loss: 0.0380 - accuracy: 1.0000 - val_loss: 1.0170 - val_accuracy: 0.6562\n",
      "Epoch 88/150\n",
      "4/4 [==============================] - 0s 23ms/step - loss: 0.0498 - accuracy: 0.9922 - val_loss: 1.0259 - val_accuracy: 0.6562\n",
      "Epoch 89/150\n",
      "4/4 [==============================] - 0s 23ms/step - loss: 0.0337 - accuracy: 1.0000 - val_loss: 1.0382 - val_accuracy: 0.6562\n",
      "Epoch 90/150\n",
      "4/4 [==============================] - 0s 23ms/step - loss: 0.0440 - accuracy: 0.9922 - val_loss: 1.0479 - val_accuracy: 0.6562\n",
      "Epoch 91/150\n",
      "4/4 [==============================] - 0s 23ms/step - loss: 0.0668 - accuracy: 0.9922 - val_loss: 1.0524 - val_accuracy: 0.6562\n",
      "Epoch 92/150\n",
      "4/4 [==============================] - 0s 22ms/step - loss: 0.0410 - accuracy: 1.0000 - val_loss: 1.0541 - val_accuracy: 0.6562\n",
      "Epoch 93/150\n",
      "4/4 [==============================] - 0s 22ms/step - loss: 0.0299 - accuracy: 1.0000 - val_loss: 1.0554 - val_accuracy: 0.6562\n",
      "Epoch 94/150\n",
      "4/4 [==============================] - 0s 23ms/step - loss: 0.0295 - accuracy: 1.0000 - val_loss: 1.0597 - val_accuracy: 0.6562\n",
      "Epoch 95/150\n",
      "4/4 [==============================] - 0s 23ms/step - loss: 0.0363 - accuracy: 1.0000 - val_loss: 1.0717 - val_accuracy: 0.6562\n",
      "Epoch 96/150\n",
      "4/4 [==============================] - 0s 22ms/step - loss: 0.0404 - accuracy: 0.9922 - val_loss: 1.0789 - val_accuracy: 0.6562\n",
      "Epoch 97/150\n",
      "4/4 [==============================] - 0s 22ms/step - loss: 0.0382 - accuracy: 0.9922 - val_loss: 1.0783 - val_accuracy: 0.6562\n",
      "Epoch 98/150\n",
      "4/4 [==============================] - 0s 22ms/step - loss: 0.0350 - accuracy: 1.0000 - val_loss: 1.0792 - val_accuracy: 0.6562\n",
      "Epoch 99/150\n",
      "4/4 [==============================] - 0s 22ms/step - loss: 0.0230 - accuracy: 1.0000 - val_loss: 1.0815 - val_accuracy: 0.6875\n",
      "Epoch 100/150\n",
      "4/4 [==============================] - 0s 22ms/step - loss: 0.0365 - accuracy: 1.0000 - val_loss: 1.0868 - val_accuracy: 0.6875\n",
      "Epoch 101/150\n",
      "4/4 [==============================] - 0s 22ms/step - loss: 0.0302 - accuracy: 1.0000 - val_loss: 1.0839 - val_accuracy: 0.6875\n",
      "Epoch 102/150\n",
      "4/4 [==============================] - 0s 23ms/step - loss: 0.0373 - accuracy: 1.0000 - val_loss: 1.0858 - val_accuracy: 0.6875\n",
      "Epoch 103/150\n",
      "4/4 [==============================] - 0s 23ms/step - loss: 0.0396 - accuracy: 0.9922 - val_loss: 1.0812 - val_accuracy: 0.6875\n",
      "Epoch 104/150\n",
      "4/4 [==============================] - 0s 23ms/step - loss: 0.0365 - accuracy: 1.0000 - val_loss: 1.0807 - val_accuracy: 0.6875\n",
      "Epoch 105/150\n",
      "4/4 [==============================] - 0s 23ms/step - loss: 0.0341 - accuracy: 1.0000 - val_loss: 1.0856 - val_accuracy: 0.6875\n",
      "Epoch 106/150\n",
      "4/4 [==============================] - 0s 22ms/step - loss: 0.0352 - accuracy: 1.0000 - val_loss: 1.0806 - val_accuracy: 0.6875\n",
      "Epoch 107/150\n",
      "4/4 [==============================] - 0s 22ms/step - loss: 0.0241 - accuracy: 1.0000 - val_loss: 1.0824 - val_accuracy: 0.6875\n",
      "Epoch 108/150\n",
      "4/4 [==============================] - 0s 21ms/step - loss: 0.0219 - accuracy: 1.0000 - val_loss: 1.0860 - val_accuracy: 0.6875\n",
      "Epoch 109/150\n",
      "4/4 [==============================] - 0s 21ms/step - loss: 0.0161 - accuracy: 1.0000 - val_loss: 1.0871 - val_accuracy: 0.6875\n",
      "Epoch 110/150\n",
      "4/4 [==============================] - 0s 23ms/step - loss: 0.0381 - accuracy: 0.9922 - val_loss: 1.0892 - val_accuracy: 0.6562\n",
      "Epoch 111/150\n",
      "4/4 [==============================] - 0s 23ms/step - loss: 0.0179 - accuracy: 1.0000 - val_loss: 1.0931 - val_accuracy: 0.6562\n",
      "Epoch 112/150\n",
      "4/4 [==============================] - 0s 23ms/step - loss: 0.0332 - accuracy: 0.9922 - val_loss: 1.0954 - val_accuracy: 0.6875\n",
      "Epoch 113/150\n",
      "4/4 [==============================] - 0s 24ms/step - loss: 0.0226 - accuracy: 1.0000 - val_loss: 1.0986 - val_accuracy: 0.6875\n",
      "Epoch 114/150\n",
      "4/4 [==============================] - 0s 22ms/step - loss: 0.0278 - accuracy: 1.0000 - val_loss: 1.1046 - val_accuracy: 0.6875\n",
      "Epoch 115/150\n",
      "4/4 [==============================] - 0s 22ms/step - loss: 0.0357 - accuracy: 1.0000 - val_loss: 1.1126 - val_accuracy: 0.7188\n",
      "Epoch 116/150\n",
      "4/4 [==============================] - 0s 21ms/step - loss: 0.0229 - accuracy: 1.0000 - val_loss: 1.1241 - val_accuracy: 0.7188\n",
      "Epoch 117/150\n",
      "4/4 [==============================] - 0s 22ms/step - loss: 0.0220 - accuracy: 1.0000 - val_loss: 1.1333 - val_accuracy: 0.7188\n",
      "Epoch 118/150\n",
      "4/4 [==============================] - 0s 22ms/step - loss: 0.0267 - accuracy: 1.0000 - val_loss: 1.1397 - val_accuracy: 0.7188\n",
      "Epoch 119/150\n",
      "4/4 [==============================] - 0s 21ms/step - loss: 0.0331 - accuracy: 1.0000 - val_loss: 1.1470 - val_accuracy: 0.7188\n",
      "Epoch 120/150\n",
      "4/4 [==============================] - 0s 22ms/step - loss: 0.0191 - accuracy: 1.0000 - val_loss: 1.1620 - val_accuracy: 0.7188\n",
      "Epoch 121/150\n",
      "4/4 [==============================] - 0s 23ms/step - loss: 0.0239 - accuracy: 1.0000 - val_loss: 1.1782 - val_accuracy: 0.7188\n",
      "Epoch 122/150\n",
      "4/4 [==============================] - 0s 22ms/step - loss: 0.0264 - accuracy: 1.0000 - val_loss: 1.1858 - val_accuracy: 0.7188\n",
      "Epoch 123/150\n",
      "4/4 [==============================] - 0s 22ms/step - loss: 0.0406 - accuracy: 0.9844 - val_loss: 1.1813 - val_accuracy: 0.7188\n",
      "Epoch 124/150\n",
      "4/4 [==============================] - 0s 23ms/step - loss: 0.0317 - accuracy: 1.0000 - val_loss: 1.1515 - val_accuracy: 0.6875\n",
      "Epoch 125/150\n",
      "4/4 [==============================] - 0s 24ms/step - loss: 0.0218 - accuracy: 1.0000 - val_loss: 1.1304 - val_accuracy: 0.6562\n",
      "Epoch 126/150\n",
      "4/4 [==============================] - 0s 21ms/step - loss: 0.0231 - accuracy: 1.0000 - val_loss: 1.1215 - val_accuracy: 0.6562\n",
      "Epoch 127/150\n",
      "4/4 [==============================] - 0s 22ms/step - loss: 0.0211 - accuracy: 1.0000 - val_loss: 1.1192 - val_accuracy: 0.6562\n",
      "Epoch 128/150\n",
      "4/4 [==============================] - 0s 23ms/step - loss: 0.0205 - accuracy: 1.0000 - val_loss: 1.1239 - val_accuracy: 0.6562\n",
      "Epoch 129/150\n",
      "4/4 [==============================] - 0s 22ms/step - loss: 0.0261 - accuracy: 1.0000 - val_loss: 1.1264 - val_accuracy: 0.7188\n",
      "Epoch 130/150\n",
      "4/4 [==============================] - 0s 22ms/step - loss: 0.0196 - accuracy: 1.0000 - val_loss: 1.1298 - val_accuracy: 0.6875\n",
      "Epoch 131/150\n",
      "4/4 [==============================] - 0s 22ms/step - loss: 0.0270 - accuracy: 1.0000 - val_loss: 1.1349 - val_accuracy: 0.6875\n",
      "Epoch 132/150\n",
      "4/4 [==============================] - 0s 22ms/step - loss: 0.0299 - accuracy: 1.0000 - val_loss: 1.1383 - val_accuracy: 0.6875\n",
      "Epoch 133/150\n",
      "4/4 [==============================] - 0s 22ms/step - loss: 0.0160 - accuracy: 1.0000 - val_loss: 1.1452 - val_accuracy: 0.7188\n",
      "Epoch 134/150\n",
      "4/4 [==============================] - 0s 22ms/step - loss: 0.0184 - accuracy: 1.0000 - val_loss: 1.1547 - val_accuracy: 0.7188\n",
      "Epoch 135/150\n",
      "4/4 [==============================] - 0s 23ms/step - loss: 0.0236 - accuracy: 1.0000 - val_loss: 1.1750 - val_accuracy: 0.7188\n",
      "Epoch 136/150\n",
      "4/4 [==============================] - 0s 23ms/step - loss: 0.0134 - accuracy: 1.0000 - val_loss: 1.1939 - val_accuracy: 0.7188\n",
      "Epoch 137/150\n",
      "4/4 [==============================] - 0s 23ms/step - loss: 0.0277 - accuracy: 0.9922 - val_loss: 1.2104 - val_accuracy: 0.7188\n",
      "Epoch 138/150\n",
      "4/4 [==============================] - 0s 22ms/step - loss: 0.0175 - accuracy: 1.0000 - val_loss: 1.2253 - val_accuracy: 0.7188\n",
      "Epoch 139/150\n",
      "4/4 [==============================] - 0s 22ms/step - loss: 0.0157 - accuracy: 1.0000 - val_loss: 1.2344 - val_accuracy: 0.7188\n",
      "Epoch 140/150\n",
      "4/4 [==============================] - 0s 22ms/step - loss: 0.0195 - accuracy: 1.0000 - val_loss: 1.2400 - val_accuracy: 0.7188\n",
      "Epoch 141/150\n",
      "4/4 [==============================] - 0s 22ms/step - loss: 0.0184 - accuracy: 1.0000 - val_loss: 1.2338 - val_accuracy: 0.7188\n",
      "Epoch 142/150\n",
      "4/4 [==============================] - 0s 22ms/step - loss: 0.0181 - accuracy: 1.0000 - val_loss: 1.2232 - val_accuracy: 0.7188\n",
      "Epoch 143/150\n",
      "4/4 [==============================] - 0s 22ms/step - loss: 0.0245 - accuracy: 1.0000 - val_loss: 1.2127 - val_accuracy: 0.7188\n",
      "Epoch 144/150\n",
      "4/4 [==============================] - 0s 22ms/step - loss: 0.0270 - accuracy: 0.9922 - val_loss: 1.2043 - val_accuracy: 0.7188\n",
      "Epoch 145/150\n",
      "4/4 [==============================] - 0s 22ms/step - loss: 0.0204 - accuracy: 1.0000 - val_loss: 1.2119 - val_accuracy: 0.7188\n",
      "Epoch 146/150\n",
      "4/4 [==============================] - 0s 22ms/step - loss: 0.0206 - accuracy: 1.0000 - val_loss: 1.2169 - val_accuracy: 0.6875\n",
      "Epoch 147/150\n",
      "4/4 [==============================] - 0s 22ms/step - loss: 0.0178 - accuracy: 0.9922 - val_loss: 1.2160 - val_accuracy: 0.6875\n",
      "Epoch 148/150\n",
      "4/4 [==============================] - 0s 24ms/step - loss: 0.0196 - accuracy: 1.0000 - val_loss: 1.2102 - val_accuracy: 0.6562\n",
      "Epoch 149/150\n",
      "4/4 [==============================] - 0s 22ms/step - loss: 0.0127 - accuracy: 1.0000 - val_loss: 1.2055 - val_accuracy: 0.6562\n",
      "Epoch 150/150\n",
      "4/4 [==============================] - 0s 23ms/step - loss: 0.0151 - accuracy: 1.0000 - val_loss: 1.2074 - val_accuracy: 0.6562\n"
     ]
    }
   ],
   "source": [
    "cnn_history = cnn_model.fit(X_train, y_train,\n",
    "                    validation_data=(X_test, y_test),\n",
    "                    batch_size=32, epochs=150)"
   ],
   "metadata": {
    "collapsed": false,
    "ExecuteTime": {
     "end_time": "2024-03-06T21:30:40.121874300Z",
     "start_time": "2024-03-06T21:30:26.485866Z"
    }
   },
   "id": "f0cf60109418bf4"
  },
  {
   "cell_type": "code",
   "execution_count": 44,
   "outputs": [
    {
     "name": "stdout",
     "output_type": "stream",
     "text": [
      "1/1 - 0s - loss: 1.2074 - accuracy: 0.6562 - 19ms/epoch - 19ms/step\n"
     ]
    },
    {
     "data": {
      "text/plain": "'Loss: 1.2073951959609985, Accuracy: 0.65625'"
     },
     "execution_count": 44,
     "metadata": {},
     "output_type": "execute_result"
    }
   ],
   "source": [
    "cnn_loss, cnn_accuracy = cnn_model.evaluate(X_test, y_test, verbose=2)\n",
    "f'Loss: {cnn_loss}, Accuracy: {cnn_accuracy}'"
   ],
   "metadata": {
    "collapsed": false,
    "ExecuteTime": {
     "end_time": "2024-03-06T21:30:50.325939300Z",
     "start_time": "2024-03-06T21:30:50.258994500Z"
    }
   },
   "id": "d67709dac3e6a92c"
  },
  {
   "cell_type": "markdown",
   "source": [
    "## Accuracy and Error graph"
   ],
   "metadata": {
    "collapsed": false
   },
   "id": "f2db162b23330254"
  },
  {
   "cell_type": "code",
   "execution_count": 49,
   "outputs": [],
   "source": [
    "def acc_err_plot(history):\n",
    "  fig, axs = plt.subplots(2)\n",
    "\n",
    "  # create accuracy sublpot\n",
    "  axs[0].plot(history.history[\"accuracy\"], label=\"train accuracy\")\n",
    "  axs[0].plot(history.history[\"val_accuracy\"], label=\"test accuracy\")\n",
    "  axs[0].set_ylabel(\"Accuracy\")\n",
    "  axs[0].legend(loc=\"lower right\")\n",
    "  axs[0].set_title(\"Accuracy eval\")\n",
    "  \n",
    "  # create error sublpot\n",
    "  axs[1].plot(history.history[\"loss\"], label=\"train error\")\n",
    "  axs[1].plot(history.history[\"val_loss\"], label=\"test error\")\n",
    "  axs[1].set_ylabel(\"Error\")\n",
    "  axs[1].set_xlabel(\"Epoch\")\n",
    "  axs[1].legend(loc=\"upper right\")\n",
    "  axs[1].set_title(\"Error eval\")\n",
    "  \n",
    "  plt.tight_layout()\n",
    "  plt.show()"
   ],
   "metadata": {
    "collapsed": false,
    "ExecuteTime": {
     "end_time": "2024-03-06T21:31:41.794408200Z",
     "start_time": "2024-03-06T21:31:41.724477100Z"
    }
   },
   "id": "32866817726b479d"
  },
  {
   "cell_type": "code",
   "execution_count": 50,
   "outputs": [
    {
     "data": {
      "text/plain": "<Figure size 640x480 with 2 Axes>",
      "image/png": "[encoded data removed]"
     },
     "metadata": {},
     "output_type": "display_data"
    }
   ],
   "source": [
    "acc_err_plot(cnn_history)"
   ],
   "metadata": {
    "collapsed": false,
    "ExecuteTime": {
     "end_time": "2024-03-06T21:31:42.361465Z",
     "start_time": "2024-03-06T21:31:42.212512600Z"
    }
   },
   "id": "9f8ce2953a5dd782"
  },
  {
   "cell_type": "markdown",
   "source": [
    "# LSTM"
   ],
   "metadata": {
    "collapsed": false
   },
   "id": "4f8bd52995d20ec9"
  },
  {
   "cell_type": "code",
   "execution_count": 60,
   "outputs": [],
   "source": [
    "from tensorflow.keras.layers import LSTM"
   ],
   "metadata": {
    "collapsed": false,
    "ExecuteTime": {
     "end_time": "2024-03-06T21:35:41.288055800Z",
     "start_time": "2024-03-06T21:35:41.223027700Z"
    }
   },
   "id": "b21fe58d521f6305"
  },
  {
   "cell_type": "code",
   "execution_count": 61,
   "outputs": [],
   "source": [
    "X_train, X_test, y_train, y_test = train_test_split(X, y, test_size=0.2,\n",
    "                                                    random_state=42)\n",
    "\n",
    "# add an axis to input sets\n",
    "X_train = X_train[..., np.newaxis]\n",
    "X_test = X_test[..., np.newaxis]"
   ],
   "metadata": {
    "collapsed": false,
    "ExecuteTime": {
     "end_time": "2024-03-06T21:35:43.278528900Z",
     "start_time": "2024-03-06T21:35:43.255618300Z"
    }
   },
   "id": "7732463c76719123"
  },
  {
   "cell_type": "code",
   "execution_count": 62,
   "outputs": [],
   "source": [
    "lstm_model = Sequential([\n",
    "  LSTM(64, input_shape=(X_train.shape[1], X_train.shape[2]),\n",
    "       return_sequences=True),\n",
    "  LSTM(64),\n",
    "  \n",
    "  Dense(64, activation='relu'),\n",
    "  Dropout(0.3),\n",
    "  \n",
    "  # output\n",
    "  Dense(3, activation='softmax')\n",
    "])"
   ],
   "metadata": {
    "collapsed": false,
    "ExecuteTime": {
     "end_time": "2024-03-06T21:35:44.013900100Z",
     "start_time": "2024-03-06T21:35:43.824037200Z"
    }
   },
   "id": "7403641600634df5"
  },
  {
   "cell_type": "code",
   "execution_count": 63,
   "outputs": [
    {
     "name": "stdout",
     "output_type": "stream",
     "text": [
      "Model: \"sequential_12\"\n",
      "_________________________________________________________________\n",
      " Layer (type)                Output Shape              Param #   \n",
      "=================================================================\n",
      " lstm (LSTM)                 (None, 259, 64)           19968     \n",
      "                                                                 \n",
      " lstm_1 (LSTM)               (None, 64)                33024     \n",
      "                                                                 \n",
      " dense_24 (Dense)            (None, 64)                4160      \n",
      "                                                                 \n",
      " dropout_12 (Dropout)        (None, 64)                0         \n",
      "                                                                 \n",
      " dense_25 (Dense)            (None, 3)                 195       \n",
      "                                                                 \n",
      "=================================================================\n",
      "Total params: 57347 (224.01 KB)\n",
      "Trainable params: 57347 (224.01 KB)\n",
      "Non-trainable params: 0 (0.00 Byte)\n",
      "_________________________________________________________________\n"
     ]
    }
   ],
   "source": [
    "lstm_model.compile(optimizer=Adam(learning_rate=0.0001),\n",
    "              loss='sparse_categorical_crossentropy',\n",
    "              # loss='categorical_crossentropy',\n",
    "              metrics=['accuracy'])\n",
    "\n",
    "lstm_model.summary()"
   ],
   "metadata": {
    "collapsed": false,
    "ExecuteTime": {
     "end_time": "2024-03-06T21:35:45.876507400Z",
     "start_time": "2024-03-06T21:35:45.854845800Z"
    }
   },
   "id": "4f01f62928d73494"
  },
  {
   "cell_type": "code",
   "execution_count": 64,
   "outputs": [
    {
     "name": "stdout",
     "output_type": "stream",
     "text": [
      "Epoch 1/150\n",
      "4/4 [==============================] - 2s 199ms/step - loss: 1.1498 - accuracy: 0.2578 - val_loss: 1.1778 - val_accuracy: 0.2188\n",
      "Epoch 2/150\n",
      "4/4 [==============================] - 0s 92ms/step - loss: 1.1266 - accuracy: 0.2891 - val_loss: 1.1653 - val_accuracy: 0.1875\n",
      "Epoch 3/150\n",
      "4/4 [==============================] - 0s 90ms/step - loss: 1.0815 - accuracy: 0.4609 - val_loss: 1.1532 - val_accuracy: 0.1875\n",
      "Epoch 4/150\n",
      "4/4 [==============================] - 0s 91ms/step - loss: 1.0971 - accuracy: 0.3984 - val_loss: 1.1422 - val_accuracy: 0.2188\n",
      "Epoch 5/150\n",
      "4/4 [==============================] - 0s 92ms/step - loss: 1.0853 - accuracy: 0.4609 - val_loss: 1.1307 - val_accuracy: 0.2812\n",
      "Epoch 6/150\n",
      "4/4 [==============================] - 0s 89ms/step - loss: 1.0691 - accuracy: 0.4297 - val_loss: 1.1216 - val_accuracy: 0.3438\n",
      "Epoch 7/150\n",
      "4/4 [==============================] - 0s 90ms/step - loss: 1.0632 - accuracy: 0.4453 - val_loss: 1.1136 - val_accuracy: 0.4062\n",
      "Epoch 8/150\n",
      "4/4 [==============================] - 0s 90ms/step - loss: 1.0509 - accuracy: 0.4922 - val_loss: 1.1058 - val_accuracy: 0.4062\n",
      "Epoch 9/150\n",
      "4/4 [==============================] - 0s 87ms/step - loss: 1.0484 - accuracy: 0.5000 - val_loss: 1.0988 - val_accuracy: 0.3750\n",
      "Epoch 10/150\n",
      "4/4 [==============================] - 0s 92ms/step - loss: 1.0178 - accuracy: 0.5391 - val_loss: 1.0927 - val_accuracy: 0.4062\n",
      "Epoch 11/150\n",
      "4/4 [==============================] - 0s 89ms/step - loss: 1.0218 - accuracy: 0.5625 - val_loss: 1.0869 - val_accuracy: 0.4062\n",
      "Epoch 12/150\n",
      "4/4 [==============================] - 0s 89ms/step - loss: 1.0152 - accuracy: 0.5312 - val_loss: 1.0820 - val_accuracy: 0.4062\n",
      "Epoch 13/150\n",
      "4/4 [==============================] - 0s 88ms/step - loss: 1.0209 - accuracy: 0.5078 - val_loss: 1.0771 - val_accuracy: 0.4062\n",
      "Epoch 14/150\n",
      "4/4 [==============================] - 0s 90ms/step - loss: 1.0238 - accuracy: 0.5469 - val_loss: 1.0723 - val_accuracy: 0.4062\n",
      "Epoch 15/150\n",
      "4/4 [==============================] - 0s 90ms/step - loss: 1.0001 - accuracy: 0.5156 - val_loss: 1.0678 - val_accuracy: 0.4062\n",
      "Epoch 16/150\n",
      "4/4 [==============================] - 0s 89ms/step - loss: 1.0035 - accuracy: 0.5391 - val_loss: 1.0634 - val_accuracy: 0.3750\n",
      "Epoch 17/150\n",
      "4/4 [==============================] - 0s 89ms/step - loss: 0.9743 - accuracy: 0.5938 - val_loss: 1.0573 - val_accuracy: 0.4062\n",
      "Epoch 18/150\n",
      "4/4 [==============================] - 0s 90ms/step - loss: 1.0002 - accuracy: 0.5469 - val_loss: 1.0529 - val_accuracy: 0.4062\n",
      "Epoch 19/150\n",
      "4/4 [==============================] - 0s 88ms/step - loss: 0.9855 - accuracy: 0.5469 - val_loss: 1.0492 - val_accuracy: 0.4062\n",
      "Epoch 20/150\n",
      "4/4 [==============================] - 0s 89ms/step - loss: 0.9644 - accuracy: 0.5625 - val_loss: 1.0459 - val_accuracy: 0.4375\n",
      "Epoch 21/150\n",
      "4/4 [==============================] - 0s 89ms/step - loss: 0.9525 - accuracy: 0.6172 - val_loss: 1.0438 - val_accuracy: 0.4062\n",
      "Epoch 22/150\n",
      "4/4 [==============================] - 0s 90ms/step - loss: 0.9498 - accuracy: 0.5859 - val_loss: 1.0405 - val_accuracy: 0.4062\n",
      "Epoch 23/150\n",
      "4/4 [==============================] - 0s 88ms/step - loss: 0.9358 - accuracy: 0.6016 - val_loss: 1.0377 - val_accuracy: 0.4062\n",
      "Epoch 24/150\n",
      "4/4 [==============================] - 0s 88ms/step - loss: 0.9358 - accuracy: 0.6016 - val_loss: 1.0349 - val_accuracy: 0.4062\n",
      "Epoch 25/150\n",
      "4/4 [==============================] - 0s 87ms/step - loss: 0.9274 - accuracy: 0.6406 - val_loss: 1.0321 - val_accuracy: 0.4062\n",
      "Epoch 26/150\n",
      "4/4 [==============================] - 0s 89ms/step - loss: 0.9091 - accuracy: 0.6484 - val_loss: 1.0289 - val_accuracy: 0.4062\n",
      "Epoch 27/150\n",
      "4/4 [==============================] - 0s 91ms/step - loss: 0.9186 - accuracy: 0.6172 - val_loss: 1.0263 - val_accuracy: 0.4062\n",
      "Epoch 28/150\n",
      "4/4 [==============================] - 0s 89ms/step - loss: 0.8921 - accuracy: 0.6484 - val_loss: 1.0225 - val_accuracy: 0.4062\n",
      "Epoch 29/150\n",
      "4/4 [==============================] - 0s 91ms/step - loss: 0.9008 - accuracy: 0.6328 - val_loss: 1.0179 - val_accuracy: 0.4062\n",
      "Epoch 30/150\n",
      "4/4 [==============================] - 0s 89ms/step - loss: 0.8833 - accuracy: 0.6641 - val_loss: 1.0157 - val_accuracy: 0.3750\n",
      "Epoch 31/150\n",
      "4/4 [==============================] - 0s 89ms/step - loss: 0.8797 - accuracy: 0.6406 - val_loss: 1.0132 - val_accuracy: 0.3750\n",
      "Epoch 32/150\n",
      "4/4 [==============================] - 0s 90ms/step - loss: 0.8561 - accuracy: 0.6250 - val_loss: 1.0100 - val_accuracy: 0.4062\n",
      "Epoch 33/150\n",
      "4/4 [==============================] - 0s 93ms/step - loss: 0.8681 - accuracy: 0.6484 - val_loss: 1.0093 - val_accuracy: 0.4062\n",
      "Epoch 34/150\n",
      "4/4 [==============================] - 0s 91ms/step - loss: 0.8347 - accuracy: 0.6719 - val_loss: 1.0074 - val_accuracy: 0.4062\n",
      "Epoch 35/150\n",
      "4/4 [==============================] - 0s 89ms/step - loss: 0.8391 - accuracy: 0.6875 - val_loss: 1.0041 - val_accuracy: 0.4062\n",
      "Epoch 36/150\n",
      "4/4 [==============================] - 0s 89ms/step - loss: 0.8377 - accuracy: 0.6719 - val_loss: 1.0015 - val_accuracy: 0.4062\n",
      "Epoch 37/150\n",
      "4/4 [==============================] - 0s 95ms/step - loss: 0.8329 - accuracy: 0.6562 - val_loss: 0.9996 - val_accuracy: 0.4375\n",
      "Epoch 38/150\n",
      "4/4 [==============================] - 0s 89ms/step - loss: 0.8253 - accuracy: 0.6641 - val_loss: 0.9945 - val_accuracy: 0.4375\n",
      "Epoch 39/150\n",
      "4/4 [==============================] - 0s 89ms/step - loss: 0.7808 - accuracy: 0.7109 - val_loss: 0.9914 - val_accuracy: 0.4688\n",
      "Epoch 40/150\n",
      "4/4 [==============================] - 0s 100ms/step - loss: 0.7899 - accuracy: 0.7500 - val_loss: 0.9881 - val_accuracy: 0.4375\n",
      "Epoch 41/150\n",
      "4/4 [==============================] - 0s 91ms/step - loss: 0.7680 - accuracy: 0.6875 - val_loss: 0.9859 - val_accuracy: 0.4688\n",
      "Epoch 42/150\n",
      "4/4 [==============================] - 0s 88ms/step - loss: 0.7713 - accuracy: 0.7266 - val_loss: 0.9828 - val_accuracy: 0.4688\n",
      "Epoch 43/150\n",
      "4/4 [==============================] - 0s 87ms/step - loss: 0.7615 - accuracy: 0.7109 - val_loss: 0.9832 - val_accuracy: 0.4688\n",
      "Epoch 44/150\n",
      "4/4 [==============================] - 0s 88ms/step - loss: 0.7644 - accuracy: 0.7031 - val_loss: 0.9836 - val_accuracy: 0.4688\n",
      "Epoch 45/150\n",
      "4/4 [==============================] - 0s 89ms/step - loss: 0.7155 - accuracy: 0.7734 - val_loss: 0.9865 - val_accuracy: 0.4688\n",
      "Epoch 46/150\n",
      "4/4 [==============================] - 0s 89ms/step - loss: 0.7227 - accuracy: 0.7578 - val_loss: 0.9879 - val_accuracy: 0.4688\n",
      "Epoch 47/150\n",
      "4/4 [==============================] - 0s 91ms/step - loss: 0.7158 - accuracy: 0.7656 - val_loss: 0.9845 - val_accuracy: 0.4688\n",
      "Epoch 48/150\n",
      "4/4 [==============================] - 0s 91ms/step - loss: 0.6707 - accuracy: 0.7266 - val_loss: 0.9790 - val_accuracy: 0.4688\n",
      "Epoch 49/150\n",
      "4/4 [==============================] - 0s 89ms/step - loss: 0.6861 - accuracy: 0.7734 - val_loss: 0.9741 - val_accuracy: 0.5000\n",
      "Epoch 50/150\n",
      "4/4 [==============================] - 0s 89ms/step - loss: 0.6909 - accuracy: 0.8047 - val_loss: 0.9762 - val_accuracy: 0.5000\n",
      "Epoch 51/150\n",
      "4/4 [==============================] - 0s 88ms/step - loss: 0.6251 - accuracy: 0.7891 - val_loss: 0.9790 - val_accuracy: 0.5000\n",
      "Epoch 52/150\n",
      "4/4 [==============================] - 0s 87ms/step - loss: 0.6469 - accuracy: 0.7578 - val_loss: 0.9782 - val_accuracy: 0.5000\n",
      "Epoch 53/150\n",
      "4/4 [==============================] - 0s 89ms/step - loss: 0.6476 - accuracy: 0.7734 - val_loss: 0.9736 - val_accuracy: 0.5000\n",
      "Epoch 54/150\n",
      "4/4 [==============================] - 0s 89ms/step - loss: 0.6610 - accuracy: 0.7656 - val_loss: 0.9716 - val_accuracy: 0.5000\n",
      "Epoch 55/150\n",
      "4/4 [==============================] - 0s 88ms/step - loss: 0.6277 - accuracy: 0.8203 - val_loss: 0.9743 - val_accuracy: 0.5000\n",
      "Epoch 56/150\n",
      "4/4 [==============================] - 0s 88ms/step - loss: 0.5877 - accuracy: 0.7891 - val_loss: 0.9761 - val_accuracy: 0.5000\n",
      "Epoch 57/150\n",
      "4/4 [==============================] - 0s 95ms/step - loss: 0.5893 - accuracy: 0.7969 - val_loss: 0.9802 - val_accuracy: 0.5000\n",
      "Epoch 58/150\n",
      "4/4 [==============================] - 0s 89ms/step - loss: 0.5775 - accuracy: 0.8359 - val_loss: 0.9860 - val_accuracy: 0.5000\n",
      "Epoch 59/150\n",
      "4/4 [==============================] - 0s 89ms/step - loss: 0.5563 - accuracy: 0.8359 - val_loss: 0.9759 - val_accuracy: 0.5312\n",
      "Epoch 60/150\n",
      "4/4 [==============================] - 0s 90ms/step - loss: 0.5379 - accuracy: 0.8516 - val_loss: 0.9699 - val_accuracy: 0.5312\n",
      "Epoch 61/150\n",
      "4/4 [==============================] - 0s 89ms/step - loss: 0.4975 - accuracy: 0.8438 - val_loss: 0.9809 - val_accuracy: 0.5312\n",
      "Epoch 62/150\n",
      "4/4 [==============================] - 0s 91ms/step - loss: 0.4939 - accuracy: 0.8672 - val_loss: 0.9952 - val_accuracy: 0.5625\n",
      "Epoch 63/150\n",
      "4/4 [==============================] - 0s 94ms/step - loss: 0.4564 - accuracy: 0.8750 - val_loss: 0.9999 - val_accuracy: 0.5625\n",
      "Epoch 64/150\n",
      "4/4 [==============================] - 0s 90ms/step - loss: 0.4452 - accuracy: 0.8828 - val_loss: 1.0004 - val_accuracy: 0.5625\n",
      "Epoch 65/150\n",
      "4/4 [==============================] - 0s 88ms/step - loss: 0.4618 - accuracy: 0.8516 - val_loss: 0.9901 - val_accuracy: 0.6250\n",
      "Epoch 66/150\n",
      "4/4 [==============================] - 0s 90ms/step - loss: 0.4137 - accuracy: 0.8984 - val_loss: 0.9983 - val_accuracy: 0.6250\n",
      "Epoch 67/150\n",
      "4/4 [==============================] - 0s 92ms/step - loss: 0.4105 - accuracy: 0.8984 - val_loss: 1.0006 - val_accuracy: 0.6250\n",
      "Epoch 68/150\n",
      "4/4 [==============================] - 0s 91ms/step - loss: 0.3770 - accuracy: 0.9219 - val_loss: 1.0089 - val_accuracy: 0.6250\n",
      "Epoch 69/150\n",
      "4/4 [==============================] - 0s 90ms/step - loss: 0.3678 - accuracy: 0.9141 - val_loss: 1.0109 - val_accuracy: 0.6250\n",
      "Epoch 70/150\n",
      "4/4 [==============================] - 0s 92ms/step - loss: 0.3408 - accuracy: 0.9141 - val_loss: 1.0120 - val_accuracy: 0.6250\n",
      "Epoch 71/150\n",
      "4/4 [==============================] - 0s 88ms/step - loss: 0.3275 - accuracy: 0.9141 - val_loss: 1.0152 - val_accuracy: 0.6250\n",
      "Epoch 72/150\n",
      "4/4 [==============================] - 0s 88ms/step - loss: 0.3027 - accuracy: 0.9375 - val_loss: 1.0256 - val_accuracy: 0.6250\n",
      "Epoch 73/150\n",
      "4/4 [==============================] - 0s 91ms/step - loss: 0.3052 - accuracy: 0.9375 - val_loss: 1.0302 - val_accuracy: 0.6250\n",
      "Epoch 74/150\n",
      "4/4 [==============================] - 0s 88ms/step - loss: 0.2827 - accuracy: 0.9219 - val_loss: 1.0371 - val_accuracy: 0.6250\n",
      "Epoch 75/150\n",
      "4/4 [==============================] - 0s 88ms/step - loss: 0.2563 - accuracy: 0.9375 - val_loss: 1.0489 - val_accuracy: 0.6250\n",
      "Epoch 76/150\n",
      "4/4 [==============================] - 0s 91ms/step - loss: 0.2770 - accuracy: 0.9375 - val_loss: 1.0539 - val_accuracy: 0.6250\n",
      "Epoch 77/150\n",
      "4/4 [==============================] - 0s 93ms/step - loss: 0.2632 - accuracy: 0.9375 - val_loss: 1.0461 - val_accuracy: 0.6250\n",
      "Epoch 78/150\n",
      "4/4 [==============================] - 0s 89ms/step - loss: 0.2309 - accuracy: 0.9688 - val_loss: 1.0562 - val_accuracy: 0.5938\n",
      "Epoch 79/150\n",
      "4/4 [==============================] - 0s 91ms/step - loss: 0.2120 - accuracy: 0.9688 - val_loss: 1.0865 - val_accuracy: 0.5938\n",
      "Epoch 80/150\n",
      "4/4 [==============================] - 0s 88ms/step - loss: 0.2159 - accuracy: 0.9609 - val_loss: 1.0994 - val_accuracy: 0.6250\n",
      "Epoch 81/150\n",
      "4/4 [==============================] - 0s 88ms/step - loss: 0.1804 - accuracy: 0.9688 - val_loss: 1.1397 - val_accuracy: 0.6250\n",
      "Epoch 82/150\n",
      "4/4 [==============================] - 0s 90ms/step - loss: 0.2193 - accuracy: 0.9688 - val_loss: 1.1757 - val_accuracy: 0.6250\n",
      "Epoch 83/150\n",
      "4/4 [==============================] - 0s 89ms/step - loss: 0.2174 - accuracy: 0.9688 - val_loss: 1.1645 - val_accuracy: 0.5938\n",
      "Epoch 84/150\n",
      "4/4 [==============================] - 0s 89ms/step - loss: 0.2358 - accuracy: 0.9531 - val_loss: 1.1465 - val_accuracy: 0.6250\n",
      "Epoch 85/150\n",
      "4/4 [==============================] - 0s 90ms/step - loss: 0.1708 - accuracy: 0.9766 - val_loss: 1.1834 - val_accuracy: 0.5938\n",
      "Epoch 86/150\n",
      "4/4 [==============================] - 0s 89ms/step - loss: 0.1940 - accuracy: 0.9688 - val_loss: 1.1858 - val_accuracy: 0.5938\n",
      "Epoch 87/150\n",
      "4/4 [==============================] - 0s 88ms/step - loss: 0.1943 - accuracy: 0.9766 - val_loss: 1.1796 - val_accuracy: 0.5938\n",
      "Epoch 88/150\n",
      "4/4 [==============================] - 0s 90ms/step - loss: 0.1556 - accuracy: 0.9688 - val_loss: 1.1833 - val_accuracy: 0.5938\n",
      "Epoch 89/150\n",
      "4/4 [==============================] - 0s 89ms/step - loss: 0.1346 - accuracy: 0.9844 - val_loss: 1.2198 - val_accuracy: 0.5938\n",
      "Epoch 90/150\n",
      "4/4 [==============================] - 0s 88ms/step - loss: 0.1523 - accuracy: 0.9844 - val_loss: 1.2263 - val_accuracy: 0.5938\n",
      "Epoch 91/150\n",
      "4/4 [==============================] - 0s 90ms/step - loss: 0.1311 - accuracy: 0.9922 - val_loss: 1.2401 - val_accuracy: 0.5938\n",
      "Epoch 92/150\n",
      "4/4 [==============================] - 0s 87ms/step - loss: 0.1405 - accuracy: 0.9922 - val_loss: 1.2603 - val_accuracy: 0.5938\n",
      "Epoch 93/150\n",
      "4/4 [==============================] - 0s 90ms/step - loss: 0.1244 - accuracy: 0.9922 - val_loss: 1.2768 - val_accuracy: 0.5938\n",
      "Epoch 94/150\n",
      "4/4 [==============================] - 0s 87ms/step - loss: 0.1241 - accuracy: 0.9844 - val_loss: 1.2951 - val_accuracy: 0.6250\n",
      "Epoch 95/150\n",
      "4/4 [==============================] - 0s 89ms/step - loss: 0.1043 - accuracy: 0.9922 - val_loss: 1.3152 - val_accuracy: 0.6250\n",
      "Epoch 96/150\n",
      "4/4 [==============================] - 0s 88ms/step - loss: 0.1925 - accuracy: 0.9688 - val_loss: 1.2218 - val_accuracy: 0.5938\n",
      "Epoch 97/150\n",
      "4/4 [==============================] - 0s 88ms/step - loss: 0.1523 - accuracy: 0.9609 - val_loss: 1.2364 - val_accuracy: 0.5938\n",
      "Epoch 98/150\n",
      "4/4 [==============================] - 0s 90ms/step - loss: 0.1134 - accuracy: 0.9844 - val_loss: 1.3623 - val_accuracy: 0.5938\n",
      "Epoch 99/150\n",
      "4/4 [==============================] - 0s 89ms/step - loss: 0.1220 - accuracy: 0.9844 - val_loss: 1.4201 - val_accuracy: 0.5938\n",
      "Epoch 100/150\n",
      "4/4 [==============================] - 0s 92ms/step - loss: 0.1125 - accuracy: 0.9844 - val_loss: 1.4564 - val_accuracy: 0.5625\n",
      "Epoch 101/150\n",
      "4/4 [==============================] - 0s 101ms/step - loss: 0.1025 - accuracy: 0.9922 - val_loss: 1.4161 - val_accuracy: 0.5938\n",
      "Epoch 102/150\n",
      "4/4 [==============================] - 0s 92ms/step - loss: 0.0918 - accuracy: 0.9922 - val_loss: 1.4186 - val_accuracy: 0.5938\n",
      "Epoch 103/150\n",
      "4/4 [==============================] - 0s 91ms/step - loss: 0.0936 - accuracy: 0.9922 - val_loss: 1.4265 - val_accuracy: 0.5938\n",
      "Epoch 104/150\n",
      "4/4 [==============================] - 0s 89ms/step - loss: 0.0760 - accuracy: 1.0000 - val_loss: 1.3735 - val_accuracy: 0.5625\n",
      "Epoch 105/150\n",
      "4/4 [==============================] - 0s 89ms/step - loss: 0.0910 - accuracy: 0.9844 - val_loss: 1.3551 - val_accuracy: 0.5625\n",
      "Epoch 106/150\n",
      "4/4 [==============================] - 0s 89ms/step - loss: 0.0852 - accuracy: 1.0000 - val_loss: 1.3755 - val_accuracy: 0.5625\n",
      "Epoch 107/150\n",
      "4/4 [==============================] - 0s 88ms/step - loss: 0.0795 - accuracy: 1.0000 - val_loss: 1.4329 - val_accuracy: 0.5625\n",
      "Epoch 108/150\n",
      "4/4 [==============================] - 0s 89ms/step - loss: 0.0643 - accuracy: 0.9922 - val_loss: 1.4844 - val_accuracy: 0.5625\n",
      "Epoch 109/150\n",
      "4/4 [==============================] - 0s 88ms/step - loss: 0.0681 - accuracy: 0.9922 - val_loss: 1.5138 - val_accuracy: 0.5625\n",
      "Epoch 110/150\n",
      "4/4 [==============================] - 0s 88ms/step - loss: 0.0680 - accuracy: 0.9922 - val_loss: 1.5225 - val_accuracy: 0.5625\n",
      "Epoch 111/150\n",
      "4/4 [==============================] - 0s 90ms/step - loss: 0.0720 - accuracy: 1.0000 - val_loss: 1.5233 - val_accuracy: 0.5938\n",
      "Epoch 112/150\n",
      "4/4 [==============================] - 0s 91ms/step - loss: 0.0701 - accuracy: 0.9922 - val_loss: 1.5274 - val_accuracy: 0.5938\n",
      "Epoch 113/150\n",
      "4/4 [==============================] - 0s 90ms/step - loss: 0.0612 - accuracy: 1.0000 - val_loss: 1.5405 - val_accuracy: 0.5938\n",
      "Epoch 114/150\n",
      "4/4 [==============================] - 0s 90ms/step - loss: 0.0610 - accuracy: 0.9922 - val_loss: 1.5538 - val_accuracy: 0.5938\n",
      "Epoch 115/150\n",
      "4/4 [==============================] - 0s 89ms/step - loss: 0.0665 - accuracy: 0.9922 - val_loss: 1.5631 - val_accuracy: 0.5938\n",
      "Epoch 116/150\n",
      "4/4 [==============================] - 0s 90ms/step - loss: 0.0480 - accuracy: 1.0000 - val_loss: 1.5676 - val_accuracy: 0.5938\n",
      "Epoch 117/150\n",
      "4/4 [==============================] - 0s 92ms/step - loss: 0.0596 - accuracy: 1.0000 - val_loss: 1.5741 - val_accuracy: 0.5938\n",
      "Epoch 118/150\n",
      "4/4 [==============================] - 0s 87ms/step - loss: 0.0476 - accuracy: 0.9922 - val_loss: 1.5787 - val_accuracy: 0.5938\n",
      "Epoch 119/150\n",
      "4/4 [==============================] - 0s 90ms/step - loss: 0.0521 - accuracy: 1.0000 - val_loss: 1.5912 - val_accuracy: 0.5938\n",
      "Epoch 120/150\n",
      "4/4 [==============================] - 0s 91ms/step - loss: 0.0555 - accuracy: 1.0000 - val_loss: 1.6118 - val_accuracy: 0.5938\n",
      "Epoch 121/150\n",
      "4/4 [==============================] - 0s 90ms/step - loss: 0.0572 - accuracy: 0.9922 - val_loss: 1.6180 - val_accuracy: 0.5938\n",
      "Epoch 122/150\n",
      "4/4 [==============================] - 0s 90ms/step - loss: 0.0485 - accuracy: 0.9922 - val_loss: 1.6231 - val_accuracy: 0.5938\n",
      "Epoch 123/150\n",
      "4/4 [==============================] - 0s 88ms/step - loss: 0.0540 - accuracy: 0.9922 - val_loss: 1.6301 - val_accuracy: 0.5938\n",
      "Epoch 124/150\n",
      "4/4 [==============================] - 0s 88ms/step - loss: 0.0475 - accuracy: 0.9922 - val_loss: 1.6409 - val_accuracy: 0.5938\n",
      "Epoch 125/150\n",
      "4/4 [==============================] - 0s 89ms/step - loss: 0.0791 - accuracy: 0.9922 - val_loss: 1.6523 - val_accuracy: 0.5938\n",
      "Epoch 126/150\n",
      "4/4 [==============================] - 0s 89ms/step - loss: 0.0627 - accuracy: 0.9922 - val_loss: 1.6687 - val_accuracy: 0.5938\n",
      "Epoch 127/150\n",
      "4/4 [==============================] - 0s 89ms/step - loss: 0.0796 - accuracy: 0.9922 - val_loss: 1.6645 - val_accuracy: 0.5938\n",
      "Epoch 128/150\n",
      "4/4 [==============================] - 0s 92ms/step - loss: 0.0494 - accuracy: 1.0000 - val_loss: 1.7020 - val_accuracy: 0.5625\n",
      "Epoch 129/150\n",
      "4/4 [==============================] - 0s 90ms/step - loss: 0.0523 - accuracy: 1.0000 - val_loss: 1.7148 - val_accuracy: 0.5625\n",
      "Epoch 130/150\n",
      "4/4 [==============================] - 0s 89ms/step - loss: 0.0411 - accuracy: 1.0000 - val_loss: 1.7161 - val_accuracy: 0.5625\n",
      "Epoch 131/150\n",
      "4/4 [==============================] - 0s 88ms/step - loss: 0.0368 - accuracy: 1.0000 - val_loss: 1.7216 - val_accuracy: 0.5625\n",
      "Epoch 132/150\n",
      "4/4 [==============================] - 0s 90ms/step - loss: 0.0357 - accuracy: 1.0000 - val_loss: 1.7333 - val_accuracy: 0.5625\n",
      "Epoch 133/150\n",
      "4/4 [==============================] - 0s 88ms/step - loss: 0.0400 - accuracy: 1.0000 - val_loss: 1.7458 - val_accuracy: 0.5625\n",
      "Epoch 134/150\n",
      "4/4 [==============================] - 0s 91ms/step - loss: 0.0444 - accuracy: 1.0000 - val_loss: 1.7580 - val_accuracy: 0.5625\n",
      "Epoch 135/150\n",
      "4/4 [==============================] - 0s 88ms/step - loss: 0.0341 - accuracy: 1.0000 - val_loss: 1.7624 - val_accuracy: 0.5625\n",
      "Epoch 136/150\n",
      "4/4 [==============================] - 0s 89ms/step - loss: 0.0312 - accuracy: 1.0000 - val_loss: 1.7784 - val_accuracy: 0.5625\n",
      "Epoch 137/150\n",
      "4/4 [==============================] - 0s 91ms/step - loss: 0.0374 - accuracy: 1.0000 - val_loss: 1.7795 - val_accuracy: 0.5625\n",
      "Epoch 138/150\n",
      "4/4 [==============================] - 0s 90ms/step - loss: 0.0318 - accuracy: 1.0000 - val_loss: 1.7854 - val_accuracy: 0.5625\n",
      "Epoch 139/150\n",
      "4/4 [==============================] - 0s 89ms/step - loss: 0.0302 - accuracy: 1.0000 - val_loss: 1.7947 - val_accuracy: 0.5625\n",
      "Epoch 140/150\n",
      "4/4 [==============================] - 0s 91ms/step - loss: 0.0236 - accuracy: 1.0000 - val_loss: 1.8015 - val_accuracy: 0.5625\n",
      "Epoch 141/150\n",
      "4/4 [==============================] - 0s 91ms/step - loss: 0.0250 - accuracy: 1.0000 - val_loss: 1.8070 - val_accuracy: 0.5625\n",
      "Epoch 142/150\n",
      "4/4 [==============================] - 0s 90ms/step - loss: 0.0217 - accuracy: 1.0000 - val_loss: 1.8116 - val_accuracy: 0.5625\n",
      "Epoch 143/150\n",
      "4/4 [==============================] - 0s 88ms/step - loss: 0.0300 - accuracy: 1.0000 - val_loss: 1.8162 - val_accuracy: 0.5625\n",
      "Epoch 144/150\n",
      "4/4 [==============================] - 0s 90ms/step - loss: 0.0328 - accuracy: 1.0000 - val_loss: 1.8273 - val_accuracy: 0.5625\n",
      "Epoch 145/150\n",
      "4/4 [==============================] - 0s 89ms/step - loss: 0.0277 - accuracy: 1.0000 - val_loss: 1.8544 - val_accuracy: 0.5625\n",
      "Epoch 146/150\n",
      "4/4 [==============================] - 0s 89ms/step - loss: 0.0271 - accuracy: 1.0000 - val_loss: 1.8716 - val_accuracy: 0.5625\n",
      "Epoch 147/150\n",
      "4/4 [==============================] - 0s 89ms/step - loss: 0.0267 - accuracy: 1.0000 - val_loss: 1.8781 - val_accuracy: 0.5625\n",
      "Epoch 148/150\n",
      "4/4 [==============================] - 0s 89ms/step - loss: 0.0315 - accuracy: 1.0000 - val_loss: 1.8744 - val_accuracy: 0.5625\n",
      "Epoch 149/150\n",
      "4/4 [==============================] - 0s 89ms/step - loss: 0.0220 - accuracy: 1.0000 - val_loss: 1.8706 - val_accuracy: 0.5625\n",
      "Epoch 150/150\n",
      "4/4 [==============================] - 0s 90ms/step - loss: 0.0243 - accuracy: 1.0000 - val_loss: 1.8655 - val_accuracy: 0.5625\n"
     ]
    }
   ],
   "source": [
    "lstm_history = lstm_model.fit(X_train, y_train,\n",
    "                    validation_data=(X_test, y_test),\n",
    "                    batch_size=32, epochs=150)"
   ],
   "metadata": {
    "collapsed": false,
    "ExecuteTime": {
     "end_time": "2024-03-06T21:36:40.726263700Z",
     "start_time": "2024-03-06T21:35:47.131829800Z"
    }
   },
   "id": "6372c30d3181ba34"
  },
  {
   "cell_type": "code",
   "execution_count": 65,
   "outputs": [
    {
     "data": {
      "text/plain": "<Figure size 640x480 with 2 Axes>",
      "image/png": "[encoded data removed]"
     },
     "metadata": {},
     "output_type": "display_data"
    }
   ],
   "source": [
    "acc_err_plot(lstm_history)"
   ],
   "metadata": {
    "collapsed": false,
    "ExecuteTime": {
     "end_time": "2024-03-06T21:36:45.171535700Z",
     "start_time": "2024-03-06T21:36:45.029369900Z"
    }
   },
   "id": "6edb96dc5c56844"
  },
  {
   "cell_type": "markdown",
   "source": [
    "## Prediction"
   ],
   "metadata": {
    "collapsed": false
   },
   "id": "1b3f42514f565422"
  },
  {
   "cell_type": "code",
   "execution_count": 66,
   "outputs": [],
   "source": [
    "import random"
   ],
   "metadata": {
    "collapsed": false,
    "ExecuteTime": {
     "end_time": "2024-03-06T21:37:32.294361900Z",
     "start_time": "2024-03-06T21:37:32.272552400Z"
    }
   },
   "id": "7c00c78bdb61faee"
  },
  {
   "cell_type": "code",
   "execution_count": 89,
   "outputs": [],
   "source": [
    "def find_category(value):\n",
    "  for key, val in category_labelling_map.items():\n",
    "      if val == value:\n",
    "          return key\n",
    "  raise \"Error: Not found this value\""
   ],
   "metadata": {
    "collapsed": false,
    "ExecuteTime": {
     "end_time": "2024-03-06T21:43:52.375691500Z",
     "start_time": "2024-03-06T21:43:52.307757700Z"
    }
   },
   "id": "6a14e2934cf70338"
  },
  {
   "cell_type": "code",
   "execution_count": 90,
   "outputs": [],
   "source": [
    "def prediction_by_model(model):\n",
    "  rnd_test_index = random.randint(0, len(X_test))\n",
    "\n",
    "  x_to_predict = X_test[rnd_test_index]\n",
    "  y_to_predict = y_test[rnd_test_index]\n",
    "  \n",
    "  # add 1 dimension to input data for sample - model.predict() expects a 4d array in this case\n",
    "  x_to_predict = x_to_predict[np.newaxis, ...]\n",
    "  \n",
    "  prediction = model.predict(x_to_predict)\n",
    "  \n",
    "  predicted_index = np.argmax(prediction, axis=1)\n",
    "  \n",
    "  print(f\"Target: {find_category(y_to_predict)}, Predicted label: {find_category(predicted_index)}; test index: {rnd_test_index}\")"
   ],
   "metadata": {
    "collapsed": false,
    "ExecuteTime": {
     "end_time": "2024-03-06T21:43:53.017635300Z",
     "start_time": "2024-03-06T21:43:53.003829200Z"
    }
   },
   "id": "65ef3fdade1e458f"
  },
  {
   "cell_type": "code",
   "execution_count": 102,
   "outputs": [
    {
     "name": "stdout",
     "output_type": "stream",
     "text": [
      "1/1 [==============================] - 0s 17ms/step\n",
      "Target: ambulance, Predicted label: ambulance; test index: 30\n"
     ]
    }
   ],
   "source": [
    "prediction_by_model(cnn_model)"
   ],
   "metadata": {
    "collapsed": false,
    "ExecuteTime": {
     "end_time": "2024-03-06T22:08:50.158004500Z",
     "start_time": "2024-03-06T22:08:50.103718Z"
    }
   },
   "id": "f55888fede33a4d5"
  },
  {
   "cell_type": "code",
   "execution_count": 92,
   "outputs": [],
   "source": [
    "from sklearn.metrics import accuracy_score, precision_score, recall_score, f1_score"
   ],
   "metadata": {
    "collapsed": false,
    "ExecuteTime": {
     "end_time": "2024-03-06T21:49:46.293212Z",
     "start_time": "2024-03-06T21:49:46.233046800Z"
    }
   },
   "id": "a8f443fd75158867"
  }
 ],
 "metadata": {
  "kernelspec": {
   "display_name": "Python 3",
   "language": "python",
   "name": "python3"
  },
  "language_info": {
   "codemirror_mode": {
    "name": "ipython",
    "version": 2
   },
   "file_extension": ".py",
   "mimetype": "text/x-python",
   "name": "python",
   "nbconvert_exporter": "python",
   "pygments_lexer": "ipython2",
   "version": "2.7.6"
  }
 },
 "nbformat": 4,
 "nbformat_minor": 5
}
