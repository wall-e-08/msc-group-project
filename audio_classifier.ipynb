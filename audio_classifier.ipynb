{
 "cells": [
  {
   "cell_type": "markdown",
   "source": [
    "# Audio signal pre-processing\n",
    "\n",
    "Audio signal data will be converted into time domain features and frequency domain features"
   ],
   "metadata": {
    "collapsed": false
   },
   "id": "3b0d1533f003f65f"
  },
  {
   "cell_type": "code",
   "execution_count": 1,
   "id": "initial_id",
   "metadata": {
    "collapsed": true,
    "ExecuteTime": {
     "end_time": "2024-03-09T01:39:51.806077700Z",
     "start_time": "2024-03-09T01:39:51.754138500Z"
    }
   },
   "outputs": [],
   "source": [
    "import os\n",
    "import math\n",
    "import librosa\n",
    "import numpy as np"
   ]
  },
  {
   "cell_type": "code",
   "execution_count": 2,
   "outputs": [],
   "source": [
    "DATASET_PATH = \"datasets/final_audio\"\n",
    "SAMPLE_RATE = 22050\n",
    "TRACK_DURATION = 30  # seconds\n",
    "SAMPLES_PER_TRACK = SAMPLE_RATE * TRACK_DURATION\n",
    "\n",
    "MFCC_NUM = 13\n",
    "FFT_NUM = 2048\n",
    "HOP_LENGTH = 512\n",
    "SEGMENTS_NUM = 5\n",
    "\n",
    "category_labelling_map = {\n",
    "  \"ambulance\": 0,\n",
    "  \"police\": 1,\n",
    "  \"fire-and-trucks\": 2,\n",
    "}"
   ],
   "metadata": {
    "collapsed": false,
    "ExecuteTime": {
     "end_time": "2024-03-09T01:39:52.726405800Z",
     "start_time": "2024-03-09T01:39:52.721908400Z"
    }
   },
   "id": "d7a3645202cc9d1b"
  },
  {
   "cell_type": "markdown",
   "source": [
    "# Time domain feature extraction"
   ],
   "metadata": {
    "collapsed": false
   },
   "id": "48e92ac5ac2e0fa9"
  },
  {
   "cell_type": "code",
   "execution_count": 3,
   "outputs": [],
   "source": [
    "time_domain_features = {\n",
    "  \"category\": [],\n",
    "  \"labels\": [],\n",
    "  \"data\": []\n",
    "}\n",
    "\n",
    "for i, f in enumerate(os.listdir(DATASET_PATH)):\n",
    "  file_path = os.path.join(DATASET_PATH, f)\n",
    "  signal, sample_rate = librosa.load(file_path, sr=SAMPLE_RATE)\n",
    "\n",
    "  # number of segments based on duration\n",
    "  num_segments = int(len(signal) / SAMPLES_PER_TRACK) + 1\n",
    "\n",
    "  category = f.split(\"_\")[0]\n",
    "  time_domain_features[\"category\"].append(category)\n",
    "  time_domain_features[\"labels\"].append(category_labelling_map[category])\n",
    "  time_domain_features[\"data\"].append(signal)"
   ],
   "metadata": {
    "collapsed": false,
    "ExecuteTime": {
     "end_time": "2024-03-09T01:39:59.117119100Z",
     "start_time": "2024-03-09T01:39:55.828991400Z"
    }
   },
   "id": "3c7d3d6c3167c28b"
  },
  {
   "cell_type": "markdown",
   "source": [
    "## Mel-Spectogram feature extraction on each frame of audio chunks"
   ],
   "metadata": {
    "collapsed": false
   },
   "id": "6350c17c56f17fbc"
  },
  {
   "cell_type": "code",
   "execution_count": 5,
   "outputs": [],
   "source": [
    "spect_features = {\n",
    "  \"category\": [],\n",
    "  \"labels\": [],\n",
    "  \"spectogram\": []\n",
    "}\n",
    "\n",
    "# todo: reuse `time_domain_features` variable\n",
    "\n",
    "samples_per_segment = int(SAMPLES_PER_TRACK / SEGMENTS_NUM)\n",
    "num_spect_vectors_per_segment = math.ceil(samples_per_segment / HOP_LENGTH)\n",
    "\n",
    "for i, f in enumerate(os.listdir(DATASET_PATH)):\n",
    "  file_path = os.path.join(DATASET_PATH, f)\n",
    "  signal, sample_rate = librosa.load(file_path, sr=SAMPLE_RATE)\n",
    "\n",
    "  # number of segments based on duration\n",
    "  num_segments = int(len(signal) / SAMPLES_PER_TRACK) + 1\n",
    "\n",
    "  category = f.split(\"_\")[0]\n",
    "  spect_features[\"category\"].append(category)\n",
    "\n",
    "  signal, sample_rate = librosa.load(file_path, sr=SAMPLE_RATE)\n",
    "\n",
    "  for d in range(num_segments):\n",
    "    start = samples_per_segment * d\n",
    "    finish = start + samples_per_segment\n",
    "\n",
    "    # extract mel-spectogram\n",
    "    mel_spect = librosa.feature.melspectrogram(y=signal[start:finish],\n",
    "                                sr=sample_rate, n_fft=FFT_NUM,\n",
    "                                hop_length=HOP_LENGTH)\n",
    "    mel_spect = mel_spect.T\n",
    "\n",
    "    # store only spectogram feature with expected number of vectors\n",
    "    if len(mel_spect) == num_spect_vectors_per_segment:\n",
    "      spect_features[\"spectogram\"].append(mel_spect.tolist())\n",
    "      spect_features[\"labels\"].append(category_labelling_map[category])"
   ],
   "metadata": {
    "collapsed": false,
    "ExecuteTime": {
     "end_time": "2024-03-09T01:40:53.004451200Z",
     "start_time": "2024-03-09T01:40:37.257988900Z"
    }
   },
   "id": "e1220491f0e6994d"
  },
  {
   "cell_type": "markdown",
   "source": [
    "# MFCC feature extraction on each frame of audio chunks"
   ],
   "metadata": {
    "collapsed": false
   },
   "id": "c92a383586c2f45d"
  },
  {
   "cell_type": "code",
   "execution_count": 6,
   "outputs": [],
   "source": [
    "mfcc_feature = {\n",
    "  \"category\": [],\n",
    "  \"labels\": [],\n",
    "  \"mfcc\": []\n",
    "}\n",
    "\n",
    "# todo: reuse `time_domain_features` variable\n",
    "\n",
    "samples_per_segment = int(SAMPLES_PER_TRACK / SEGMENTS_NUM)\n",
    "num_mfcc_vectors_per_segment = math.ceil(samples_per_segment / HOP_LENGTH)\n",
    "\n",
    "for i, f in enumerate(os.listdir(DATASET_PATH)):\n",
    "  file_path = os.path.join(DATASET_PATH, f)\n",
    "  signal, sample_rate = librosa.load(file_path, sr=SAMPLE_RATE)\n",
    "\n",
    "  # number of segments based on duration\n",
    "  num_segments = int(len(signal) / SAMPLES_PER_TRACK) + 1\n",
    "\n",
    "  category = f.split(\"_\")[0]\n",
    "  mfcc_feature[\"category\"].append(category)\n",
    "\n",
    "  signal, sample_rate = librosa.load(file_path, sr=SAMPLE_RATE)\n",
    "\n",
    "  for d in range(num_segments):\n",
    "    start = samples_per_segment * d\n",
    "    finish = start + samples_per_segment\n",
    "\n",
    "    # extract mfcc\n",
    "    mfcc = librosa.feature.mfcc(y=signal[start:finish],\n",
    "                                sr=sample_rate, n_mfcc=MFCC_NUM, n_fft=FFT_NUM,\n",
    "                                hop_length=HOP_LENGTH)\n",
    "    mfcc = mfcc.T\n",
    "\n",
    "    # store only mfcc feature with expected number of vectors\n",
    "    if len(mfcc) == num_mfcc_vectors_per_segment:\n",
    "      mfcc_feature[\"mfcc\"].append(mfcc.tolist())\n",
    "      mfcc_feature[\"labels\"].append(category_labelling_map[category])"
   ],
   "metadata": {
    "collapsed": false,
    "ExecuteTime": {
     "end_time": "2024-03-09T01:41:05.566781Z",
     "start_time": "2024-03-09T01:40:54.655505200Z"
    }
   },
   "id": "d72733f2f2fe0e30"
  },
  {
   "cell_type": "code",
   "execution_count": 116,
   "outputs": [
    {
     "data": {
      "text/plain": "(160, 259, 13)"
     },
     "execution_count": 116,
     "metadata": {},
     "output_type": "execute_result"
    }
   ],
   "source": [
    "__mfcc = np.array(mfcc_feature[\"mfcc\"])\n",
    "__mfcc.shape"
   ],
   "metadata": {
    "collapsed": false,
    "ExecuteTime": {
     "end_time": "2024-03-09T02:09:41.965072900Z",
     "start_time": "2024-03-09T02:09:41.903498800Z"
    }
   },
   "id": "40ac3b23a7c254b0"
  },
  {
   "cell_type": "markdown",
   "source": [
    "## We will be using `mfcc_feature` variable on ML algorithms "
   ],
   "metadata": {
    "collapsed": false
   },
   "id": "a83905e07df255e5"
  },
  {
   "cell_type": "markdown",
   "source": [
    "## Algorithms consideration:\n",
    "- SVM\n",
    "- Logistic Regression\n",
    "- Decision Tree\n",
    "- Convolutional Neural Network\n",
    "- LSTM"
   ],
   "metadata": {
    "collapsed": false
   },
   "id": "2f997ff1f893fd86"
  },
  {
   "cell_type": "code",
   "execution_count": 22,
   "outputs": [],
   "source": [
    "from sklearn.model_selection import train_test_split\n",
    "from sklearn.svm import SVC\n",
    "from sklearn.metrics import accuracy_score\n",
    "from sklearn.linear_model import LogisticRegression\n",
    "from sklearn.tree import DecisionTreeClassifier"
   ],
   "metadata": {
    "collapsed": false,
    "ExecuteTime": {
     "end_time": "2024-03-09T01:42:42.806378100Z",
     "start_time": "2024-03-09T01:42:42.797856100Z"
    }
   },
   "id": "a17dea40997afcb"
  },
  {
   "cell_type": "code",
   "execution_count": 23,
   "outputs": [
    {
     "data": {
      "text/plain": "(160, 259, 13)"
     },
     "execution_count": 23,
     "metadata": {},
     "output_type": "execute_result"
    }
   ],
   "source": [
    "X = np.array(mfcc_feature[\"mfcc\"])\n",
    "y = np.array(mfcc_feature[\"labels\"])\n",
    "X.shape # number of samples, frames per sample, features in each frame"
   ],
   "metadata": {
    "collapsed": false,
    "ExecuteTime": {
     "end_time": "2024-03-09T01:42:44.463555700Z",
     "start_time": "2024-03-09T01:42:44.460538900Z"
    }
   },
   "id": "e08f740fcd961852"
  },
  {
   "cell_type": "code",
   "execution_count": 24,
   "outputs": [],
   "source": [
    "# Reshape X to 2D array where each row represents a sample and each column represents a feature\n",
    "samples, frames, ft_per_frame = X.shape\n",
    "X_reshaped = X.reshape(samples, -1)\n",
    "\n",
    "X_train, X_test, y_train, y_test = train_test_split(X_reshaped, y,\n",
    "                                                    test_size=0.2, random_state=42)"
   ],
   "metadata": {
    "collapsed": false,
    "ExecuteTime": {
     "end_time": "2024-03-09T01:42:47.221185900Z",
     "start_time": "2024-03-09T01:42:47.215124600Z"
    }
   },
   "id": "e599e14f7ee06d40"
  },
  {
   "cell_type": "code",
   "execution_count": 117,
   "outputs": [
    {
     "data": {
      "text/plain": "(160, 3367)"
     },
     "execution_count": 117,
     "metadata": {},
     "output_type": "execute_result"
    }
   ],
   "source": [
    "X_reshaped.shape"
   ],
   "metadata": {
    "collapsed": false,
    "ExecuteTime": {
     "end_time": "2024-03-09T02:13:57.567466900Z",
     "start_time": "2024-03-09T02:13:57.539096700Z"
    }
   },
   "id": "b7eb0df24b76e8c2"
  },
  {
   "cell_type": "markdown",
   "source": [
    "# Support Vector Machine / SVM"
   ],
   "metadata": {
    "collapsed": false
   },
   "id": "dccbb555d3bf511b"
  },
  {
   "cell_type": "code",
   "execution_count": 25,
   "outputs": [
    {
     "data": {
      "text/plain": "0.53125"
     },
     "execution_count": 25,
     "metadata": {},
     "output_type": "execute_result"
    }
   ],
   "source": [
    "svm_clf = SVC(kernel='linear', C=1.0)\n",
    "svm_clf.fit(X_train, y_train)\n",
    "svm_predictions = svm_clf.predict(X_test)\n",
    "svm_accuracy = accuracy_score(y_test, svm_predictions)\n",
    "svm_accuracy"
   ],
   "metadata": {
    "collapsed": false,
    "ExecuteTime": {
     "end_time": "2024-03-09T01:42:50.063747100Z",
     "start_time": "2024-03-09T01:42:50.005920300Z"
    }
   },
   "id": "31b1adc9b77e3480"
  },
  {
   "cell_type": "markdown",
   "source": [
    "# Logistic Regression Classifier"
   ],
   "metadata": {
    "collapsed": false
   },
   "id": "9244fce128a5624b"
  },
  {
   "cell_type": "code",
   "execution_count": 26,
   "outputs": [
    {
     "data": {
      "text/plain": "0.65625"
     },
     "execution_count": 26,
     "metadata": {},
     "output_type": "execute_result"
    }
   ],
   "source": [
    "lr_clf = LogisticRegression(max_iter=1000)\n",
    "lr_clf.fit(X_train, y_train)\n",
    "lr_predictions = lr_clf.predict(X_test)\n",
    "lr_accuracy = accuracy_score(y_test, lr_predictions)\n",
    "lr_accuracy"
   ],
   "metadata": {
    "collapsed": false,
    "ExecuteTime": {
     "end_time": "2024-03-09T01:42:52.744968800Z",
     "start_time": "2024-03-09T01:42:52.077889400Z"
    }
   },
   "id": "eeda0d4f995d9f05"
  },
  {
   "cell_type": "markdown",
   "source": [
    "# Decision Tree Classifier"
   ],
   "metadata": {
    "collapsed": false
   },
   "id": "de14374f8e7d4f57"
  },
  {
   "cell_type": "code",
   "execution_count": 27,
   "outputs": [
    {
     "data": {
      "text/plain": "0.40625"
     },
     "execution_count": 27,
     "metadata": {},
     "output_type": "execute_result"
    }
   ],
   "source": [
    "dt_clf = DecisionTreeClassifier()\n",
    "dt_clf.fit(X_train, y_train)\n",
    "dt_predictions = dt_clf.predict(X_test)\n",
    "dt_accuracy = accuracy_score(y_test, dt_predictions)\n",
    "dt_accuracy"
   ],
   "metadata": {
    "collapsed": false,
    "ExecuteTime": {
     "end_time": "2024-03-09T01:42:55.903252600Z",
     "start_time": "2024-03-09T01:42:55.750039500Z"
    }
   },
   "id": "a16f2c266f27df9c"
  },
  {
   "cell_type": "markdown",
   "source": [
    "# Convolutional Neural Network"
   ],
   "metadata": {
    "collapsed": false
   },
   "id": "f9a6d8083ad96072"
  },
  {
   "cell_type": "code",
   "execution_count": 52,
   "outputs": [],
   "source": [
    "from tensorflow.keras import Sequential, optimizers\n",
    "from tensorflow.keras.optimizers import Adam\n",
    "from tensorflow.keras.layers import (Conv2D, MaxPooling2D, BatchNormalization,\n",
    "                                     Flatten, Dense, Dropout)\n",
    "import matplotlib.pyplot as plt"
   ],
   "metadata": {
    "collapsed": false,
    "ExecuteTime": {
     "end_time": "2024-03-09T01:45:59.206432800Z",
     "start_time": "2024-03-09T01:45:59.197427200Z"
    }
   },
   "id": "8baa0fac9748a2ce"
  },
  {
   "cell_type": "code",
   "execution_count": 144,
   "outputs": [
    {
     "data": {
      "text/plain": "(128, 259, 13, 1)"
     },
     "execution_count": 144,
     "metadata": {},
     "output_type": "execute_result"
    }
   ],
   "source": [
    "X_train, X_test, y_train, y_test = train_test_split(X, y, test_size=0.2,\n",
    "                                                    random_state=42)\n",
    "\n",
    "# add an axis to input sets\n",
    "X_train = X_train[..., np.newaxis]\n",
    "X_test = X_test[..., np.newaxis]\n",
    "X_train.shape"
   ],
   "metadata": {
    "collapsed": false,
    "ExecuteTime": {
     "end_time": "2024-03-09T03:15:04.605736600Z",
     "start_time": "2024-03-09T03:15:04.553703800Z"
    }
   },
   "id": "2b69824ecfb29f64"
  },
  {
   "cell_type": "code",
   "execution_count": 54,
   "outputs": [
    {
     "name": "stdout",
     "output_type": "stream",
     "text": [
      "Model: \"sequential_8\"\n",
      "_________________________________________________________________\n",
      " Layer (type)                Output Shape              Param #   \n",
      "=================================================================\n",
      " conv2d_24 (Conv2D)          (None, 257, 11, 32)       320       \n",
      "                                                                 \n",
      " max_pooling2d_24 (MaxPooli  (None, 129, 6, 32)        0         \n",
      " ng2D)                                                           \n",
      "                                                                 \n",
      " batch_normalization_24 (Ba  (None, 129, 6, 32)        128       \n",
      " tchNormalization)                                               \n",
      "                                                                 \n",
      " conv2d_25 (Conv2D)          (None, 127, 4, 32)        9248      \n",
      "                                                                 \n",
      " max_pooling2d_25 (MaxPooli  (None, 64, 2, 32)         0         \n",
      " ng2D)                                                           \n",
      "                                                                 \n",
      " batch_normalization_25 (Ba  (None, 64, 2, 32)         128       \n",
      " tchNormalization)                                               \n",
      "                                                                 \n",
      " conv2d_26 (Conv2D)          (None, 63, 1, 32)         4128      \n",
      "                                                                 \n",
      " max_pooling2d_26 (MaxPooli  (None, 32, 1, 32)         0         \n",
      " ng2D)                                                           \n",
      "                                                                 \n",
      " batch_normalization_26 (Ba  (None, 32, 1, 32)         128       \n",
      " tchNormalization)                                               \n",
      "                                                                 \n",
      " flatten_8 (Flatten)         (None, 1024)              0         \n",
      "                                                                 \n",
      " dense_16 (Dense)            (None, 64)                65600     \n",
      "                                                                 \n",
      " dropout_8 (Dropout)         (None, 64)                0         \n",
      "                                                                 \n",
      " dense_17 (Dense)            (None, 3)                 195       \n",
      "                                                                 \n",
      "=================================================================\n",
      "Total params: 79875 (312.01 KB)\n",
      "Trainable params: 79683 (311.26 KB)\n",
      "Non-trainable params: 192 (768.00 Byte)\n",
      "_________________________________________________________________\n"
     ]
    }
   ],
   "source": [
    "cnn_model = Sequential([\n",
    "  Conv2D(32, (3, 3), activation='relu',\n",
    "         input_shape=(X_train.shape[1], X_train.shape[2], 1)),\n",
    "  MaxPooling2D((3, 3), strides=(2, 2), padding='same'),\n",
    "  BatchNormalization(),\n",
    "  \n",
    "  Conv2D(32, (3, 3), activation='relu'),\n",
    "  MaxPooling2D((3, 3), strides=(2, 2), padding='same'),\n",
    "  BatchNormalization(),\n",
    "  \n",
    "  Conv2D(32, (2, 2), activation='relu'),\n",
    "  MaxPooling2D((2, 2), strides=(2, 2), padding='same'),\n",
    "  BatchNormalization(),\n",
    "  \n",
    "  # flatten output\n",
    "  Flatten(),\n",
    "  Dense(64, activation='relu'),\n",
    "  Dropout(0.3),\n",
    "  \n",
    "  # output\n",
    "  Dense(3, activation='softmax')\n",
    "])\n",
    "\n",
    "cnn_model.compile(optimizer=Adam(learning_rate=0.0001),\n",
    "              loss='sparse_categorical_crossentropy',\n",
    "              # loss='categorical_crossentropy',\n",
    "              metrics=['accuracy'])\n",
    "\n",
    "cnn_model.summary()"
   ],
   "metadata": {
    "collapsed": false,
    "ExecuteTime": {
     "end_time": "2024-03-09T01:46:00.387928700Z",
     "start_time": "2024-03-09T01:46:00.298815900Z"
    }
   },
   "id": "4f25308f6ada94bd"
  },
  {
   "cell_type": "code",
   "execution_count": 55,
   "outputs": [],
   "source": [
    "EPOCHS = 150"
   ],
   "metadata": {
    "collapsed": false,
    "ExecuteTime": {
     "end_time": "2024-03-09T01:46:01.270891Z",
     "start_time": "2024-03-09T01:46:01.263215100Z"
    }
   },
   "id": "e794549a8e359bbb"
  },
  {
   "cell_type": "code",
   "execution_count": 56,
   "outputs": [
    {
     "name": "stdout",
     "output_type": "stream",
     "text": [
      "Epoch 1/150\n",
      "4/4 [==============================] - 1s 54ms/step - loss: 1.3359 - accuracy: 0.3750 - val_loss: 2.7182 - val_accuracy: 0.4688\n",
      "Epoch 2/150\n",
      "4/4 [==============================] - 0s 23ms/step - loss: 1.1983 - accuracy: 0.4453 - val_loss: 2.3149 - val_accuracy: 0.4688\n",
      "Epoch 3/150\n",
      "4/4 [==============================] - 0s 24ms/step - loss: 1.1749 - accuracy: 0.4766 - val_loss: 2.1577 - val_accuracy: 0.4688\n",
      "Epoch 4/150\n",
      "4/4 [==============================] - 0s 23ms/step - loss: 0.8803 - accuracy: 0.5781 - val_loss: 2.0698 - val_accuracy: 0.4688\n",
      "Epoch 5/150\n",
      "4/4 [==============================] - 0s 23ms/step - loss: 0.8267 - accuracy: 0.6484 - val_loss: 2.0116 - val_accuracy: 0.4688\n",
      "Epoch 6/150\n",
      "4/4 [==============================] - 0s 23ms/step - loss: 0.6712 - accuracy: 0.6719 - val_loss: 1.9563 - val_accuracy: 0.4688\n",
      "Epoch 7/150\n",
      "4/4 [==============================] - 0s 24ms/step - loss: 0.6656 - accuracy: 0.7266 - val_loss: 1.8916 - val_accuracy: 0.4688\n",
      "Epoch 8/150\n",
      "4/4 [==============================] - 0s 23ms/step - loss: 0.5674 - accuracy: 0.7578 - val_loss: 1.8152 - val_accuracy: 0.4688\n",
      "Epoch 9/150\n",
      "4/4 [==============================] - 0s 23ms/step - loss: 0.5332 - accuracy: 0.8047 - val_loss: 1.7459 - val_accuracy: 0.4688\n",
      "Epoch 10/150\n",
      "4/4 [==============================] - 0s 23ms/step - loss: 0.4902 - accuracy: 0.7969 - val_loss: 1.6767 - val_accuracy: 0.4688\n",
      "Epoch 11/150\n",
      "4/4 [==============================] - 0s 23ms/step - loss: 0.5177 - accuracy: 0.8125 - val_loss: 1.6011 - val_accuracy: 0.4688\n",
      "Epoch 12/150\n",
      "4/4 [==============================] - 0s 23ms/step - loss: 0.4270 - accuracy: 0.8281 - val_loss: 1.5384 - val_accuracy: 0.4688\n",
      "Epoch 13/150\n",
      "4/4 [==============================] - 0s 22ms/step - loss: 0.3891 - accuracy: 0.8281 - val_loss: 1.4759 - val_accuracy: 0.4688\n",
      "Epoch 14/150\n",
      "4/4 [==============================] - 0s 23ms/step - loss: 0.3826 - accuracy: 0.8594 - val_loss: 1.4228 - val_accuracy: 0.4688\n",
      "Epoch 15/150\n",
      "4/4 [==============================] - 0s 22ms/step - loss: 0.3521 - accuracy: 0.8672 - val_loss: 1.3729 - val_accuracy: 0.4688\n",
      "Epoch 16/150\n",
      "4/4 [==============================] - 0s 21ms/step - loss: 0.3374 - accuracy: 0.8984 - val_loss: 1.3260 - val_accuracy: 0.4688\n",
      "Epoch 17/150\n",
      "4/4 [==============================] - 0s 22ms/step - loss: 0.3050 - accuracy: 0.8906 - val_loss: 1.2873 - val_accuracy: 0.4688\n",
      "Epoch 18/150\n",
      "4/4 [==============================] - 0s 22ms/step - loss: 0.2444 - accuracy: 0.9141 - val_loss: 1.2494 - val_accuracy: 0.4688\n",
      "Epoch 19/150\n",
      "4/4 [==============================] - 0s 23ms/step - loss: 0.2707 - accuracy: 0.9297 - val_loss: 1.2038 - val_accuracy: 0.4688\n",
      "Epoch 20/150\n",
      "4/4 [==============================] - 0s 23ms/step - loss: 0.2637 - accuracy: 0.9219 - val_loss: 1.1623 - val_accuracy: 0.4688\n",
      "Epoch 21/150\n",
      "4/4 [==============================] - 0s 25ms/step - loss: 0.2154 - accuracy: 0.9453 - val_loss: 1.1279 - val_accuracy: 0.5312\n",
      "Epoch 22/150\n",
      "4/4 [==============================] - 0s 23ms/step - loss: 0.2190 - accuracy: 0.9453 - val_loss: 1.0982 - val_accuracy: 0.5312\n",
      "Epoch 23/150\n",
      "4/4 [==============================] - 0s 22ms/step - loss: 0.2528 - accuracy: 0.9219 - val_loss: 1.0695 - val_accuracy: 0.5312\n",
      "Epoch 24/150\n",
      "4/4 [==============================] - 0s 22ms/step - loss: 0.2453 - accuracy: 0.9062 - val_loss: 1.0437 - val_accuracy: 0.5312\n",
      "Epoch 25/150\n",
      "4/4 [==============================] - 0s 23ms/step - loss: 0.2363 - accuracy: 0.9453 - val_loss: 1.0199 - val_accuracy: 0.5000\n",
      "Epoch 26/150\n",
      "4/4 [==============================] - 0s 22ms/step - loss: 0.2035 - accuracy: 0.9609 - val_loss: 0.9972 - val_accuracy: 0.5312\n",
      "Epoch 27/150\n",
      "4/4 [==============================] - 0s 23ms/step - loss: 0.2193 - accuracy: 0.9375 - val_loss: 0.9772 - val_accuracy: 0.5312\n",
      "Epoch 28/150\n",
      "4/4 [==============================] - 0s 23ms/step - loss: 0.2126 - accuracy: 0.9375 - val_loss: 0.9568 - val_accuracy: 0.5312\n",
      "Epoch 29/150\n",
      "4/4 [==============================] - 0s 22ms/step - loss: 0.1904 - accuracy: 0.9297 - val_loss: 0.9390 - val_accuracy: 0.5625\n",
      "Epoch 30/150\n",
      "4/4 [==============================] - 0s 24ms/step - loss: 0.1820 - accuracy: 0.9531 - val_loss: 0.9211 - val_accuracy: 0.5938\n",
      "Epoch 31/150\n",
      "4/4 [==============================] - 0s 22ms/step - loss: 0.1888 - accuracy: 0.9688 - val_loss: 0.9052 - val_accuracy: 0.5938\n",
      "Epoch 32/150\n",
      "4/4 [==============================] - 0s 22ms/step - loss: 0.1496 - accuracy: 0.9766 - val_loss: 0.8908 - val_accuracy: 0.6250\n",
      "Epoch 33/150\n",
      "4/4 [==============================] - 0s 21ms/step - loss: 0.1591 - accuracy: 0.9531 - val_loss: 0.8801 - val_accuracy: 0.6562\n",
      "Epoch 34/150\n",
      "4/4 [==============================] - 0s 23ms/step - loss: 0.1862 - accuracy: 0.9688 - val_loss: 0.8685 - val_accuracy: 0.6562\n",
      "Epoch 35/150\n",
      "4/4 [==============================] - 0s 21ms/step - loss: 0.1338 - accuracy: 0.9766 - val_loss: 0.8569 - val_accuracy: 0.6562\n",
      "Epoch 36/150\n",
      "4/4 [==============================] - 0s 23ms/step - loss: 0.1615 - accuracy: 0.9766 - val_loss: 0.8439 - val_accuracy: 0.6562\n",
      "Epoch 37/150\n",
      "4/4 [==============================] - 0s 23ms/step - loss: 0.1459 - accuracy: 0.9688 - val_loss: 0.8308 - val_accuracy: 0.6562\n",
      "Epoch 38/150\n",
      "4/4 [==============================] - 0s 22ms/step - loss: 0.1419 - accuracy: 0.9609 - val_loss: 0.8217 - val_accuracy: 0.6875\n",
      "Epoch 39/150\n",
      "4/4 [==============================] - 0s 23ms/step - loss: 0.1067 - accuracy: 0.9766 - val_loss: 0.8155 - val_accuracy: 0.6562\n",
      "Epoch 40/150\n",
      "4/4 [==============================] - 0s 22ms/step - loss: 0.1289 - accuracy: 0.9766 - val_loss: 0.8084 - val_accuracy: 0.6562\n",
      "Epoch 41/150\n",
      "4/4 [==============================] - 0s 22ms/step - loss: 0.1419 - accuracy: 0.9688 - val_loss: 0.8038 - val_accuracy: 0.6562\n",
      "Epoch 42/150\n",
      "4/4 [==============================] - 0s 23ms/step - loss: 0.1267 - accuracy: 0.9844 - val_loss: 0.7990 - val_accuracy: 0.6562\n",
      "Epoch 43/150\n",
      "4/4 [==============================] - 0s 23ms/step - loss: 0.1261 - accuracy: 0.9922 - val_loss: 0.7932 - val_accuracy: 0.6562\n",
      "Epoch 44/150\n",
      "4/4 [==============================] - 0s 22ms/step - loss: 0.1147 - accuracy: 0.9844 - val_loss: 0.7884 - val_accuracy: 0.7188\n",
      "Epoch 45/150\n",
      "4/4 [==============================] - 0s 22ms/step - loss: 0.1125 - accuracy: 0.9844 - val_loss: 0.7838 - val_accuracy: 0.7500\n",
      "Epoch 46/150\n",
      "4/4 [==============================] - 0s 22ms/step - loss: 0.1081 - accuracy: 0.9844 - val_loss: 0.7803 - val_accuracy: 0.7500\n",
      "Epoch 47/150\n",
      "4/4 [==============================] - 0s 22ms/step - loss: 0.1246 - accuracy: 0.9766 - val_loss: 0.7761 - val_accuracy: 0.7500\n",
      "Epoch 48/150\n",
      "4/4 [==============================] - 0s 22ms/step - loss: 0.0890 - accuracy: 1.0000 - val_loss: 0.7709 - val_accuracy: 0.7500\n",
      "Epoch 49/150\n",
      "4/4 [==============================] - 0s 23ms/step - loss: 0.1209 - accuracy: 0.9766 - val_loss: 0.7692 - val_accuracy: 0.7500\n",
      "Epoch 50/150\n",
      "4/4 [==============================] - 0s 23ms/step - loss: 0.0774 - accuracy: 1.0000 - val_loss: 0.7696 - val_accuracy: 0.7500\n",
      "Epoch 51/150\n",
      "4/4 [==============================] - 0s 22ms/step - loss: 0.1026 - accuracy: 0.9844 - val_loss: 0.7717 - val_accuracy: 0.7500\n",
      "Epoch 52/150\n",
      "4/4 [==============================] - 0s 21ms/step - loss: 0.1093 - accuracy: 0.9766 - val_loss: 0.7728 - val_accuracy: 0.7500\n",
      "Epoch 53/150\n",
      "4/4 [==============================] - 0s 23ms/step - loss: 0.1016 - accuracy: 0.9922 - val_loss: 0.7728 - val_accuracy: 0.7500\n",
      "Epoch 54/150\n",
      "4/4 [==============================] - 0s 23ms/step - loss: 0.0782 - accuracy: 1.0000 - val_loss: 0.7740 - val_accuracy: 0.7500\n",
      "Epoch 55/150\n",
      "4/4 [==============================] - 0s 22ms/step - loss: 0.0785 - accuracy: 1.0000 - val_loss: 0.7747 - val_accuracy: 0.7500\n",
      "Epoch 56/150\n",
      "4/4 [==============================] - 0s 23ms/step - loss: 0.0902 - accuracy: 0.9844 - val_loss: 0.7731 - val_accuracy: 0.7500\n",
      "Epoch 57/150\n",
      "4/4 [==============================] - 0s 22ms/step - loss: 0.0926 - accuracy: 0.9766 - val_loss: 0.7717 - val_accuracy: 0.7188\n",
      "Epoch 58/150\n",
      "4/4 [==============================] - 0s 23ms/step - loss: 0.0751 - accuracy: 0.9844 - val_loss: 0.7701 - val_accuracy: 0.7188\n",
      "Epoch 59/150\n",
      "4/4 [==============================] - 0s 22ms/step - loss: 0.0689 - accuracy: 1.0000 - val_loss: 0.7671 - val_accuracy: 0.7188\n",
      "Epoch 60/150\n",
      "4/4 [==============================] - 0s 22ms/step - loss: 0.0741 - accuracy: 0.9922 - val_loss: 0.7645 - val_accuracy: 0.7500\n",
      "Epoch 61/150\n",
      "4/4 [==============================] - 0s 22ms/step - loss: 0.0845 - accuracy: 0.9922 - val_loss: 0.7620 - val_accuracy: 0.7500\n",
      "Epoch 62/150\n",
      "4/4 [==============================] - 0s 22ms/step - loss: 0.0693 - accuracy: 0.9844 - val_loss: 0.7636 - val_accuracy: 0.7188\n",
      "Epoch 63/150\n",
      "4/4 [==============================] - 0s 23ms/step - loss: 0.0900 - accuracy: 0.9922 - val_loss: 0.7752 - val_accuracy: 0.7188\n",
      "Epoch 64/150\n",
      "4/4 [==============================] - 0s 23ms/step - loss: 0.0728 - accuracy: 0.9844 - val_loss: 0.7883 - val_accuracy: 0.7188\n",
      "Epoch 65/150\n",
      "4/4 [==============================] - 0s 22ms/step - loss: 0.0666 - accuracy: 0.9922 - val_loss: 0.7972 - val_accuracy: 0.6875\n",
      "Epoch 66/150\n",
      "4/4 [==============================] - 0s 22ms/step - loss: 0.0702 - accuracy: 1.0000 - val_loss: 0.7973 - val_accuracy: 0.6875\n",
      "Epoch 67/150\n",
      "4/4 [==============================] - 0s 21ms/step - loss: 0.0619 - accuracy: 1.0000 - val_loss: 0.8020 - val_accuracy: 0.6875\n",
      "Epoch 68/150\n",
      "4/4 [==============================] - 0s 23ms/step - loss: 0.0559 - accuracy: 1.0000 - val_loss: 0.8073 - val_accuracy: 0.6875\n",
      "Epoch 69/150\n",
      "4/4 [==============================] - 0s 23ms/step - loss: 0.0593 - accuracy: 0.9922 - val_loss: 0.8133 - val_accuracy: 0.6875\n",
      "Epoch 70/150\n",
      "4/4 [==============================] - 0s 23ms/step - loss: 0.0509 - accuracy: 1.0000 - val_loss: 0.8188 - val_accuracy: 0.6875\n",
      "Epoch 71/150\n",
      "4/4 [==============================] - 0s 22ms/step - loss: 0.0476 - accuracy: 1.0000 - val_loss: 0.8243 - val_accuracy: 0.7188\n",
      "Epoch 72/150\n",
      "4/4 [==============================] - 0s 22ms/step - loss: 0.0447 - accuracy: 1.0000 - val_loss: 0.8198 - val_accuracy: 0.6875\n",
      "Epoch 73/150\n",
      "4/4 [==============================] - 0s 22ms/step - loss: 0.0504 - accuracy: 1.0000 - val_loss: 0.8160 - val_accuracy: 0.6875\n",
      "Epoch 74/150\n",
      "4/4 [==============================] - 0s 26ms/step - loss: 0.0607 - accuracy: 0.9922 - val_loss: 0.8117 - val_accuracy: 0.6875\n",
      "Epoch 75/150\n",
      "4/4 [==============================] - 0s 23ms/step - loss: 0.0533 - accuracy: 0.9922 - val_loss: 0.8134 - val_accuracy: 0.6875\n",
      "Epoch 76/150\n",
      "4/4 [==============================] - 0s 22ms/step - loss: 0.0455 - accuracy: 1.0000 - val_loss: 0.8195 - val_accuracy: 0.6875\n",
      "Epoch 77/150\n",
      "4/4 [==============================] - 0s 22ms/step - loss: 0.0334 - accuracy: 1.0000 - val_loss: 0.8307 - val_accuracy: 0.6875\n",
      "Epoch 78/150\n",
      "4/4 [==============================] - 0s 23ms/step - loss: 0.0349 - accuracy: 1.0000 - val_loss: 0.8413 - val_accuracy: 0.7188\n",
      "Epoch 79/150\n",
      "4/4 [==============================] - 0s 22ms/step - loss: 0.0330 - accuracy: 1.0000 - val_loss: 0.8549 - val_accuracy: 0.7188\n",
      "Epoch 80/150\n",
      "4/4 [==============================] - 0s 23ms/step - loss: 0.0591 - accuracy: 0.9922 - val_loss: 0.8576 - val_accuracy: 0.7188\n",
      "Epoch 81/150\n",
      "4/4 [==============================] - 0s 22ms/step - loss: 0.0600 - accuracy: 0.9922 - val_loss: 0.8573 - val_accuracy: 0.7188\n",
      "Epoch 82/150\n",
      "4/4 [==============================] - 0s 22ms/step - loss: 0.0654 - accuracy: 0.9922 - val_loss: 0.8511 - val_accuracy: 0.7188\n",
      "Epoch 83/150\n",
      "4/4 [==============================] - 0s 22ms/step - loss: 0.0420 - accuracy: 1.0000 - val_loss: 0.8525 - val_accuracy: 0.7188\n",
      "Epoch 84/150\n",
      "4/4 [==============================] - 0s 22ms/step - loss: 0.0346 - accuracy: 1.0000 - val_loss: 0.8649 - val_accuracy: 0.7188\n",
      "Epoch 85/150\n",
      "4/4 [==============================] - 0s 22ms/step - loss: 0.0347 - accuracy: 1.0000 - val_loss: 0.8788 - val_accuracy: 0.7188\n",
      "Epoch 86/150\n",
      "4/4 [==============================] - 0s 22ms/step - loss: 0.0399 - accuracy: 1.0000 - val_loss: 0.8853 - val_accuracy: 0.7188\n",
      "Epoch 87/150\n",
      "4/4 [==============================] - 0s 22ms/step - loss: 0.0390 - accuracy: 1.0000 - val_loss: 0.8918 - val_accuracy: 0.7188\n",
      "Epoch 88/150\n",
      "4/4 [==============================] - 0s 22ms/step - loss: 0.0504 - accuracy: 0.9922 - val_loss: 0.8869 - val_accuracy: 0.7188\n",
      "Epoch 89/150\n",
      "4/4 [==============================] - 0s 22ms/step - loss: 0.0468 - accuracy: 0.9844 - val_loss: 0.8694 - val_accuracy: 0.7188\n",
      "Epoch 90/150\n",
      "4/4 [==============================] - 0s 22ms/step - loss: 0.0402 - accuracy: 1.0000 - val_loss: 0.8616 - val_accuracy: 0.7188\n",
      "Epoch 91/150\n",
      "4/4 [==============================] - 0s 22ms/step - loss: 0.0398 - accuracy: 1.0000 - val_loss: 0.8670 - val_accuracy: 0.7188\n",
      "Epoch 92/150\n",
      "4/4 [==============================] - 0s 23ms/step - loss: 0.0340 - accuracy: 1.0000 - val_loss: 0.8755 - val_accuracy: 0.7188\n",
      "Epoch 93/150\n",
      "4/4 [==============================] - 0s 23ms/step - loss: 0.0465 - accuracy: 1.0000 - val_loss: 0.8896 - val_accuracy: 0.7188\n",
      "Epoch 94/150\n",
      "4/4 [==============================] - 0s 21ms/step - loss: 0.0299 - accuracy: 1.0000 - val_loss: 0.9111 - val_accuracy: 0.7188\n",
      "Epoch 95/150\n",
      "4/4 [==============================] - 0s 22ms/step - loss: 0.0265 - accuracy: 1.0000 - val_loss: 0.9307 - val_accuracy: 0.7188\n",
      "Epoch 96/150\n",
      "4/4 [==============================] - 0s 21ms/step - loss: 0.0381 - accuracy: 1.0000 - val_loss: 0.9494 - val_accuracy: 0.7188\n",
      "Epoch 97/150\n",
      "4/4 [==============================] - 0s 23ms/step - loss: 0.0310 - accuracy: 1.0000 - val_loss: 0.9637 - val_accuracy: 0.7188\n",
      "Epoch 98/150\n",
      "4/4 [==============================] - 0s 23ms/step - loss: 0.0416 - accuracy: 0.9922 - val_loss: 0.9914 - val_accuracy: 0.7188\n",
      "Epoch 99/150\n",
      "4/4 [==============================] - 0s 22ms/step - loss: 0.0471 - accuracy: 0.9922 - val_loss: 1.0138 - val_accuracy: 0.7188\n",
      "Epoch 100/150\n",
      "4/4 [==============================] - 0s 22ms/step - loss: 0.0328 - accuracy: 1.0000 - val_loss: 1.0138 - val_accuracy: 0.6875\n",
      "Epoch 101/150\n",
      "4/4 [==============================] - 0s 22ms/step - loss: 0.0282 - accuracy: 1.0000 - val_loss: 1.0095 - val_accuracy: 0.6875\n",
      "Epoch 102/150\n",
      "4/4 [==============================] - 0s 25ms/step - loss: 0.0256 - accuracy: 1.0000 - val_loss: 1.0079 - val_accuracy: 0.6875\n",
      "Epoch 103/150\n",
      "4/4 [==============================] - 0s 23ms/step - loss: 0.0374 - accuracy: 1.0000 - val_loss: 0.9991 - val_accuracy: 0.6875\n",
      "Epoch 104/150\n",
      "4/4 [==============================] - 0s 22ms/step - loss: 0.0437 - accuracy: 0.9844 - val_loss: 0.9988 - val_accuracy: 0.6875\n",
      "Epoch 105/150\n",
      "4/4 [==============================] - 0s 22ms/step - loss: 0.0322 - accuracy: 1.0000 - val_loss: 0.9964 - val_accuracy: 0.6875\n",
      "Epoch 106/150\n",
      "4/4 [==============================] - 0s 23ms/step - loss: 0.0362 - accuracy: 1.0000 - val_loss: 0.9988 - val_accuracy: 0.6875\n",
      "Epoch 107/150\n",
      "4/4 [==============================] - 0s 22ms/step - loss: 0.0261 - accuracy: 1.0000 - val_loss: 1.0152 - val_accuracy: 0.6875\n",
      "Epoch 108/150\n",
      "4/4 [==============================] - 0s 22ms/step - loss: 0.0304 - accuracy: 1.0000 - val_loss: 1.0285 - val_accuracy: 0.6875\n",
      "Epoch 109/150\n",
      "4/4 [==============================] - 0s 22ms/step - loss: 0.0262 - accuracy: 1.0000 - val_loss: 1.0299 - val_accuracy: 0.6875\n",
      "Epoch 110/150\n",
      "4/4 [==============================] - 0s 23ms/step - loss: 0.0235 - accuracy: 1.0000 - val_loss: 1.0359 - val_accuracy: 0.6875\n",
      "Epoch 111/150\n",
      "4/4 [==============================] - 0s 22ms/step - loss: 0.0421 - accuracy: 1.0000 - val_loss: 1.0309 - val_accuracy: 0.7188\n",
      "Epoch 112/150\n",
      "4/4 [==============================] - 0s 24ms/step - loss: 0.0291 - accuracy: 1.0000 - val_loss: 1.0189 - val_accuracy: 0.7188\n",
      "Epoch 113/150\n",
      "4/4 [==============================] - 0s 23ms/step - loss: 0.0255 - accuracy: 1.0000 - val_loss: 1.0099 - val_accuracy: 0.7188\n",
      "Epoch 114/150\n",
      "4/4 [==============================] - 0s 22ms/step - loss: 0.0373 - accuracy: 0.9922 - val_loss: 0.9997 - val_accuracy: 0.7500\n",
      "Epoch 115/150\n",
      "4/4 [==============================] - 0s 23ms/step - loss: 0.0306 - accuracy: 1.0000 - val_loss: 0.9844 - val_accuracy: 0.7500\n",
      "Epoch 116/150\n",
      "4/4 [==============================] - 0s 23ms/step - loss: 0.0358 - accuracy: 0.9922 - val_loss: 0.9730 - val_accuracy: 0.7188\n",
      "Epoch 117/150\n",
      "4/4 [==============================] - 0s 22ms/step - loss: 0.0402 - accuracy: 1.0000 - val_loss: 0.9632 - val_accuracy: 0.7188\n",
      "Epoch 118/150\n",
      "4/4 [==============================] - 0s 25ms/step - loss: 0.0186 - accuracy: 1.0000 - val_loss: 0.9640 - val_accuracy: 0.7188\n",
      "Epoch 119/150\n",
      "4/4 [==============================] - 0s 22ms/step - loss: 0.0283 - accuracy: 1.0000 - val_loss: 0.9692 - val_accuracy: 0.7188\n",
      "Epoch 120/150\n",
      "4/4 [==============================] - 0s 23ms/step - loss: 0.0186 - accuracy: 1.0000 - val_loss: 0.9836 - val_accuracy: 0.7188\n",
      "Epoch 121/150\n",
      "4/4 [==============================] - 0s 22ms/step - loss: 0.0284 - accuracy: 1.0000 - val_loss: 0.9848 - val_accuracy: 0.7188\n",
      "Epoch 122/150\n",
      "4/4 [==============================] - 0s 22ms/step - loss: 0.0299 - accuracy: 1.0000 - val_loss: 0.9893 - val_accuracy: 0.7188\n",
      "Epoch 123/150\n",
      "4/4 [==============================] - 0s 22ms/step - loss: 0.0288 - accuracy: 1.0000 - val_loss: 1.0099 - val_accuracy: 0.7188\n",
      "Epoch 124/150\n",
      "4/4 [==============================] - 0s 22ms/step - loss: 0.0246 - accuracy: 1.0000 - val_loss: 1.0281 - val_accuracy: 0.7188\n",
      "Epoch 125/150\n",
      "4/4 [==============================] - 0s 23ms/step - loss: 0.0182 - accuracy: 1.0000 - val_loss: 1.0408 - val_accuracy: 0.7188\n",
      "Epoch 126/150\n",
      "4/4 [==============================] - 0s 23ms/step - loss: 0.0395 - accuracy: 0.9922 - val_loss: 1.0478 - val_accuracy: 0.7188\n",
      "Epoch 127/150\n",
      "4/4 [==============================] - 0s 27ms/step - loss: 0.0220 - accuracy: 1.0000 - val_loss: 1.0532 - val_accuracy: 0.7188\n",
      "Epoch 128/150\n",
      "4/4 [==============================] - 0s 22ms/step - loss: 0.0241 - accuracy: 0.9922 - val_loss: 1.0487 - val_accuracy: 0.7188\n",
      "Epoch 129/150\n",
      "4/4 [==============================] - 0s 23ms/step - loss: 0.0176 - accuracy: 1.0000 - val_loss: 1.0342 - val_accuracy: 0.7188\n",
      "Epoch 130/150\n",
      "4/4 [==============================] - 0s 23ms/step - loss: 0.0257 - accuracy: 0.9922 - val_loss: 1.0220 - val_accuracy: 0.7500\n",
      "Epoch 131/150\n",
      "4/4 [==============================] - 0s 22ms/step - loss: 0.0264 - accuracy: 1.0000 - val_loss: 1.0064 - val_accuracy: 0.7500\n",
      "Epoch 132/150\n",
      "4/4 [==============================] - 0s 23ms/step - loss: 0.0239 - accuracy: 1.0000 - val_loss: 1.0049 - val_accuracy: 0.7500\n",
      "Epoch 133/150\n",
      "4/4 [==============================] - 0s 23ms/step - loss: 0.0301 - accuracy: 0.9922 - val_loss: 1.0102 - val_accuracy: 0.7500\n",
      "Epoch 134/150\n",
      "4/4 [==============================] - 0s 22ms/step - loss: 0.0328 - accuracy: 1.0000 - val_loss: 1.0164 - val_accuracy: 0.7188\n",
      "Epoch 135/150\n",
      "4/4 [==============================] - 0s 22ms/step - loss: 0.0195 - accuracy: 1.0000 - val_loss: 1.0133 - val_accuracy: 0.7188\n",
      "Epoch 136/150\n",
      "4/4 [==============================] - 0s 23ms/step - loss: 0.0187 - accuracy: 1.0000 - val_loss: 1.0133 - val_accuracy: 0.7188\n",
      "Epoch 137/150\n",
      "4/4 [==============================] - 0s 23ms/step - loss: 0.0274 - accuracy: 1.0000 - val_loss: 1.0232 - val_accuracy: 0.7188\n",
      "Epoch 138/150\n",
      "4/4 [==============================] - 0s 22ms/step - loss: 0.0223 - accuracy: 0.9922 - val_loss: 1.0348 - val_accuracy: 0.7188\n",
      "Epoch 139/150\n",
      "4/4 [==============================] - 0s 23ms/step - loss: 0.0121 - accuracy: 1.0000 - val_loss: 1.0479 - val_accuracy: 0.7188\n",
      "Epoch 140/150\n",
      "4/4 [==============================] - 0s 23ms/step - loss: 0.0247 - accuracy: 1.0000 - val_loss: 1.0612 - val_accuracy: 0.7188\n",
      "Epoch 141/150\n",
      "4/4 [==============================] - 0s 22ms/step - loss: 0.0200 - accuracy: 1.0000 - val_loss: 1.0789 - val_accuracy: 0.7500\n",
      "Epoch 142/150\n",
      "4/4 [==============================] - 0s 23ms/step - loss: 0.0159 - accuracy: 1.0000 - val_loss: 1.0894 - val_accuracy: 0.7500\n",
      "Epoch 143/150\n",
      "4/4 [==============================] - 0s 22ms/step - loss: 0.0269 - accuracy: 0.9922 - val_loss: 1.0905 - val_accuracy: 0.7188\n",
      "Epoch 144/150\n",
      "4/4 [==============================] - 0s 22ms/step - loss: 0.0417 - accuracy: 0.9922 - val_loss: 1.0663 - val_accuracy: 0.7188\n",
      "Epoch 145/150\n",
      "4/4 [==============================] - 0s 22ms/step - loss: 0.0099 - accuracy: 1.0000 - val_loss: 1.0406 - val_accuracy: 0.7188\n",
      "Epoch 146/150\n",
      "4/4 [==============================] - 0s 22ms/step - loss: 0.0203 - accuracy: 1.0000 - val_loss: 1.0110 - val_accuracy: 0.7188\n",
      "Epoch 147/150\n",
      "4/4 [==============================] - 0s 22ms/step - loss: 0.0348 - accuracy: 0.9922 - val_loss: 0.9991 - val_accuracy: 0.7188\n",
      "Epoch 148/150\n",
      "4/4 [==============================] - 0s 23ms/step - loss: 0.0112 - accuracy: 1.0000 - val_loss: 0.9936 - val_accuracy: 0.7188\n",
      "Epoch 149/150\n",
      "4/4 [==============================] - 0s 23ms/step - loss: 0.0139 - accuracy: 1.0000 - val_loss: 0.9997 - val_accuracy: 0.7188\n",
      "Epoch 150/150\n",
      "4/4 [==============================] - 0s 22ms/step - loss: 0.0161 - accuracy: 1.0000 - val_loss: 1.0104 - val_accuracy: 0.7188\n"
     ]
    }
   ],
   "source": [
    "cnn_history = cnn_model.fit(X_train, y_train,\n",
    "                    validation_data=(X_test, y_test),\n",
    "                    batch_size=32, epochs=EPOCHS)"
   ],
   "metadata": {
    "collapsed": false,
    "ExecuteTime": {
     "end_time": "2024-03-09T01:46:16.100854400Z",
     "start_time": "2024-03-09T01:46:02.635353800Z"
    }
   },
   "id": "f0cf60109418bf4"
  },
  {
   "cell_type": "code",
   "execution_count": 57,
   "outputs": [
    {
     "name": "stdout",
     "output_type": "stream",
     "text": [
      "1/1 - 0s - loss: 1.0104 - accuracy: 0.7188 - 24ms/epoch - 24ms/step\n"
     ]
    },
    {
     "data": {
      "text/plain": "'Loss: 1.01042902469635, Accuracy: 0.71875'"
     },
     "execution_count": 57,
     "metadata": {},
     "output_type": "execute_result"
    }
   ],
   "source": [
    "cnn_loss, cnn_accuracy = cnn_model.evaluate(X_test, y_test, verbose=2)\n",
    "f'Loss: {cnn_loss}, Accuracy: {cnn_accuracy}'"
   ],
   "metadata": {
    "collapsed": false,
    "ExecuteTime": {
     "end_time": "2024-03-09T01:46:22.357488500Z",
     "start_time": "2024-03-09T01:46:22.228886700Z"
    }
   },
   "id": "d67709dac3e6a92c"
  },
  {
   "cell_type": "markdown",
   "source": [
    "## Accuracy and Error graph"
   ],
   "metadata": {
    "collapsed": false
   },
   "id": "f2db162b23330254"
  },
  {
   "cell_type": "code",
   "execution_count": 58,
   "outputs": [],
   "source": [
    "def acc_err_plot(history):\n",
    "  fig, axs = plt.subplots(2)\n",
    "\n",
    "  # create accuracy sublpot\n",
    "  axs[0].plot(history.history[\"accuracy\"], label=\"train accuracy\")\n",
    "  axs[0].plot(history.history[\"val_accuracy\"], label=\"test accuracy\")\n",
    "  axs[0].set_ylabel(\"Accuracy\")\n",
    "  axs[0].legend(loc=\"lower right\")\n",
    "  axs[0].set_title(\"Accuracy eval\")\n",
    "  \n",
    "  # create error sublpot\n",
    "  axs[1].plot(history.history[\"loss\"], label=\"train error\")\n",
    "  axs[1].plot(history.history[\"val_loss\"], label=\"test error\")\n",
    "  axs[1].set_ylabel(\"Error\")\n",
    "  axs[1].set_xlabel(\"Epoch\")\n",
    "  axs[1].legend(loc=\"upper right\")\n",
    "  axs[1].set_title(\"Error eval\")\n",
    "  \n",
    "  plt.tight_layout()\n",
    "  plt.show()"
   ],
   "metadata": {
    "collapsed": false,
    "ExecuteTime": {
     "end_time": "2024-03-09T01:46:24.641891600Z",
     "start_time": "2024-03-09T01:46:24.631880800Z"
    }
   },
   "id": "32866817726b479d"
  },
  {
   "cell_type": "code",
   "execution_count": 59,
   "outputs": [
    {
     "data": {
      "text/plain": "<Figure size 640x480 with 2 Axes>",
      "image/png": "[encoded data removed]"
     },
     "metadata": {},
     "output_type": "display_data"
    }
   ],
   "source": [
    "acc_err_plot(cnn_history)"
   ],
   "metadata": {
    "collapsed": false,
    "ExecuteTime": {
     "end_time": "2024-03-09T01:46:26.168231500Z",
     "start_time": "2024-03-09T01:46:26.029532100Z"
    }
   },
   "id": "9f8ce2953a5dd782"
  },
  {
   "cell_type": "markdown",
   "source": [
    "# LSTM"
   ],
   "metadata": {
    "collapsed": false
   },
   "id": "4f8bd52995d20ec9"
  },
  {
   "cell_type": "code",
   "execution_count": 60,
   "outputs": [],
   "source": [
    "from tensorflow.keras.layers import LSTM"
   ],
   "metadata": {
    "collapsed": false,
    "ExecuteTime": {
     "end_time": "2024-03-09T01:46:32.431393300Z",
     "start_time": "2024-03-09T01:46:32.420516600Z"
    }
   },
   "id": "b21fe58d521f6305"
  },
  {
   "cell_type": "code",
   "execution_count": 142,
   "outputs": [],
   "source": [
    "X_train, X_test, y_train, y_test = train_test_split(X, y, test_size=0.2,\n",
    "                                                    random_state=42)\n",
    "\n",
    "# add an axis to input sets\n",
    "X_train = X_train[..., np.newaxis]\n",
    "X_test = X_test[..., np.newaxis]"
   ],
   "metadata": {
    "collapsed": false,
    "ExecuteTime": {
     "end_time": "2024-03-09T03:14:32.109816Z",
     "start_time": "2024-03-09T03:14:32.104309100Z"
    }
   },
   "id": "7732463c76719123"
  },
  {
   "cell_type": "code",
   "execution_count": 62,
   "outputs": [],
   "source": [
    "lstm_model = Sequential([\n",
    "  LSTM(64, input_shape=(X_train.shape[1], X_train.shape[2]),\n",
    "       return_sequences=True),\n",
    "  LSTM(64),\n",
    "  \n",
    "  Dense(64, activation='relu'),\n",
    "  Dropout(0.3),\n",
    "  \n",
    "  # output\n",
    "  Dense(3, activation='softmax')\n",
    "])"
   ],
   "metadata": {
    "collapsed": false,
    "ExecuteTime": {
     "end_time": "2024-03-09T01:46:36.813039500Z",
     "start_time": "2024-03-09T01:46:36.597899300Z"
    }
   },
   "id": "7403641600634df5"
  },
  {
   "cell_type": "code",
   "execution_count": 63,
   "outputs": [
    {
     "name": "stdout",
     "output_type": "stream",
     "text": [
      "Model: \"sequential_9\"\n",
      "_________________________________________________________________\n",
      " Layer (type)                Output Shape              Param #   \n",
      "=================================================================\n",
      " lstm (LSTM)                 (None, 259, 64)           19968     \n",
      "                                                                 \n",
      " lstm_1 (LSTM)               (None, 64)                33024     \n",
      "                                                                 \n",
      " dense_18 (Dense)            (None, 64)                4160      \n",
      "                                                                 \n",
      " dropout_9 (Dropout)         (None, 64)                0         \n",
      "                                                                 \n",
      " dense_19 (Dense)            (None, 3)                 195       \n",
      "                                                                 \n",
      "=================================================================\n",
      "Total params: 57347 (224.01 KB)\n",
      "Trainable params: 57347 (224.01 KB)\n",
      "Non-trainable params: 0 (0.00 Byte)\n",
      "_________________________________________________________________\n"
     ]
    }
   ],
   "source": [
    "lstm_model.compile(optimizer=Adam(learning_rate=0.0001),\n",
    "              loss='sparse_categorical_crossentropy',\n",
    "              # loss='categorical_crossentropy',\n",
    "              metrics=['accuracy'])\n",
    "\n",
    "lstm_model.summary()"
   ],
   "metadata": {
    "collapsed": false,
    "ExecuteTime": {
     "end_time": "2024-03-09T01:46:37.899196200Z",
     "start_time": "2024-03-09T01:46:37.885679300Z"
    }
   },
   "id": "4f01f62928d73494"
  },
  {
   "cell_type": "code",
   "execution_count": 64,
   "outputs": [
    {
     "name": "stdout",
     "output_type": "stream",
     "text": [
      "Epoch 1/150\n",
      "4/4 [==============================] - 2s 265ms/step - loss: 1.1330 - accuracy: 0.3281 - val_loss: 1.1890 - val_accuracy: 0.3125\n",
      "Epoch 2/150\n",
      "4/4 [==============================] - 0s 92ms/step - loss: 1.1125 - accuracy: 0.3672 - val_loss: 1.1788 - val_accuracy: 0.3125\n",
      "Epoch 3/150\n",
      "4/4 [==============================] - 0s 89ms/step - loss: 1.1071 - accuracy: 0.3516 - val_loss: 1.1702 - val_accuracy: 0.3750\n",
      "Epoch 4/150\n",
      "4/4 [==============================] - 0s 91ms/step - loss: 1.0889 - accuracy: 0.3984 - val_loss: 1.1602 - val_accuracy: 0.3750\n",
      "Epoch 5/150\n",
      "4/4 [==============================] - 0s 93ms/step - loss: 1.0837 - accuracy: 0.3984 - val_loss: 1.1485 - val_accuracy: 0.3750\n",
      "Epoch 6/150\n",
      "4/4 [==============================] - 0s 93ms/step - loss: 1.0660 - accuracy: 0.4531 - val_loss: 1.1408 - val_accuracy: 0.3438\n",
      "Epoch 7/150\n",
      "4/4 [==============================] - 0s 88ms/step - loss: 1.0484 - accuracy: 0.4766 - val_loss: 1.1323 - val_accuracy: 0.3438\n",
      "Epoch 8/150\n",
      "4/4 [==============================] - 0s 95ms/step - loss: 1.0447 - accuracy: 0.5000 - val_loss: 1.1246 - val_accuracy: 0.3750\n",
      "Epoch 9/150\n",
      "4/4 [==============================] - 0s 95ms/step - loss: 1.0267 - accuracy: 0.5000 - val_loss: 1.1174 - val_accuracy: 0.4062\n",
      "Epoch 10/150\n",
      "4/4 [==============================] - 0s 91ms/step - loss: 1.0071 - accuracy: 0.5156 - val_loss: 1.1114 - val_accuracy: 0.4062\n",
      "Epoch 11/150\n",
      "4/4 [==============================] - 0s 93ms/step - loss: 0.9922 - accuracy: 0.5469 - val_loss: 1.1056 - val_accuracy: 0.4062\n",
      "Epoch 12/150\n",
      "4/4 [==============================] - 0s 98ms/step - loss: 1.0126 - accuracy: 0.5547 - val_loss: 1.0999 - val_accuracy: 0.4062\n",
      "Epoch 13/150\n",
      "4/4 [==============================] - 0s 94ms/step - loss: 0.9643 - accuracy: 0.5781 - val_loss: 1.0950 - val_accuracy: 0.3750\n",
      "Epoch 14/150\n",
      "4/4 [==============================] - 0s 92ms/step - loss: 0.9790 - accuracy: 0.5469 - val_loss: 1.0904 - val_accuracy: 0.3750\n",
      "Epoch 15/150\n",
      "4/4 [==============================] - 0s 92ms/step - loss: 0.9723 - accuracy: 0.5781 - val_loss: 1.0877 - val_accuracy: 0.3750\n",
      "Epoch 16/150\n",
      "4/4 [==============================] - 0s 89ms/step - loss: 0.9545 - accuracy: 0.6094 - val_loss: 1.0849 - val_accuracy: 0.3438\n",
      "Epoch 17/150\n",
      "4/4 [==============================] - 0s 99ms/step - loss: 0.9588 - accuracy: 0.6094 - val_loss: 1.0820 - val_accuracy: 0.3750\n",
      "Epoch 18/150\n",
      "4/4 [==============================] - 0s 94ms/step - loss: 0.9313 - accuracy: 0.6172 - val_loss: 1.0778 - val_accuracy: 0.3438\n",
      "Epoch 19/150\n",
      "4/4 [==============================] - 0s 91ms/step - loss: 0.9313 - accuracy: 0.6406 - val_loss: 1.0734 - val_accuracy: 0.3438\n",
      "Epoch 20/150\n",
      "4/4 [==============================] - 0s 94ms/step - loss: 0.9173 - accuracy: 0.5938 - val_loss: 1.0710 - val_accuracy: 0.3750\n",
      "Epoch 21/150\n",
      "4/4 [==============================] - 0s 89ms/step - loss: 0.9239 - accuracy: 0.6484 - val_loss: 1.0690 - val_accuracy: 0.4062\n",
      "Epoch 22/150\n",
      "4/4 [==============================] - 0s 89ms/step - loss: 0.9071 - accuracy: 0.6328 - val_loss: 1.0664 - val_accuracy: 0.4375\n",
      "Epoch 23/150\n",
      "4/4 [==============================] - 0s 91ms/step - loss: 0.8990 - accuracy: 0.6172 - val_loss: 1.0639 - val_accuracy: 0.4688\n",
      "Epoch 24/150\n",
      "4/4 [==============================] - 0s 91ms/step - loss: 0.8713 - accuracy: 0.6719 - val_loss: 1.0633 - val_accuracy: 0.4688\n",
      "Epoch 25/150\n",
      "4/4 [==============================] - 0s 89ms/step - loss: 0.8831 - accuracy: 0.6562 - val_loss: 1.0623 - val_accuracy: 0.4688\n",
      "Epoch 26/150\n",
      "4/4 [==============================] - 0s 89ms/step - loss: 0.8577 - accuracy: 0.6562 - val_loss: 1.0594 - val_accuracy: 0.4688\n",
      "Epoch 27/150\n",
      "4/4 [==============================] - 0s 89ms/step - loss: 0.8489 - accuracy: 0.6562 - val_loss: 1.0573 - val_accuracy: 0.4688\n",
      "Epoch 28/150\n",
      "4/4 [==============================] - 0s 88ms/step - loss: 0.8435 - accuracy: 0.6641 - val_loss: 1.0557 - val_accuracy: 0.4688\n",
      "Epoch 29/150\n",
      "4/4 [==============================] - 0s 90ms/step - loss: 0.8253 - accuracy: 0.6641 - val_loss: 1.0570 - val_accuracy: 0.4688\n",
      "Epoch 30/150\n",
      "4/4 [==============================] - 0s 91ms/step - loss: 0.8252 - accuracy: 0.6641 - val_loss: 1.0588 - val_accuracy: 0.4688\n",
      "Epoch 31/150\n",
      "4/4 [==============================] - 0s 91ms/step - loss: 0.8246 - accuracy: 0.6719 - val_loss: 1.0604 - val_accuracy: 0.4688\n",
      "Epoch 32/150\n",
      "4/4 [==============================] - 0s 89ms/step - loss: 0.8143 - accuracy: 0.6484 - val_loss: 1.0618 - val_accuracy: 0.4688\n",
      "Epoch 33/150\n",
      "4/4 [==============================] - 0s 92ms/step - loss: 0.7957 - accuracy: 0.6875 - val_loss: 1.0635 - val_accuracy: 0.5000\n",
      "Epoch 34/150\n",
      "4/4 [==============================] - 0s 95ms/step - loss: 0.7891 - accuracy: 0.6484 - val_loss: 1.0661 - val_accuracy: 0.5000\n",
      "Epoch 35/150\n",
      "4/4 [==============================] - 0s 98ms/step - loss: 0.7605 - accuracy: 0.6953 - val_loss: 1.0693 - val_accuracy: 0.5000\n",
      "Epoch 36/150\n",
      "4/4 [==============================] - 0s 90ms/step - loss: 0.7852 - accuracy: 0.6797 - val_loss: 1.0739 - val_accuracy: 0.5000\n",
      "Epoch 37/150\n",
      "4/4 [==============================] - 0s 95ms/step - loss: 0.7462 - accuracy: 0.7031 - val_loss: 1.0769 - val_accuracy: 0.5000\n",
      "Epoch 38/150\n",
      "4/4 [==============================] - 0s 96ms/step - loss: 0.7339 - accuracy: 0.6875 - val_loss: 1.0819 - val_accuracy: 0.5000\n",
      "Epoch 39/150\n",
      "4/4 [==============================] - 0s 93ms/step - loss: 0.7355 - accuracy: 0.7109 - val_loss: 1.0858 - val_accuracy: 0.5000\n",
      "Epoch 40/150\n",
      "4/4 [==============================] - 0s 91ms/step - loss: 0.7235 - accuracy: 0.7031 - val_loss: 1.0908 - val_accuracy: 0.5000\n",
      "Epoch 41/150\n",
      "4/4 [==============================] - 0s 98ms/step - loss: 0.6968 - accuracy: 0.7344 - val_loss: 1.0935 - val_accuracy: 0.5000\n",
      "Epoch 42/150\n",
      "4/4 [==============================] - 0s 90ms/step - loss: 0.6859 - accuracy: 0.7500 - val_loss: 1.0969 - val_accuracy: 0.5000\n",
      "Epoch 43/150\n",
      "4/4 [==============================] - 0s 89ms/step - loss: 0.7000 - accuracy: 0.7500 - val_loss: 1.0987 - val_accuracy: 0.5000\n",
      "Epoch 44/150\n",
      "4/4 [==============================] - 0s 91ms/step - loss: 0.6732 - accuracy: 0.7344 - val_loss: 1.1020 - val_accuracy: 0.5000\n",
      "Epoch 45/150\n",
      "4/4 [==============================] - 0s 91ms/step - loss: 0.6599 - accuracy: 0.7656 - val_loss: 1.1057 - val_accuracy: 0.5000\n",
      "Epoch 46/150\n",
      "4/4 [==============================] - 0s 92ms/step - loss: 0.6260 - accuracy: 0.7969 - val_loss: 1.1092 - val_accuracy: 0.5000\n",
      "Epoch 47/150\n",
      "4/4 [==============================] - 0s 89ms/step - loss: 0.6184 - accuracy: 0.7812 - val_loss: 1.1121 - val_accuracy: 0.5312\n",
      "Epoch 48/150\n",
      "4/4 [==============================] - 0s 91ms/step - loss: 0.6438 - accuracy: 0.7422 - val_loss: 1.1176 - val_accuracy: 0.5312\n",
      "Epoch 49/150\n",
      "4/4 [==============================] - 0s 88ms/step - loss: 0.5966 - accuracy: 0.7500 - val_loss: 1.1203 - val_accuracy: 0.5312\n",
      "Epoch 50/150\n",
      "4/4 [==============================] - 0s 90ms/step - loss: 0.6050 - accuracy: 0.7891 - val_loss: 1.1267 - val_accuracy: 0.5312\n",
      "Epoch 51/150\n",
      "4/4 [==============================] - 0s 91ms/step - loss: 0.6046 - accuracy: 0.7891 - val_loss: 1.1338 - val_accuracy: 0.5312\n",
      "Epoch 52/150\n",
      "4/4 [==============================] - 0s 91ms/step - loss: 0.5806 - accuracy: 0.8125 - val_loss: 1.1417 - val_accuracy: 0.5312\n",
      "Epoch 53/150\n",
      "4/4 [==============================] - 0s 91ms/step - loss: 0.5577 - accuracy: 0.8281 - val_loss: 1.1469 - val_accuracy: 0.5312\n",
      "Epoch 54/150\n",
      "4/4 [==============================] - 0s 91ms/step - loss: 0.5667 - accuracy: 0.7969 - val_loss: 1.1544 - val_accuracy: 0.5312\n",
      "Epoch 55/150\n",
      "4/4 [==============================] - 0s 96ms/step - loss: 0.5169 - accuracy: 0.8281 - val_loss: 1.1639 - val_accuracy: 0.5312\n",
      "Epoch 56/150\n",
      "4/4 [==============================] - 0s 91ms/step - loss: 0.5281 - accuracy: 0.7812 - val_loss: 1.1727 - val_accuracy: 0.5312\n",
      "Epoch 57/150\n",
      "4/4 [==============================] - 0s 91ms/step - loss: 0.4941 - accuracy: 0.8203 - val_loss: 1.1846 - val_accuracy: 0.5312\n",
      "Epoch 58/150\n",
      "4/4 [==============================] - 0s 92ms/step - loss: 0.4961 - accuracy: 0.8516 - val_loss: 1.1958 - val_accuracy: 0.5000\n",
      "Epoch 59/150\n",
      "4/4 [==============================] - 0s 89ms/step - loss: 0.4808 - accuracy: 0.8438 - val_loss: 1.2040 - val_accuracy: 0.5000\n",
      "Epoch 60/150\n",
      "4/4 [==============================] - 0s 91ms/step - loss: 0.4677 - accuracy: 0.8516 - val_loss: 1.2115 - val_accuracy: 0.5000\n",
      "Epoch 61/150\n",
      "4/4 [==============================] - 0s 92ms/step - loss: 0.4627 - accuracy: 0.8516 - val_loss: 1.2241 - val_accuracy: 0.4688\n",
      "Epoch 62/150\n",
      "4/4 [==============================] - 0s 87ms/step - loss: 0.4517 - accuracy: 0.8359 - val_loss: 1.2353 - val_accuracy: 0.4688\n",
      "Epoch 63/150\n",
      "4/4 [==============================] - 0s 94ms/step - loss: 0.4386 - accuracy: 0.8828 - val_loss: 1.2429 - val_accuracy: 0.4688\n",
      "Epoch 64/150\n",
      "4/4 [==============================] - 0s 93ms/step - loss: 0.4335 - accuracy: 0.8516 - val_loss: 1.2589 - val_accuracy: 0.4688\n",
      "Epoch 65/150\n",
      "4/4 [==============================] - 0s 89ms/step - loss: 0.4324 - accuracy: 0.8984 - val_loss: 1.2705 - val_accuracy: 0.4688\n",
      "Epoch 66/150\n",
      "4/4 [==============================] - 0s 88ms/step - loss: 0.3945 - accuracy: 0.8828 - val_loss: 1.2776 - val_accuracy: 0.4688\n",
      "Epoch 67/150\n",
      "4/4 [==============================] - 0s 95ms/step - loss: 0.3791 - accuracy: 0.8984 - val_loss: 1.2851 - val_accuracy: 0.5000\n",
      "Epoch 68/150\n",
      "4/4 [==============================] - 0s 96ms/step - loss: 0.3660 - accuracy: 0.9062 - val_loss: 1.3139 - val_accuracy: 0.4688\n",
      "Epoch 69/150\n",
      "4/4 [==============================] - 0s 92ms/step - loss: 0.3685 - accuracy: 0.9141 - val_loss: 1.3438 - val_accuracy: 0.4375\n",
      "Epoch 70/150\n",
      "4/4 [==============================] - 0s 89ms/step - loss: 0.3482 - accuracy: 0.9062 - val_loss: 1.3683 - val_accuracy: 0.4375\n",
      "Epoch 71/150\n",
      "4/4 [==============================] - 0s 92ms/step - loss: 0.3064 - accuracy: 0.9297 - val_loss: 1.3822 - val_accuracy: 0.4375\n",
      "Epoch 72/150\n",
      "4/4 [==============================] - 0s 92ms/step - loss: 0.3188 - accuracy: 0.9219 - val_loss: 1.3837 - val_accuracy: 0.4375\n",
      "Epoch 73/150\n",
      "4/4 [==============================] - 0s 88ms/step - loss: 0.2938 - accuracy: 0.9531 - val_loss: 1.3773 - val_accuracy: 0.4688\n",
      "Epoch 74/150\n",
      "4/4 [==============================] - 0s 91ms/step - loss: 0.3086 - accuracy: 0.9297 - val_loss: 1.3650 - val_accuracy: 0.5000\n",
      "Epoch 75/150\n",
      "4/4 [==============================] - 0s 87ms/step - loss: 0.2932 - accuracy: 0.9297 - val_loss: 1.3743 - val_accuracy: 0.5000\n",
      "Epoch 76/150\n",
      "4/4 [==============================] - 0s 89ms/step - loss: 0.2747 - accuracy: 0.9453 - val_loss: 1.3851 - val_accuracy: 0.5000\n",
      "Epoch 77/150\n",
      "4/4 [==============================] - 0s 88ms/step - loss: 0.2552 - accuracy: 0.9531 - val_loss: 1.4000 - val_accuracy: 0.5000\n",
      "Epoch 78/150\n",
      "4/4 [==============================] - 0s 113ms/step - loss: 0.2694 - accuracy: 0.9453 - val_loss: 1.4131 - val_accuracy: 0.5000\n",
      "Epoch 79/150\n",
      "4/4 [==============================] - 0s 94ms/step - loss: 0.2419 - accuracy: 0.9609 - val_loss: 1.4166 - val_accuracy: 0.5000\n",
      "Epoch 80/150\n",
      "4/4 [==============================] - 0s 92ms/step - loss: 0.2149 - accuracy: 0.9453 - val_loss: 1.4082 - val_accuracy: 0.5312\n",
      "Epoch 81/150\n",
      "4/4 [==============================] - 0s 89ms/step - loss: 0.2185 - accuracy: 0.9453 - val_loss: 1.4211 - val_accuracy: 0.5312\n",
      "Epoch 82/150\n",
      "4/4 [==============================] - 0s 90ms/step - loss: 0.2092 - accuracy: 0.9688 - val_loss: 1.4147 - val_accuracy: 0.5625\n",
      "Epoch 83/150\n",
      "4/4 [==============================] - 0s 89ms/step - loss: 0.2184 - accuracy: 0.9688 - val_loss: 1.4279 - val_accuracy: 0.5625\n",
      "Epoch 84/150\n",
      "4/4 [==============================] - 0s 88ms/step - loss: 0.2054 - accuracy: 0.9531 - val_loss: 1.4297 - val_accuracy: 0.5312\n",
      "Epoch 85/150\n",
      "4/4 [==============================] - 0s 90ms/step - loss: 0.1819 - accuracy: 0.9688 - val_loss: 1.4324 - val_accuracy: 0.5625\n",
      "Epoch 86/150\n",
      "4/4 [==============================] - 0s 89ms/step - loss: 0.1752 - accuracy: 0.9688 - val_loss: 1.4284 - val_accuracy: 0.5625\n",
      "Epoch 87/150\n",
      "4/4 [==============================] - 0s 91ms/step - loss: 0.1665 - accuracy: 0.9609 - val_loss: 1.4054 - val_accuracy: 0.5938\n",
      "Epoch 88/150\n",
      "4/4 [==============================] - 0s 92ms/step - loss: 0.1596 - accuracy: 0.9766 - val_loss: 1.4432 - val_accuracy: 0.5938\n",
      "Epoch 89/150\n",
      "4/4 [==============================] - 0s 92ms/step - loss: 0.1656 - accuracy: 0.9688 - val_loss: 1.4485 - val_accuracy: 0.5625\n",
      "Epoch 90/150\n",
      "4/4 [==============================] - 0s 91ms/step - loss: 0.1543 - accuracy: 0.9609 - val_loss: 1.4399 - val_accuracy: 0.5938\n",
      "Epoch 91/150\n",
      "4/4 [==============================] - 0s 92ms/step - loss: 0.1617 - accuracy: 0.9688 - val_loss: 1.4158 - val_accuracy: 0.5938\n",
      "Epoch 92/150\n",
      "4/4 [==============================] - 0s 95ms/step - loss: 0.1530 - accuracy: 0.9766 - val_loss: 1.3945 - val_accuracy: 0.5938\n",
      "Epoch 93/150\n",
      "4/4 [==============================] - 0s 91ms/step - loss: 0.1404 - accuracy: 0.9766 - val_loss: 1.3966 - val_accuracy: 0.5625\n",
      "Epoch 94/150\n",
      "4/4 [==============================] - 0s 94ms/step - loss: 0.1165 - accuracy: 0.9844 - val_loss: 1.4203 - val_accuracy: 0.5312\n",
      "Epoch 95/150\n",
      "4/4 [==============================] - 0s 93ms/step - loss: 0.1431 - accuracy: 0.9844 - val_loss: 1.4252 - val_accuracy: 0.5625\n",
      "Epoch 96/150\n",
      "4/4 [==============================] - 0s 92ms/step - loss: 0.1359 - accuracy: 0.9844 - val_loss: 1.4297 - val_accuracy: 0.5312\n",
      "Epoch 97/150\n",
      "4/4 [==============================] - 0s 96ms/step - loss: 0.1175 - accuracy: 0.9844 - val_loss: 1.4998 - val_accuracy: 0.5000\n",
      "Epoch 98/150\n",
      "4/4 [==============================] - 0s 92ms/step - loss: 0.1213 - accuracy: 0.9766 - val_loss: 1.5187 - val_accuracy: 0.5000\n",
      "Epoch 99/150\n",
      "4/4 [==============================] - 0s 97ms/step - loss: 0.0977 - accuracy: 0.9922 - val_loss: 1.5261 - val_accuracy: 0.5312\n",
      "Epoch 100/150\n",
      "4/4 [==============================] - 0s 94ms/step - loss: 0.1049 - accuracy: 0.9844 - val_loss: 1.6337 - val_accuracy: 0.5000\n",
      "Epoch 101/150\n",
      "4/4 [==============================] - 0s 94ms/step - loss: 0.1137 - accuracy: 0.9766 - val_loss: 1.5478 - val_accuracy: 0.5625\n",
      "Epoch 102/150\n",
      "4/4 [==============================] - 0s 91ms/step - loss: 0.1055 - accuracy: 0.9844 - val_loss: 1.5548 - val_accuracy: 0.5625\n",
      "Epoch 103/150\n",
      "4/4 [==============================] - 0s 91ms/step - loss: 0.0884 - accuracy: 0.9844 - val_loss: 1.6571 - val_accuracy: 0.5312\n",
      "Epoch 104/150\n",
      "4/4 [==============================] - 0s 91ms/step - loss: 0.0954 - accuracy: 0.9844 - val_loss: 1.6642 - val_accuracy: 0.5312\n",
      "Epoch 105/150\n",
      "4/4 [==============================] - 0s 92ms/step - loss: 0.1048 - accuracy: 0.9844 - val_loss: 1.6729 - val_accuracy: 0.5312\n",
      "Epoch 106/150\n",
      "4/4 [==============================] - 0s 89ms/step - loss: 0.0992 - accuracy: 0.9844 - val_loss: 1.6814 - val_accuracy: 0.5312\n",
      "Epoch 107/150\n",
      "4/4 [==============================] - 0s 87ms/step - loss: 0.0776 - accuracy: 0.9922 - val_loss: 1.6909 - val_accuracy: 0.5312\n",
      "Epoch 108/150\n",
      "4/4 [==============================] - 0s 91ms/step - loss: 0.0725 - accuracy: 0.9844 - val_loss: 1.6988 - val_accuracy: 0.5000\n",
      "Epoch 109/150\n",
      "4/4 [==============================] - 0s 93ms/step - loss: 0.0764 - accuracy: 0.9766 - val_loss: 1.7138 - val_accuracy: 0.5000\n",
      "Epoch 110/150\n",
      "4/4 [==============================] - 0s 90ms/step - loss: 0.0599 - accuracy: 0.9922 - val_loss: 1.7330 - val_accuracy: 0.5000\n",
      "Epoch 111/150\n",
      "4/4 [==============================] - 0s 100ms/step - loss: 0.0716 - accuracy: 0.9922 - val_loss: 1.7500 - val_accuracy: 0.5000\n",
      "Epoch 112/150\n",
      "4/4 [==============================] - 0s 96ms/step - loss: 0.0676 - accuracy: 0.9844 - val_loss: 1.7703 - val_accuracy: 0.5000\n",
      "Epoch 113/150\n",
      "4/4 [==============================] - 0s 110ms/step - loss: 0.0647 - accuracy: 0.9922 - val_loss: 1.7918 - val_accuracy: 0.5000\n",
      "Epoch 114/150\n",
      "4/4 [==============================] - 0s 108ms/step - loss: 0.0615 - accuracy: 0.9844 - val_loss: 1.8106 - val_accuracy: 0.5000\n",
      "Epoch 115/150\n",
      "4/4 [==============================] - 0s 95ms/step - loss: 0.0662 - accuracy: 0.9922 - val_loss: 1.8234 - val_accuracy: 0.5000\n",
      "Epoch 116/150\n",
      "4/4 [==============================] - 0s 97ms/step - loss: 0.0503 - accuracy: 0.9922 - val_loss: 1.8381 - val_accuracy: 0.5000\n",
      "Epoch 117/150\n",
      "4/4 [==============================] - 0s 110ms/step - loss: 0.0541 - accuracy: 0.9922 - val_loss: 1.8501 - val_accuracy: 0.5000\n",
      "Epoch 118/150\n",
      "4/4 [==============================] - 0s 98ms/step - loss: 0.0470 - accuracy: 0.9922 - val_loss: 1.8548 - val_accuracy: 0.5000\n",
      "Epoch 119/150\n",
      "4/4 [==============================] - 0s 94ms/step - loss: 0.0404 - accuracy: 0.9922 - val_loss: 1.8614 - val_accuracy: 0.5000\n",
      "Epoch 120/150\n",
      "4/4 [==============================] - 0s 93ms/step - loss: 0.0476 - accuracy: 0.9922 - val_loss: 1.8763 - val_accuracy: 0.5000\n",
      "Epoch 121/150\n",
      "4/4 [==============================] - 0s 95ms/step - loss: 0.0407 - accuracy: 0.9922 - val_loss: 1.8882 - val_accuracy: 0.5000\n",
      "Epoch 122/150\n",
      "4/4 [==============================] - 0s 95ms/step - loss: 0.0481 - accuracy: 0.9922 - val_loss: 1.8937 - val_accuracy: 0.5000\n",
      "Epoch 123/150\n",
      "4/4 [==============================] - 0s 96ms/step - loss: 0.0423 - accuracy: 0.9922 - val_loss: 1.8962 - val_accuracy: 0.5000\n",
      "Epoch 124/150\n",
      "4/4 [==============================] - 0s 91ms/step - loss: 0.0420 - accuracy: 0.9922 - val_loss: 1.8991 - val_accuracy: 0.5000\n",
      "Epoch 125/150\n",
      "4/4 [==============================] - 0s 90ms/step - loss: 0.0394 - accuracy: 0.9922 - val_loss: 1.9084 - val_accuracy: 0.4688\n",
      "Epoch 126/150\n",
      "4/4 [==============================] - 0s 89ms/step - loss: 0.0492 - accuracy: 0.9844 - val_loss: 1.8672 - val_accuracy: 0.5000\n",
      "Epoch 127/150\n",
      "4/4 [==============================] - 0s 88ms/step - loss: 0.0761 - accuracy: 0.9844 - val_loss: 1.8380 - val_accuracy: 0.5312\n",
      "Epoch 128/150\n",
      "4/4 [==============================] - 0s 91ms/step - loss: 0.1665 - accuracy: 0.9531 - val_loss: 1.7308 - val_accuracy: 0.4688\n",
      "Epoch 129/150\n",
      "4/4 [==============================] - 0s 88ms/step - loss: 0.1227 - accuracy: 0.9531 - val_loss: 1.6149 - val_accuracy: 0.5000\n",
      "Epoch 130/150\n",
      "4/4 [==============================] - 0s 89ms/step - loss: 0.1160 - accuracy: 0.9688 - val_loss: 1.6671 - val_accuracy: 0.5000\n",
      "Epoch 131/150\n",
      "4/4 [==============================] - 0s 86ms/step - loss: 0.1111 - accuracy: 0.9766 - val_loss: 1.7329 - val_accuracy: 0.5312\n",
      "Epoch 132/150\n",
      "4/4 [==============================] - 0s 88ms/step - loss: 0.0749 - accuracy: 0.9766 - val_loss: 1.7494 - val_accuracy: 0.5312\n",
      "Epoch 133/150\n",
      "4/4 [==============================] - 0s 88ms/step - loss: 0.0625 - accuracy: 0.9844 - val_loss: 1.6559 - val_accuracy: 0.5312\n",
      "Epoch 134/150\n",
      "4/4 [==============================] - 0s 87ms/step - loss: 0.0848 - accuracy: 0.9766 - val_loss: 1.6783 - val_accuracy: 0.5625\n",
      "Epoch 135/150\n",
      "4/4 [==============================] - 0s 89ms/step - loss: 0.0512 - accuracy: 0.9922 - val_loss: 1.6716 - val_accuracy: 0.5625\n",
      "Epoch 136/150\n",
      "4/4 [==============================] - 0s 90ms/step - loss: 0.0544 - accuracy: 0.9922 - val_loss: 1.6567 - val_accuracy: 0.5625\n",
      "Epoch 137/150\n",
      "4/4 [==============================] - 0s 90ms/step - loss: 0.0605 - accuracy: 0.9844 - val_loss: 1.6525 - val_accuracy: 0.5625\n",
      "Epoch 138/150\n",
      "4/4 [==============================] - 0s 88ms/step - loss: 0.0439 - accuracy: 0.9922 - val_loss: 1.6600 - val_accuracy: 0.5625\n",
      "Epoch 139/150\n",
      "4/4 [==============================] - 0s 91ms/step - loss: 0.0625 - accuracy: 0.9844 - val_loss: 1.6657 - val_accuracy: 0.5625\n",
      "Epoch 140/150\n",
      "4/4 [==============================] - 0s 91ms/step - loss: 0.0396 - accuracy: 0.9922 - val_loss: 1.6706 - val_accuracy: 0.5625\n",
      "Epoch 141/150\n",
      "4/4 [==============================] - 0s 89ms/step - loss: 0.0402 - accuracy: 0.9922 - val_loss: 1.6769 - val_accuracy: 0.5625\n",
      "Epoch 142/150\n",
      "4/4 [==============================] - 0s 86ms/step - loss: 0.0431 - accuracy: 0.9922 - val_loss: 1.6890 - val_accuracy: 0.5312\n",
      "Epoch 143/150\n",
      "4/4 [==============================] - 0s 86ms/step - loss: 0.0425 - accuracy: 0.9922 - val_loss: 1.7001 - val_accuracy: 0.5312\n",
      "Epoch 144/150\n",
      "4/4 [==============================] - 0s 89ms/step - loss: 0.0385 - accuracy: 0.9922 - val_loss: 1.7090 - val_accuracy: 0.5312\n",
      "Epoch 145/150\n",
      "4/4 [==============================] - 0s 88ms/step - loss: 0.0442 - accuracy: 0.9922 - val_loss: 1.7164 - val_accuracy: 0.5312\n",
      "Epoch 146/150\n",
      "4/4 [==============================] - 0s 88ms/step - loss: 0.0426 - accuracy: 0.9922 - val_loss: 1.7208 - val_accuracy: 0.5312\n",
      "Epoch 147/150\n",
      "4/4 [==============================] - 0s 87ms/step - loss: 0.0406 - accuracy: 0.9922 - val_loss: 1.7246 - val_accuracy: 0.5312\n",
      "Epoch 148/150\n",
      "4/4 [==============================] - 0s 88ms/step - loss: 0.0407 - accuracy: 0.9922 - val_loss: 1.7292 - val_accuracy: 0.5625\n",
      "Epoch 149/150\n",
      "4/4 [==============================] - 0s 86ms/step - loss: 0.0369 - accuracy: 1.0000 - val_loss: 1.7344 - val_accuracy: 0.5625\n",
      "Epoch 150/150\n",
      "4/4 [==============================] - 0s 89ms/step - loss: 0.0333 - accuracy: 1.0000 - val_loss: 1.7389 - val_accuracy: 0.5625\n"
     ]
    }
   ],
   "source": [
    "lstm_history = lstm_model.fit(X_train, y_train,\n",
    "                    validation_data=(X_test, y_test),\n",
    "                    batch_size=32, epochs=EPOCHS)"
   ],
   "metadata": {
    "collapsed": false,
    "ExecuteTime": {
     "end_time": "2024-03-09T01:47:33.763317Z",
     "start_time": "2024-03-09T01:46:38.727875600Z"
    }
   },
   "id": "6372c30d3181ba34"
  },
  {
   "cell_type": "code",
   "execution_count": 65,
   "outputs": [
    {
     "data": {
      "text/plain": "<Figure size 640x480 with 2 Axes>",
      "image/png": "[encoded data removed]"
     },
     "metadata": {},
     "output_type": "display_data"
    }
   ],
   "source": [
    "acc_err_plot(lstm_history)"
   ],
   "metadata": {
    "collapsed": false,
    "ExecuteTime": {
     "end_time": "2024-03-09T01:48:14.030712600Z",
     "start_time": "2024-03-09T01:48:13.889706100Z"
    }
   },
   "id": "6edb96dc5c56844"
  },
  {
   "cell_type": "markdown",
   "source": [
    "## Prediction"
   ],
   "metadata": {
    "collapsed": false
   },
   "id": "1b3f42514f565422"
  },
  {
   "cell_type": "code",
   "execution_count": 66,
   "outputs": [],
   "source": [
    "import random"
   ],
   "metadata": {
    "collapsed": false,
    "ExecuteTime": {
     "end_time": "2024-03-09T01:48:16.464063300Z",
     "start_time": "2024-03-09T01:48:16.450388Z"
    }
   },
   "id": "7c00c78bdb61faee"
  },
  {
   "cell_type": "code",
   "execution_count": 67,
   "outputs": [],
   "source": [
    "def find_category(value):\n",
    "  for key, val in category_labelling_map.items():\n",
    "      if val == value:\n",
    "          return key\n",
    "  raise \"Error: Not found this value\""
   ],
   "metadata": {
    "collapsed": false,
    "ExecuteTime": {
     "end_time": "2024-03-09T01:48:17.404960100Z",
     "start_time": "2024-03-09T01:48:17.383951900Z"
    }
   },
   "id": "6a14e2934cf70338"
  },
  {
   "cell_type": "code",
   "execution_count": 68,
   "outputs": [],
   "source": [
    "def prediction_by_model(model):\n",
    "  rnd_test_index = random.randint(0, len(X_test))\n",
    "\n",
    "  x_to_predict = X_test[rnd_test_index]\n",
    "  y_to_predict = y_test[rnd_test_index]\n",
    "  \n",
    "  # add 1 dimension to input data for sample - model.predict() expects a 4d array in this case\n",
    "  x_to_predict = x_to_predict[np.newaxis, ...]\n",
    "  \n",
    "  prediction = model.predict(x_to_predict)\n",
    "  \n",
    "  predicted_index = np.argmax(prediction, axis=1)\n",
    "  \n",
    "  print(f\"Target: {find_category(y_to_predict)}, Predicted label: {find_category(predicted_index)}; test index: {rnd_test_index}\")"
   ],
   "metadata": {
    "collapsed": false,
    "ExecuteTime": {
     "end_time": "2024-03-09T01:48:18.654190100Z",
     "start_time": "2024-03-09T01:48:18.643655100Z"
    }
   },
   "id": "65ef3fdade1e458f"
  },
  {
   "cell_type": "code",
   "execution_count": 79,
   "outputs": [
    {
     "name": "stdout",
     "output_type": "stream",
     "text": [
      "1/1 [==============================] - 0s 15ms/step\n",
      "Target: ambulance, Predicted label: ambulance; test index: 31\n"
     ]
    }
   ],
   "source": [
    "prediction_by_model(cnn_model)"
   ],
   "metadata": {
    "collapsed": false,
    "ExecuteTime": {
     "end_time": "2024-03-09T01:48:39.081758300Z",
     "start_time": "2024-03-09T01:48:39.033309500Z"
    }
   },
   "id": "f55888fede33a4d5"
  },
  {
   "cell_type": "code",
   "execution_count": 80,
   "outputs": [],
   "source": [
    "from sklearn.metrics import (accuracy_score, precision_score, recall_score,\n",
    "                             f1_score, confusion_matrix)"
   ],
   "metadata": {
    "collapsed": false,
    "ExecuteTime": {
     "end_time": "2024-03-09T01:48:43.510195Z",
     "start_time": "2024-03-09T01:48:43.502639900Z"
    }
   },
   "id": "a8f443fd75158867"
  },
  {
   "cell_type": "markdown",
   "source": [
    "# Performance metrics"
   ],
   "metadata": {
    "collapsed": false
   },
   "id": "97b0e3b002aae6e7"
  },
  {
   "cell_type": "code",
   "execution_count": 147,
   "outputs": [
    {
     "name": "stdout",
     "output_type": "stream",
     "text": [
      "1/1 [==============================] - 0s 18ms/step\n",
      "Accuracy: 0.71875\n",
      "Precision: 0.7542613636363636\n",
      "Recall: 0.71875\n",
      "F1 Score: 0.7221840659340659\n"
     ]
    }
   ],
   "source": [
    "y_pred = cnn_model.predict(X_test)\n",
    "y_pred_classes = np.argmax(y_pred, axis=1)\n",
    "\n",
    "accuracy_cnn = accuracy_score(y_test, y_pred_classes)\n",
    "precision_cnn = precision_score(y_test, y_pred_classes, average='weighted')\n",
    "recall_cnn = recall_score(y_test, y_pred_classes, average='weighted')\n",
    "f1_cnn = f1_score(y_test, y_pred_classes, average='weighted')\n",
    "conf_matx_cnn = confusion_matrix(y_test, y_pred_classes)\n",
    "\n",
    "print(f\"Accuracy: {accuracy_cnn}\")\n",
    "print(f\"Precision: {precision_cnn}\")\n",
    "print(f\"Recall: {recall_cnn}\")\n",
    "print(f\"F1 Score: {f1_cnn}\")"
   ],
   "metadata": {
    "collapsed": false,
    "ExecuteTime": {
     "end_time": "2024-03-09T03:16:54.669646600Z",
     "start_time": "2024-03-09T03:16:54.611433900Z"
    }
   },
   "id": "ee750e890cbc87b5"
  },
  {
   "cell_type": "code",
   "execution_count": 148,
   "outputs": [
    {
     "name": "stdout",
     "output_type": "stream",
     "text": [
      "1/1 [==============================] - 0s 48ms/step\n",
      "Accuracy: 0.5625\n",
      "Precision: 0.6196428571428572\n",
      "Recall: 0.5625\n",
      "F1 Score: 0.5743055555555555\n"
     ]
    }
   ],
   "source": [
    "y_pred = lstm_model.predict(X_test)\n",
    "y_pred_classes = np.argmax(y_pred, axis=1)\n",
    "\n",
    "accuracy_lstm = accuracy_score(y_test, y_pred_classes)\n",
    "precision_lstm = precision_score(y_test, y_pred_classes, average='weighted')\n",
    "recall_lstm = recall_score(y_test, y_pred_classes, average='weighted')\n",
    "f1_lstm = f1_score(y_test, y_pred_classes, average='weighted')\n",
    "conf_matx_lstm = confusion_matrix(y_test, y_pred_classes)\n",
    "\n",
    "print(f\"Accuracy: {accuracy_lstm}\")\n",
    "print(f\"Precision: {precision_lstm}\")\n",
    "print(f\"Recall: {recall_lstm}\")\n",
    "print(f\"F1 Score: {f1_lstm}\")"
   ],
   "metadata": {
    "collapsed": false,
    "ExecuteTime": {
     "end_time": "2024-03-09T03:17:10.858574100Z",
     "start_time": "2024-03-09T03:17:10.741235300Z"
    }
   },
   "id": "dbe2c985a54805e6"
  },
  {
   "cell_type": "code",
   "execution_count": 150,
   "outputs": [
    {
     "name": "stdout",
     "output_type": "stream",
     "text": [
      "Accuracy: 0.53125\n",
      "Precision: 0.5942982456140351\n",
      "Recall: 0.53125\n",
      "F1 Score: 0.530241935483871\n"
     ]
    }
   ],
   "source": [
    "accuracy_svm = accuracy_score(y_test, svm_predictions)\n",
    "precision_svm = precision_score(y_test, svm_predictions, average='weighted')\n",
    "recall_svm = recall_score(y_test, svm_predictions, average='weighted')\n",
    "f1_svm = f1_score(y_test, svm_predictions, average='weighted')\n",
    "\n",
    "conf_matx_svm = confusion_matrix(y_test, svm_predictions)\n",
    "\n",
    "print(f\"Accuracy: {accuracy_svm}\")\n",
    "print(f\"Precision: {precision_svm}\")\n",
    "print(f\"Recall: {recall_svm}\")\n",
    "print(f\"F1 Score: {f1_svm}\")"
   ],
   "metadata": {
    "collapsed": false,
    "ExecuteTime": {
     "end_time": "2024-03-09T03:18:51.175054Z",
     "start_time": "2024-03-09T03:18:51.115855Z"
    }
   },
   "id": "2766d611a77f2956"
  },
  {
   "cell_type": "code",
   "execution_count": 151,
   "outputs": [
    {
     "name": "stdout",
     "output_type": "stream",
     "text": [
      "Accuracy: 0.65625\n",
      "Precision: 0.6865530303030303\n",
      "Recall: 0.65625\n",
      "F1 Score: 0.6496394230769231\n"
     ]
    }
   ],
   "source": [
    "accuracy_lr = accuracy_score(y_test, lr_predictions)\n",
    "precision_lr = precision_score(y_test, lr_predictions, average='weighted')\n",
    "recall_lr = recall_score(y_test, lr_predictions, average='weighted')\n",
    "f1_lr = f1_score(y_test, lr_predictions, average='weighted')\n",
    "\n",
    "conf_matx_lr = confusion_matrix(y_test, lr_predictions)\n",
    "\n",
    "print(f\"Accuracy: {accuracy_lr}\")\n",
    "print(f\"Precision: {precision_lr}\")\n",
    "print(f\"Recall: {recall_lr}\")\n",
    "print(f\"F1 Score: {f1_lr}\")"
   ],
   "metadata": {
    "collapsed": false,
    "ExecuteTime": {
     "end_time": "2024-03-09T03:18:52.111582Z",
     "start_time": "2024-03-09T03:18:52.053735500Z"
    }
   },
   "id": "183f2eeaa264656a"
  },
  {
   "cell_type": "code",
   "execution_count": 152,
   "outputs": [
    {
     "name": "stdout",
     "output_type": "stream",
     "text": [
      "Accuracy: 0.40625\n",
      "Precision: 0.41515151515151516\n",
      "Recall: 0.40625\n",
      "F1 Score: 0.40377331002331\n"
     ]
    }
   ],
   "source": [
    "accuracy_dt = accuracy_score(y_test, dt_predictions)\n",
    "precision_dt = precision_score(y_test, dt_predictions, average='weighted')\n",
    "recall_dt = recall_score(y_test, dt_predictions, average='weighted')\n",
    "f1_dt = f1_score(y_test, dt_predictions, average='weighted')\n",
    "\n",
    "conf_matx_dt = confusion_matrix(y_test, dt_predictions)\n",
    "\n",
    "print(f\"Accuracy: {accuracy_dt}\")\n",
    "print(f\"Precision: {precision_dt}\")\n",
    "print(f\"Recall: {recall_dt}\")\n",
    "print(f\"F1 Score: {f1_dt}\")"
   ],
   "metadata": {
    "collapsed": false,
    "ExecuteTime": {
     "end_time": "2024-03-09T03:18:52.660002Z",
     "start_time": "2024-03-09T03:18:52.634002300Z"
    }
   },
   "id": "8f6206d38d3b00ea"
  },
  {
   "cell_type": "markdown",
   "source": [
    "## Performance metrics graph"
   ],
   "metadata": {
    "collapsed": false
   },
   "id": "4d66b42e74c2e8d7"
  },
  {
   "cell_type": "code",
   "execution_count": 153,
   "outputs": [],
   "source": [
    "labels = ['Accuracy', 'Precision', 'Recall', 'F1 Score']\n",
    "performance_metrics = {\n",
    "  'SVM': [accuracy_svm, precision_svm, recall_svm, f1_svm],\n",
    "  'LR': [accuracy_lr, precision_lr, recall_lr, f1_lr],\n",
    "  'DT': [accuracy_dt, precision_dt, recall_dt, f1_dt],\n",
    "  'CNN': [accuracy_cnn, precision_cnn, recall_cnn, f1_cnn],\n",
    "  'LSTM': [accuracy_lstm, precision_lstm, recall_lstm, f1_lstm],\n",
    "}"
   ],
   "metadata": {
    "collapsed": false,
    "ExecuteTime": {
     "end_time": "2024-03-09T03:18:54.500817900Z",
     "start_time": "2024-03-09T03:18:54.444817800Z"
    }
   },
   "id": "b5ac183a28846471"
  },
  {
   "cell_type": "code",
   "execution_count": 139,
   "outputs": [
    {
     "data": {
      "text/plain": "<Figure size 640x480 with 1 Axes>",
      "image/png": "[encoded data removed]"
     },
     "metadata": {},
     "output_type": "display_data"
    }
   ],
   "source": [
    "x = np.arange(4)  # total performance metrics\n",
    "width = 0.17\n",
    "\n",
    "\n",
    "\n",
    "fig, ax = plt.subplots()\n",
    "# ax.bar(x - width/2, performance_metrics['CNN'], width, label='CNN')\n",
    "# ax.bar(x + width/2, performance_metrics['Decision Tree'], width, label='Decision Tree')\n",
    "# ax.bar(x + width/2, performance_metrics['Decision Tree'], width, label='Decision Tree')\n",
    "# ax.bar(x + width/2, performance_metrics['Decision Tree'], width, label='Decision Tree')\n",
    "\n",
    "for i, name in enumerate([\"SVM\", \"LR\", \"DT\", \"CNN\", \"LSTM\"]):\n",
    "    ax.bar(x + width*i, performance_metrics[name], width, label=name)\n",
    "\n",
    "ax.set_ylabel('Scores')\n",
    "ax.set_title('Performance Metrics Comparison')\n",
    "ax.set_xticks(x + width * 1.5)\n",
    "ax.set_xticklabels(labels)\n",
    "ax.legend()\n",
    "\n",
    "fig.tight_layout()\n",
    "\n",
    "plt.show()\n",
    "\n",
    "ax.set_ylabel('Scores')\n",
    "ax.set_title('Performance Metrics Comparison')\n",
    "ax.set_xticks(x)\n",
    "ax.set_xticklabels(labels)\n",
    "ax.legend()\n",
    "\n",
    "fig.tight_layout()\n",
    "\n",
    "plt.show()"
   ],
   "metadata": {
    "collapsed": false,
    "ExecuteTime": {
     "end_time": "2024-03-09T03:11:21.494350800Z",
     "start_time": "2024-03-09T03:11:21.338458800Z"
    }
   },
   "id": "a0b7d0c825540ed8"
  },
  {
   "cell_type": "markdown",
   "source": [
    "# Confusion matrix"
   ],
   "metadata": {
    "collapsed": false
   },
   "id": "929b72f3afc8fc25"
  },
  {
   "cell_type": "code",
   "execution_count": 155,
   "outputs": [],
   "source": [
    "import seaborn as sns"
   ],
   "metadata": {
    "collapsed": false,
    "ExecuteTime": {
     "end_time": "2024-03-09T03:24:54.888535500Z",
     "start_time": "2024-03-09T03:24:54.800194900Z"
    }
   },
   "id": "202fbc78984a7321"
  },
  {
   "cell_type": "code",
   "execution_count": 160,
   "outputs": [
    {
     "data": {
      "text/plain": "<Figure size 1200x1500 with 11 Axes>",
      "image/png": "[encoded data removed]"
     },
     "metadata": {},
     "output_type": "display_data"
    }
   ],
   "source": [
    "fig, axes = plt.subplots(3, 2, figsize=(12, 15))\n",
    "\n",
    "# CNN Confusion Matrix\n",
    "sns.heatmap(conf_matx_cnn, annot=True, fmt='d', cmap='Blues', ax=axes[0, 0])\n",
    "# axes[0 0].imshow(conf_matx_cnn, interpolation='nearest', cmap=plt.cm.Blues)\n",
    "axes[0,0].set_title('CNN Confusion Matrix')\n",
    "axes[0,0].set_xlabel('Predicted')\n",
    "axes[0,0].set_ylabel('True')\n",
    "\n",
    "# LSTM Confusion Matrix\n",
    "sns.heatmap(conf_matx_lstm, annot=True, fmt='d', cmap='Blues', ax=axes[0, 1])\n",
    "# axes[0 1].imshow(conf_matx_lstm, interpolation='nearest', cmap=plt.cm.Blues)\n",
    "axes[0,1].set_title('LSTM Confusion Matrix')\n",
    "axes[0,1].set_xlabel('Predicted')\n",
    "axes[0,1].set_ylabel('True')\n",
    "\n",
    "# Decision Tree Confusion Matrix\n",
    "sns.heatmap(conf_matx_dt, annot=True, fmt='d', cmap='Blues', ax=axes[1, 0])\n",
    "# axes[1,0].imshow(conf_matx_dt, interpolation='nearest', cmap=plt.cm.Blues)\n",
    "axes[1,0].set_title('Decision Tree Confusion Matrix')\n",
    "axes[1,0].set_xlabel('Predicted')\n",
    "axes[1,0].set_ylabel('True')\n",
    "\n",
    "# Logistic Regression Confusion Matrix\n",
    "sns.heatmap(conf_matx_lr, annot=True, fmt='d', cmap='Blues', ax=axes[1, 1])\n",
    "# axes[1,1].imshow(conf_matx_lr, interpolation='nearest', cmap=plt.cm.Blues)\n",
    "axes[1,1].set_title('Logistic Regression Confusion Matrix')\n",
    "axes[1,1].set_xlabel('Predicted')\n",
    "axes[1,1].set_ylabel('True')\n",
    "\n",
    "# Logistic Regression Confusion Matrix\n",
    "sns.heatmap(conf_matx_svm, annot=True, fmt='d', cmap='Blues', ax=axes[2, 0])\n",
    "# axes[1,1].imshow(conf_matx_lr, interpolation='nearest', cmap=plt.cm.Blues)\n",
    "axes[2,0].set_title('SVM Confusion Matrix')\n",
    "axes[2,0].set_xlabel('Predicted')\n",
    "axes[2,0].set_ylabel('True')\n",
    "\n",
    "plt.tight_layout()\n",
    "plt.show()"
   ],
   "metadata": {
    "collapsed": false,
    "ExecuteTime": {
     "end_time": "2024-03-09T03:30:38.085697100Z",
     "start_time": "2024-03-09T03:30:37.398510900Z"
    }
   },
   "id": "dd008f9d165fd12c"
  }
 ],
 "metadata": {
  "kernelspec": {
   "display_name": "Python 3",
   "language": "python",
   "name": "python3"
  },
  "language_info": {
   "codemirror_mode": {
    "name": "ipython",
    "version": 2
   },
   "file_extension": ".py",
   "mimetype": "text/x-python",
   "name": "python",
   "nbconvert_exporter": "python",
   "pygments_lexer": "ipython2",
   "version": "2.7.6"
  }
 },
 "nbformat": 4,
 "nbformat_minor": 5
}
