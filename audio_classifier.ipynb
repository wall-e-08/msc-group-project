{
 "cells": [
  {
   "cell_type": "markdown",
   "id": "3b0d1533f003f65f",
   "metadata": {
    "collapsed": false
   },
   "source": [
    "# Audio signal pre-processing\n",
    "\n",
    "Audio signal data will be converted into time domain features and frequency domain features"
   ]
  },
  {
   "cell_type": "code",
   "execution_count": 1,
   "outputs": [
    {
     "name": "stderr",
     "output_type": "stream",
     "text": [
      "2024-04-30 01:35:17.203872: I tensorflow/core/util/port.cc:113] oneDNN custom operations are on. You may see slightly different numerical results due to floating-point round-off errors from different computation orders. To turn them off, set the environment variable `TF_ENABLE_ONEDNN_OPTS=0`.\n",
      "2024-04-30 01:35:17.205339: I external/local_tsl/tsl/cuda/cudart_stub.cc:31] Could not find cuda drivers on your machine, GPU will not be used.\n",
      "2024-04-30 01:35:17.227756: E external/local_xla/xla/stream_executor/cuda/cuda_dnn.cc:9261] Unable to register cuDNN factory: Attempting to register factory for plugin cuDNN when one has already been registered\n",
      "2024-04-30 01:35:17.227778: E external/local_xla/xla/stream_executor/cuda/cuda_fft.cc:607] Unable to register cuFFT factory: Attempting to register factory for plugin cuFFT when one has already been registered\n",
      "2024-04-30 01:35:17.228533: E external/local_xla/xla/stream_executor/cuda/cuda_blas.cc:1515] Unable to register cuBLAS factory: Attempting to register factory for plugin cuBLAS when one has already been registered\n",
      "2024-04-30 01:35:17.232679: I external/local_tsl/tsl/cuda/cudart_stub.cc:31] Could not find cuda drivers on your machine, GPU will not be used.\n",
      "2024-04-30 01:35:17.233489: I tensorflow/core/platform/cpu_feature_guard.cc:182] This TensorFlow binary is optimized to use available CPU instructions in performance-critical operations.\n",
      "To enable the following instructions: AVX2 AVX_VNNI FMA, in other operations, rebuild TensorFlow with the appropriate compiler flags.\n",
      "2024-04-30 01:35:17.667700: W tensorflow/compiler/tf2tensorrt/utils/py_utils.cc:38] TF-TRT Warning: Could not find TensorRT\n"
     ]
    }
   ],
   "source": [
    "import os\n",
    "import math\n",
    "import random\n",
    "import librosa\n",
    "import numpy as np\n",
    "\n",
    "import matplotlib.pyplot as plt\n",
    "import seaborn as sns\n",
    "\n",
    "from sklearn.metrics import (accuracy_score, precision_score, recall_score,\n",
    "                             f1_score, confusion_matrix)\n",
    "from sklearn.model_selection import train_test_split\n",
    "from sklearn.svm import SVC\n",
    "from sklearn.linear_model import LogisticRegression\n",
    "from sklearn.tree import DecisionTreeClassifier\n",
    "\n",
    "from tensorflow.keras.layers import LSTM\n",
    "from tensorflow.keras import Sequential, optimizers\n",
    "from tensorflow.keras.optimizers import Adam\n",
    "from tensorflow.keras.layers import (Conv2D, MaxPooling2D, BatchNormalization,\n",
    "                                     Flatten, Dense, Dropout)"
   ],
   "metadata": {
    "collapsed": false,
    "ExecuteTime": {
     "end_time": "2024-04-30T00:35:17.979359Z",
     "start_time": "2024-04-30T00:35:16.413176300Z"
    }
   },
   "id": "45da5aef276564f"
  },
  {
   "cell_type": "code",
   "execution_count": 2,
   "outputs": [],
   "source": [
    "DATASET_PATH = \"datasets/final_final\"\n",
    "SAMPLE_RATE = 22050\n",
    "TRACK_DURATION = 30  # seconds\n",
    "SAMPLES_PER_TRACK = SAMPLE_RATE * TRACK_DURATION\n",
    "\n",
    "# After analysis. These are the best parameters working best for our audio classes\n",
    "MFCC_NUM = 15\n",
    "FFT_NUM = 4096\n",
    "HOP_LENGTH = 4096\n",
    "SEGMENTS_NUM = 10\n",
    "\n",
    "category_labelling_map = {\n",
    "  \"Ambulance\": 0,\n",
    "  \"Bird\": 1,\n",
    "  \"Engine\": 2,\n",
    "  \"Explosion\": 3,\n",
    "  \"Fire-and-trucks\": 4,\n",
    "  \"Human\": 5,\n",
    "  \"Police\": 6,\n",
    "  \"Rail-transport\": 7,\n",
    "  \"Train-horn\": 8,\n",
    "  \"Vehicle\": 9,\n",
    "}"
   ],
   "metadata": {
    "collapsed": false,
    "ExecuteTime": {
     "end_time": "2024-04-30T00:35:30.552767900Z",
     "start_time": "2024-04-30T00:35:30.546524900Z"
    }
   },
   "id": "692fa31eb95f07c5"
  },
  {
   "cell_type": "markdown",
   "source": [
    "## Mel-Spectogram feature extraction on each frame of audio chunks"
   ],
   "metadata": {
    "collapsed": false
   },
   "id": "b9d76c6ae439b0be"
  },
  {
   "cell_type": "code",
   "execution_count": 21,
   "outputs": [],
   "source": [
    "types = {\n",
    "  \"spectogram\": {\"key\": \"spectogram\", \"func\": librosa.feature.melspectrogram},\n",
    "  \"spectogram_db\": {\"key\": \"spectogram_db\", \"func\": librosa.feature.melspectrogram},\n",
    "  \"mfcc\": {\"key\": \"mfcc\", \"func\": librosa.feature.mfcc}\n",
    "}\n",
    "\n",
    "def get_mfcc_spectogram(_path, _type, sr=SAMPLE_RATE, fft=FFT_NUM, hl=HOP_LENGTH):\n",
    "  features = {\n",
    "    \"category\": [],\n",
    "    \"labels\": [],\n",
    "    \"data\": []\n",
    "  }\n",
    "  \n",
    "  samples_per_segment = int(SAMPLES_PER_TRACK / SEGMENTS_NUM)\n",
    "  num_per_segment = math.ceil(samples_per_segment / hl)\n",
    "  \n",
    "  for i, f in enumerate(os.listdir(_path)):\n",
    "    file_path = os.path.join(_path, f)\n",
    "    signal, sample_rate = librosa.load(file_path, sr=sr)\n",
    "  \n",
    "    # number of segments based on duration\n",
    "    num_segments = int(len(signal) / SAMPLES_PER_TRACK) + 1\n",
    "  \n",
    "    category = f.split(\"_\")[0]\n",
    "    features[\"category\"].append(category)\n",
    "  \n",
    "    for d in range(num_segments):\n",
    "      start = samples_per_segment * d\n",
    "      finish = start + samples_per_segment\n",
    "\n",
    "      _data = types[_type][\"func\"](y=signal[start:finish],\n",
    "                                  sr=sample_rate, n_fft=fft,\n",
    "                                  hop_length=hl)\n",
    "      if _type == \"spectogram_db\":\n",
    "        _data = librosa.power_to_db(_data)\n",
    "      \n",
    "      _data = _data.T\n",
    "\n",
    "      # store feature only with expected number of vectors\n",
    "      if len(_data) == num_per_segment:\n",
    "        features[\"data\"].append(_data.tolist())\n",
    "        features[\"labels\"].append(category_labelling_map[category])\n",
    "  return features"
   ],
   "metadata": {
    "collapsed": false,
    "ExecuteTime": {
     "end_time": "2024-04-30T00:46:01.059461900Z",
     "start_time": "2024-04-30T00:46:01.027211200Z"
    }
   },
   "id": "bfc4cd28d806095b"
  },
  {
   "cell_type": "code",
   "execution_count": 22,
   "outputs": [],
   "source": [
    "spectogram_feature = get_mfcc_spectogram(DATASET_PATH, types[\"spectogram\"][\"key\"])\n",
    "spectogram_db_feature = get_mfcc_spectogram(DATASET_PATH, types[\"spectogram_db\"][\"key\"])\n",
    "mfcc_feature = get_mfcc_spectogram(DATASET_PATH, types[\"mfcc\"][\"key\"])"
   ],
   "metadata": {
    "collapsed": false,
    "ExecuteTime": {
     "end_time": "2024-04-30T00:46:43.031216800Z",
     "start_time": "2024-04-30T00:46:02.679459300Z"
    }
   },
   "id": "343e71d150beed69"
  },
  {
   "cell_type": "code",
   "execution_count": 24,
   "outputs": [
    {
     "name": "stdout",
     "output_type": "stream",
     "text": [
      "Ambulance entries -> 50\n",
      "Bird entries -> 50\n",
      "Engine entries -> 50\n",
      "Explosion entries -> 50\n",
      "Fire-and-trucks entries -> 50\n",
      "Human entries -> 50\n",
      "Police entries -> 50\n",
      "Rail-transport entries -> 50\n",
      "Train-horn entries -> 50\n",
      "Vehicle entries -> 50\n"
     ]
    }
   ],
   "source": [
    "def find_category(value):\n",
    "  for key, val in category_labelling_map.items():\n",
    "      if val == value:\n",
    "          return key\n",
    "  raise \"Error: Not found this value\"\n",
    "\n",
    "unique_elements, counts = np.unique(mfcc_feature[\"labels\"], return_counts=True)\n",
    "\n",
    "for element, count in zip(unique_elements, counts):\n",
    "  print(f\"{find_category(element)} entries -> {count}\")"
   ],
   "metadata": {
    "collapsed": false,
    "ExecuteTime": {
     "end_time": "2024-04-30T00:48:07.914622200Z",
     "start_time": "2024-04-30T00:48:07.872623300Z"
    }
   },
   "id": "6413af9de8500dd3"
  },
  {
   "cell_type": "markdown",
   "source": [
    "# MFCC feature extraction on each frame of audio chunks"
   ],
   "metadata": {
    "collapsed": false
   },
   "id": "98fe69c2ff646654"
  },
  {
   "cell_type": "markdown",
   "source": [
    "## Algorithms consideration:\n",
    "- SVM\n",
    "- Logistic Regression\n",
    "- Decision Tree\n",
    "- Convolutional Neural Network\n",
    "- LSTM"
   ],
   "metadata": {
    "collapsed": false
   },
   "id": "e302566d29e139e1"
  },
  {
   "cell_type": "code",
   "execution_count": 25,
   "outputs": [],
   "source": [
    "def get_train_test(_feature, _type, is_norm=False, neural=False):\n",
    "  if is_norm:\n",
    "    X = np.array(_feature[\"data_norm\"])\n",
    "  else:\n",
    "    X = np.array(_feature[\"data\"])\n",
    "  y = np.array(_feature[\"labels\"])\n",
    "  print(f\"{_type} {X.shape=}\") # number of samples, frames per sample, features in each frame\n",
    "  \n",
    "  if neural:\n",
    "    X_train, X_test, y_train, y_test =  train_test_split(X, y, test_size=0.2, random_state=42)\n",
    "  \n",
    "    X_train = X_train[..., np.newaxis]\n",
    "    X_test = X_test[..., np.newaxis]\n",
    "    \n",
    "    print(f\"{_type} {X_train.shape=}\")\n",
    "    \n",
    "    return (X_train, X_test, y_train, y_test)\n",
    "  else:\n",
    "    # Reshape X to 2D array where each row represents a sample and each column represents a feature\n",
    "    samples, frames, ft_per_frame = X.shape\n",
    "    X_reshaped = X.reshape(samples, -1)\n",
    "    \n",
    "    print(f\"{_type} {X_reshaped.shape=}\")\n",
    "    \n",
    "    return train_test_split(X_reshaped, y, test_size=0.2, random_state=42)"
   ],
   "metadata": {
    "collapsed": false,
    "ExecuteTime": {
     "end_time": "2024-04-30T00:49:06.789256900Z",
     "start_time": "2024-04-30T00:49:06.780103Z"
    }
   },
   "id": "addcae1ff3218a9f"
  },
  {
   "cell_type": "code",
   "execution_count": 29,
   "outputs": [
    {
     "name": "stdout",
     "output_type": "stream",
     "text": [
      "mfcc X.shape=(500, 17, 20)\n",
      "mfcc X_reshaped.shape=(500, 340)\n",
      "spectogram X.shape=(500, 17, 128)\n",
      "spectogram X_reshaped.shape=(500, 2176)\n",
      "spectogram_db X.shape=(500, 17, 128)\n",
      "spectogram_db X_reshaped.shape=(500, 2176)\n"
     ]
    }
   ],
   "source": [
    "X_train_1_mfcc, X_test_1_mfcc, y_train_1_mfcc, y_test_1_mfcc = get_train_test(\n",
    "  mfcc_feature, types[\"mfcc\"][\"key\"])\n",
    "\n",
    "X_train_1_spect, X_test_1_spect, y_train_1_spect, y_test_1_spect = get_train_test(\n",
    "  spectogram_feature, types[\"spectogram\"][\"key\"])\n",
    "\n",
    "X_train_1_spect_db, X_test_1_spect_db, y_train_1_spect_db, y_test_1_spect_db = get_train_test(\n",
    "  spectogram_feature, types[\"spectogram_db\"][\"key\"])"
   ],
   "metadata": {
    "collapsed": false,
    "ExecuteTime": {
     "end_time": "2024-04-30T00:56:11.925990700Z",
     "start_time": "2024-04-30T00:56:11.874803800Z"
    }
   },
   "id": "884ab626e8015244"
  },
  {
   "cell_type": "code",
   "execution_count": 30,
   "outputs": [
    {
     "data": {
      "text/plain": "(22.353630108258372, 257.7566253091074)"
     },
     "execution_count": 30,
     "metadata": {},
     "output_type": "execute_result"
    }
   ],
   "source": [
    "all_spectrograms = np.array(spectogram_feature[\"data\"])\n",
    "mean = np.mean(all_spectrograms)\n",
    "std = np.std(all_spectrograms)\n",
    "mean, std"
   ],
   "metadata": {
    "collapsed": false,
    "ExecuteTime": {
     "end_time": "2024-04-30T00:56:19.731928800Z",
     "start_time": "2024-04-30T00:56:19.712132600Z"
    }
   },
   "id": "ce93cd826cb490b0"
  },
  {
   "cell_type": "markdown",
   "source": [
    "### Normalizing spectogram features"
   ],
   "metadata": {
    "collapsed": false
   },
   "id": "8d8fff7121d2dd75"
  },
  {
   "cell_type": "code",
   "execution_count": 31,
   "outputs": [
    {
     "name": "stdout",
     "output_type": "stream",
     "text": [
      "spectogram X.shape=(500, 17, 128)\n",
      "spectogram X_reshaped.shape=(500, 2176)\n"
     ]
    }
   ],
   "source": [
    "spectogram_feature[\"data_norm\"] = []\n",
    "for i in range(len(spectogram_feature[\"data\"])):\n",
    "  normalized_spectrogram = (spectogram_feature[\"data\"][i] - mean) / std\n",
    "  spectogram_feature[\"data_norm\"].append(normalized_spectrogram.tolist())\n",
    "\n",
    "X_train_1_spect_norm, X_test_1_spect_norm, y_train_1_spect_norm, y_test_1_spect_norm = get_train_test(\n",
    "  spectogram_feature, types[\"spectogram\"][\"key\"], True)"
   ],
   "metadata": {
    "collapsed": false,
    "ExecuteTime": {
     "end_time": "2024-04-30T00:56:30.930880800Z",
     "start_time": "2024-04-30T00:56:30.872367800Z"
    }
   },
   "id": "bc50be1f7a7728d2"
  },
  {
   "cell_type": "markdown",
   "source": [
    "# Support Vector Machine / SVM"
   ],
   "metadata": {
    "collapsed": false
   },
   "id": "539fd9402b19c5bf"
  },
  {
   "cell_type": "code",
   "execution_count": 34,
   "outputs": [],
   "source": [
    "def _SVM_(_X_train, _X_test, _y_train, _y_test, _C=1.0):\n",
    "  _svm = SVC(kernel='linear', C=_C)\n",
    "  _svm.fit(_X_train, _y_train)\n",
    "  _predictions = _svm.predict(_X_test)\n",
    "  _accuracy = accuracy_score(_y_test, _predictions)\n",
    "  return _svm, _predictions, _accuracy"
   ],
   "metadata": {
    "collapsed": false,
    "ExecuteTime": {
     "end_time": "2024-04-30T00:57:30.296019Z",
     "start_time": "2024-04-30T00:57:30.247193500Z"
    }
   },
   "id": "564df09a20882e7b"
  },
  {
   "cell_type": "code",
   "execution_count": 35,
   "outputs": [
    {
     "data": {
      "text/plain": "0.5"
     },
     "execution_count": 35,
     "metadata": {},
     "output_type": "execute_result"
    }
   ],
   "source": [
    "# Mel Spectogram\n",
    "svm_clf_spect, svm_predictions_spect, svm_accuracy_spect = _SVM_(\n",
    "  X_train_1_spect, X_test_1_spect, y_train_1_spect, y_test_1_spect\n",
    ")\n",
    "svm_accuracy_spect"
   ],
   "metadata": {
    "collapsed": false,
    "ExecuteTime": {
     "end_time": "2024-04-30T00:57:31.065245200Z",
     "start_time": "2024-04-30T00:57:31.000116600Z"
    }
   },
   "id": "4bff854f8db24365"
  },
  {
   "cell_type": "code",
   "execution_count": 37,
   "outputs": [
    {
     "data": {
      "text/plain": "0.54"
     },
     "execution_count": 37,
     "metadata": {},
     "output_type": "execute_result"
    }
   ],
   "source": [
    "# Mel Spectogram (Normalized)\n",
    "svm_clf_spect_norm, svm_predictions_spect_norm, svm_accuracy_spect_norm = _SVM_(\n",
    "  X_train_1_spect_norm, X_test_1_spect_norm, y_train_1_spect_norm, y_test_1_spect_norm\n",
    ")\n",
    "svm_accuracy_spect_norm"
   ],
   "metadata": {
    "collapsed": false,
    "ExecuteTime": {
     "end_time": "2024-04-30T00:59:25.097558700Z",
     "start_time": "2024-04-30T00:59:25.025160400Z"
    }
   },
   "id": "ce3e9a181326c621"
  },
  {
   "cell_type": "code",
   "execution_count": 38,
   "outputs": [
    {
     "data": {
      "text/plain": "0.5"
     },
     "execution_count": 38,
     "metadata": {},
     "output_type": "execute_result"
    }
   ],
   "source": [
    "# Mel Spectogram decibels (dB)\n",
    "svm_clf_spect_db, svm_predictions_spect_db, svm_accuracy_spect_db = _SVM_(\n",
    "  X_train_1_spect_db, X_test_1_spect_db, y_train_1_spect_db, y_test_1_spect_db\n",
    ")\n",
    "svm_accuracy_spect_db"
   ],
   "metadata": {
    "collapsed": false,
    "ExecuteTime": {
     "end_time": "2024-04-30T00:59:45.221005500Z",
     "start_time": "2024-04-30T00:59:45.156480200Z"
    }
   },
   "id": "85bd0b307067f73d"
  },
  {
   "cell_type": "code",
   "execution_count": 36,
   "outputs": [
    {
     "data": {
      "text/plain": "0.59"
     },
     "execution_count": 36,
     "metadata": {},
     "output_type": "execute_result"
    }
   ],
   "source": [
    "# Mel-Frequency Cepstral Coefficients\n",
    "svm_clf_mfcc, svm_predictions_mfcc, svm_accuracy_mfcc = _SVM_(\n",
    "  X_train_1_mfcc, X_test_1_mfcc, y_train_1_mfcc, y_test_1_mfcc)\n",
    "svm_accuracy_mfcc"
   ],
   "metadata": {
    "collapsed": false,
    "ExecuteTime": {
     "end_time": "2024-04-30T00:58:11.756648100Z",
     "start_time": "2024-04-30T00:58:11.719285400Z"
    }
   },
   "id": "e7bf2ab7d30c34f9"
  },
  {
   "cell_type": "markdown",
   "source": [
    "# Logistic Regression Classifier"
   ],
   "metadata": {
    "collapsed": false
   },
   "id": "e0d7e26b9986da66"
  },
  {
   "cell_type": "code",
   "execution_count": 39,
   "outputs": [],
   "source": [
    "def _LR_(_X_train, _X_test, _y_train, _y_test, _max_iter=2000):\n",
    "  _lr = LogisticRegression(max_iter=_max_iter)\n",
    "  _lr.fit(_X_train, _y_train)\n",
    "  _predictions = _lr.predict(_X_test)\n",
    "  _accuracy = accuracy_score(_y_test, _predictions)\n",
    "  return _lr, _predictions, _accuracy"
   ],
   "metadata": {
    "collapsed": false,
    "ExecuteTime": {
     "end_time": "2024-04-30T01:01:27.156994800Z",
     "start_time": "2024-04-30T01:01:27.115721Z"
    }
   },
   "id": "54bdc3efd123a044"
  },
  {
   "cell_type": "code",
   "execution_count": 45,
   "outputs": [
    {
     "name": "stderr",
     "output_type": "stream",
     "text": [
      "/home/debashis/works/msc-group-project-audio/env/lib/python3.10/site-packages/sklearn/linear_model/_logistic.py:469: ConvergenceWarning: lbfgs failed to converge (status=1):\n",
      "STOP: TOTAL NO. of ITERATIONS REACHED LIMIT.\n",
      "\n",
      "Increase the number of iterations (max_iter) or scale the data as shown in:\n",
      "    https://scikit-learn.org/stable/modules/preprocessing.html\n",
      "Please also refer to the documentation for alternative solver options:\n",
      "    https://scikit-learn.org/stable/modules/linear_model.html#logistic-regression\n",
      "  n_iter_i = _check_optimize_result(\n"
     ]
    },
    {
     "data": {
      "text/plain": "0.5"
     },
     "execution_count": 45,
     "metadata": {},
     "output_type": "execute_result"
    }
   ],
   "source": [
    "# Mel Spectogram\n",
    "lr_clf_spect, lr_predictions_spect, lr_accuracy_spect = _LR_(\n",
    "  X_train_1_spect, X_test_1_spect, y_train_1_spect, y_test_1_spect\n",
    ")\n",
    "lr_accuracy_spect"
   ],
   "metadata": {
    "collapsed": false,
    "ExecuteTime": {
     "end_time": "2024-04-30T01:07:28.447096100Z",
     "start_time": "2024-04-30T01:07:07.081815700Z"
    }
   },
   "id": "587dae0721a17562"
  },
  {
   "cell_type": "code",
   "execution_count": 46,
   "outputs": [
    {
     "data": {
      "text/plain": "0.5"
     },
     "execution_count": 46,
     "metadata": {},
     "output_type": "execute_result"
    }
   ],
   "source": [
    "# Mel Spectogram (Normalized)\n",
    "lr_clf_spect_norm, lr_predictions_spect_norm, lr_accuracy_spect_norm = _LR_(\n",
    "  X_train_1_spect_norm, X_test_1_spect_norm, y_train_1_spect_norm, y_test_1_spect_norm\n",
    ")\n",
    "lr_accuracy_spect_norm"
   ],
   "metadata": {
    "collapsed": false,
    "ExecuteTime": {
     "end_time": "2024-04-30T01:07:29.170906Z",
     "start_time": "2024-04-30T01:07:28.444583700Z"
    }
   },
   "id": "e5eb6219604fa172"
  },
  {
   "cell_type": "code",
   "execution_count": 47,
   "outputs": [
    {
     "name": "stderr",
     "output_type": "stream",
     "text": [
      "/home/debashis/works/msc-group-project-audio/env/lib/python3.10/site-packages/sklearn/linear_model/_logistic.py:469: ConvergenceWarning: lbfgs failed to converge (status=1):\n",
      "STOP: TOTAL NO. of ITERATIONS REACHED LIMIT.\n",
      "\n",
      "Increase the number of iterations (max_iter) or scale the data as shown in:\n",
      "    https://scikit-learn.org/stable/modules/preprocessing.html\n",
      "Please also refer to the documentation for alternative solver options:\n",
      "    https://scikit-learn.org/stable/modules/linear_model.html#logistic-regression\n",
      "  n_iter_i = _check_optimize_result(\n"
     ]
    },
    {
     "data": {
      "text/plain": "0.5"
     },
     "execution_count": 47,
     "metadata": {},
     "output_type": "execute_result"
    }
   ],
   "source": [
    "# Mel Spectogram decibels (dB)\n",
    "lr_clf_spect_db, lr_predictions_spect_db, lr_accuracy_spect_db = _LR_(\n",
    "  X_train_1_spect_db, X_test_1_spect_db, y_train_1_spect_db, y_test_1_spect_db\n",
    ")\n",
    "lr_accuracy_spect_db"
   ],
   "metadata": {
    "collapsed": false,
    "ExecuteTime": {
     "end_time": "2024-04-30T01:07:42.765461100Z",
     "start_time": "2024-04-30T01:07:29.168375600Z"
    }
   },
   "id": "b8568397835a5c3d"
  },
  {
   "cell_type": "code",
   "execution_count": 48,
   "outputs": [
    {
     "name": "stderr",
     "output_type": "stream",
     "text": [
      "/home/debashis/works/msc-group-project-audio/env/lib/python3.10/site-packages/sklearn/linear_model/_logistic.py:469: ConvergenceWarning: lbfgs failed to converge (status=1):\n",
      "STOP: TOTAL NO. of ITERATIONS REACHED LIMIT.\n",
      "\n",
      "Increase the number of iterations (max_iter) or scale the data as shown in:\n",
      "    https://scikit-learn.org/stable/modules/preprocessing.html\n",
      "Please also refer to the documentation for alternative solver options:\n",
      "    https://scikit-learn.org/stable/modules/linear_model.html#logistic-regression\n",
      "  n_iter_i = _check_optimize_result(\n"
     ]
    },
    {
     "data": {
      "text/plain": "0.54"
     },
     "execution_count": 48,
     "metadata": {},
     "output_type": "execute_result"
    }
   ],
   "source": [
    "# Mel-Frequency Cepstral Coefficients\n",
    "lr_clf_mfcc, lr_predictions_mfcc, lr_accuracy_mfcc = _LR_(\n",
    "  X_train_1_mfcc, X_test_1_mfcc, y_train_1_mfcc, y_test_1_mfcc)\n",
    "lr_accuracy_mfcc"
   ],
   "metadata": {
    "collapsed": false,
    "ExecuteTime": {
     "end_time": "2024-04-30T01:07:56.276515600Z",
     "start_time": "2024-04-30T01:07:42.766466700Z"
    }
   },
   "id": "ec1ef31837a4ad18"
  },
  {
   "cell_type": "markdown",
   "source": [
    "# Decision Tree Classifier"
   ],
   "metadata": {
    "collapsed": false
   },
   "id": "eadd0ff6c7a08af9"
  },
  {
   "cell_type": "code",
   "execution_count": 51,
   "outputs": [],
   "source": [
    "def _DT_(_X_train, _X_test, _y_train, _y_test):\n",
    "  _dt = DecisionTreeClassifier()\n",
    "  _dt.fit(_X_train, _y_train)\n",
    "  _predictions = _dt.predict(_X_test)\n",
    "  _accuracy = accuracy_score(_y_test, _predictions)\n",
    "  return _dt, _predictions, _accuracy"
   ],
   "metadata": {
    "collapsed": false,
    "ExecuteTime": {
     "end_time": "2024-04-30T01:12:12.571358600Z",
     "start_time": "2024-04-30T01:12:12.563753Z"
    }
   },
   "id": "365258353390beaa"
  },
  {
   "cell_type": "code",
   "execution_count": 52,
   "outputs": [
    {
     "data": {
      "text/plain": "0.57"
     },
     "execution_count": 52,
     "metadata": {},
     "output_type": "execute_result"
    }
   ],
   "source": [
    "# Mel Spectogram\n",
    "dt_clf_spect, dt_predictions_spect, dt_accuracy_spect = _DT_(\n",
    "  X_train_1_spect, X_test_1_spect, y_train_1_spect, y_test_1_spect\n",
    ")\n",
    "dt_accuracy_spect"
   ],
   "metadata": {
    "collapsed": false,
    "ExecuteTime": {
     "end_time": "2024-04-30T01:12:13.623004Z",
     "start_time": "2024-04-30T01:12:13.314407200Z"
    }
   },
   "id": "354f9c6502bdd92b"
  },
  {
   "cell_type": "code",
   "execution_count": 53,
   "outputs": [
    {
     "data": {
      "text/plain": "0.52"
     },
     "execution_count": 53,
     "metadata": {},
     "output_type": "execute_result"
    }
   ],
   "source": [
    "# Mel Spectogram (Normalized)\n",
    "dt_clf_spect_norm, dt_predictions_spect_norm, dt_accuracy_spect_norm = _DT_(\n",
    "  X_train_1_spect_norm, X_test_1_spect_norm, y_train_1_spect_norm, y_test_1_spect_norm\n",
    ")\n",
    "dt_accuracy_spect_norm"
   ],
   "metadata": {
    "collapsed": false,
    "ExecuteTime": {
     "end_time": "2024-04-30T01:12:14.728974800Z",
     "start_time": "2024-04-30T01:12:14.435281200Z"
    }
   },
   "id": "d74e0c48b96c208c"
  },
  {
   "cell_type": "code",
   "execution_count": 54,
   "outputs": [
    {
     "data": {
      "text/plain": "0.57"
     },
     "execution_count": 54,
     "metadata": {},
     "output_type": "execute_result"
    }
   ],
   "source": [
    "# Mel Spectogram decibels (dB)\n",
    "dt_clf_spect_db, dt_predictions_spect_db, dt_accuracy_spect_db = _DT_(\n",
    "  X_train_1_spect_db, X_test_1_spect_db, y_train_1_spect_db, y_test_1_spect_db\n",
    ")\n",
    "dt_accuracy_spect_db"
   ],
   "metadata": {
    "collapsed": false,
    "ExecuteTime": {
     "end_time": "2024-04-30T01:12:15.676733200Z",
     "start_time": "2024-04-30T01:12:15.381435100Z"
    }
   },
   "id": "df86049fe90fa154"
  },
  {
   "cell_type": "code",
   "execution_count": 55,
   "outputs": [
    {
     "data": {
      "text/plain": "0.51"
     },
     "execution_count": 55,
     "metadata": {},
     "output_type": "execute_result"
    }
   ],
   "source": [
    "# Mel-Frequency Cepstral Coefficients\n",
    "dt_clf_mfcc, dt_predictions_mfcc, dt_accuracy_mfcc = _DT_(\n",
    "  X_train_1_mfcc, X_test_1_mfcc, y_train_1_mfcc, y_test_1_mfcc)\n",
    "dt_accuracy_mfcc"
   ],
   "metadata": {
    "collapsed": false,
    "ExecuteTime": {
     "end_time": "2024-04-30T01:12:17.176935300Z",
     "start_time": "2024-04-30T01:12:17.121386300Z"
    }
   },
   "id": "5e800bbad8ce6ccc"
  },
  {
   "cell_type": "markdown",
   "source": [
    "# Convolutional Neural Network"
   ],
   "metadata": {
    "collapsed": false
   },
   "id": "85bd275f0d5995f5"
  },
  {
   "cell_type": "code",
   "execution_count": 56,
   "outputs": [
    {
     "name": "stdout",
     "output_type": "stream",
     "text": [
      "mfcc X.shape=(500, 17, 20)\n",
      "mfcc X_train.shape=(400, 17, 20, 1)\n",
      "spectogram X.shape=(500, 17, 128)\n",
      "spectogram X_train.shape=(400, 17, 128, 1)\n",
      "spectogram_db X.shape=(500, 17, 128)\n",
      "spectogram_db X_train.shape=(400, 17, 128, 1)\n"
     ]
    }
   ],
   "source": [
    "X_train_2_mfcc, X_test_2_mfcc, y_train_2_mfcc, y_test_2_mfcc = get_train_test(\n",
    "  mfcc_feature, types[\"mfcc\"][\"key\"], False, True)\n",
    "\n",
    "X_train_2_spect, X_test_2_spect, y_train_2_spect, y_test_2_spect = get_train_test(\n",
    "  spectogram_feature, types[\"spectogram\"][\"key\"], False, True)\n",
    "\n",
    "X_train_2_spect_db, X_test_2_spect_db, y_train_2_spect_db, y_test_2_spect_db = get_train_test(\n",
    "  spectogram_feature, types[\"spectogram_db\"][\"key\"], True, True)"
   ],
   "metadata": {
    "collapsed": false,
    "ExecuteTime": {
     "end_time": "2024-04-30T01:16:24.023072700Z",
     "start_time": "2024-04-30T01:16:23.988269200Z"
    }
   },
   "id": "ff4f0a69054fe9e2"
  },
  {
   "cell_type": "code",
   "execution_count": 81,
   "outputs": [
    {
     "name": "stdout",
     "output_type": "stream",
     "text": [
      "spectogram X.shape=(500, 17, 128)\n",
      "spectogram X_train.shape=(400, 17, 128, 1)\n"
     ]
    }
   ],
   "source": [
    "spectogram_feature[\"data_norm\"] = []\n",
    "for i in range(len(spectogram_feature[\"data\"])):\n",
    "  normalized_spectrogram = (spectogram_feature[\"data\"][i] - mean) / std\n",
    "  spectogram_feature[\"data_norm\"].append(normalized_spectrogram.tolist())\n",
    "\n",
    "X_train_2_spect_norm, X_test_2_spect_norm, y_train_2_spect_norm, y_test_2_spect_norm = get_train_test(\n",
    "  spectogram_feature, types[\"spectogram\"][\"key\"], True, True)"
   ],
   "metadata": {
    "collapsed": false,
    "ExecuteTime": {
     "end_time": "2024-04-30T01:44:13.225752500Z",
     "start_time": "2024-04-30T01:44:13.164476600Z"
    }
   },
   "id": "830383c46578af56"
  },
  {
   "cell_type": "code",
   "execution_count": 83,
   "outputs": [
    {
     "name": "stdout",
     "output_type": "stream",
     "text": [
      "mfcc X.shape=(500, 17, 20)\n",
      "mfcc X_train.shape=(400, 17, 20, 1)\n"
     ]
    }
   ],
   "source": [
    "mfcc_feature[\"data_norm\"] = []\n",
    "for i in range(len(mfcc_feature[\"data\"])):\n",
    "  normalized_mfcc = (mfcc_feature[\"data\"][i] - mean) / std\n",
    "  mfcc_feature[\"data_norm\"].append(normalized_mfcc.tolist())\n",
    "\n",
    "X_train_2_mfcc_norm, X_test_2_mfcc_norm, y_train_2_mfcc_norm, y_test_2_mfcc_norm = get_train_test(\n",
    "  mfcc_feature, types[\"mfcc\"][\"key\"], True, True)"
   ],
   "metadata": {
    "collapsed": false,
    "ExecuteTime": {
     "end_time": "2024-04-30T01:44:30.985941500Z",
     "start_time": "2024-04-30T01:44:30.933496Z"
    }
   },
   "id": "3549f80edc8ba54e"
  },
  {
   "cell_type": "code",
   "execution_count": 90,
   "outputs": [],
   "source": [
    "def _CNN_model_compile(_X_train):\n",
    "  _cnn = Sequential([\n",
    "    Conv2D(32, (3, 3), activation='relu', input_shape=_X_train.shape[1:]),\n",
    "    MaxPooling2D((3, 3), strides=(2, 2), padding='same'),\n",
    "    BatchNormalization(),\n",
    "    \n",
    "    Conv2D(64, (3, 3), activation='relu'),\n",
    "    MaxPooling2D((3, 3), strides=(2, 2), padding='same'),\n",
    "    BatchNormalization(),\n",
    "    \n",
    "    Conv2D(64, (2, 2), activation='relu'),\n",
    "    MaxPooling2D((2, 2), strides=(2, 2), padding='same'),\n",
    "    BatchNormalization(),\n",
    "    \n",
    "    # flatten output\n",
    "    Flatten(),\n",
    "    Dense(64, activation='relu'),\n",
    "    Dropout(0.3),\n",
    "    \n",
    "    # output\n",
    "    Dense(len(category_labelling_map), activation='softmax')\n",
    "  ])\n",
    "  \n",
    "  _cnn.compile(optimizer=Adam(learning_rate=0.0001),\n",
    "               loss='sparse_categorical_crossentropy',\n",
    "               metrics=['accuracy'])\n",
    "  \n",
    "  return _cnn\n",
    "\n",
    "def _NN_(_model, _X_train, _X_test, _y_train, _y_test, _epochs=100):\n",
    "  _history = _model.fit(_X_train, _y_train,\n",
    "                        validation_data=(_X_test, _y_test),\n",
    "                        batch_size=64, epochs=_epochs)\n",
    "  return _history"
   ],
   "metadata": {
    "collapsed": false,
    "ExecuteTime": {
     "end_time": "2024-04-30T01:55:26.523461600Z",
     "start_time": "2024-04-30T01:55:26.507003900Z"
    }
   },
   "id": "88bb5aae0c81110"
  },
  {
   "cell_type": "code",
   "execution_count": 62,
   "outputs": [],
   "source": [
    "def _print_loss_accuracy(_model, _X_test, _y_test):\n",
    "  _loss, _accuracy = _model.evaluate(_X_test, _y_test, verbose=2)\n",
    "  print(f'Loss: {_loss}, Accuracy: {_accuracy}')"
   ],
   "metadata": {
    "collapsed": false,
    "ExecuteTime": {
     "end_time": "2024-04-30T01:32:06.610763400Z",
     "start_time": "2024-04-30T01:32:06.566615200Z"
    }
   },
   "id": "f5eba74940a76c3e"
  },
  {
   "cell_type": "code",
   "execution_count": 61,
   "outputs": [
    {
     "name": "stdout",
     "output_type": "stream",
     "text": [
      "Model: \"sequential_1\"\n",
      "_________________________________________________________________\n",
      " Layer (type)                Output Shape              Param #   \n",
      "=================================================================\n",
      " conv2d_3 (Conv2D)           (None, 15, 126, 32)       320       \n",
      "                                                                 \n",
      " max_pooling2d_3 (MaxPoolin  (None, 8, 63, 32)         0         \n",
      " g2D)                                                            \n",
      "                                                                 \n",
      " batch_normalization_3 (Bat  (None, 8, 63, 32)         128       \n",
      " chNormalization)                                                \n",
      "                                                                 \n",
      " conv2d_4 (Conv2D)           (None, 6, 61, 64)         18496     \n",
      "                                                                 \n",
      " max_pooling2d_4 (MaxPoolin  (None, 3, 31, 64)         0         \n",
      " g2D)                                                            \n",
      "                                                                 \n",
      " batch_normalization_4 (Bat  (None, 3, 31, 64)         256       \n",
      " chNormalization)                                                \n",
      "                                                                 \n",
      " conv2d_5 (Conv2D)           (None, 2, 30, 64)         16448     \n",
      "                                                                 \n",
      " max_pooling2d_5 (MaxPoolin  (None, 1, 15, 64)         0         \n",
      " g2D)                                                            \n",
      "                                                                 \n",
      " batch_normalization_5 (Bat  (None, 1, 15, 64)         256       \n",
      " chNormalization)                                                \n",
      "                                                                 \n",
      " flatten_1 (Flatten)         (None, 960)               0         \n",
      "                                                                 \n",
      " dense_2 (Dense)             (None, 64)                61504     \n",
      "                                                                 \n",
      " dropout_1 (Dropout)         (None, 64)                0         \n",
      "                                                                 \n",
      " dense_3 (Dense)             (None, 10)                650       \n",
      "                                                                 \n",
      "=================================================================\n",
      "Total params: 98058 (383.04 KB)\n",
      "Trainable params: 97738 (381.79 KB)\n",
      "Non-trainable params: 320 (1.25 KB)\n",
      "_________________________________________________________________\n"
     ]
    }
   ],
   "source": [
    "# Mel Spectogram\n",
    "cnn_spect = _CNN_model_compile(X_train_2_spect)\n",
    "cnn_spect.summary()"
   ],
   "metadata": {
    "collapsed": false,
    "ExecuteTime": {
     "end_time": "2024-04-30T01:29:17.482575700Z",
     "start_time": "2024-04-30T01:29:17.403707600Z"
    }
   },
   "id": "a6eb36309b535cf1"
  },
  {
   "cell_type": "code",
   "execution_count": 63,
   "outputs": [
    {
     "name": "stdout",
     "output_type": "stream",
     "text": [
      "Epoch 1/100\n",
      "7/7 [==============================] - 1s 43ms/step - loss: 2.6702 - accuracy: 0.1200 - val_loss: 3.2238 - val_accuracy: 0.1600\n",
      "Epoch 2/100\n",
      "7/7 [==============================] - 0s 26ms/step - loss: 2.4258 - accuracy: 0.1675 - val_loss: 2.7161 - val_accuracy: 0.1600\n",
      "Epoch 3/100\n",
      "7/7 [==============================] - 0s 26ms/step - loss: 2.3366 - accuracy: 0.1850 - val_loss: 2.4745 - val_accuracy: 0.1300\n",
      "Epoch 4/100\n",
      "7/7 [==============================] - 0s 26ms/step - loss: 2.2102 - accuracy: 0.2225 - val_loss: 2.3301 - val_accuracy: 0.1600\n",
      "Epoch 5/100\n",
      "7/7 [==============================] - 0s 25ms/step - loss: 2.1816 - accuracy: 0.2175 - val_loss: 2.2419 - val_accuracy: 0.2000\n",
      "Epoch 6/100\n",
      "7/7 [==============================] - 0s 24ms/step - loss: 2.0653 - accuracy: 0.2275 - val_loss: 2.1787 - val_accuracy: 0.2100\n",
      "Epoch 7/100\n",
      "7/7 [==============================] - 0s 25ms/step - loss: 1.9810 - accuracy: 0.2825 - val_loss: 2.1399 - val_accuracy: 0.2400\n",
      "Epoch 8/100\n",
      "7/7 [==============================] - 0s 25ms/step - loss: 1.9077 - accuracy: 0.2950 - val_loss: 2.1097 - val_accuracy: 0.2600\n",
      "Epoch 9/100\n",
      "7/7 [==============================] - 0s 25ms/step - loss: 1.9193 - accuracy: 0.3050 - val_loss: 2.0886 - val_accuracy: 0.3300\n",
      "Epoch 10/100\n",
      "7/7 [==============================] - 0s 25ms/step - loss: 1.8551 - accuracy: 0.3500 - val_loss: 2.0707 - val_accuracy: 0.3400\n",
      "Epoch 11/100\n",
      "7/7 [==============================] - 0s 25ms/step - loss: 1.8067 - accuracy: 0.3650 - val_loss: 2.0559 - val_accuracy: 0.3000\n",
      "Epoch 12/100\n",
      "7/7 [==============================] - 0s 32ms/step - loss: 1.8094 - accuracy: 0.3350 - val_loss: 2.0441 - val_accuracy: 0.3600\n",
      "Epoch 13/100\n",
      "7/7 [==============================] - 0s 25ms/step - loss: 1.7958 - accuracy: 0.3750 - val_loss: 2.0305 - val_accuracy: 0.3500\n",
      "Epoch 14/100\n",
      "7/7 [==============================] - 0s 26ms/step - loss: 1.7104 - accuracy: 0.3725 - val_loss: 2.0202 - val_accuracy: 0.3200\n",
      "Epoch 15/100\n",
      "7/7 [==============================] - 0s 25ms/step - loss: 1.7135 - accuracy: 0.3875 - val_loss: 2.0103 - val_accuracy: 0.3100\n",
      "Epoch 16/100\n",
      "7/7 [==============================] - 0s 24ms/step - loss: 1.6354 - accuracy: 0.4425 - val_loss: 2.0034 - val_accuracy: 0.3300\n",
      "Epoch 17/100\n",
      "7/7 [==============================] - 0s 25ms/step - loss: 1.6111 - accuracy: 0.4425 - val_loss: 1.9963 - val_accuracy: 0.3300\n",
      "Epoch 18/100\n",
      "7/7 [==============================] - 0s 25ms/step - loss: 1.5970 - accuracy: 0.4775 - val_loss: 1.9885 - val_accuracy: 0.3200\n",
      "Epoch 19/100\n",
      "7/7 [==============================] - 0s 24ms/step - loss: 1.5988 - accuracy: 0.4275 - val_loss: 1.9787 - val_accuracy: 0.3200\n",
      "Epoch 20/100\n",
      "7/7 [==============================] - 0s 25ms/step - loss: 1.5492 - accuracy: 0.4850 - val_loss: 1.9679 - val_accuracy: 0.3400\n",
      "Epoch 21/100\n",
      "7/7 [==============================] - 0s 24ms/step - loss: 1.5404 - accuracy: 0.4500 - val_loss: 1.9562 - val_accuracy: 0.3500\n",
      "Epoch 22/100\n",
      "7/7 [==============================] - 0s 24ms/step - loss: 1.5839 - accuracy: 0.4650 - val_loss: 1.9487 - val_accuracy: 0.3600\n",
      "Epoch 23/100\n",
      "7/7 [==============================] - 0s 24ms/step - loss: 1.4996 - accuracy: 0.5125 - val_loss: 1.9421 - val_accuracy: 0.3400\n",
      "Epoch 24/100\n",
      "7/7 [==============================] - 0s 25ms/step - loss: 1.4909 - accuracy: 0.5050 - val_loss: 1.9352 - val_accuracy: 0.3200\n",
      "Epoch 25/100\n",
      "7/7 [==============================] - 0s 24ms/step - loss: 1.4652 - accuracy: 0.5175 - val_loss: 1.9294 - val_accuracy: 0.3400\n",
      "Epoch 26/100\n",
      "7/7 [==============================] - 0s 25ms/step - loss: 1.4275 - accuracy: 0.5125 - val_loss: 1.9213 - val_accuracy: 0.3400\n",
      "Epoch 27/100\n",
      "7/7 [==============================] - 0s 24ms/step - loss: 1.4280 - accuracy: 0.5000 - val_loss: 1.9144 - val_accuracy: 0.3400\n",
      "Epoch 28/100\n",
      "7/7 [==============================] - 0s 24ms/step - loss: 1.3645 - accuracy: 0.5400 - val_loss: 1.9048 - val_accuracy: 0.3500\n",
      "Epoch 29/100\n",
      "7/7 [==============================] - 0s 25ms/step - loss: 1.3575 - accuracy: 0.5500 - val_loss: 1.8988 - val_accuracy: 0.3500\n",
      "Epoch 30/100\n",
      "7/7 [==============================] - 0s 24ms/step - loss: 1.3611 - accuracy: 0.5350 - val_loss: 1.8921 - val_accuracy: 0.3500\n",
      "Epoch 31/100\n",
      "7/7 [==============================] - 0s 24ms/step - loss: 1.3282 - accuracy: 0.5500 - val_loss: 1.8855 - val_accuracy: 0.3500\n",
      "Epoch 32/100\n",
      "7/7 [==============================] - 0s 25ms/step - loss: 1.3063 - accuracy: 0.5525 - val_loss: 1.8765 - val_accuracy: 0.3200\n",
      "Epoch 33/100\n",
      "7/7 [==============================] - 0s 25ms/step - loss: 1.2804 - accuracy: 0.5675 - val_loss: 1.8711 - val_accuracy: 0.3500\n",
      "Epoch 34/100\n",
      "7/7 [==============================] - 0s 24ms/step - loss: 1.2811 - accuracy: 0.5650 - val_loss: 1.8633 - val_accuracy: 0.3400\n",
      "Epoch 35/100\n",
      "7/7 [==============================] - 0s 24ms/step - loss: 1.2663 - accuracy: 0.5800 - val_loss: 1.8563 - val_accuracy: 0.3500\n",
      "Epoch 36/100\n",
      "7/7 [==============================] - 0s 25ms/step - loss: 1.2854 - accuracy: 0.5550 - val_loss: 1.8526 - val_accuracy: 0.3500\n",
      "Epoch 37/100\n",
      "7/7 [==============================] - 0s 24ms/step - loss: 1.2165 - accuracy: 0.5925 - val_loss: 1.8489 - val_accuracy: 0.3500\n",
      "Epoch 38/100\n",
      "7/7 [==============================] - 0s 25ms/step - loss: 1.2424 - accuracy: 0.5900 - val_loss: 1.8403 - val_accuracy: 0.3400\n",
      "Epoch 39/100\n",
      "7/7 [==============================] - 0s 25ms/step - loss: 1.1930 - accuracy: 0.6000 - val_loss: 1.8362 - val_accuracy: 0.3400\n",
      "Epoch 40/100\n",
      "7/7 [==============================] - 0s 25ms/step - loss: 1.2054 - accuracy: 0.6075 - val_loss: 1.8268 - val_accuracy: 0.3400\n",
      "Epoch 41/100\n",
      "7/7 [==============================] - 0s 24ms/step - loss: 1.1972 - accuracy: 0.6375 - val_loss: 1.8296 - val_accuracy: 0.3800\n",
      "Epoch 42/100\n",
      "7/7 [==============================] - 0s 24ms/step - loss: 1.1946 - accuracy: 0.6150 - val_loss: 1.8256 - val_accuracy: 0.2900\n",
      "Epoch 43/100\n",
      "7/7 [==============================] - 0s 24ms/step - loss: 1.1521 - accuracy: 0.6175 - val_loss: 1.8166 - val_accuracy: 0.2900\n",
      "Epoch 44/100\n",
      "7/7 [==============================] - 0s 25ms/step - loss: 1.1627 - accuracy: 0.5975 - val_loss: 1.8002 - val_accuracy: 0.3300\n",
      "Epoch 45/100\n",
      "7/7 [==============================] - 0s 24ms/step - loss: 1.1096 - accuracy: 0.6625 - val_loss: 1.7896 - val_accuracy: 0.4300\n",
      "Epoch 46/100\n",
      "7/7 [==============================] - 0s 24ms/step - loss: 1.1019 - accuracy: 0.6500 - val_loss: 1.7815 - val_accuracy: 0.4300\n",
      "Epoch 47/100\n",
      "7/7 [==============================] - 0s 24ms/step - loss: 1.1051 - accuracy: 0.6550 - val_loss: 1.7698 - val_accuracy: 0.4600\n",
      "Epoch 48/100\n",
      "7/7 [==============================] - 0s 24ms/step - loss: 1.1008 - accuracy: 0.6675 - val_loss: 1.7629 - val_accuracy: 0.4600\n",
      "Epoch 49/100\n",
      "7/7 [==============================] - 0s 24ms/step - loss: 1.0870 - accuracy: 0.6475 - val_loss: 1.7681 - val_accuracy: 0.3100\n",
      "Epoch 50/100\n",
      "7/7 [==============================] - 0s 24ms/step - loss: 1.0766 - accuracy: 0.6725 - val_loss: 1.7751 - val_accuracy: 0.3000\n",
      "Epoch 51/100\n",
      "7/7 [==============================] - 0s 24ms/step - loss: 1.0517 - accuracy: 0.6825 - val_loss: 1.7797 - val_accuracy: 0.2900\n",
      "Epoch 52/100\n",
      "7/7 [==============================] - 0s 24ms/step - loss: 1.0375 - accuracy: 0.6975 - val_loss: 1.7726 - val_accuracy: 0.2800\n",
      "Epoch 53/100\n",
      "7/7 [==============================] - 0s 24ms/step - loss: 1.0482 - accuracy: 0.6700 - val_loss: 1.7512 - val_accuracy: 0.2900\n",
      "Epoch 54/100\n",
      "7/7 [==============================] - 0s 25ms/step - loss: 1.0039 - accuracy: 0.6800 - val_loss: 1.7262 - val_accuracy: 0.3300\n",
      "Epoch 55/100\n",
      "7/7 [==============================] - 0s 24ms/step - loss: 0.9972 - accuracy: 0.6800 - val_loss: 1.7180 - val_accuracy: 0.3100\n",
      "Epoch 56/100\n",
      "7/7 [==============================] - 0s 26ms/step - loss: 0.9488 - accuracy: 0.7150 - val_loss: 1.7165 - val_accuracy: 0.3200\n",
      "Epoch 57/100\n",
      "7/7 [==============================] - 0s 24ms/step - loss: 0.9545 - accuracy: 0.7250 - val_loss: 1.7082 - val_accuracy: 0.3200\n",
      "Epoch 58/100\n",
      "7/7 [==============================] - 0s 24ms/step - loss: 0.9936 - accuracy: 0.6625 - val_loss: 1.7086 - val_accuracy: 0.3300\n",
      "Epoch 59/100\n",
      "7/7 [==============================] - 0s 24ms/step - loss: 0.9467 - accuracy: 0.6925 - val_loss: 1.7059 - val_accuracy: 0.3400\n",
      "Epoch 60/100\n",
      "7/7 [==============================] - 0s 25ms/step - loss: 0.9876 - accuracy: 0.6800 - val_loss: 1.7130 - val_accuracy: 0.3400\n",
      "Epoch 61/100\n",
      "7/7 [==============================] - 0s 23ms/step - loss: 0.9118 - accuracy: 0.7325 - val_loss: 1.7122 - val_accuracy: 0.3400\n",
      "Epoch 62/100\n",
      "7/7 [==============================] - 0s 24ms/step - loss: 0.9562 - accuracy: 0.7050 - val_loss: 1.6902 - val_accuracy: 0.3400\n",
      "Epoch 63/100\n",
      "7/7 [==============================] - 0s 24ms/step - loss: 0.9094 - accuracy: 0.7175 - val_loss: 1.6522 - val_accuracy: 0.3700\n",
      "Epoch 64/100\n",
      "7/7 [==============================] - 0s 24ms/step - loss: 0.9227 - accuracy: 0.7125 - val_loss: 1.6411 - val_accuracy: 0.4000\n",
      "Epoch 65/100\n",
      "7/7 [==============================] - 0s 24ms/step - loss: 0.8929 - accuracy: 0.7050 - val_loss: 1.6805 - val_accuracy: 0.3700\n",
      "Epoch 66/100\n",
      "7/7 [==============================] - 0s 24ms/step - loss: 0.9428 - accuracy: 0.7000 - val_loss: 1.7119 - val_accuracy: 0.3700\n",
      "Epoch 67/100\n",
      "7/7 [==============================] - 0s 24ms/step - loss: 0.8998 - accuracy: 0.7175 - val_loss: 1.7078 - val_accuracy: 0.3600\n",
      "Epoch 68/100\n",
      "7/7 [==============================] - 0s 26ms/step - loss: 0.8839 - accuracy: 0.7350 - val_loss: 1.6951 - val_accuracy: 0.3500\n",
      "Epoch 69/100\n",
      "7/7 [==============================] - 0s 24ms/step - loss: 0.8459 - accuracy: 0.7525 - val_loss: 1.6804 - val_accuracy: 0.3500\n",
      "Epoch 70/100\n",
      "7/7 [==============================] - 0s 25ms/step - loss: 0.8700 - accuracy: 0.7150 - val_loss: 1.6713 - val_accuracy: 0.3600\n",
      "Epoch 71/100\n",
      "7/7 [==============================] - 0s 24ms/step - loss: 0.8663 - accuracy: 0.7500 - val_loss: 1.6618 - val_accuracy: 0.3500\n",
      "Epoch 72/100\n",
      "7/7 [==============================] - 0s 24ms/step - loss: 0.8228 - accuracy: 0.7425 - val_loss: 1.6506 - val_accuracy: 0.3500\n",
      "Epoch 73/100\n",
      "7/7 [==============================] - 0s 24ms/step - loss: 0.8244 - accuracy: 0.7450 - val_loss: 1.6232 - val_accuracy: 0.3700\n",
      "Epoch 74/100\n",
      "7/7 [==============================] - 0s 25ms/step - loss: 0.8262 - accuracy: 0.7500 - val_loss: 1.6022 - val_accuracy: 0.3800\n",
      "Epoch 75/100\n",
      "7/7 [==============================] - 0s 24ms/step - loss: 0.7826 - accuracy: 0.7800 - val_loss: 1.5990 - val_accuracy: 0.3800\n",
      "Epoch 76/100\n",
      "7/7 [==============================] - 0s 23ms/step - loss: 0.7831 - accuracy: 0.7625 - val_loss: 1.5985 - val_accuracy: 0.3800\n",
      "Epoch 77/100\n",
      "7/7 [==============================] - 0s 24ms/step - loss: 0.7758 - accuracy: 0.7675 - val_loss: 1.5966 - val_accuracy: 0.3700\n",
      "Epoch 78/100\n",
      "7/7 [==============================] - 0s 24ms/step - loss: 0.7982 - accuracy: 0.7650 - val_loss: 1.6336 - val_accuracy: 0.3700\n",
      "Epoch 79/100\n",
      "7/7 [==============================] - 0s 24ms/step - loss: 0.8141 - accuracy: 0.7500 - val_loss: 1.6220 - val_accuracy: 0.3700\n",
      "Epoch 80/100\n",
      "7/7 [==============================] - 0s 24ms/step - loss: 0.7765 - accuracy: 0.7750 - val_loss: 1.6072 - val_accuracy: 0.3600\n",
      "Epoch 81/100\n",
      "7/7 [==============================] - 0s 24ms/step - loss: 0.7758 - accuracy: 0.7650 - val_loss: 1.6024 - val_accuracy: 0.3700\n",
      "Epoch 82/100\n",
      "7/7 [==============================] - 0s 24ms/step - loss: 0.7877 - accuracy: 0.7625 - val_loss: 1.5974 - val_accuracy: 0.3700\n",
      "Epoch 83/100\n",
      "7/7 [==============================] - 0s 30ms/step - loss: 0.7327 - accuracy: 0.7875 - val_loss: 1.6057 - val_accuracy: 0.3800\n",
      "Epoch 84/100\n",
      "7/7 [==============================] - 0s 28ms/step - loss: 0.7403 - accuracy: 0.7775 - val_loss: 1.6315 - val_accuracy: 0.3700\n",
      "Epoch 85/100\n",
      "7/7 [==============================] - 0s 25ms/step - loss: 0.7645 - accuracy: 0.7675 - val_loss: 1.6366 - val_accuracy: 0.3800\n",
      "Epoch 86/100\n",
      "7/7 [==============================] - 0s 26ms/step - loss: 0.7418 - accuracy: 0.7600 - val_loss: 1.6276 - val_accuracy: 0.3800\n",
      "Epoch 87/100\n",
      "7/7 [==============================] - 0s 25ms/step - loss: 0.7435 - accuracy: 0.7950 - val_loss: 1.6360 - val_accuracy: 0.3800\n",
      "Epoch 88/100\n",
      "7/7 [==============================] - 0s 25ms/step - loss: 0.7157 - accuracy: 0.7725 - val_loss: 1.6477 - val_accuracy: 0.3800\n",
      "Epoch 89/100\n",
      "7/7 [==============================] - 0s 25ms/step - loss: 0.6990 - accuracy: 0.8075 - val_loss: 1.6581 - val_accuracy: 0.3900\n",
      "Epoch 90/100\n",
      "7/7 [==============================] - 0s 25ms/step - loss: 0.7130 - accuracy: 0.7875 - val_loss: 1.6336 - val_accuracy: 0.3900\n",
      "Epoch 91/100\n",
      "7/7 [==============================] - 0s 25ms/step - loss: 0.7055 - accuracy: 0.7950 - val_loss: 1.6389 - val_accuracy: 0.3800\n",
      "Epoch 92/100\n",
      "7/7 [==============================] - 0s 25ms/step - loss: 0.7070 - accuracy: 0.7975 - val_loss: 1.6039 - val_accuracy: 0.3800\n",
      "Epoch 93/100\n",
      "7/7 [==============================] - 0s 25ms/step - loss: 0.7095 - accuracy: 0.8025 - val_loss: 1.6090 - val_accuracy: 0.3700\n",
      "Epoch 94/100\n",
      "7/7 [==============================] - 0s 25ms/step - loss: 0.6689 - accuracy: 0.8175 - val_loss: 1.6347 - val_accuracy: 0.3800\n",
      "Epoch 95/100\n",
      "7/7 [==============================] - 0s 24ms/step - loss: 0.6782 - accuracy: 0.7875 - val_loss: 1.6142 - val_accuracy: 0.3900\n",
      "Epoch 96/100\n",
      "7/7 [==============================] - 0s 25ms/step - loss: 0.7121 - accuracy: 0.7925 - val_loss: 1.6260 - val_accuracy: 0.4000\n",
      "Epoch 97/100\n",
      "7/7 [==============================] - 0s 25ms/step - loss: 0.6504 - accuracy: 0.7975 - val_loss: 1.6442 - val_accuracy: 0.3900\n",
      "Epoch 98/100\n",
      "7/7 [==============================] - 0s 26ms/step - loss: 0.6482 - accuracy: 0.8075 - val_loss: 1.6187 - val_accuracy: 0.3800\n",
      "Epoch 99/100\n",
      "7/7 [==============================] - 0s 25ms/step - loss: 0.6243 - accuracy: 0.8200 - val_loss: 1.6317 - val_accuracy: 0.3800\n",
      "Epoch 100/100\n",
      "7/7 [==============================] - 0s 25ms/step - loss: 0.6526 - accuracy: 0.8125 - val_loss: 1.5962 - val_accuracy: 0.3800\n"
     ]
    }
   ],
   "source": [
    "cnn_history_spect = _NN_(cnn_spect, X_train_2_spect, X_test_2_spect, y_train_2_spect, y_test_2_spect)"
   ],
   "metadata": {
    "collapsed": false,
    "ExecuteTime": {
     "end_time": "2024-04-30T01:38:07.422002700Z",
     "start_time": "2024-04-30T01:37:49.497925300Z"
    }
   },
   "id": "2f0bb5b474ed618e"
  },
  {
   "cell_type": "code",
   "execution_count": 64,
   "outputs": [
    {
     "name": "stdout",
     "output_type": "stream",
     "text": [
      "4/4 - 0s - loss: 1.5962 - accuracy: 0.3800 - 47ms/epoch - 12ms/step\n",
      "Loss: 1.5961848497390747, Accuracy: 0.3799999952316284\n"
     ]
    }
   ],
   "source": [
    "_print_loss_accuracy(cnn_spect, X_test_2_spect, y_test_2_spect)"
   ],
   "metadata": {
    "collapsed": false,
    "ExecuteTime": {
     "end_time": "2024-04-30T01:38:14.915745800Z",
     "start_time": "2024-04-30T01:38:14.840757100Z"
    }
   },
   "id": "bc31079c15b36d0b"
  },
  {
   "cell_type": "code",
   "execution_count": 94,
   "outputs": [
    {
     "name": "stdout",
     "output_type": "stream",
     "text": [
      "Model: \"sequential_9\"\n",
      "_________________________________________________________________\n",
      " Layer (type)                Output Shape              Param #   \n",
      "=================================================================\n",
      " conv2d_27 (Conv2D)          (None, 15, 126, 32)       320       \n",
      "                                                                 \n",
      " max_pooling2d_27 (MaxPooli  (None, 8, 63, 32)         0         \n",
      " ng2D)                                                           \n",
      "                                                                 \n",
      " batch_normalization_27 (Ba  (None, 8, 63, 32)         128       \n",
      " tchNormalization)                                               \n",
      "                                                                 \n",
      " conv2d_28 (Conv2D)          (None, 6, 61, 64)         18496     \n",
      "                                                                 \n",
      " max_pooling2d_28 (MaxPooli  (None, 3, 31, 64)         0         \n",
      " ng2D)                                                           \n",
      "                                                                 \n",
      " batch_normalization_28 (Ba  (None, 3, 31, 64)         256       \n",
      " tchNormalization)                                               \n",
      "                                                                 \n",
      " conv2d_29 (Conv2D)          (None, 2, 30, 64)         16448     \n",
      "                                                                 \n",
      " max_pooling2d_29 (MaxPooli  (None, 1, 15, 64)         0         \n",
      " ng2D)                                                           \n",
      "                                                                 \n",
      " batch_normalization_29 (Ba  (None, 1, 15, 64)         256       \n",
      " tchNormalization)                                               \n",
      "                                                                 \n",
      " flatten_9 (Flatten)         (None, 960)               0         \n",
      "                                                                 \n",
      " dense_18 (Dense)            (None, 64)                61504     \n",
      "                                                                 \n",
      " dropout_9 (Dropout)         (None, 64)                0         \n",
      "                                                                 \n",
      " dense_19 (Dense)            (None, 10)                650       \n",
      "                                                                 \n",
      "=================================================================\n",
      "Total params: 98058 (383.04 KB)\n",
      "Trainable params: 97738 (381.79 KB)\n",
      "Non-trainable params: 320 (1.25 KB)\n",
      "_________________________________________________________________\n"
     ]
    }
   ],
   "source": [
    "# Mel Spectogram (Normalized)\n",
    "cnn_spect_norm = _CNN_model_compile(X_train_2_spect_norm)\n",
    "cnn_spect_norm.summary()"
   ],
   "metadata": {
    "collapsed": false,
    "ExecuteTime": {
     "end_time": "2024-04-30T01:58:25.554928700Z",
     "start_time": "2024-04-30T01:58:25.382082800Z"
    }
   },
   "id": "cf39fc0618b9bc4c"
  },
  {
   "cell_type": "code",
   "execution_count": 95,
   "outputs": [
    {
     "name": "stdout",
     "output_type": "stream",
     "text": [
      "Epoch 1/100\n",
      "7/7 [==============================] - 1s 41ms/step - loss: 3.0673 - accuracy: 0.1175 - val_loss: 2.3932 - val_accuracy: 0.2300\n",
      "Epoch 2/100\n",
      "7/7 [==============================] - 0s 25ms/step - loss: 2.6631 - accuracy: 0.1575 - val_loss: 2.3288 - val_accuracy: 0.2100\n",
      "Epoch 3/100\n",
      "7/7 [==============================] - 0s 25ms/step - loss: 2.5104 - accuracy: 0.1825 - val_loss: 2.2801 - val_accuracy: 0.2200\n",
      "Epoch 4/100\n",
      "7/7 [==============================] - 0s 26ms/step - loss: 2.2986 - accuracy: 0.2025 - val_loss: 2.2457 - val_accuracy: 0.2200\n",
      "Epoch 5/100\n",
      "7/7 [==============================] - 0s 25ms/step - loss: 2.1885 - accuracy: 0.2450 - val_loss: 2.2223 - val_accuracy: 0.2200\n",
      "Epoch 6/100\n",
      "7/7 [==============================] - 0s 26ms/step - loss: 2.1450 - accuracy: 0.2400 - val_loss: 2.2016 - val_accuracy: 0.2100\n",
      "Epoch 7/100\n",
      "7/7 [==============================] - 0s 26ms/step - loss: 2.0451 - accuracy: 0.2825 - val_loss: 2.1849 - val_accuracy: 0.2100\n",
      "Epoch 8/100\n",
      "7/7 [==============================] - 0s 25ms/step - loss: 1.9449 - accuracy: 0.2975 - val_loss: 2.1713 - val_accuracy: 0.2200\n",
      "Epoch 9/100\n",
      "7/7 [==============================] - 0s 25ms/step - loss: 1.9080 - accuracy: 0.3325 - val_loss: 2.1585 - val_accuracy: 0.2400\n",
      "Epoch 10/100\n",
      "7/7 [==============================] - 0s 29ms/step - loss: 1.8458 - accuracy: 0.3650 - val_loss: 2.1470 - val_accuracy: 0.2200\n",
      "Epoch 11/100\n",
      "7/7 [==============================] - 0s 25ms/step - loss: 1.8497 - accuracy: 0.3500 - val_loss: 2.1394 - val_accuracy: 0.2200\n",
      "Epoch 12/100\n",
      "7/7 [==============================] - 0s 27ms/step - loss: 1.8210 - accuracy: 0.3400 - val_loss: 2.1343 - val_accuracy: 0.2200\n",
      "Epoch 13/100\n",
      "7/7 [==============================] - 0s 25ms/step - loss: 1.7634 - accuracy: 0.3650 - val_loss: 2.1300 - val_accuracy: 0.2000\n",
      "Epoch 14/100\n",
      "7/7 [==============================] - 0s 25ms/step - loss: 1.7258 - accuracy: 0.4025 - val_loss: 2.1250 - val_accuracy: 0.2000\n",
      "Epoch 15/100\n",
      "7/7 [==============================] - 0s 24ms/step - loss: 1.6912 - accuracy: 0.4250 - val_loss: 2.1198 - val_accuracy: 0.2100\n",
      "Epoch 16/100\n",
      "7/7 [==============================] - 0s 25ms/step - loss: 1.6646 - accuracy: 0.4175 - val_loss: 2.1154 - val_accuracy: 0.2100\n",
      "Epoch 17/100\n",
      "7/7 [==============================] - 0s 24ms/step - loss: 1.6365 - accuracy: 0.4125 - val_loss: 2.1096 - val_accuracy: 0.2100\n",
      "Epoch 18/100\n",
      "7/7 [==============================] - 0s 24ms/step - loss: 1.5877 - accuracy: 0.4500 - val_loss: 2.1030 - val_accuracy: 0.2100\n",
      "Epoch 19/100\n",
      "7/7 [==============================] - 0s 25ms/step - loss: 1.5670 - accuracy: 0.4650 - val_loss: 2.0978 - val_accuracy: 0.2100\n",
      "Epoch 20/100\n",
      "7/7 [==============================] - 0s 24ms/step - loss: 1.5505 - accuracy: 0.4500 - val_loss: 2.0910 - val_accuracy: 0.2100\n",
      "Epoch 21/100\n",
      "7/7 [==============================] - 0s 25ms/step - loss: 1.5291 - accuracy: 0.4875 - val_loss: 2.0821 - val_accuracy: 0.1900\n",
      "Epoch 22/100\n",
      "7/7 [==============================] - 0s 32ms/step - loss: 1.5288 - accuracy: 0.4900 - val_loss: 2.0767 - val_accuracy: 0.1900\n",
      "Epoch 23/100\n",
      "7/7 [==============================] - 0s 24ms/step - loss: 1.4766 - accuracy: 0.4775 - val_loss: 2.0684 - val_accuracy: 0.2200\n",
      "Epoch 24/100\n",
      "7/7 [==============================] - 0s 25ms/step - loss: 1.4920 - accuracy: 0.4675 - val_loss: 2.0600 - val_accuracy: 0.2200\n",
      "Epoch 25/100\n",
      "7/7 [==============================] - 0s 24ms/step - loss: 1.4505 - accuracy: 0.5075 - val_loss: 2.0525 - val_accuracy: 0.2200\n",
      "Epoch 26/100\n",
      "7/7 [==============================] - 0s 25ms/step - loss: 1.4515 - accuracy: 0.4950 - val_loss: 2.0417 - val_accuracy: 0.2300\n",
      "Epoch 27/100\n",
      "7/7 [==============================] - 0s 24ms/step - loss: 1.3982 - accuracy: 0.5175 - val_loss: 2.0342 - val_accuracy: 0.2500\n",
      "Epoch 28/100\n",
      "7/7 [==============================] - 0s 24ms/step - loss: 1.4204 - accuracy: 0.5100 - val_loss: 2.0211 - val_accuracy: 0.2500\n",
      "Epoch 29/100\n",
      "7/7 [==============================] - 0s 25ms/step - loss: 1.3671 - accuracy: 0.5175 - val_loss: 2.0105 - val_accuracy: 0.2600\n",
      "Epoch 30/100\n",
      "7/7 [==============================] - 0s 24ms/step - loss: 1.3704 - accuracy: 0.5550 - val_loss: 2.0015 - val_accuracy: 0.2500\n",
      "Epoch 31/100\n",
      "7/7 [==============================] - 0s 24ms/step - loss: 1.3257 - accuracy: 0.5225 - val_loss: 1.9908 - val_accuracy: 0.2800\n",
      "Epoch 32/100\n",
      "7/7 [==============================] - 0s 25ms/step - loss: 1.3451 - accuracy: 0.5375 - val_loss: 1.9818 - val_accuracy: 0.2800\n",
      "Epoch 33/100\n",
      "7/7 [==============================] - 0s 24ms/step - loss: 1.2882 - accuracy: 0.5650 - val_loss: 1.9711 - val_accuracy: 0.2700\n",
      "Epoch 34/100\n",
      "7/7 [==============================] - 0s 25ms/step - loss: 1.2998 - accuracy: 0.5450 - val_loss: 1.9620 - val_accuracy: 0.2700\n",
      "Epoch 35/100\n",
      "7/7 [==============================] - 0s 24ms/step - loss: 1.2766 - accuracy: 0.5450 - val_loss: 1.9525 - val_accuracy: 0.2800\n",
      "Epoch 36/100\n",
      "7/7 [==============================] - 0s 24ms/step - loss: 1.2806 - accuracy: 0.5850 - val_loss: 1.9409 - val_accuracy: 0.2800\n",
      "Epoch 37/100\n",
      "7/7 [==============================] - 0s 24ms/step - loss: 1.2372 - accuracy: 0.5925 - val_loss: 1.9292 - val_accuracy: 0.2800\n",
      "Epoch 38/100\n",
      "7/7 [==============================] - 0s 24ms/step - loss: 1.1962 - accuracy: 0.6050 - val_loss: 1.9217 - val_accuracy: 0.3100\n",
      "Epoch 39/100\n",
      "7/7 [==============================] - 0s 25ms/step - loss: 1.1707 - accuracy: 0.6200 - val_loss: 1.9074 - val_accuracy: 0.2900\n",
      "Epoch 40/100\n",
      "7/7 [==============================] - 0s 24ms/step - loss: 1.1650 - accuracy: 0.6100 - val_loss: 1.8900 - val_accuracy: 0.3100\n",
      "Epoch 41/100\n",
      "7/7 [==============================] - 0s 24ms/step - loss: 1.1695 - accuracy: 0.6075 - val_loss: 1.8756 - val_accuracy: 0.3300\n",
      "Epoch 42/100\n",
      "7/7 [==============================] - 0s 24ms/step - loss: 1.1511 - accuracy: 0.6200 - val_loss: 1.8670 - val_accuracy: 0.3300\n",
      "Epoch 43/100\n",
      "7/7 [==============================] - 0s 25ms/step - loss: 1.1344 - accuracy: 0.6400 - val_loss: 1.8594 - val_accuracy: 0.3200\n",
      "Epoch 44/100\n",
      "7/7 [==============================] - 0s 24ms/step - loss: 1.0993 - accuracy: 0.6350 - val_loss: 1.8439 - val_accuracy: 0.3400\n",
      "Epoch 45/100\n",
      "7/7 [==============================] - 0s 25ms/step - loss: 1.0851 - accuracy: 0.6525 - val_loss: 1.8283 - val_accuracy: 0.3500\n",
      "Epoch 46/100\n",
      "7/7 [==============================] - 0s 24ms/step - loss: 1.0866 - accuracy: 0.6650 - val_loss: 1.8111 - val_accuracy: 0.3600\n",
      "Epoch 47/100\n",
      "7/7 [==============================] - 0s 25ms/step - loss: 1.0444 - accuracy: 0.6625 - val_loss: 1.7937 - val_accuracy: 0.3600\n",
      "Epoch 48/100\n",
      "7/7 [==============================] - 0s 27ms/step - loss: 1.0797 - accuracy: 0.6500 - val_loss: 1.7768 - val_accuracy: 0.3500\n",
      "Epoch 49/100\n",
      "7/7 [==============================] - 0s 24ms/step - loss: 1.0435 - accuracy: 0.6675 - val_loss: 1.7642 - val_accuracy: 0.3500\n",
      "Epoch 50/100\n",
      "7/7 [==============================] - 0s 24ms/step - loss: 1.0173 - accuracy: 0.6625 - val_loss: 1.7596 - val_accuracy: 0.3500\n",
      "Epoch 51/100\n",
      "7/7 [==============================] - 0s 24ms/step - loss: 1.0617 - accuracy: 0.6350 - val_loss: 1.7587 - val_accuracy: 0.3500\n",
      "Epoch 52/100\n",
      "7/7 [==============================] - 0s 24ms/step - loss: 0.9984 - accuracy: 0.6600 - val_loss: 1.7463 - val_accuracy: 0.3600\n",
      "Epoch 53/100\n",
      "7/7 [==============================] - 0s 25ms/step - loss: 0.9664 - accuracy: 0.7000 - val_loss: 1.7196 - val_accuracy: 0.4100\n",
      "Epoch 54/100\n",
      "7/7 [==============================] - 0s 24ms/step - loss: 0.9625 - accuracy: 0.7225 - val_loss: 1.7057 - val_accuracy: 0.4100\n",
      "Epoch 55/100\n",
      "7/7 [==============================] - 0s 24ms/step - loss: 0.9421 - accuracy: 0.7175 - val_loss: 1.6929 - val_accuracy: 0.4100\n",
      "Epoch 56/100\n",
      "7/7 [==============================] - 0s 25ms/step - loss: 0.9511 - accuracy: 0.7000 - val_loss: 1.6780 - val_accuracy: 0.4400\n",
      "Epoch 57/100\n",
      "7/7 [==============================] - 0s 24ms/step - loss: 0.9251 - accuracy: 0.7025 - val_loss: 1.6664 - val_accuracy: 0.4200\n",
      "Epoch 58/100\n",
      "7/7 [==============================] - 0s 25ms/step - loss: 0.9306 - accuracy: 0.7025 - val_loss: 1.6547 - val_accuracy: 0.4500\n",
      "Epoch 59/100\n",
      "7/7 [==============================] - 0s 25ms/step - loss: 0.9700 - accuracy: 0.6950 - val_loss: 1.6518 - val_accuracy: 0.4800\n",
      "Epoch 60/100\n",
      "7/7 [==============================] - 0s 24ms/step - loss: 0.9197 - accuracy: 0.7375 - val_loss: 1.6487 - val_accuracy: 0.4700\n",
      "Epoch 61/100\n",
      "7/7 [==============================] - 0s 25ms/step - loss: 0.8557 - accuracy: 0.7425 - val_loss: 1.6454 - val_accuracy: 0.4700\n",
      "Epoch 62/100\n",
      "7/7 [==============================] - 0s 23ms/step - loss: 0.8153 - accuracy: 0.7650 - val_loss: 1.6322 - val_accuracy: 0.4800\n",
      "Epoch 63/100\n",
      "7/7 [==============================] - 0s 24ms/step - loss: 0.8777 - accuracy: 0.7175 - val_loss: 1.6192 - val_accuracy: 0.4900\n",
      "Epoch 64/100\n",
      "7/7 [==============================] - 0s 24ms/step - loss: 0.8427 - accuracy: 0.7600 - val_loss: 1.6022 - val_accuracy: 0.5000\n",
      "Epoch 65/100\n",
      "7/7 [==============================] - 0s 25ms/step - loss: 0.8807 - accuracy: 0.7450 - val_loss: 1.5897 - val_accuracy: 0.5000\n",
      "Epoch 66/100\n",
      "7/7 [==============================] - 0s 25ms/step - loss: 0.8531 - accuracy: 0.7500 - val_loss: 1.5785 - val_accuracy: 0.5100\n",
      "Epoch 67/100\n",
      "7/7 [==============================] - 0s 24ms/step - loss: 0.8334 - accuracy: 0.7500 - val_loss: 1.5659 - val_accuracy: 0.5400\n",
      "Epoch 68/100\n",
      "7/7 [==============================] - 0s 24ms/step - loss: 0.8301 - accuracy: 0.7675 - val_loss: 1.5540 - val_accuracy: 0.5200\n",
      "Epoch 69/100\n",
      "7/7 [==============================] - 0s 25ms/step - loss: 0.8366 - accuracy: 0.7425 - val_loss: 1.5511 - val_accuracy: 0.5200\n",
      "Epoch 70/100\n",
      "7/7 [==============================] - 0s 24ms/step - loss: 0.8089 - accuracy: 0.7725 - val_loss: 1.5322 - val_accuracy: 0.5300\n",
      "Epoch 71/100\n",
      "7/7 [==============================] - 0s 25ms/step - loss: 0.7734 - accuracy: 0.7825 - val_loss: 1.5261 - val_accuracy: 0.5500\n",
      "Epoch 72/100\n",
      "7/7 [==============================] - 0s 25ms/step - loss: 0.7815 - accuracy: 0.7775 - val_loss: 1.5241 - val_accuracy: 0.5600\n",
      "Epoch 73/100\n",
      "7/7 [==============================] - 0s 24ms/step - loss: 0.7959 - accuracy: 0.7600 - val_loss: 1.5289 - val_accuracy: 0.5400\n",
      "Epoch 74/100\n",
      "7/7 [==============================] - 0s 24ms/step - loss: 0.7970 - accuracy: 0.7600 - val_loss: 1.5370 - val_accuracy: 0.5400\n",
      "Epoch 75/100\n",
      "7/7 [==============================] - 0s 25ms/step - loss: 0.7666 - accuracy: 0.7775 - val_loss: 1.5284 - val_accuracy: 0.5700\n",
      "Epoch 76/100\n",
      "7/7 [==============================] - 0s 25ms/step - loss: 0.7764 - accuracy: 0.7700 - val_loss: 1.4997 - val_accuracy: 0.5600\n",
      "Epoch 77/100\n",
      "7/7 [==============================] - 0s 25ms/step - loss: 0.7184 - accuracy: 0.7900 - val_loss: 1.4936 - val_accuracy: 0.5500\n",
      "Epoch 78/100\n",
      "7/7 [==============================] - 0s 25ms/step - loss: 0.7317 - accuracy: 0.7950 - val_loss: 1.4884 - val_accuracy: 0.5400\n",
      "Epoch 79/100\n",
      "7/7 [==============================] - 0s 25ms/step - loss: 0.7117 - accuracy: 0.7775 - val_loss: 1.5000 - val_accuracy: 0.5600\n",
      "Epoch 80/100\n",
      "7/7 [==============================] - 0s 25ms/step - loss: 0.7358 - accuracy: 0.7775 - val_loss: 1.5003 - val_accuracy: 0.5500\n",
      "Epoch 81/100\n",
      "7/7 [==============================] - 0s 26ms/step - loss: 0.6998 - accuracy: 0.8150 - val_loss: 1.5003 - val_accuracy: 0.5600\n",
      "Epoch 82/100\n",
      "7/7 [==============================] - 0s 26ms/step - loss: 0.6934 - accuracy: 0.7975 - val_loss: 1.5178 - val_accuracy: 0.5400\n",
      "Epoch 83/100\n",
      "7/7 [==============================] - 0s 25ms/step - loss: 0.7101 - accuracy: 0.7850 - val_loss: 1.5039 - val_accuracy: 0.5500\n",
      "Epoch 84/100\n",
      "7/7 [==============================] - 0s 26ms/step - loss: 0.7192 - accuracy: 0.7925 - val_loss: 1.4931 - val_accuracy: 0.5500\n",
      "Epoch 85/100\n",
      "7/7 [==============================] - 0s 29ms/step - loss: 0.7269 - accuracy: 0.7875 - val_loss: 1.4893 - val_accuracy: 0.5600\n",
      "Epoch 86/100\n",
      "7/7 [==============================] - 0s 33ms/step - loss: 0.6448 - accuracy: 0.8050 - val_loss: 1.5034 - val_accuracy: 0.5400\n",
      "Epoch 87/100\n",
      "7/7 [==============================] - 0s 30ms/step - loss: 0.7153 - accuracy: 0.7900 - val_loss: 1.4951 - val_accuracy: 0.5500\n",
      "Epoch 88/100\n",
      "7/7 [==============================] - 0s 33ms/step - loss: 0.6643 - accuracy: 0.8200 - val_loss: 1.4992 - val_accuracy: 0.5500\n",
      "Epoch 89/100\n",
      "7/7 [==============================] - 0s 30ms/step - loss: 0.6336 - accuracy: 0.8400 - val_loss: 1.4808 - val_accuracy: 0.5500\n",
      "Epoch 90/100\n",
      "7/7 [==============================] - 0s 29ms/step - loss: 0.6572 - accuracy: 0.7875 - val_loss: 1.4686 - val_accuracy: 0.5500\n",
      "Epoch 91/100\n",
      "7/7 [==============================] - 0s 29ms/step - loss: 0.6628 - accuracy: 0.8100 - val_loss: 1.4505 - val_accuracy: 0.5500\n",
      "Epoch 92/100\n",
      "7/7 [==============================] - 0s 29ms/step - loss: 0.6643 - accuracy: 0.8225 - val_loss: 1.4488 - val_accuracy: 0.5600\n",
      "Epoch 93/100\n",
      "7/7 [==============================] - 0s 30ms/step - loss: 0.6183 - accuracy: 0.8225 - val_loss: 1.4431 - val_accuracy: 0.5500\n",
      "Epoch 94/100\n",
      "7/7 [==============================] - 0s 29ms/step - loss: 0.6519 - accuracy: 0.8100 - val_loss: 1.4408 - val_accuracy: 0.5600\n",
      "Epoch 95/100\n",
      "7/7 [==============================] - 0s 30ms/step - loss: 0.6518 - accuracy: 0.8050 - val_loss: 1.4569 - val_accuracy: 0.5400\n",
      "Epoch 96/100\n",
      "7/7 [==============================] - 0s 36ms/step - loss: 0.6224 - accuracy: 0.8150 - val_loss: 1.4479 - val_accuracy: 0.5400\n",
      "Epoch 97/100\n",
      "7/7 [==============================] - 0s 31ms/step - loss: 0.5729 - accuracy: 0.8425 - val_loss: 1.4383 - val_accuracy: 0.5600\n",
      "Epoch 98/100\n",
      "7/7 [==============================] - 0s 31ms/step - loss: 0.6055 - accuracy: 0.8250 - val_loss: 1.4401 - val_accuracy: 0.5400\n",
      "Epoch 99/100\n",
      "7/7 [==============================] - 0s 29ms/step - loss: 0.5814 - accuracy: 0.8425 - val_loss: 1.4344 - val_accuracy: 0.5200\n",
      "Epoch 100/100\n",
      "7/7 [==============================] - 0s 24ms/step - loss: 0.6335 - accuracy: 0.7975 - val_loss: 1.4632 - val_accuracy: 0.5200\n"
     ]
    }
   ],
   "source": [
    "cnn_history_spect_norm = _NN_(cnn_spect_norm, X_train_2_spect_norm, X_test_2_spect_norm,\n",
    "                              y_train_2_spect_norm, y_test_2_spect_norm)"
   ],
   "metadata": {
    "collapsed": false,
    "ExecuteTime": {
     "end_time": "2024-04-30T01:58:45.021997100Z",
     "start_time": "2024-04-30T01:58:26.444412800Z"
    }
   },
   "id": "364b2158aa1694ea"
  },
  {
   "cell_type": "code",
   "execution_count": 67,
   "outputs": [
    {
     "name": "stdout",
     "output_type": "stream",
     "text": [
      "4/4 - 0s - loss: 2.6439 - accuracy: 0.1200 - 38ms/epoch - 10ms/step\n",
      "Loss: 2.643933057785034, Accuracy: 0.11999999731779099\n"
     ]
    }
   ],
   "source": [
    "_print_loss_accuracy(cnn_spect_norm, X_test_2_spect_norm, y_test_2_spect_norm)"
   ],
   "metadata": {
    "collapsed": false,
    "ExecuteTime": {
     "end_time": "2024-04-30T01:39:19.574380800Z",
     "start_time": "2024-04-30T01:39:19.508111500Z"
    }
   },
   "id": "ea3d4a7ceb602394"
  },
  {
   "cell_type": "code",
   "execution_count": 68,
   "outputs": [
    {
     "name": "stdout",
     "output_type": "stream",
     "text": [
      "Model: \"sequential_3\"\n",
      "_________________________________________________________________\n",
      " Layer (type)                Output Shape              Param #   \n",
      "=================================================================\n",
      " conv2d_9 (Conv2D)           (None, 15, 126, 32)       320       \n",
      "                                                                 \n",
      " max_pooling2d_9 (MaxPoolin  (None, 8, 63, 32)         0         \n",
      " g2D)                                                            \n",
      "                                                                 \n",
      " batch_normalization_9 (Bat  (None, 8, 63, 32)         128       \n",
      " chNormalization)                                                \n",
      "                                                                 \n",
      " conv2d_10 (Conv2D)          (None, 6, 61, 64)         18496     \n",
      "                                                                 \n",
      " max_pooling2d_10 (MaxPooli  (None, 3, 31, 64)         0         \n",
      " ng2D)                                                           \n",
      "                                                                 \n",
      " batch_normalization_10 (Ba  (None, 3, 31, 64)         256       \n",
      " tchNormalization)                                               \n",
      "                                                                 \n",
      " conv2d_11 (Conv2D)          (None, 2, 30, 64)         16448     \n",
      "                                                                 \n",
      " max_pooling2d_11 (MaxPooli  (None, 1, 15, 64)         0         \n",
      " ng2D)                                                           \n",
      "                                                                 \n",
      " batch_normalization_11 (Ba  (None, 1, 15, 64)         256       \n",
      " tchNormalization)                                               \n",
      "                                                                 \n",
      " flatten_3 (Flatten)         (None, 960)               0         \n",
      "                                                                 \n",
      " dense_6 (Dense)             (None, 64)                61504     \n",
      "                                                                 \n",
      " dropout_3 (Dropout)         (None, 64)                0         \n",
      "                                                                 \n",
      " dense_7 (Dense)             (None, 10)                650       \n",
      "                                                                 \n",
      "=================================================================\n",
      "Total params: 98058 (383.04 KB)\n",
      "Trainable params: 97738 (381.79 KB)\n",
      "Non-trainable params: 320 (1.25 KB)\n",
      "_________________________________________________________________\n"
     ]
    }
   ],
   "source": [
    "# Mel Spectogram decibels (dB)\n",
    "cnn_spect_db = _CNN_model_compile(X_train_2_spect_db)\n",
    "cnn_spect_db.summary()"
   ],
   "metadata": {
    "collapsed": false,
    "ExecuteTime": {
     "end_time": "2024-04-30T01:39:38.145684800Z",
     "start_time": "2024-04-30T01:39:38.075073800Z"
    }
   },
   "id": "2dbaf7e3e536e68d"
  },
  {
   "cell_type": "code",
   "execution_count": 69,
   "outputs": [
    {
     "name": "stdout",
     "output_type": "stream",
     "text": [
      "Epoch 1/100\n",
      "7/7 [==============================] - 1s 40ms/step - loss: 2.7369 - accuracy: 0.1100 - val_loss: 2.3322 - val_accuracy: 0.1500\n",
      "Epoch 2/100\n",
      "7/7 [==============================] - 0s 26ms/step - loss: 2.4680 - accuracy: 0.1450 - val_loss: 2.2876 - val_accuracy: 0.1400\n",
      "Epoch 3/100\n",
      "7/7 [==============================] - 0s 25ms/step - loss: 2.2749 - accuracy: 0.2025 - val_loss: 2.2536 - val_accuracy: 0.1300\n",
      "Epoch 4/100\n",
      "7/7 [==============================] - 0s 25ms/step - loss: 2.0890 - accuracy: 0.2125 - val_loss: 2.2275 - val_accuracy: 0.1300\n",
      "Epoch 5/100\n",
      "7/7 [==============================] - 0s 25ms/step - loss: 2.0229 - accuracy: 0.2575 - val_loss: 2.2102 - val_accuracy: 0.1500\n",
      "Epoch 6/100\n",
      "7/7 [==============================] - 0s 24ms/step - loss: 1.9899 - accuracy: 0.2875 - val_loss: 2.1953 - val_accuracy: 0.2800\n",
      "Epoch 7/100\n",
      "7/7 [==============================] - 0s 25ms/step - loss: 1.9510 - accuracy: 0.2675 - val_loss: 2.1814 - val_accuracy: 0.2400\n",
      "Epoch 8/100\n",
      "7/7 [==============================] - 0s 25ms/step - loss: 1.8991 - accuracy: 0.3375 - val_loss: 2.1716 - val_accuracy: 0.2200\n",
      "Epoch 9/100\n",
      "7/7 [==============================] - 0s 25ms/step - loss: 1.8638 - accuracy: 0.3125 - val_loss: 2.1658 - val_accuracy: 0.2300\n",
      "Epoch 10/100\n",
      "7/7 [==============================] - 0s 24ms/step - loss: 1.8062 - accuracy: 0.3950 - val_loss: 2.1631 - val_accuracy: 0.2200\n",
      "Epoch 11/100\n",
      "7/7 [==============================] - 0s 25ms/step - loss: 1.7918 - accuracy: 0.3725 - val_loss: 2.1587 - val_accuracy: 0.2200\n",
      "Epoch 12/100\n",
      "7/7 [==============================] - 0s 25ms/step - loss: 1.7383 - accuracy: 0.4100 - val_loss: 2.1532 - val_accuracy: 0.2200\n",
      "Epoch 13/100\n",
      "7/7 [==============================] - 0s 25ms/step - loss: 1.6728 - accuracy: 0.4175 - val_loss: 2.1464 - val_accuracy: 0.2200\n",
      "Epoch 14/100\n",
      "7/7 [==============================] - 0s 25ms/step - loss: 1.6970 - accuracy: 0.4275 - val_loss: 2.1387 - val_accuracy: 0.2200\n",
      "Epoch 15/100\n",
      "7/7 [==============================] - 0s 25ms/step - loss: 1.6205 - accuracy: 0.4725 - val_loss: 2.1315 - val_accuracy: 0.2200\n",
      "Epoch 16/100\n",
      "7/7 [==============================] - 0s 25ms/step - loss: 1.6616 - accuracy: 0.4425 - val_loss: 2.1257 - val_accuracy: 0.2200\n",
      "Epoch 17/100\n",
      "7/7 [==============================] - 0s 25ms/step - loss: 1.6209 - accuracy: 0.4425 - val_loss: 2.1231 - val_accuracy: 0.2100\n",
      "Epoch 18/100\n",
      "7/7 [==============================] - 0s 24ms/step - loss: 1.5736 - accuracy: 0.4525 - val_loss: 2.1159 - val_accuracy: 0.2200\n",
      "Epoch 19/100\n",
      "7/7 [==============================] - 0s 25ms/step - loss: 1.5426 - accuracy: 0.4700 - val_loss: 2.1100 - val_accuracy: 0.2400\n",
      "Epoch 20/100\n",
      "7/7 [==============================] - 0s 25ms/step - loss: 1.5096 - accuracy: 0.4825 - val_loss: 2.1019 - val_accuracy: 0.2500\n",
      "Epoch 21/100\n",
      "7/7 [==============================] - 0s 26ms/step - loss: 1.4899 - accuracy: 0.4800 - val_loss: 2.0945 - val_accuracy: 0.2800\n",
      "Epoch 22/100\n",
      "7/7 [==============================] - 0s 24ms/step - loss: 1.4854 - accuracy: 0.5050 - val_loss: 2.0873 - val_accuracy: 0.2800\n",
      "Epoch 23/100\n",
      "7/7 [==============================] - 0s 24ms/step - loss: 1.4610 - accuracy: 0.4975 - val_loss: 2.0766 - val_accuracy: 0.2700\n",
      "Epoch 24/100\n",
      "7/7 [==============================] - 0s 25ms/step - loss: 1.4275 - accuracy: 0.4675 - val_loss: 2.0685 - val_accuracy: 0.2500\n",
      "Epoch 25/100\n",
      "7/7 [==============================] - 0s 25ms/step - loss: 1.3908 - accuracy: 0.5175 - val_loss: 2.0616 - val_accuracy: 0.2600\n",
      "Epoch 26/100\n",
      "7/7 [==============================] - 0s 24ms/step - loss: 1.4079 - accuracy: 0.5200 - val_loss: 2.0554 - val_accuracy: 0.2700\n",
      "Epoch 27/100\n",
      "7/7 [==============================] - 0s 25ms/step - loss: 1.3972 - accuracy: 0.5025 - val_loss: 2.0491 - val_accuracy: 0.2700\n",
      "Epoch 28/100\n",
      "7/7 [==============================] - 0s 25ms/step - loss: 1.3492 - accuracy: 0.5450 - val_loss: 2.0414 - val_accuracy: 0.2700\n",
      "Epoch 29/100\n",
      "7/7 [==============================] - 0s 24ms/step - loss: 1.3365 - accuracy: 0.5450 - val_loss: 2.0342 - val_accuracy: 0.2800\n",
      "Epoch 30/100\n",
      "7/7 [==============================] - 0s 25ms/step - loss: 1.2812 - accuracy: 0.6000 - val_loss: 2.0271 - val_accuracy: 0.2700\n",
      "Epoch 31/100\n",
      "7/7 [==============================] - 0s 25ms/step - loss: 1.2561 - accuracy: 0.5700 - val_loss: 2.0205 - val_accuracy: 0.2700\n",
      "Epoch 32/100\n",
      "7/7 [==============================] - 0s 24ms/step - loss: 1.2579 - accuracy: 0.5975 - val_loss: 2.0129 - val_accuracy: 0.2800\n",
      "Epoch 33/100\n",
      "7/7 [==============================] - 0s 25ms/step - loss: 1.2656 - accuracy: 0.5675 - val_loss: 2.0013 - val_accuracy: 0.2700\n",
      "Epoch 34/100\n",
      "7/7 [==============================] - 0s 24ms/step - loss: 1.2446 - accuracy: 0.5975 - val_loss: 1.9911 - val_accuracy: 0.2700\n",
      "Epoch 35/100\n",
      "7/7 [==============================] - 0s 25ms/step - loss: 1.2184 - accuracy: 0.6050 - val_loss: 1.9844 - val_accuracy: 0.2700\n",
      "Epoch 36/100\n",
      "7/7 [==============================] - 0s 24ms/step - loss: 1.2213 - accuracy: 0.5825 - val_loss: 1.9758 - val_accuracy: 0.2800\n",
      "Epoch 37/100\n",
      "7/7 [==============================] - 0s 24ms/step - loss: 1.1846 - accuracy: 0.6250 - val_loss: 1.9621 - val_accuracy: 0.2800\n",
      "Epoch 38/100\n",
      "7/7 [==============================] - 0s 25ms/step - loss: 1.1915 - accuracy: 0.5975 - val_loss: 1.9501 - val_accuracy: 0.2800\n",
      "Epoch 39/100\n",
      "7/7 [==============================] - 0s 24ms/step - loss: 1.1124 - accuracy: 0.6375 - val_loss: 1.9395 - val_accuracy: 0.3000\n",
      "Epoch 40/100\n",
      "7/7 [==============================] - 0s 25ms/step - loss: 1.0826 - accuracy: 0.6675 - val_loss: 1.9269 - val_accuracy: 0.3000\n",
      "Epoch 41/100\n",
      "7/7 [==============================] - 0s 24ms/step - loss: 1.1328 - accuracy: 0.6300 - val_loss: 1.9217 - val_accuracy: 0.2900\n",
      "Epoch 42/100\n",
      "7/7 [==============================] - 0s 24ms/step - loss: 1.0816 - accuracy: 0.6625 - val_loss: 1.9243 - val_accuracy: 0.2900\n",
      "Epoch 43/100\n",
      "7/7 [==============================] - 0s 25ms/step - loss: 1.0851 - accuracy: 0.6475 - val_loss: 1.9197 - val_accuracy: 0.3000\n",
      "Epoch 44/100\n",
      "7/7 [==============================] - 0s 25ms/step - loss: 1.0669 - accuracy: 0.6475 - val_loss: 1.9145 - val_accuracy: 0.3000\n",
      "Epoch 45/100\n",
      "7/7 [==============================] - 0s 25ms/step - loss: 1.0310 - accuracy: 0.6750 - val_loss: 1.9058 - val_accuracy: 0.3000\n",
      "Epoch 46/100\n",
      "7/7 [==============================] - 0s 24ms/step - loss: 1.0619 - accuracy: 0.6475 - val_loss: 1.8941 - val_accuracy: 0.3000\n",
      "Epoch 47/100\n",
      "7/7 [==============================] - 0s 24ms/step - loss: 1.0523 - accuracy: 0.6225 - val_loss: 1.8789 - val_accuracy: 0.3100\n",
      "Epoch 48/100\n",
      "7/7 [==============================] - 0s 25ms/step - loss: 1.0155 - accuracy: 0.6800 - val_loss: 1.8619 - val_accuracy: 0.3300\n",
      "Epoch 49/100\n",
      "7/7 [==============================] - 0s 25ms/step - loss: 1.0124 - accuracy: 0.6600 - val_loss: 1.8439 - val_accuracy: 0.3400\n",
      "Epoch 50/100\n",
      "7/7 [==============================] - 0s 25ms/step - loss: 0.9950 - accuracy: 0.6650 - val_loss: 1.8328 - val_accuracy: 0.3400\n",
      "Epoch 51/100\n",
      "7/7 [==============================] - 0s 25ms/step - loss: 0.9947 - accuracy: 0.6750 - val_loss: 1.8170 - val_accuracy: 0.3500\n",
      "Epoch 52/100\n",
      "7/7 [==============================] - 0s 25ms/step - loss: 0.9598 - accuracy: 0.6875 - val_loss: 1.8014 - val_accuracy: 0.3800\n",
      "Epoch 53/100\n",
      "7/7 [==============================] - 0s 24ms/step - loss: 0.9829 - accuracy: 0.6675 - val_loss: 1.7773 - val_accuracy: 0.3900\n",
      "Epoch 54/100\n",
      "7/7 [==============================] - 0s 25ms/step - loss: 0.9151 - accuracy: 0.7325 - val_loss: 1.7652 - val_accuracy: 0.3900\n",
      "Epoch 55/100\n",
      "7/7 [==============================] - 0s 24ms/step - loss: 0.9263 - accuracy: 0.7150 - val_loss: 1.7462 - val_accuracy: 0.4000\n",
      "Epoch 56/100\n",
      "7/7 [==============================] - 0s 25ms/step - loss: 0.9161 - accuracy: 0.7225 - val_loss: 1.7327 - val_accuracy: 0.3900\n",
      "Epoch 57/100\n",
      "7/7 [==============================] - 0s 24ms/step - loss: 0.8970 - accuracy: 0.7375 - val_loss: 1.7265 - val_accuracy: 0.4000\n",
      "Epoch 58/100\n",
      "7/7 [==============================] - 0s 25ms/step - loss: 0.8990 - accuracy: 0.7150 - val_loss: 1.7186 - val_accuracy: 0.4000\n",
      "Epoch 59/100\n",
      "7/7 [==============================] - 0s 25ms/step - loss: 0.8815 - accuracy: 0.7375 - val_loss: 1.6854 - val_accuracy: 0.4300\n",
      "Epoch 60/100\n",
      "7/7 [==============================] - 0s 25ms/step - loss: 0.8931 - accuracy: 0.7275 - val_loss: 1.6545 - val_accuracy: 0.4500\n",
      "Epoch 61/100\n",
      "7/7 [==============================] - 0s 25ms/step - loss: 0.8979 - accuracy: 0.7175 - val_loss: 1.6541 - val_accuracy: 0.4600\n",
      "Epoch 62/100\n",
      "7/7 [==============================] - 0s 24ms/step - loss: 0.8402 - accuracy: 0.7750 - val_loss: 1.6658 - val_accuracy: 0.4500\n",
      "Epoch 63/100\n",
      "7/7 [==============================] - 0s 25ms/step - loss: 0.8474 - accuracy: 0.7450 - val_loss: 1.6536 - val_accuracy: 0.4800\n",
      "Epoch 64/100\n",
      "7/7 [==============================] - 0s 25ms/step - loss: 0.8622 - accuracy: 0.7200 - val_loss: 1.6051 - val_accuracy: 0.5000\n",
      "Epoch 65/100\n",
      "7/7 [==============================] - 0s 26ms/step - loss: 0.8290 - accuracy: 0.7375 - val_loss: 1.5719 - val_accuracy: 0.5200\n",
      "Epoch 66/100\n",
      "7/7 [==============================] - 0s 25ms/step - loss: 0.8318 - accuracy: 0.7400 - val_loss: 1.5496 - val_accuracy: 0.5300\n",
      "Epoch 67/100\n",
      "7/7 [==============================] - 0s 25ms/step - loss: 0.8128 - accuracy: 0.7575 - val_loss: 1.5345 - val_accuracy: 0.5300\n",
      "Epoch 68/100\n",
      "7/7 [==============================] - 0s 25ms/step - loss: 0.7968 - accuracy: 0.7700 - val_loss: 1.5343 - val_accuracy: 0.5200\n",
      "Epoch 69/100\n",
      "7/7 [==============================] - 0s 25ms/step - loss: 0.7756 - accuracy: 0.7725 - val_loss: 1.5452 - val_accuracy: 0.5200\n",
      "Epoch 70/100\n",
      "7/7 [==============================] - 0s 25ms/step - loss: 0.8060 - accuracy: 0.7575 - val_loss: 1.5636 - val_accuracy: 0.5000\n",
      "Epoch 71/100\n",
      "7/7 [==============================] - 0s 25ms/step - loss: 0.7799 - accuracy: 0.7625 - val_loss: 1.5388 - val_accuracy: 0.5000\n",
      "Epoch 72/100\n",
      "7/7 [==============================] - 0s 25ms/step - loss: 0.7137 - accuracy: 0.7950 - val_loss: 1.4972 - val_accuracy: 0.5200\n",
      "Epoch 73/100\n",
      "7/7 [==============================] - 0s 25ms/step - loss: 0.7458 - accuracy: 0.7700 - val_loss: 1.4778 - val_accuracy: 0.5000\n",
      "Epoch 74/100\n",
      "7/7 [==============================] - 0s 25ms/step - loss: 0.7537 - accuracy: 0.7625 - val_loss: 1.4949 - val_accuracy: 0.5100\n",
      "Epoch 75/100\n",
      "7/7 [==============================] - 0s 25ms/step - loss: 0.7735 - accuracy: 0.7625 - val_loss: 1.5123 - val_accuracy: 0.5100\n",
      "Epoch 76/100\n",
      "7/7 [==============================] - 0s 24ms/step - loss: 0.7217 - accuracy: 0.7725 - val_loss: 1.5021 - val_accuracy: 0.5000\n",
      "Epoch 77/100\n",
      "7/7 [==============================] - 0s 25ms/step - loss: 0.6909 - accuracy: 0.7800 - val_loss: 1.5090 - val_accuracy: 0.5000\n",
      "Epoch 78/100\n",
      "7/7 [==============================] - 0s 25ms/step - loss: 0.7339 - accuracy: 0.7950 - val_loss: 1.5271 - val_accuracy: 0.5100\n",
      "Epoch 79/100\n",
      "7/7 [==============================] - 0s 26ms/step - loss: 0.7677 - accuracy: 0.7625 - val_loss: 1.5325 - val_accuracy: 0.5100\n",
      "Epoch 80/100\n",
      "7/7 [==============================] - 0s 26ms/step - loss: 0.7408 - accuracy: 0.7600 - val_loss: 1.5390 - val_accuracy: 0.5100\n",
      "Epoch 81/100\n",
      "7/7 [==============================] - 0s 25ms/step - loss: 0.7086 - accuracy: 0.7925 - val_loss: 1.5127 - val_accuracy: 0.5000\n",
      "Epoch 82/100\n",
      "7/7 [==============================] - 0s 25ms/step - loss: 0.7122 - accuracy: 0.7900 - val_loss: 1.5165 - val_accuracy: 0.5200\n",
      "Epoch 83/100\n",
      "7/7 [==============================] - 0s 25ms/step - loss: 0.6826 - accuracy: 0.8000 - val_loss: 1.5332 - val_accuracy: 0.5100\n",
      "Epoch 84/100\n",
      "7/7 [==============================] - 0s 26ms/step - loss: 0.6678 - accuracy: 0.7925 - val_loss: 1.5047 - val_accuracy: 0.5200\n",
      "Epoch 85/100\n",
      "7/7 [==============================] - 0s 25ms/step - loss: 0.6980 - accuracy: 0.8000 - val_loss: 1.4539 - val_accuracy: 0.5300\n",
      "Epoch 86/100\n",
      "7/7 [==============================] - 0s 24ms/step - loss: 0.6814 - accuracy: 0.7900 - val_loss: 1.3914 - val_accuracy: 0.5200\n",
      "Epoch 87/100\n",
      "7/7 [==============================] - 0s 24ms/step - loss: 0.6581 - accuracy: 0.7925 - val_loss: 1.3623 - val_accuracy: 0.5400\n",
      "Epoch 88/100\n",
      "7/7 [==============================] - 0s 24ms/step - loss: 0.6354 - accuracy: 0.8125 - val_loss: 1.3885 - val_accuracy: 0.5600\n",
      "Epoch 89/100\n",
      "7/7 [==============================] - 0s 23ms/step - loss: 0.6456 - accuracy: 0.8075 - val_loss: 1.4044 - val_accuracy: 0.5600\n",
      "Epoch 90/100\n",
      "7/7 [==============================] - 0s 24ms/step - loss: 0.6249 - accuracy: 0.8275 - val_loss: 1.4401 - val_accuracy: 0.5500\n",
      "Epoch 91/100\n",
      "7/7 [==============================] - 0s 25ms/step - loss: 0.6342 - accuracy: 0.8050 - val_loss: 1.4382 - val_accuracy: 0.5500\n",
      "Epoch 92/100\n",
      "7/7 [==============================] - 0s 25ms/step - loss: 0.6186 - accuracy: 0.8200 - val_loss: 1.4233 - val_accuracy: 0.5600\n",
      "Epoch 93/100\n",
      "7/7 [==============================] - 0s 24ms/step - loss: 0.6034 - accuracy: 0.8300 - val_loss: 1.3763 - val_accuracy: 0.5600\n",
      "Epoch 94/100\n",
      "7/7 [==============================] - 0s 24ms/step - loss: 0.6385 - accuracy: 0.8200 - val_loss: 1.3558 - val_accuracy: 0.5500\n",
      "Epoch 95/100\n",
      "7/7 [==============================] - 0s 25ms/step - loss: 0.6379 - accuracy: 0.8150 - val_loss: 1.3520 - val_accuracy: 0.5500\n",
      "Epoch 96/100\n",
      "7/7 [==============================] - 0s 24ms/step - loss: 0.6177 - accuracy: 0.8125 - val_loss: 1.3725 - val_accuracy: 0.5600\n",
      "Epoch 97/100\n",
      "7/7 [==============================] - 0s 24ms/step - loss: 0.5939 - accuracy: 0.8300 - val_loss: 1.3904 - val_accuracy: 0.5600\n",
      "Epoch 98/100\n",
      "7/7 [==============================] - 0s 24ms/step - loss: 0.6197 - accuracy: 0.8050 - val_loss: 1.3768 - val_accuracy: 0.5600\n",
      "Epoch 99/100\n",
      "7/7 [==============================] - 0s 25ms/step - loss: 0.5822 - accuracy: 0.8275 - val_loss: 1.3711 - val_accuracy: 0.5600\n",
      "Epoch 100/100\n",
      "7/7 [==============================] - 0s 24ms/step - loss: 0.5879 - accuracy: 0.8275 - val_loss: 1.3345 - val_accuracy: 0.5400\n"
     ]
    }
   ],
   "source": [
    "cnn_history_spect_db = _NN_(cnn_spect_db, X_train_2_spect_db, X_test_2_spect_db, y_train_2_spect_db, y_test_2_spect_db)"
   ],
   "metadata": {
    "collapsed": false,
    "ExecuteTime": {
     "end_time": "2024-04-30T01:40:04.333376800Z",
     "start_time": "2024-04-30T01:39:46.455058300Z"
    }
   },
   "id": "674fdc3b11c3c34a"
  },
  {
   "cell_type": "code",
   "execution_count": 70,
   "outputs": [
    {
     "name": "stdout",
     "output_type": "stream",
     "text": [
      "4/4 - 0s - loss: 1.3345 - accuracy: 0.5400 - 44ms/epoch - 11ms/step\n",
      "Loss: 1.334529995918274, Accuracy: 0.5400000214576721\n"
     ]
    }
   ],
   "source": [
    "_print_loss_accuracy(cnn_spect_db, X_test_2_spect_db, y_test_2_spect_db)"
   ],
   "metadata": {
    "collapsed": false,
    "ExecuteTime": {
     "end_time": "2024-04-30T01:40:09.330028900Z",
     "start_time": "2024-04-30T01:40:09.258101300Z"
    }
   },
   "id": "c62d5965688ee776"
  },
  {
   "cell_type": "code",
   "execution_count": 75,
   "outputs": [
    {
     "name": "stdout",
     "output_type": "stream",
     "text": [
      "Model: \"sequential_6\"\n",
      "_________________________________________________________________\n",
      " Layer (type)                Output Shape              Param #   \n",
      "=================================================================\n",
      " conv2d_18 (Conv2D)          (None, 15, 18, 32)        320       \n",
      "                                                                 \n",
      " max_pooling2d_18 (MaxPooli  (None, 8, 9, 32)          0         \n",
      " ng2D)                                                           \n",
      "                                                                 \n",
      " batch_normalization_18 (Ba  (None, 8, 9, 32)          128       \n",
      " tchNormalization)                                               \n",
      "                                                                 \n",
      " conv2d_19 (Conv2D)          (None, 6, 7, 64)          18496     \n",
      "                                                                 \n",
      " max_pooling2d_19 (MaxPooli  (None, 3, 4, 64)          0         \n",
      " ng2D)                                                           \n",
      "                                                                 \n",
      " batch_normalization_19 (Ba  (None, 3, 4, 64)          256       \n",
      " tchNormalization)                                               \n",
      "                                                                 \n",
      " conv2d_20 (Conv2D)          (None, 2, 3, 64)          16448     \n",
      "                                                                 \n",
      " max_pooling2d_20 (MaxPooli  (None, 1, 2, 64)          0         \n",
      " ng2D)                                                           \n",
      "                                                                 \n",
      " batch_normalization_20 (Ba  (None, 1, 2, 64)          256       \n",
      " tchNormalization)                                               \n",
      "                                                                 \n",
      " flatten_6 (Flatten)         (None, 128)               0         \n",
      "                                                                 \n",
      " dense_12 (Dense)            (None, 64)                8256      \n",
      "                                                                 \n",
      " dropout_6 (Dropout)         (None, 64)                0         \n",
      "                                                                 \n",
      " dense_13 (Dense)            (None, 10)                650       \n",
      "                                                                 \n",
      "=================================================================\n",
      "Total params: 44810 (175.04 KB)\n",
      "Trainable params: 44490 (173.79 KB)\n",
      "Non-trainable params: 320 (1.25 KB)\n",
      "_________________________________________________________________\n"
     ]
    }
   ],
   "source": [
    "# Mel-Frequency Cepstral Coefficients\n",
    "cnn_mfcc = _CNN_model_compile(X_train_2_mfcc)\n",
    "cnn_mfcc.summary()"
   ],
   "metadata": {
    "collapsed": false,
    "ExecuteTime": {
     "end_time": "2024-04-30T01:41:09.644307200Z",
     "start_time": "2024-04-30T01:41:09.544422900Z"
    }
   },
   "id": "bb42c53522dad80d"
  },
  {
   "cell_type": "code",
   "execution_count": 76,
   "outputs": [
    {
     "name": "stdout",
     "output_type": "stream",
     "text": [
      "Epoch 1/100\n",
      "7/7 [==============================] - 1s 29ms/step - loss: 2.8158 - accuracy: 0.1625 - val_loss: 3.1138 - val_accuracy: 0.1300\n",
      "Epoch 2/100\n",
      "7/7 [==============================] - 0s 16ms/step - loss: 2.3316 - accuracy: 0.2850 - val_loss: 2.7004 - val_accuracy: 0.1400\n",
      "Epoch 3/100\n",
      "7/7 [==============================] - 0s 16ms/step - loss: 1.9013 - accuracy: 0.4050 - val_loss: 2.4791 - val_accuracy: 0.1500\n",
      "Epoch 4/100\n",
      "7/7 [==============================] - 0s 15ms/step - loss: 1.6757 - accuracy: 0.4625 - val_loss: 2.3463 - val_accuracy: 0.1800\n",
      "Epoch 5/100\n",
      "7/7 [==============================] - 0s 16ms/step - loss: 1.4956 - accuracy: 0.5000 - val_loss: 2.2475 - val_accuracy: 0.1900\n",
      "Epoch 6/100\n",
      "7/7 [==============================] - 0s 16ms/step - loss: 1.3025 - accuracy: 0.5825 - val_loss: 2.1585 - val_accuracy: 0.3300\n",
      "Epoch 7/100\n",
      "7/7 [==============================] - 0s 15ms/step - loss: 1.2306 - accuracy: 0.5950 - val_loss: 2.0832 - val_accuracy: 0.3500\n",
      "Epoch 8/100\n",
      "7/7 [==============================] - 0s 15ms/step - loss: 1.0668 - accuracy: 0.6625 - val_loss: 2.0226 - val_accuracy: 0.3500\n",
      "Epoch 9/100\n",
      "7/7 [==============================] - 0s 16ms/step - loss: 1.0725 - accuracy: 0.6375 - val_loss: 1.9624 - val_accuracy: 0.3600\n",
      "Epoch 10/100\n",
      "7/7 [==============================] - 0s 15ms/step - loss: 0.9977 - accuracy: 0.6925 - val_loss: 1.9015 - val_accuracy: 0.3800\n",
      "Epoch 11/100\n",
      "7/7 [==============================] - 0s 15ms/step - loss: 0.9636 - accuracy: 0.6900 - val_loss: 1.8464 - val_accuracy: 0.4500\n",
      "Epoch 12/100\n",
      "7/7 [==============================] - 0s 15ms/step - loss: 0.8694 - accuracy: 0.7375 - val_loss: 1.8048 - val_accuracy: 0.4700\n",
      "Epoch 13/100\n",
      "7/7 [==============================] - 0s 15ms/step - loss: 0.8156 - accuracy: 0.7600 - val_loss: 1.7731 - val_accuracy: 0.4700\n",
      "Epoch 14/100\n",
      "7/7 [==============================] - 0s 15ms/step - loss: 0.7860 - accuracy: 0.7725 - val_loss: 1.7373 - val_accuracy: 0.4800\n",
      "Epoch 15/100\n",
      "7/7 [==============================] - 0s 15ms/step - loss: 0.7354 - accuracy: 0.8025 - val_loss: 1.7008 - val_accuracy: 0.5600\n",
      "Epoch 16/100\n",
      "7/7 [==============================] - 0s 15ms/step - loss: 0.7371 - accuracy: 0.8000 - val_loss: 1.6612 - val_accuracy: 0.5800\n",
      "Epoch 17/100\n",
      "7/7 [==============================] - 0s 15ms/step - loss: 0.6859 - accuracy: 0.8025 - val_loss: 1.6232 - val_accuracy: 0.5700\n",
      "Epoch 18/100\n",
      "7/7 [==============================] - 0s 16ms/step - loss: 0.6444 - accuracy: 0.8450 - val_loss: 1.5907 - val_accuracy: 0.5900\n",
      "Epoch 19/100\n",
      "7/7 [==============================] - 0s 14ms/step - loss: 0.6525 - accuracy: 0.8425 - val_loss: 1.5519 - val_accuracy: 0.6000\n",
      "Epoch 20/100\n",
      "7/7 [==============================] - 0s 15ms/step - loss: 0.6382 - accuracy: 0.8050 - val_loss: 1.5171 - val_accuracy: 0.6000\n",
      "Epoch 21/100\n",
      "7/7 [==============================] - 0s 15ms/step - loss: 0.5951 - accuracy: 0.8275 - val_loss: 1.4827 - val_accuracy: 0.7200\n",
      "Epoch 22/100\n",
      "7/7 [==============================] - 0s 14ms/step - loss: 0.6204 - accuracy: 0.8225 - val_loss: 1.4452 - val_accuracy: 0.7200\n",
      "Epoch 23/100\n",
      "7/7 [==============================] - 0s 15ms/step - loss: 0.5547 - accuracy: 0.8525 - val_loss: 1.4097 - val_accuracy: 0.7300\n",
      "Epoch 24/100\n",
      "7/7 [==============================] - 0s 14ms/step - loss: 0.5309 - accuracy: 0.8450 - val_loss: 1.3715 - val_accuracy: 0.7400\n",
      "Epoch 25/100\n",
      "7/7 [==============================] - 0s 15ms/step - loss: 0.5015 - accuracy: 0.8950 - val_loss: 1.3230 - val_accuracy: 0.7500\n",
      "Epoch 26/100\n",
      "7/7 [==============================] - 0s 15ms/step - loss: 0.5105 - accuracy: 0.8750 - val_loss: 1.2828 - val_accuracy: 0.7500\n",
      "Epoch 27/100\n",
      "7/7 [==============================] - 0s 16ms/step - loss: 0.4739 - accuracy: 0.9000 - val_loss: 1.2474 - val_accuracy: 0.7500\n",
      "Epoch 28/100\n",
      "7/7 [==============================] - 0s 15ms/step - loss: 0.4953 - accuracy: 0.8600 - val_loss: 1.2179 - val_accuracy: 0.7500\n",
      "Epoch 29/100\n",
      "7/7 [==============================] - 0s 15ms/step - loss: 0.4530 - accuracy: 0.9100 - val_loss: 1.1922 - val_accuracy: 0.7500\n",
      "Epoch 30/100\n",
      "7/7 [==============================] - 0s 14ms/step - loss: 0.4840 - accuracy: 0.8800 - val_loss: 1.1641 - val_accuracy: 0.7500\n",
      "Epoch 31/100\n",
      "7/7 [==============================] - 0s 15ms/step - loss: 0.4164 - accuracy: 0.9025 - val_loss: 1.1303 - val_accuracy: 0.7600\n",
      "Epoch 32/100\n",
      "7/7 [==============================] - 0s 15ms/step - loss: 0.4368 - accuracy: 0.9050 - val_loss: 1.0980 - val_accuracy: 0.7600\n",
      "Epoch 33/100\n",
      "7/7 [==============================] - 0s 14ms/step - loss: 0.3946 - accuracy: 0.9050 - val_loss: 1.0622 - val_accuracy: 0.7600\n",
      "Epoch 34/100\n",
      "7/7 [==============================] - 0s 15ms/step - loss: 0.3788 - accuracy: 0.9250 - val_loss: 1.0283 - val_accuracy: 0.7700\n",
      "Epoch 35/100\n",
      "7/7 [==============================] - 0s 15ms/step - loss: 0.3841 - accuracy: 0.9200 - val_loss: 0.9934 - val_accuracy: 0.7700\n",
      "Epoch 36/100\n",
      "7/7 [==============================] - 0s 15ms/step - loss: 0.3829 - accuracy: 0.9000 - val_loss: 0.9631 - val_accuracy: 0.7800\n",
      "Epoch 37/100\n",
      "7/7 [==============================] - 0s 15ms/step - loss: 0.3586 - accuracy: 0.9150 - val_loss: 0.9213 - val_accuracy: 0.7800\n",
      "Epoch 38/100\n",
      "7/7 [==============================] - 0s 15ms/step - loss: 0.3398 - accuracy: 0.9425 - val_loss: 0.8861 - val_accuracy: 0.7800\n",
      "Epoch 39/100\n",
      "7/7 [==============================] - 0s 15ms/step - loss: 0.3598 - accuracy: 0.9150 - val_loss: 0.8547 - val_accuracy: 0.7900\n",
      "Epoch 40/100\n",
      "7/7 [==============================] - 0s 15ms/step - loss: 0.3670 - accuracy: 0.9050 - val_loss: 0.8269 - val_accuracy: 0.8100\n",
      "Epoch 41/100\n",
      "7/7 [==============================] - 0s 16ms/step - loss: 0.3189 - accuracy: 0.9350 - val_loss: 0.8058 - val_accuracy: 0.8300\n",
      "Epoch 42/100\n",
      "7/7 [==============================] - 0s 15ms/step - loss: 0.3186 - accuracy: 0.9225 - val_loss: 0.7713 - val_accuracy: 0.8200\n",
      "Epoch 43/100\n",
      "7/7 [==============================] - 0s 14ms/step - loss: 0.2943 - accuracy: 0.9450 - val_loss: 0.7438 - val_accuracy: 0.8200\n",
      "Epoch 44/100\n",
      "7/7 [==============================] - 0s 15ms/step - loss: 0.3106 - accuracy: 0.9400 - val_loss: 0.7224 - val_accuracy: 0.8200\n",
      "Epoch 45/100\n",
      "7/7 [==============================] - 0s 15ms/step - loss: 0.2756 - accuracy: 0.9475 - val_loss: 0.6995 - val_accuracy: 0.8200\n",
      "Epoch 46/100\n",
      "7/7 [==============================] - 0s 14ms/step - loss: 0.3016 - accuracy: 0.9325 - val_loss: 0.6709 - val_accuracy: 0.8300\n",
      "Epoch 47/100\n",
      "7/7 [==============================] - 0s 14ms/step - loss: 0.2707 - accuracy: 0.9475 - val_loss: 0.6523 - val_accuracy: 0.8300\n",
      "Epoch 48/100\n",
      "7/7 [==============================] - 0s 15ms/step - loss: 0.2823 - accuracy: 0.9325 - val_loss: 0.6394 - val_accuracy: 0.8200\n",
      "Epoch 49/100\n",
      "7/7 [==============================] - 0s 15ms/step - loss: 0.2604 - accuracy: 0.9425 - val_loss: 0.6277 - val_accuracy: 0.8200\n",
      "Epoch 50/100\n",
      "7/7 [==============================] - 0s 15ms/step - loss: 0.2689 - accuracy: 0.9525 - val_loss: 0.6084 - val_accuracy: 0.8400\n",
      "Epoch 51/100\n",
      "7/7 [==============================] - 0s 15ms/step - loss: 0.2729 - accuracy: 0.9275 - val_loss: 0.5922 - val_accuracy: 0.8400\n",
      "Epoch 52/100\n",
      "7/7 [==============================] - 0s 15ms/step - loss: 0.2528 - accuracy: 0.9475 - val_loss: 0.5789 - val_accuracy: 0.8300\n",
      "Epoch 53/100\n",
      "7/7 [==============================] - 0s 17ms/step - loss: 0.2358 - accuracy: 0.9450 - val_loss: 0.5661 - val_accuracy: 0.8300\n",
      "Epoch 54/100\n",
      "7/7 [==============================] - 0s 15ms/step - loss: 0.2450 - accuracy: 0.9450 - val_loss: 0.5498 - val_accuracy: 0.8300\n",
      "Epoch 55/100\n",
      "7/7 [==============================] - 0s 14ms/step - loss: 0.2287 - accuracy: 0.9575 - val_loss: 0.5347 - val_accuracy: 0.8500\n",
      "Epoch 56/100\n",
      "7/7 [==============================] - 0s 14ms/step - loss: 0.2269 - accuracy: 0.9650 - val_loss: 0.5247 - val_accuracy: 0.8400\n",
      "Epoch 57/100\n",
      "7/7 [==============================] - 0s 15ms/step - loss: 0.2318 - accuracy: 0.9600 - val_loss: 0.5173 - val_accuracy: 0.8400\n",
      "Epoch 58/100\n",
      "7/7 [==============================] - 0s 15ms/step - loss: 0.2148 - accuracy: 0.9675 - val_loss: 0.5142 - val_accuracy: 0.8400\n",
      "Epoch 59/100\n",
      "7/7 [==============================] - 0s 15ms/step - loss: 0.2036 - accuracy: 0.9600 - val_loss: 0.5097 - val_accuracy: 0.8400\n",
      "Epoch 60/100\n",
      "7/7 [==============================] - 0s 14ms/step - loss: 0.2230 - accuracy: 0.9500 - val_loss: 0.5002 - val_accuracy: 0.8600\n",
      "Epoch 61/100\n",
      "7/7 [==============================] - 0s 15ms/step - loss: 0.1848 - accuracy: 0.9700 - val_loss: 0.4933 - val_accuracy: 0.8600\n",
      "Epoch 62/100\n",
      "7/7 [==============================] - 0s 16ms/step - loss: 0.2152 - accuracy: 0.9600 - val_loss: 0.4886 - val_accuracy: 0.8600\n",
      "Epoch 63/100\n",
      "7/7 [==============================] - 0s 15ms/step - loss: 0.2258 - accuracy: 0.9475 - val_loss: 0.4837 - val_accuracy: 0.8700\n",
      "Epoch 64/100\n",
      "7/7 [==============================] - 0s 14ms/step - loss: 0.2040 - accuracy: 0.9525 - val_loss: 0.4817 - val_accuracy: 0.8600\n",
      "Epoch 65/100\n",
      "7/7 [==============================] - 0s 14ms/step - loss: 0.1715 - accuracy: 0.9700 - val_loss: 0.4819 - val_accuracy: 0.8600\n",
      "Epoch 66/100\n",
      "7/7 [==============================] - 0s 14ms/step - loss: 0.1963 - accuracy: 0.9525 - val_loss: 0.4772 - val_accuracy: 0.8800\n",
      "Epoch 67/100\n",
      "7/7 [==============================] - 0s 15ms/step - loss: 0.2010 - accuracy: 0.9625 - val_loss: 0.4702 - val_accuracy: 0.8500\n",
      "Epoch 68/100\n",
      "7/7 [==============================] - 0s 14ms/step - loss: 0.1704 - accuracy: 0.9750 - val_loss: 0.4653 - val_accuracy: 0.8600\n",
      "Epoch 69/100\n",
      "7/7 [==============================] - 0s 14ms/step - loss: 0.1931 - accuracy: 0.9525 - val_loss: 0.4623 - val_accuracy: 0.8700\n",
      "Epoch 70/100\n",
      "7/7 [==============================] - 0s 15ms/step - loss: 0.1788 - accuracy: 0.9750 - val_loss: 0.4580 - val_accuracy: 0.8700\n",
      "Epoch 71/100\n",
      "7/7 [==============================] - 0s 14ms/step - loss: 0.1603 - accuracy: 0.9775 - val_loss: 0.4525 - val_accuracy: 0.8600\n",
      "Epoch 72/100\n",
      "7/7 [==============================] - 0s 15ms/step - loss: 0.1593 - accuracy: 0.9750 - val_loss: 0.4473 - val_accuracy: 0.8800\n",
      "Epoch 73/100\n",
      "7/7 [==============================] - 0s 15ms/step - loss: 0.1513 - accuracy: 0.9825 - val_loss: 0.4414 - val_accuracy: 0.8700\n",
      "Epoch 74/100\n",
      "7/7 [==============================] - 0s 14ms/step - loss: 0.1478 - accuracy: 0.9825 - val_loss: 0.4406 - val_accuracy: 0.8800\n",
      "Epoch 75/100\n",
      "7/7 [==============================] - 0s 15ms/step - loss: 0.1391 - accuracy: 0.9775 - val_loss: 0.4468 - val_accuracy: 0.8600\n",
      "Epoch 76/100\n",
      "7/7 [==============================] - 0s 15ms/step - loss: 0.1368 - accuracy: 0.9850 - val_loss: 0.4435 - val_accuracy: 0.8800\n",
      "Epoch 77/100\n",
      "7/7 [==============================] - 0s 15ms/step - loss: 0.1523 - accuracy: 0.9875 - val_loss: 0.4404 - val_accuracy: 0.8800\n",
      "Epoch 78/100\n",
      "7/7 [==============================] - 0s 15ms/step - loss: 0.1443 - accuracy: 0.9750 - val_loss: 0.4315 - val_accuracy: 0.8800\n",
      "Epoch 79/100\n",
      "7/7 [==============================] - 0s 14ms/step - loss: 0.1334 - accuracy: 0.9825 - val_loss: 0.4271 - val_accuracy: 0.8800\n",
      "Epoch 80/100\n",
      "7/7 [==============================] - 0s 15ms/step - loss: 0.1282 - accuracy: 0.9850 - val_loss: 0.4225 - val_accuracy: 0.8800\n",
      "Epoch 81/100\n",
      "7/7 [==============================] - 0s 15ms/step - loss: 0.1313 - accuracy: 0.9800 - val_loss: 0.4195 - val_accuracy: 0.8800\n",
      "Epoch 82/100\n",
      "7/7 [==============================] - 0s 14ms/step - loss: 0.1415 - accuracy: 0.9800 - val_loss: 0.4216 - val_accuracy: 0.8800\n",
      "Epoch 83/100\n",
      "7/7 [==============================] - 0s 15ms/step - loss: 0.1242 - accuracy: 0.9800 - val_loss: 0.4222 - val_accuracy: 0.8800\n",
      "Epoch 84/100\n",
      "7/7 [==============================] - 0s 15ms/step - loss: 0.1270 - accuracy: 0.9775 - val_loss: 0.4167 - val_accuracy: 0.8800\n",
      "Epoch 85/100\n",
      "7/7 [==============================] - 0s 15ms/step - loss: 0.1147 - accuracy: 0.9900 - val_loss: 0.4120 - val_accuracy: 0.8600\n",
      "Epoch 86/100\n",
      "7/7 [==============================] - 0s 15ms/step - loss: 0.1212 - accuracy: 0.9825 - val_loss: 0.4080 - val_accuracy: 0.8600\n",
      "Epoch 87/100\n",
      "7/7 [==============================] - 0s 14ms/step - loss: 0.1065 - accuracy: 0.9875 - val_loss: 0.4021 - val_accuracy: 0.8600\n",
      "Epoch 88/100\n",
      "7/7 [==============================] - 0s 15ms/step - loss: 0.1045 - accuracy: 0.9875 - val_loss: 0.4022 - val_accuracy: 0.8600\n",
      "Epoch 89/100\n",
      "7/7 [==============================] - 0s 14ms/step - loss: 0.1104 - accuracy: 0.9900 - val_loss: 0.4035 - val_accuracy: 0.8600\n",
      "Epoch 90/100\n",
      "7/7 [==============================] - 0s 16ms/step - loss: 0.1069 - accuracy: 0.9900 - val_loss: 0.4013 - val_accuracy: 0.8600\n",
      "Epoch 91/100\n",
      "7/7 [==============================] - 0s 15ms/step - loss: 0.1126 - accuracy: 0.9825 - val_loss: 0.4006 - val_accuracy: 0.8700\n",
      "Epoch 92/100\n",
      "7/7 [==============================] - 0s 14ms/step - loss: 0.1074 - accuracy: 0.9850 - val_loss: 0.4046 - val_accuracy: 0.8700\n",
      "Epoch 93/100\n",
      "7/7 [==============================] - 0s 15ms/step - loss: 0.1080 - accuracy: 0.9900 - val_loss: 0.4061 - val_accuracy: 0.8600\n",
      "Epoch 94/100\n",
      "7/7 [==============================] - 0s 14ms/step - loss: 0.0946 - accuracy: 0.9925 - val_loss: 0.4039 - val_accuracy: 0.8600\n",
      "Epoch 95/100\n",
      "7/7 [==============================] - 0s 14ms/step - loss: 0.1009 - accuracy: 0.9850 - val_loss: 0.4013 - val_accuracy: 0.8600\n",
      "Epoch 96/100\n",
      "7/7 [==============================] - 0s 14ms/step - loss: 0.1000 - accuracy: 0.9925 - val_loss: 0.3990 - val_accuracy: 0.8600\n",
      "Epoch 97/100\n",
      "7/7 [==============================] - 0s 15ms/step - loss: 0.1134 - accuracy: 0.9825 - val_loss: 0.3985 - val_accuracy: 0.8600\n",
      "Epoch 98/100\n",
      "7/7 [==============================] - 0s 16ms/step - loss: 0.0882 - accuracy: 0.9925 - val_loss: 0.4043 - val_accuracy: 0.8700\n",
      "Epoch 99/100\n",
      "7/7 [==============================] - 0s 14ms/step - loss: 0.0993 - accuracy: 0.9875 - val_loss: 0.4028 - val_accuracy: 0.8700\n",
      "Epoch 100/100\n",
      "7/7 [==============================] - 0s 15ms/step - loss: 0.1119 - accuracy: 0.9900 - val_loss: 0.4040 - val_accuracy: 0.8700\n"
     ]
    }
   ],
   "source": [
    "cnn_history_mfcc = _NN_(cnn_mfcc, X_train_2_mfcc, X_test_2_mfcc, y_train_2_mfcc, y_test_2_mfcc)"
   ],
   "metadata": {
    "collapsed": false,
    "ExecuteTime": {
     "end_time": "2024-04-30T01:41:21.832845900Z",
     "start_time": "2024-04-30T01:41:10.380846600Z"
    }
   },
   "id": "60d0965ea9693a53"
  },
  {
   "cell_type": "code",
   "execution_count": 77,
   "outputs": [
    {
     "name": "stdout",
     "output_type": "stream",
     "text": [
      "4/4 - 0s - loss: 0.4040 - accuracy: 0.8700 - 34ms/epoch - 9ms/step\n",
      "Loss: 0.4039766788482666, Accuracy: 0.8700000047683716\n"
     ]
    }
   ],
   "source": [
    "_print_loss_accuracy(cnn_mfcc, X_test_2_mfcc, y_test_2_mfcc)"
   ],
   "metadata": {
    "collapsed": false,
    "ExecuteTime": {
     "end_time": "2024-04-30T01:41:29.212302300Z",
     "start_time": "2024-04-30T01:41:29.152317200Z"
    }
   },
   "id": "acf341734e23cba4"
  },
  {
   "cell_type": "code",
   "execution_count": 84,
   "outputs": [
    {
     "name": "stdout",
     "output_type": "stream",
     "text": [
      "Model: \"sequential_7\"\n",
      "_________________________________________________________________\n",
      " Layer (type)                Output Shape              Param #   \n",
      "=================================================================\n",
      " conv2d_21 (Conv2D)          (None, 15, 18, 32)        320       \n",
      "                                                                 \n",
      " max_pooling2d_21 (MaxPooli  (None, 8, 9, 32)          0         \n",
      " ng2D)                                                           \n",
      "                                                                 \n",
      " batch_normalization_21 (Ba  (None, 8, 9, 32)          128       \n",
      " tchNormalization)                                               \n",
      "                                                                 \n",
      " conv2d_22 (Conv2D)          (None, 6, 7, 64)          18496     \n",
      "                                                                 \n",
      " max_pooling2d_22 (MaxPooli  (None, 3, 4, 64)          0         \n",
      " ng2D)                                                           \n",
      "                                                                 \n",
      " batch_normalization_22 (Ba  (None, 3, 4, 64)          256       \n",
      " tchNormalization)                                               \n",
      "                                                                 \n",
      " conv2d_23 (Conv2D)          (None, 2, 3, 64)          16448     \n",
      "                                                                 \n",
      " max_pooling2d_23 (MaxPooli  (None, 1, 2, 64)          0         \n",
      " ng2D)                                                           \n",
      "                                                                 \n",
      " batch_normalization_23 (Ba  (None, 1, 2, 64)          256       \n",
      " tchNormalization)                                               \n",
      "                                                                 \n",
      " flatten_7 (Flatten)         (None, 128)               0         \n",
      "                                                                 \n",
      " dense_14 (Dense)            (None, 64)                8256      \n",
      "                                                                 \n",
      " dropout_7 (Dropout)         (None, 64)                0         \n",
      "                                                                 \n",
      " dense_15 (Dense)            (None, 10)                650       \n",
      "                                                                 \n",
      "=================================================================\n",
      "Total params: 44810 (175.04 KB)\n",
      "Trainable params: 44490 (173.79 KB)\n",
      "Non-trainable params: 320 (1.25 KB)\n",
      "_________________________________________________________________\n"
     ]
    }
   ],
   "source": [
    "# Mel-Frequency Cepstral Coefficients (normalized)\n",
    "cnn_mfcc_norm = _CNN_model_compile(X_train_2_mfcc_norm)\n",
    "cnn_mfcc_norm.summary()"
   ],
   "metadata": {
    "collapsed": false,
    "ExecuteTime": {
     "end_time": "2024-04-30T01:45:56.527460Z",
     "start_time": "2024-04-30T01:45:56.422864300Z"
    }
   },
   "id": "9493a84b027e7f71"
  },
  {
   "cell_type": "code",
   "execution_count": 85,
   "outputs": [
    {
     "name": "stdout",
     "output_type": "stream",
     "text": [
      "Epoch 1/100\n",
      "7/7 [==============================] - 1s 31ms/step - loss: 2.9490 - accuracy: 0.1000 - val_loss: 2.3010 - val_accuracy: 0.1300\n",
      "Epoch 2/100\n",
      "7/7 [==============================] - 0s 17ms/step - loss: 2.6967 - accuracy: 0.1225 - val_loss: 2.2987 - val_accuracy: 0.1300\n",
      "Epoch 3/100\n",
      "7/7 [==============================] - 0s 16ms/step - loss: 2.5832 - accuracy: 0.1450 - val_loss: 2.2970 - val_accuracy: 0.1300\n",
      "Epoch 4/100\n",
      "7/7 [==============================] - 0s 15ms/step - loss: 2.4380 - accuracy: 0.1550 - val_loss: 2.2956 - val_accuracy: 0.1300\n",
      "Epoch 5/100\n",
      "7/7 [==============================] - 0s 15ms/step - loss: 2.3632 - accuracy: 0.1900 - val_loss: 2.2946 - val_accuracy: 0.1300\n",
      "Epoch 6/100\n",
      "7/7 [==============================] - 0s 16ms/step - loss: 2.2799 - accuracy: 0.1975 - val_loss: 2.2937 - val_accuracy: 0.1300\n",
      "Epoch 7/100\n",
      "7/7 [==============================] - 0s 16ms/step - loss: 2.1281 - accuracy: 0.2300 - val_loss: 2.2929 - val_accuracy: 0.1300\n",
      "Epoch 8/100\n",
      "7/7 [==============================] - 0s 16ms/step - loss: 2.0465 - accuracy: 0.2975 - val_loss: 2.2922 - val_accuracy: 0.1300\n",
      "Epoch 9/100\n",
      "7/7 [==============================] - 0s 15ms/step - loss: 1.9791 - accuracy: 0.3350 - val_loss: 2.2915 - val_accuracy: 0.1200\n",
      "Epoch 10/100\n",
      "7/7 [==============================] - 0s 16ms/step - loss: 1.9662 - accuracy: 0.3150 - val_loss: 2.2910 - val_accuracy: 0.1300\n",
      "Epoch 11/100\n",
      "7/7 [==============================] - 0s 16ms/step - loss: 1.8556 - accuracy: 0.3300 - val_loss: 2.2902 - val_accuracy: 0.1200\n",
      "Epoch 12/100\n",
      "7/7 [==============================] - 0s 15ms/step - loss: 1.7981 - accuracy: 0.3475 - val_loss: 2.2898 - val_accuracy: 0.1200\n",
      "Epoch 13/100\n",
      "7/7 [==============================] - 0s 15ms/step - loss: 1.7673 - accuracy: 0.4125 - val_loss: 2.2900 - val_accuracy: 0.1200\n",
      "Epoch 14/100\n",
      "7/7 [==============================] - 0s 15ms/step - loss: 1.6949 - accuracy: 0.4175 - val_loss: 2.2904 - val_accuracy: 0.1200\n",
      "Epoch 15/100\n",
      "7/7 [==============================] - 0s 15ms/step - loss: 1.6339 - accuracy: 0.4475 - val_loss: 2.2925 - val_accuracy: 0.1200\n",
      "Epoch 16/100\n",
      "7/7 [==============================] - 0s 16ms/step - loss: 1.6186 - accuracy: 0.4475 - val_loss: 2.2961 - val_accuracy: 0.1200\n",
      "Epoch 17/100\n",
      "7/7 [==============================] - 0s 14ms/step - loss: 1.6001 - accuracy: 0.4600 - val_loss: 2.3011 - val_accuracy: 0.1200\n",
      "Epoch 18/100\n",
      "7/7 [==============================] - 0s 15ms/step - loss: 1.5448 - accuracy: 0.4800 - val_loss: 2.3073 - val_accuracy: 0.1200\n",
      "Epoch 19/100\n",
      "7/7 [==============================] - 0s 15ms/step - loss: 1.4928 - accuracy: 0.5050 - val_loss: 2.3158 - val_accuracy: 0.1200\n",
      "Epoch 20/100\n",
      "7/7 [==============================] - 0s 14ms/step - loss: 1.4704 - accuracy: 0.5300 - val_loss: 2.3248 - val_accuracy: 0.1200\n",
      "Epoch 21/100\n",
      "7/7 [==============================] - 0s 15ms/step - loss: 1.4188 - accuracy: 0.5425 - val_loss: 2.3349 - val_accuracy: 0.1200\n",
      "Epoch 22/100\n",
      "7/7 [==============================] - 0s 14ms/step - loss: 1.3841 - accuracy: 0.5475 - val_loss: 2.3457 - val_accuracy: 0.1200\n",
      "Epoch 23/100\n",
      "7/7 [==============================] - 0s 15ms/step - loss: 1.3351 - accuracy: 0.6100 - val_loss: 2.3588 - val_accuracy: 0.1200\n",
      "Epoch 24/100\n",
      "7/7 [==============================] - 0s 15ms/step - loss: 1.3106 - accuracy: 0.6025 - val_loss: 2.3690 - val_accuracy: 0.1200\n",
      "Epoch 25/100\n",
      "7/7 [==============================] - 0s 14ms/step - loss: 1.3018 - accuracy: 0.5825 - val_loss: 2.3804 - val_accuracy: 0.1200\n",
      "Epoch 26/100\n",
      "7/7 [==============================] - 0s 15ms/step - loss: 1.3452 - accuracy: 0.5600 - val_loss: 2.3963 - val_accuracy: 0.1200\n",
      "Epoch 27/100\n",
      "7/7 [==============================] - 0s 15ms/step - loss: 1.2194 - accuracy: 0.6300 - val_loss: 2.4164 - val_accuracy: 0.1200\n",
      "Epoch 28/100\n",
      "7/7 [==============================] - 0s 15ms/step - loss: 1.2149 - accuracy: 0.6300 - val_loss: 2.4410 - val_accuracy: 0.1200\n",
      "Epoch 29/100\n",
      "7/7 [==============================] - 0s 15ms/step - loss: 1.1629 - accuracy: 0.6500 - val_loss: 2.4624 - val_accuracy: 0.1200\n",
      "Epoch 30/100\n",
      "7/7 [==============================] - 0s 15ms/step - loss: 1.2385 - accuracy: 0.6200 - val_loss: 2.4868 - val_accuracy: 0.1200\n",
      "Epoch 31/100\n",
      "7/7 [==============================] - 0s 15ms/step - loss: 1.1984 - accuracy: 0.6050 - val_loss: 2.5173 - val_accuracy: 0.1200\n",
      "Epoch 32/100\n",
      "7/7 [==============================] - 0s 15ms/step - loss: 1.1462 - accuracy: 0.6425 - val_loss: 2.5503 - val_accuracy: 0.1200\n",
      "Epoch 33/100\n",
      "7/7 [==============================] - 0s 14ms/step - loss: 1.1474 - accuracy: 0.6575 - val_loss: 2.5855 - val_accuracy: 0.1200\n",
      "Epoch 34/100\n",
      "7/7 [==============================] - 0s 15ms/step - loss: 1.1342 - accuracy: 0.6400 - val_loss: 2.6248 - val_accuracy: 0.1200\n",
      "Epoch 35/100\n",
      "7/7 [==============================] - 0s 17ms/step - loss: 1.1030 - accuracy: 0.6700 - val_loss: 2.6732 - val_accuracy: 0.1200\n",
      "Epoch 36/100\n",
      "7/7 [==============================] - 0s 15ms/step - loss: 1.0831 - accuracy: 0.6650 - val_loss: 2.7200 - val_accuracy: 0.1200\n",
      "Epoch 37/100\n",
      "7/7 [==============================] - 0s 14ms/step - loss: 1.0339 - accuracy: 0.6775 - val_loss: 2.7681 - val_accuracy: 0.1200\n",
      "Epoch 38/100\n",
      "7/7 [==============================] - 0s 15ms/step - loss: 1.0288 - accuracy: 0.6875 - val_loss: 2.8158 - val_accuracy: 0.1200\n",
      "Epoch 39/100\n",
      "7/7 [==============================] - 0s 15ms/step - loss: 1.0621 - accuracy: 0.6775 - val_loss: 2.8718 - val_accuracy: 0.1200\n",
      "Epoch 40/100\n",
      "7/7 [==============================] - 0s 15ms/step - loss: 0.9925 - accuracy: 0.6950 - val_loss: 2.9230 - val_accuracy: 0.1200\n",
      "Epoch 41/100\n",
      "7/7 [==============================] - 0s 14ms/step - loss: 1.0102 - accuracy: 0.6850 - val_loss: 2.9698 - val_accuracy: 0.1200\n",
      "Epoch 42/100\n",
      "7/7 [==============================] - 0s 15ms/step - loss: 1.0215 - accuracy: 0.6850 - val_loss: 3.0178 - val_accuracy: 0.1200\n",
      "Epoch 43/100\n",
      "7/7 [==============================] - 0s 14ms/step - loss: 0.9856 - accuracy: 0.7175 - val_loss: 3.0793 - val_accuracy: 0.1200\n",
      "Epoch 44/100\n",
      "7/7 [==============================] - 0s 15ms/step - loss: 0.9449 - accuracy: 0.7425 - val_loss: 3.1282 - val_accuracy: 0.1200\n",
      "Epoch 45/100\n",
      "7/7 [==============================] - 0s 15ms/step - loss: 0.9340 - accuracy: 0.7250 - val_loss: 3.1955 - val_accuracy: 0.1200\n",
      "Epoch 46/100\n",
      "7/7 [==============================] - 0s 15ms/step - loss: 0.9148 - accuracy: 0.7100 - val_loss: 3.2722 - val_accuracy: 0.1200\n",
      "Epoch 47/100\n",
      "7/7 [==============================] - 0s 15ms/step - loss: 0.8875 - accuracy: 0.7575 - val_loss: 3.3426 - val_accuracy: 0.1200\n",
      "Epoch 48/100\n",
      "7/7 [==============================] - 0s 15ms/step - loss: 0.8669 - accuracy: 0.7700 - val_loss: 3.4010 - val_accuracy: 0.1200\n",
      "Epoch 49/100\n",
      "7/7 [==============================] - 0s 14ms/step - loss: 0.8670 - accuracy: 0.7550 - val_loss: 3.4728 - val_accuracy: 0.1200\n",
      "Epoch 50/100\n",
      "7/7 [==============================] - 0s 15ms/step - loss: 0.8573 - accuracy: 0.7550 - val_loss: 3.5305 - val_accuracy: 0.1200\n",
      "Epoch 51/100\n",
      "7/7 [==============================] - 0s 14ms/step - loss: 0.8596 - accuracy: 0.7450 - val_loss: 3.5708 - val_accuracy: 0.1200\n",
      "Epoch 52/100\n",
      "7/7 [==============================] - 0s 15ms/step - loss: 0.7932 - accuracy: 0.7850 - val_loss: 3.6200 - val_accuracy: 0.1200\n",
      "Epoch 53/100\n",
      "7/7 [==============================] - 0s 15ms/step - loss: 0.7921 - accuracy: 0.7800 - val_loss: 3.6666 - val_accuracy: 0.1200\n",
      "Epoch 54/100\n",
      "7/7 [==============================] - 0s 15ms/step - loss: 0.8002 - accuracy: 0.7650 - val_loss: 3.7101 - val_accuracy: 0.1200\n",
      "Epoch 55/100\n",
      "7/7 [==============================] - 0s 15ms/step - loss: 0.8091 - accuracy: 0.7775 - val_loss: 3.7104 - val_accuracy: 0.1200\n",
      "Epoch 56/100\n",
      "7/7 [==============================] - 0s 15ms/step - loss: 0.8068 - accuracy: 0.7825 - val_loss: 3.7218 - val_accuracy: 0.1200\n",
      "Epoch 57/100\n",
      "7/7 [==============================] - 0s 14ms/step - loss: 0.7686 - accuracy: 0.8075 - val_loss: 3.7296 - val_accuracy: 0.1200\n",
      "Epoch 58/100\n",
      "7/7 [==============================] - 0s 14ms/step - loss: 0.7400 - accuracy: 0.8075 - val_loss: 3.7545 - val_accuracy: 0.1200\n",
      "Epoch 59/100\n",
      "7/7 [==============================] - 0s 14ms/step - loss: 0.7483 - accuracy: 0.8125 - val_loss: 3.7922 - val_accuracy: 0.1200\n",
      "Epoch 60/100\n",
      "7/7 [==============================] - 0s 14ms/step - loss: 0.7453 - accuracy: 0.8150 - val_loss: 3.7950 - val_accuracy: 0.1200\n",
      "Epoch 61/100\n",
      "7/7 [==============================] - 0s 15ms/step - loss: 0.7107 - accuracy: 0.8125 - val_loss: 3.8071 - val_accuracy: 0.1200\n",
      "Epoch 62/100\n",
      "7/7 [==============================] - 0s 15ms/step - loss: 0.7165 - accuracy: 0.7950 - val_loss: 3.8540 - val_accuracy: 0.1200\n",
      "Epoch 63/100\n",
      "7/7 [==============================] - 0s 15ms/step - loss: 0.7080 - accuracy: 0.8075 - val_loss: 3.8559 - val_accuracy: 0.1200\n",
      "Epoch 64/100\n",
      "7/7 [==============================] - 0s 16ms/step - loss: 0.7279 - accuracy: 0.7925 - val_loss: 3.8097 - val_accuracy: 0.1200\n",
      "Epoch 65/100\n",
      "7/7 [==============================] - 0s 16ms/step - loss: 0.6842 - accuracy: 0.8100 - val_loss: 3.7757 - val_accuracy: 0.1200\n",
      "Epoch 66/100\n",
      "7/7 [==============================] - 0s 15ms/step - loss: 0.6759 - accuracy: 0.8150 - val_loss: 3.7254 - val_accuracy: 0.1200\n",
      "Epoch 67/100\n",
      "7/7 [==============================] - 0s 15ms/step - loss: 0.6173 - accuracy: 0.8650 - val_loss: 3.6575 - val_accuracy: 0.1200\n",
      "Epoch 68/100\n",
      "7/7 [==============================] - 0s 15ms/step - loss: 0.6450 - accuracy: 0.8075 - val_loss: 3.5735 - val_accuracy: 0.1200\n",
      "Epoch 69/100\n",
      "7/7 [==============================] - 0s 15ms/step - loss: 0.6467 - accuracy: 0.8375 - val_loss: 3.5285 - val_accuracy: 0.1200\n",
      "Epoch 70/100\n",
      "7/7 [==============================] - 0s 15ms/step - loss: 0.6155 - accuracy: 0.8625 - val_loss: 3.4880 - val_accuracy: 0.1200\n",
      "Epoch 71/100\n",
      "7/7 [==============================] - 0s 15ms/step - loss: 0.6459 - accuracy: 0.8375 - val_loss: 3.4074 - val_accuracy: 0.1200\n",
      "Epoch 72/100\n",
      "7/7 [==============================] - 0s 15ms/step - loss: 0.6384 - accuracy: 0.8350 - val_loss: 3.3350 - val_accuracy: 0.1300\n",
      "Epoch 73/100\n",
      "7/7 [==============================] - 0s 15ms/step - loss: 0.6237 - accuracy: 0.8300 - val_loss: 3.2775 - val_accuracy: 0.1400\n",
      "Epoch 74/100\n",
      "7/7 [==============================] - 0s 15ms/step - loss: 0.5918 - accuracy: 0.8425 - val_loss: 3.2022 - val_accuracy: 0.1300\n",
      "Epoch 75/100\n",
      "7/7 [==============================] - 0s 15ms/step - loss: 0.6219 - accuracy: 0.8425 - val_loss: 3.1631 - val_accuracy: 0.1300\n",
      "Epoch 76/100\n",
      "7/7 [==============================] - 0s 15ms/step - loss: 0.6101 - accuracy: 0.8425 - val_loss: 3.1400 - val_accuracy: 0.1300\n",
      "Epoch 77/100\n",
      "7/7 [==============================] - 0s 15ms/step - loss: 0.5879 - accuracy: 0.8450 - val_loss: 3.0572 - val_accuracy: 0.1400\n",
      "Epoch 78/100\n",
      "7/7 [==============================] - 0s 15ms/step - loss: 0.5758 - accuracy: 0.8625 - val_loss: 2.9743 - val_accuracy: 0.1400\n",
      "Epoch 79/100\n",
      "7/7 [==============================] - 0s 14ms/step - loss: 0.5887 - accuracy: 0.8400 - val_loss: 2.8569 - val_accuracy: 0.1300\n",
      "Epoch 80/100\n",
      "7/7 [==============================] - 0s 15ms/step - loss: 0.5638 - accuracy: 0.8725 - val_loss: 2.7491 - val_accuracy: 0.1500\n",
      "Epoch 81/100\n",
      "7/7 [==============================] - 0s 15ms/step - loss: 0.5545 - accuracy: 0.8600 - val_loss: 2.6839 - val_accuracy: 0.1400\n",
      "Epoch 82/100\n",
      "7/7 [==============================] - 0s 15ms/step - loss: 0.5649 - accuracy: 0.8500 - val_loss: 2.6256 - val_accuracy: 0.1800\n",
      "Epoch 83/100\n",
      "7/7 [==============================] - 0s 15ms/step - loss: 0.5197 - accuracy: 0.8875 - val_loss: 2.5150 - val_accuracy: 0.2200\n",
      "Epoch 84/100\n",
      "7/7 [==============================] - 0s 15ms/step - loss: 0.5387 - accuracy: 0.8575 - val_loss: 2.3825 - val_accuracy: 0.2400\n",
      "Epoch 85/100\n",
      "7/7 [==============================] - 0s 14ms/step - loss: 0.5118 - accuracy: 0.8800 - val_loss: 2.2839 - val_accuracy: 0.2300\n",
      "Epoch 86/100\n",
      "7/7 [==============================] - 0s 15ms/step - loss: 0.5262 - accuracy: 0.8675 - val_loss: 2.1836 - val_accuracy: 0.2700\n",
      "Epoch 87/100\n",
      "7/7 [==============================] - 0s 14ms/step - loss: 0.5295 - accuracy: 0.8775 - val_loss: 2.1206 - val_accuracy: 0.3100\n",
      "Epoch 88/100\n",
      "7/7 [==============================] - 0s 14ms/step - loss: 0.5072 - accuracy: 0.8825 - val_loss: 2.0684 - val_accuracy: 0.3100\n",
      "Epoch 89/100\n",
      "7/7 [==============================] - 0s 14ms/step - loss: 0.5319 - accuracy: 0.8775 - val_loss: 2.0409 - val_accuracy: 0.3200\n",
      "Epoch 90/100\n",
      "7/7 [==============================] - 0s 14ms/step - loss: 0.5188 - accuracy: 0.8800 - val_loss: 2.0109 - val_accuracy: 0.3100\n",
      "Epoch 91/100\n",
      "7/7 [==============================] - 0s 15ms/step - loss: 0.4857 - accuracy: 0.9050 - val_loss: 1.9691 - val_accuracy: 0.3400\n",
      "Epoch 92/100\n",
      "7/7 [==============================] - 0s 14ms/step - loss: 0.4751 - accuracy: 0.8900 - val_loss: 1.8627 - val_accuracy: 0.3700\n",
      "Epoch 93/100\n",
      "7/7 [==============================] - 0s 15ms/step - loss: 0.4760 - accuracy: 0.8950 - val_loss: 1.8093 - val_accuracy: 0.3800\n",
      "Epoch 94/100\n",
      "7/7 [==============================] - 0s 15ms/step - loss: 0.4591 - accuracy: 0.8825 - val_loss: 1.7505 - val_accuracy: 0.4100\n",
      "Epoch 95/100\n",
      "7/7 [==============================] - 0s 14ms/step - loss: 0.4707 - accuracy: 0.9000 - val_loss: 1.7218 - val_accuracy: 0.4200\n",
      "Epoch 96/100\n",
      "7/7 [==============================] - 0s 15ms/step - loss: 0.4713 - accuracy: 0.8800 - val_loss: 1.7208 - val_accuracy: 0.4100\n",
      "Epoch 97/100\n",
      "7/7 [==============================] - 0s 14ms/step - loss: 0.4424 - accuracy: 0.9000 - val_loss: 1.6936 - val_accuracy: 0.4200\n",
      "Epoch 98/100\n",
      "7/7 [==============================] - 0s 15ms/step - loss: 0.4871 - accuracy: 0.8900 - val_loss: 1.6734 - val_accuracy: 0.4100\n",
      "Epoch 99/100\n",
      "7/7 [==============================] - 0s 15ms/step - loss: 0.4274 - accuracy: 0.8800 - val_loss: 1.6496 - val_accuracy: 0.4400\n",
      "Epoch 100/100\n",
      "7/7 [==============================] - 0s 14ms/step - loss: 0.4272 - accuracy: 0.8900 - val_loss: 1.6413 - val_accuracy: 0.4300\n"
     ]
    }
   ],
   "source": [
    "cnn_history_mfcc_norm = _NN_(cnn_mfcc_norm, X_train_2_mfcc_norm, X_test_2_mfcc_norm,\n",
    "                              y_train_2_mfcc_norm, y_test_2_mfcc_norm)"
   ],
   "metadata": {
    "collapsed": false,
    "ExecuteTime": {
     "end_time": "2024-04-30T01:46:09.427591500Z",
     "start_time": "2024-04-30T01:45:58.267645600Z"
    }
   },
   "id": "aea7790d1cd66d"
  },
  {
   "cell_type": "code",
   "execution_count": 86,
   "outputs": [
    {
     "name": "stdout",
     "output_type": "stream",
     "text": [
      "4/4 - 0s - loss: 1.6413 - accuracy: 0.4300 - 33ms/epoch - 8ms/step\n",
      "Loss: 1.641340970993042, Accuracy: 0.4300000071525574\n"
     ]
    }
   ],
   "source": [
    "_print_loss_accuracy(cnn_mfcc_norm, X_test_2_mfcc_norm, y_test_2_mfcc_norm)"
   ],
   "metadata": {
    "collapsed": false,
    "ExecuteTime": {
     "end_time": "2024-04-30T01:46:14.074914200Z",
     "start_time": "2024-04-30T01:46:14.013570400Z"
    }
   },
   "id": "473175150226a6b0"
  },
  {
   "cell_type": "markdown",
   "source": [
    "## Accuracy and Error graph"
   ],
   "metadata": {
    "collapsed": false
   },
   "id": "1291bba1f4632b8a"
  },
  {
   "cell_type": "code",
   "execution_count": 78,
   "outputs": [],
   "source": [
    "def acc_err_plot(history):\n",
    "  fig, axs = plt.subplots(2)\n",
    "\n",
    "  # create accuracy sublpot\n",
    "  axs[0].plot(history.history[\"accuracy\"], label=\"train accuracy\")\n",
    "  axs[0].plot(history.history[\"val_accuracy\"], label=\"test accuracy\")\n",
    "  axs[0].set_ylabel(\"Accuracy\")\n",
    "  axs[0].legend(loc=\"lower right\")\n",
    "  axs[0].set_title(\"Accuracy eval\")\n",
    "  \n",
    "  # create error sublpot\n",
    "  axs[1].plot(history.history[\"loss\"], label=\"train error\")\n",
    "  axs[1].plot(history.history[\"val_loss\"], label=\"test error\")\n",
    "  axs[1].set_ylabel(\"Error\")\n",
    "  axs[1].set_xlabel(\"Epoch\")\n",
    "  axs[1].legend(loc=\"upper right\")\n",
    "  axs[1].set_title(\"Error eval\")\n",
    "  \n",
    "  plt.tight_layout()\n",
    "  plt.show()\n",
    "  plt.close()"
   ],
   "metadata": {
    "collapsed": false,
    "ExecuteTime": {
     "end_time": "2024-04-30T01:42:17.424266600Z",
     "start_time": "2024-04-30T01:42:17.416249100Z"
    }
   },
   "id": "a2d3f0bdbf7de647"
  },
  {
   "cell_type": "code",
   "execution_count": 79,
   "outputs": [
    {
     "data": {
      "text/plain": "<Figure size 640x480 with 2 Axes>",
      "image/png": "[encoded data removed]"
     },
     "metadata": {},
     "output_type": "display_data"
    }
   ],
   "source": [
    "acc_err_plot(cnn_history_mfcc)"
   ],
   "metadata": {
    "collapsed": false,
    "ExecuteTime": {
     "end_time": "2024-04-30T01:42:18.975111800Z",
     "start_time": "2024-04-30T01:42:18.826336900Z"
    }
   },
   "id": "a447bd55d8bf25f"
  },
  {
   "cell_type": "markdown",
   "source": [
    "# LSTM"
   ],
   "metadata": {
    "collapsed": false
   },
   "id": "7c5a4a1b875b1d8d"
  },
  {
   "cell_type": "code",
   "execution_count": 87,
   "outputs": [],
   "source": [
    "def _LSTM_model_compile(_X_train):\n",
    "  _lstm = Sequential([\n",
    "    LSTM(64, input_shape=(_X_train.shape[1], _X_train.shape[2]),\n",
    "         return_sequences=True),\n",
    "    LSTM(64),\n",
    "    \n",
    "    Dense(64, activation='relu'),\n",
    "    Dropout(0.3),\n",
    "    \n",
    "    # output\n",
    "    Dense(len(category_labelling_map), activation='softmax')\n",
    "  ])\n",
    "  \n",
    "  _lstm.compile(optimizer=Adam(learning_rate=0.0001),\n",
    "                loss='sparse_categorical_crossentropy',\n",
    "                metrics=['accuracy'])\n",
    "  \n",
    "  return _lstm\n",
    "\n",
    "def _LSTM_(_model, _X_train, _X_test, _y_train, _y_test, _epochs=100):\n",
    "  _history = _model.fit(_X_train, _y_train,\n",
    "                        validation_data=(_X_test, _y_test),\n",
    "                        batch_size=64, epochs=_epochs)\n",
    "  return _history"
   ],
   "metadata": {
    "collapsed": false,
    "ExecuteTime": {
     "end_time": "2024-04-30T01:49:53.365444500Z",
     "start_time": "2024-04-30T01:49:53.332348700Z"
    }
   },
   "id": "db71c96f3b50874e"
  },
  {
   "cell_type": "code",
   "execution_count": 88,
   "outputs": [
    {
     "name": "stdout",
     "output_type": "stream",
     "text": [
      "Model: \"sequential_8\"\n",
      "_________________________________________________________________\n",
      " Layer (type)                Output Shape              Param #   \n",
      "=================================================================\n",
      " conv2d_24 (Conv2D)          (None, 15, 126, 32)       320       \n",
      "                                                                 \n",
      " max_pooling2d_24 (MaxPooli  (None, 8, 63, 32)         0         \n",
      " ng2D)                                                           \n",
      "                                                                 \n",
      " batch_normalization_24 (Ba  (None, 8, 63, 32)         128       \n",
      " tchNormalization)                                               \n",
      "                                                                 \n",
      " conv2d_25 (Conv2D)          (None, 6, 61, 64)         18496     \n",
      "                                                                 \n",
      " max_pooling2d_25 (MaxPooli  (None, 3, 31, 64)         0         \n",
      " ng2D)                                                           \n",
      "                                                                 \n",
      " batch_normalization_25 (Ba  (None, 3, 31, 64)         256       \n",
      " tchNormalization)                                               \n",
      "                                                                 \n",
      " conv2d_26 (Conv2D)          (None, 2, 30, 64)         16448     \n",
      "                                                                 \n",
      " max_pooling2d_26 (MaxPooli  (None, 1, 15, 64)         0         \n",
      " ng2D)                                                           \n",
      "                                                                 \n",
      " batch_normalization_26 (Ba  (None, 1, 15, 64)         256       \n",
      " tchNormalization)                                               \n",
      "                                                                 \n",
      " flatten_8 (Flatten)         (None, 960)               0         \n",
      "                                                                 \n",
      " dense_16 (Dense)            (None, 64)                61504     \n",
      "                                                                 \n",
      " dropout_8 (Dropout)         (None, 64)                0         \n",
      "                                                                 \n",
      " dense_17 (Dense)            (None, 10)                650       \n",
      "                                                                 \n",
      "=================================================================\n",
      "Total params: 98058 (383.04 KB)\n",
      "Trainable params: 97738 (381.79 KB)\n",
      "Non-trainable params: 320 (1.25 KB)\n",
      "_________________________________________________________________\n"
     ]
    }
   ],
   "source": [
    "# Mel Spectogram\n",
    "lstm_spect = _LSTM_model_compile(X_train_2_spect)\n",
    "lstm_spect.summary()"
   ],
   "metadata": {
    "collapsed": false,
    "ExecuteTime": {
     "end_time": "2024-04-30T01:55:10.853682400Z",
     "start_time": "2024-04-30T01:55:10.721457600Z"
    }
   },
   "id": "cdee03da14aed5d1"
  },
  {
   "cell_type": "code",
   "execution_count": 91,
   "outputs": [
    {
     "name": "stdout",
     "output_type": "stream",
     "text": [
      "Epoch 1/100\n",
      "7/7 [==============================] - 1s 41ms/step - loss: 2.5887 - accuracy: 0.1275 - val_loss: 3.2330 - val_accuracy: 0.1100\n",
      "Epoch 2/100\n",
      "7/7 [==============================] - 0s 27ms/step - loss: 2.4165 - accuracy: 0.1750 - val_loss: 2.6609 - val_accuracy: 0.1300\n",
      "Epoch 3/100\n",
      "7/7 [==============================] - 0s 25ms/step - loss: 2.1733 - accuracy: 0.2550 - val_loss: 2.4413 - val_accuracy: 0.1300\n",
      "Epoch 4/100\n",
      "7/7 [==============================] - 0s 25ms/step - loss: 2.1637 - accuracy: 0.2375 - val_loss: 2.3275 - val_accuracy: 0.1600\n",
      "Epoch 5/100\n",
      "7/7 [==============================] - 0s 25ms/step - loss: 2.0366 - accuracy: 0.2975 - val_loss: 2.2543 - val_accuracy: 0.2000\n",
      "Epoch 6/100\n",
      "7/7 [==============================] - 0s 25ms/step - loss: 1.9387 - accuracy: 0.3150 - val_loss: 2.2013 - val_accuracy: 0.2100\n",
      "Epoch 7/100\n",
      "7/7 [==============================] - 0s 25ms/step - loss: 1.8743 - accuracy: 0.3475 - val_loss: 2.1652 - val_accuracy: 0.2000\n",
      "Epoch 8/100\n",
      "7/7 [==============================] - 0s 25ms/step - loss: 1.8070 - accuracy: 0.3800 - val_loss: 2.1306 - val_accuracy: 0.3100\n",
      "Epoch 9/100\n",
      "7/7 [==============================] - 0s 25ms/step - loss: 1.7971 - accuracy: 0.3825 - val_loss: 2.1012 - val_accuracy: 0.2900\n",
      "Epoch 10/100\n",
      "7/7 [==============================] - 0s 25ms/step - loss: 1.7435 - accuracy: 0.3800 - val_loss: 2.0761 - val_accuracy: 0.3000\n",
      "Epoch 11/100\n",
      "7/7 [==============================] - 0s 25ms/step - loss: 1.7161 - accuracy: 0.3925 - val_loss: 2.0537 - val_accuracy: 0.3400\n",
      "Epoch 12/100\n",
      "7/7 [==============================] - 0s 24ms/step - loss: 1.6533 - accuracy: 0.4550 - val_loss: 2.0338 - val_accuracy: 0.3400\n",
      "Epoch 13/100\n",
      "7/7 [==============================] - 0s 24ms/step - loss: 1.6663 - accuracy: 0.4050 - val_loss: 2.0167 - val_accuracy: 0.3400\n",
      "Epoch 14/100\n",
      "7/7 [==============================] - 0s 25ms/step - loss: 1.5917 - accuracy: 0.4650 - val_loss: 2.0014 - val_accuracy: 0.3500\n",
      "Epoch 15/100\n",
      "7/7 [==============================] - 0s 23ms/step - loss: 1.6333 - accuracy: 0.4175 - val_loss: 1.9860 - val_accuracy: 0.3700\n",
      "Epoch 16/100\n",
      "7/7 [==============================] - 0s 24ms/step - loss: 1.5514 - accuracy: 0.5075 - val_loss: 1.9711 - val_accuracy: 0.3700\n",
      "Epoch 17/100\n",
      "7/7 [==============================] - 0s 24ms/step - loss: 1.5217 - accuracy: 0.5125 - val_loss: 1.9577 - val_accuracy: 0.3700\n",
      "Epoch 18/100\n",
      "7/7 [==============================] - 0s 24ms/step - loss: 1.5128 - accuracy: 0.4925 - val_loss: 1.9450 - val_accuracy: 0.3600\n",
      "Epoch 19/100\n",
      "7/7 [==============================] - 0s 25ms/step - loss: 1.5160 - accuracy: 0.4875 - val_loss: 1.9328 - val_accuracy: 0.3700\n",
      "Epoch 20/100\n",
      "7/7 [==============================] - 0s 25ms/step - loss: 1.4670 - accuracy: 0.4975 - val_loss: 1.9196 - val_accuracy: 0.3600\n",
      "Epoch 21/100\n",
      "7/7 [==============================] - 0s 26ms/step - loss: 1.4211 - accuracy: 0.5375 - val_loss: 1.9092 - val_accuracy: 0.3600\n",
      "Epoch 22/100\n",
      "7/7 [==============================] - 0s 27ms/step - loss: 1.4329 - accuracy: 0.5125 - val_loss: 1.8950 - val_accuracy: 0.3500\n",
      "Epoch 23/100\n",
      "7/7 [==============================] - 0s 26ms/step - loss: 1.4043 - accuracy: 0.5350 - val_loss: 1.8837 - val_accuracy: 0.3600\n",
      "Epoch 24/100\n",
      "7/7 [==============================] - 0s 25ms/step - loss: 1.3610 - accuracy: 0.5125 - val_loss: 1.8724 - val_accuracy: 0.3700\n",
      "Epoch 25/100\n",
      "7/7 [==============================] - 0s 26ms/step - loss: 1.3086 - accuracy: 0.5700 - val_loss: 1.8584 - val_accuracy: 0.3700\n",
      "Epoch 26/100\n",
      "7/7 [==============================] - 0s 27ms/step - loss: 1.3212 - accuracy: 0.5500 - val_loss: 1.8472 - val_accuracy: 0.3700\n",
      "Epoch 27/100\n",
      "7/7 [==============================] - 0s 27ms/step - loss: 1.3065 - accuracy: 0.5575 - val_loss: 1.8351 - val_accuracy: 0.3800\n",
      "Epoch 28/100\n",
      "7/7 [==============================] - 0s 27ms/step - loss: 1.2734 - accuracy: 0.5850 - val_loss: 1.8220 - val_accuracy: 0.3600\n",
      "Epoch 29/100\n",
      "7/7 [==============================] - 0s 26ms/step - loss: 1.2925 - accuracy: 0.5575 - val_loss: 1.8068 - val_accuracy: 0.3900\n",
      "Epoch 30/100\n",
      "7/7 [==============================] - 0s 25ms/step - loss: 1.2607 - accuracy: 0.5825 - val_loss: 1.7927 - val_accuracy: 0.3800\n",
      "Epoch 31/100\n",
      "7/7 [==============================] - 0s 27ms/step - loss: 1.2876 - accuracy: 0.5775 - val_loss: 1.7812 - val_accuracy: 0.4300\n",
      "Epoch 32/100\n",
      "7/7 [==============================] - 0s 26ms/step - loss: 1.2542 - accuracy: 0.5850 - val_loss: 1.7735 - val_accuracy: 0.4400\n",
      "Epoch 33/100\n",
      "7/7 [==============================] - 0s 24ms/step - loss: 1.2282 - accuracy: 0.5775 - val_loss: 1.7630 - val_accuracy: 0.4300\n",
      "Epoch 34/100\n",
      "7/7 [==============================] - 0s 25ms/step - loss: 1.1950 - accuracy: 0.6050 - val_loss: 1.7527 - val_accuracy: 0.4300\n",
      "Epoch 35/100\n",
      "7/7 [==============================] - 0s 26ms/step - loss: 1.2133 - accuracy: 0.6050 - val_loss: 1.7443 - val_accuracy: 0.4200\n",
      "Epoch 36/100\n",
      "7/7 [==============================] - 0s 30ms/step - loss: 1.1541 - accuracy: 0.6350 - val_loss: 1.7381 - val_accuracy: 0.4400\n",
      "Epoch 37/100\n",
      "7/7 [==============================] - 0s 29ms/step - loss: 1.1267 - accuracy: 0.6325 - val_loss: 1.7306 - val_accuracy: 0.4400\n",
      "Epoch 38/100\n",
      "7/7 [==============================] - 0s 29ms/step - loss: 1.1534 - accuracy: 0.6250 - val_loss: 1.7221 - val_accuracy: 0.4500\n",
      "Epoch 39/100\n",
      "7/7 [==============================] - 0s 26ms/step - loss: 1.1160 - accuracy: 0.6175 - val_loss: 1.7070 - val_accuracy: 0.4400\n",
      "Epoch 40/100\n",
      "7/7 [==============================] - 0s 25ms/step - loss: 1.1614 - accuracy: 0.6200 - val_loss: 1.6971 - val_accuracy: 0.4500\n",
      "Epoch 41/100\n",
      "7/7 [==============================] - 0s 26ms/step - loss: 1.1366 - accuracy: 0.6425 - val_loss: 1.6890 - val_accuracy: 0.4500\n",
      "Epoch 42/100\n",
      "7/7 [==============================] - 0s 27ms/step - loss: 1.0867 - accuracy: 0.6800 - val_loss: 1.6850 - val_accuracy: 0.4300\n",
      "Epoch 43/100\n",
      "7/7 [==============================] - 0s 24ms/step - loss: 1.0667 - accuracy: 0.7075 - val_loss: 1.6819 - val_accuracy: 0.4300\n",
      "Epoch 44/100\n",
      "7/7 [==============================] - 0s 27ms/step - loss: 1.0402 - accuracy: 0.6700 - val_loss: 1.6688 - val_accuracy: 0.4600\n",
      "Epoch 45/100\n",
      "7/7 [==============================] - 0s 27ms/step - loss: 1.0595 - accuracy: 0.6775 - val_loss: 1.6616 - val_accuracy: 0.4400\n",
      "Epoch 46/100\n",
      "7/7 [==============================] - 0s 30ms/step - loss: 1.0683 - accuracy: 0.6450 - val_loss: 1.6659 - val_accuracy: 0.3600\n",
      "Epoch 47/100\n",
      "7/7 [==============================] - 0s 31ms/step - loss: 1.0392 - accuracy: 0.6750 - val_loss: 1.6589 - val_accuracy: 0.3600\n",
      "Epoch 48/100\n",
      "7/7 [==============================] - 0s 32ms/step - loss: 1.0426 - accuracy: 0.6825 - val_loss: 1.6468 - val_accuracy: 0.3300\n",
      "Epoch 49/100\n",
      "7/7 [==============================] - 0s 27ms/step - loss: 1.0236 - accuracy: 0.6675 - val_loss: 1.6329 - val_accuracy: 0.3500\n",
      "Epoch 50/100\n",
      "7/7 [==============================] - 0s 26ms/step - loss: 1.0342 - accuracy: 0.6625 - val_loss: 1.6180 - val_accuracy: 0.3700\n",
      "Epoch 51/100\n",
      "7/7 [==============================] - 0s 24ms/step - loss: 0.9533 - accuracy: 0.7050 - val_loss: 1.6196 - val_accuracy: 0.3500\n",
      "Epoch 52/100\n",
      "7/7 [==============================] - 0s 24ms/step - loss: 0.9917 - accuracy: 0.6925 - val_loss: 1.6052 - val_accuracy: 0.4900\n",
      "Epoch 53/100\n",
      "7/7 [==============================] - 0s 25ms/step - loss: 0.9993 - accuracy: 0.6750 - val_loss: 1.5960 - val_accuracy: 0.4900\n",
      "Epoch 54/100\n",
      "7/7 [==============================] - 0s 24ms/step - loss: 0.9709 - accuracy: 0.7100 - val_loss: 1.6092 - val_accuracy: 0.3600\n",
      "Epoch 55/100\n",
      "7/7 [==============================] - 0s 24ms/step - loss: 0.9533 - accuracy: 0.6950 - val_loss: 1.5996 - val_accuracy: 0.3600\n",
      "Epoch 56/100\n",
      "7/7 [==============================] - 0s 24ms/step - loss: 0.9671 - accuracy: 0.6900 - val_loss: 1.5787 - val_accuracy: 0.4600\n",
      "Epoch 57/100\n",
      "7/7 [==============================] - 0s 24ms/step - loss: 0.9514 - accuracy: 0.7175 - val_loss: 1.5819 - val_accuracy: 0.3600\n",
      "Epoch 58/100\n",
      "7/7 [==============================] - 0s 25ms/step - loss: 0.9279 - accuracy: 0.7125 - val_loss: 1.6099 - val_accuracy: 0.3300\n",
      "Epoch 59/100\n",
      "7/7 [==============================] - 0s 25ms/step - loss: 0.9496 - accuracy: 0.7200 - val_loss: 1.6159 - val_accuracy: 0.3300\n",
      "Epoch 60/100\n",
      "7/7 [==============================] - 0s 29ms/step - loss: 0.9272 - accuracy: 0.7300 - val_loss: 1.6373 - val_accuracy: 0.3300\n",
      "Epoch 61/100\n",
      "7/7 [==============================] - 0s 29ms/step - loss: 0.9296 - accuracy: 0.7000 - val_loss: 1.6324 - val_accuracy: 0.3500\n",
      "Epoch 62/100\n",
      "7/7 [==============================] - 0s 25ms/step - loss: 0.8870 - accuracy: 0.7300 - val_loss: 1.6079 - val_accuracy: 0.3300\n",
      "Epoch 63/100\n",
      "7/7 [==============================] - 0s 25ms/step - loss: 0.8804 - accuracy: 0.7475 - val_loss: 1.5936 - val_accuracy: 0.3400\n",
      "Epoch 64/100\n",
      "7/7 [==============================] - 0s 24ms/step - loss: 0.8693 - accuracy: 0.7375 - val_loss: 1.5968 - val_accuracy: 0.3600\n",
      "Epoch 65/100\n",
      "7/7 [==============================] - 0s 24ms/step - loss: 0.8427 - accuracy: 0.7450 - val_loss: 1.5738 - val_accuracy: 0.4100\n",
      "Epoch 66/100\n",
      "7/7 [==============================] - 0s 25ms/step - loss: 0.8422 - accuracy: 0.7575 - val_loss: 1.5515 - val_accuracy: 0.4100\n",
      "Epoch 67/100\n",
      "7/7 [==============================] - 0s 25ms/step - loss: 0.8810 - accuracy: 0.7050 - val_loss: 1.5645 - val_accuracy: 0.4000\n",
      "Epoch 68/100\n",
      "7/7 [==============================] - 0s 25ms/step - loss: 0.8908 - accuracy: 0.7325 - val_loss: 1.6079 - val_accuracy: 0.3800\n",
      "Epoch 69/100\n",
      "7/7 [==============================] - 0s 24ms/step - loss: 0.8336 - accuracy: 0.7425 - val_loss: 1.6010 - val_accuracy: 0.4000\n",
      "Epoch 70/100\n",
      "7/7 [==============================] - 0s 24ms/step - loss: 0.8494 - accuracy: 0.7150 - val_loss: 1.5855 - val_accuracy: 0.4000\n",
      "Epoch 71/100\n",
      "7/7 [==============================] - 0s 24ms/step - loss: 0.8127 - accuracy: 0.7425 - val_loss: 1.6120 - val_accuracy: 0.3800\n",
      "Epoch 72/100\n",
      "7/7 [==============================] - 0s 24ms/step - loss: 0.8445 - accuracy: 0.7600 - val_loss: 1.6315 - val_accuracy: 0.3800\n",
      "Epoch 73/100\n",
      "7/7 [==============================] - 0s 24ms/step - loss: 0.8350 - accuracy: 0.7450 - val_loss: 1.6219 - val_accuracy: 0.3600\n",
      "Epoch 74/100\n",
      "7/7 [==============================] - 0s 24ms/step - loss: 0.8137 - accuracy: 0.7575 - val_loss: 1.6278 - val_accuracy: 0.3700\n",
      "Epoch 75/100\n",
      "7/7 [==============================] - 0s 24ms/step - loss: 0.7970 - accuracy: 0.7625 - val_loss: 1.6055 - val_accuracy: 0.3800\n",
      "Epoch 76/100\n",
      "7/7 [==============================] - 0s 24ms/step - loss: 0.7852 - accuracy: 0.7550 - val_loss: 1.5544 - val_accuracy: 0.4000\n",
      "Epoch 77/100\n",
      "7/7 [==============================] - 0s 25ms/step - loss: 0.7824 - accuracy: 0.7800 - val_loss: 1.5781 - val_accuracy: 0.3800\n",
      "Epoch 78/100\n",
      "7/7 [==============================] - 0s 25ms/step - loss: 0.7475 - accuracy: 0.7700 - val_loss: 1.5654 - val_accuracy: 0.3900\n",
      "Epoch 79/100\n",
      "7/7 [==============================] - 0s 25ms/step - loss: 0.7688 - accuracy: 0.7650 - val_loss: 1.5592 - val_accuracy: 0.3900\n",
      "Epoch 80/100\n",
      "7/7 [==============================] - 0s 24ms/step - loss: 0.7336 - accuracy: 0.7750 - val_loss: 1.5280 - val_accuracy: 0.4100\n",
      "Epoch 81/100\n",
      "7/7 [==============================] - 0s 24ms/step - loss: 0.7377 - accuracy: 0.7650 - val_loss: 1.5493 - val_accuracy: 0.4000\n",
      "Epoch 82/100\n",
      "7/7 [==============================] - 0s 24ms/step - loss: 0.7124 - accuracy: 0.7900 - val_loss: 1.5723 - val_accuracy: 0.3900\n",
      "Epoch 83/100\n",
      "7/7 [==============================] - 0s 24ms/step - loss: 0.7471 - accuracy: 0.7750 - val_loss: 1.6113 - val_accuracy: 0.3700\n",
      "Epoch 84/100\n",
      "7/7 [==============================] - 0s 24ms/step - loss: 0.7083 - accuracy: 0.8000 - val_loss: 1.6680 - val_accuracy: 0.3500\n",
      "Epoch 85/100\n",
      "7/7 [==============================] - 0s 25ms/step - loss: 0.7172 - accuracy: 0.8025 - val_loss: 1.6586 - val_accuracy: 0.3700\n",
      "Epoch 86/100\n",
      "7/7 [==============================] - 0s 24ms/step - loss: 0.6838 - accuracy: 0.7800 - val_loss: 1.6415 - val_accuracy: 0.3800\n",
      "Epoch 87/100\n",
      "7/7 [==============================] - 0s 24ms/step - loss: 0.7160 - accuracy: 0.7875 - val_loss: 1.5882 - val_accuracy: 0.4100\n",
      "Epoch 88/100\n",
      "7/7 [==============================] - 0s 24ms/step - loss: 0.6814 - accuracy: 0.7925 - val_loss: 1.5992 - val_accuracy: 0.4100\n",
      "Epoch 89/100\n",
      "7/7 [==============================] - 0s 25ms/step - loss: 0.6826 - accuracy: 0.7850 - val_loss: 1.5972 - val_accuracy: 0.4100\n",
      "Epoch 90/100\n",
      "7/7 [==============================] - 0s 26ms/step - loss: 0.6852 - accuracy: 0.8000 - val_loss: 1.5788 - val_accuracy: 0.4200\n",
      "Epoch 91/100\n",
      "7/7 [==============================] - 0s 24ms/step - loss: 0.6588 - accuracy: 0.8100 - val_loss: 1.5617 - val_accuracy: 0.4200\n",
      "Epoch 92/100\n",
      "7/7 [==============================] - 0s 24ms/step - loss: 0.6935 - accuracy: 0.7850 - val_loss: 1.6299 - val_accuracy: 0.3900\n",
      "Epoch 93/100\n",
      "7/7 [==============================] - 0s 27ms/step - loss: 0.7182 - accuracy: 0.7825 - val_loss: 1.6019 - val_accuracy: 0.4200\n",
      "Epoch 94/100\n",
      "7/7 [==============================] - 0s 24ms/step - loss: 0.6780 - accuracy: 0.8050 - val_loss: 1.6246 - val_accuracy: 0.4100\n",
      "Epoch 95/100\n",
      "7/7 [==============================] - 0s 24ms/step - loss: 0.7017 - accuracy: 0.7800 - val_loss: 1.5938 - val_accuracy: 0.4300\n",
      "Epoch 96/100\n",
      "7/7 [==============================] - 0s 24ms/step - loss: 0.6770 - accuracy: 0.8175 - val_loss: 1.5750 - val_accuracy: 0.4200\n",
      "Epoch 97/100\n",
      "7/7 [==============================] - 0s 24ms/step - loss: 0.6432 - accuracy: 0.8150 - val_loss: 1.6403 - val_accuracy: 0.4100\n",
      "Epoch 98/100\n",
      "7/7 [==============================] - 0s 24ms/step - loss: 0.6159 - accuracy: 0.8325 - val_loss: 1.6074 - val_accuracy: 0.3900\n",
      "Epoch 99/100\n",
      "7/7 [==============================] - 0s 24ms/step - loss: 0.6398 - accuracy: 0.8075 - val_loss: 1.6039 - val_accuracy: 0.4000\n",
      "Epoch 100/100\n",
      "7/7 [==============================] - 0s 24ms/step - loss: 0.6285 - accuracy: 0.8125 - val_loss: 1.5895 - val_accuracy: 0.4200\n"
     ]
    }
   ],
   "source": [
    "lstm_history_spect = _NN_(lstm_spect, X_train_2_spect, X_test_2_spect,\n",
    "                          y_train_2_spect, y_test_2_spect)"
   ],
   "metadata": {
    "collapsed": false,
    "ExecuteTime": {
     "end_time": "2024-04-30T01:55:57.293559500Z",
     "start_time": "2024-04-30T01:55:38.985155900Z"
    }
   },
   "id": "5e7ba36e897f59e"
  },
  {
   "cell_type": "code",
   "execution_count": 93,
   "outputs": [
    {
     "name": "stdout",
     "output_type": "stream",
     "text": [
      "4/4 - 0s - loss: 1.5895 - accuracy: 0.4200 - 37ms/epoch - 9ms/step\n",
      "Loss: 1.5894627571105957, Accuracy: 0.41999998688697815\n"
     ]
    }
   ],
   "source": [
    "_print_loss_accuracy(lstm_spect, X_test_2_spect, y_test_2_spect)"
   ],
   "metadata": {
    "collapsed": false,
    "ExecuteTime": {
     "end_time": "2024-04-30T01:56:51.732545800Z",
     "start_time": "2024-04-30T01:56:51.658660800Z"
    }
   },
   "id": "308e784ea475f6ac"
  },
  {
   "cell_type": "code",
   "execution_count": 96,
   "outputs": [
    {
     "name": "stdout",
     "output_type": "stream",
     "text": [
      "Model: \"sequential_10\"\n",
      "_________________________________________________________________\n",
      " Layer (type)                Output Shape              Param #   \n",
      "=================================================================\n",
      " conv2d_30 (Conv2D)          (None, 15, 126, 32)       320       \n",
      "                                                                 \n",
      " max_pooling2d_30 (MaxPooli  (None, 8, 63, 32)         0         \n",
      " ng2D)                                                           \n",
      "                                                                 \n",
      " batch_normalization_30 (Ba  (None, 8, 63, 32)         128       \n",
      " tchNormalization)                                               \n",
      "                                                                 \n",
      " conv2d_31 (Conv2D)          (None, 6, 61, 64)         18496     \n",
      "                                                                 \n",
      " max_pooling2d_31 (MaxPooli  (None, 3, 31, 64)         0         \n",
      " ng2D)                                                           \n",
      "                                                                 \n",
      " batch_normalization_31 (Ba  (None, 3, 31, 64)         256       \n",
      " tchNormalization)                                               \n",
      "                                                                 \n",
      " conv2d_32 (Conv2D)          (None, 2, 30, 64)         16448     \n",
      "                                                                 \n",
      " max_pooling2d_32 (MaxPooli  (None, 1, 15, 64)         0         \n",
      " ng2D)                                                           \n",
      "                                                                 \n",
      " batch_normalization_32 (Ba  (None, 1, 15, 64)         256       \n",
      " tchNormalization)                                               \n",
      "                                                                 \n",
      " flatten_10 (Flatten)        (None, 960)               0         \n",
      "                                                                 \n",
      " dense_20 (Dense)            (None, 64)                61504     \n",
      "                                                                 \n",
      " dropout_10 (Dropout)        (None, 64)                0         \n",
      "                                                                 \n",
      " dense_21 (Dense)            (None, 10)                650       \n",
      "                                                                 \n",
      "=================================================================\n",
      "Total params: 98058 (383.04 KB)\n",
      "Trainable params: 97738 (381.79 KB)\n",
      "Non-trainable params: 320 (1.25 KB)\n",
      "_________________________________________________________________\n"
     ]
    }
   ],
   "source": [
    "# Mel Spectogram (Normalized)\n",
    "lstm_spect_norm = _LSTM_model_compile(X_train_2_spect_norm)\n",
    "lstm_spect_norm.summary()"
   ],
   "metadata": {
    "collapsed": false,
    "ExecuteTime": {
     "end_time": "2024-04-30T02:01:09.275850700Z",
     "start_time": "2024-04-30T02:01:09.095308800Z"
    }
   },
   "id": "3823fd899749c0ca"
  },
  {
   "cell_type": "code",
   "execution_count": 97,
   "outputs": [
    {
     "name": "stdout",
     "output_type": "stream",
     "text": [
      "Epoch 1/100\n",
      "7/7 [==============================] - 1s 37ms/step - loss: 3.0306 - accuracy: 0.1400 - val_loss: 2.4203 - val_accuracy: 0.0500\n",
      "Epoch 2/100\n",
      "7/7 [==============================] - 0s 25ms/step - loss: 2.6700 - accuracy: 0.1625 - val_loss: 2.3744 - val_accuracy: 0.0800\n",
      "Epoch 3/100\n",
      "7/7 [==============================] - 0s 25ms/step - loss: 2.3605 - accuracy: 0.1875 - val_loss: 2.3348 - val_accuracy: 0.0800\n",
      "Epoch 4/100\n",
      "7/7 [==============================] - 0s 25ms/step - loss: 2.2333 - accuracy: 0.2225 - val_loss: 2.3052 - val_accuracy: 0.1100\n",
      "Epoch 5/100\n",
      "7/7 [==============================] - 0s 25ms/step - loss: 2.1033 - accuracy: 0.2650 - val_loss: 2.2819 - val_accuracy: 0.1200\n",
      "Epoch 6/100\n",
      "7/7 [==============================] - 0s 26ms/step - loss: 2.0378 - accuracy: 0.2500 - val_loss: 2.2650 - val_accuracy: 0.1200\n",
      "Epoch 7/100\n",
      "7/7 [==============================] - 0s 25ms/step - loss: 1.9674 - accuracy: 0.2950 - val_loss: 2.2508 - val_accuracy: 0.1300\n",
      "Epoch 8/100\n",
      "7/7 [==============================] - 0s 25ms/step - loss: 1.8755 - accuracy: 0.3400 - val_loss: 2.2412 - val_accuracy: 0.1400\n",
      "Epoch 9/100\n",
      "7/7 [==============================] - 0s 27ms/step - loss: 1.8509 - accuracy: 0.3150 - val_loss: 2.2350 - val_accuracy: 0.1300\n",
      "Epoch 10/100\n",
      "7/7 [==============================] - 0s 26ms/step - loss: 1.7605 - accuracy: 0.3950 - val_loss: 2.2303 - val_accuracy: 0.1400\n",
      "Epoch 11/100\n",
      "7/7 [==============================] - 0s 24ms/step - loss: 1.6552 - accuracy: 0.4475 - val_loss: 2.2255 - val_accuracy: 0.1600\n",
      "Epoch 12/100\n",
      "7/7 [==============================] - 0s 26ms/step - loss: 1.7090 - accuracy: 0.4375 - val_loss: 2.2227 - val_accuracy: 0.1600\n",
      "Epoch 13/100\n",
      "7/7 [==============================] - 0s 26ms/step - loss: 1.6344 - accuracy: 0.4500 - val_loss: 2.2209 - val_accuracy: 0.1500\n",
      "Epoch 14/100\n",
      "7/7 [==============================] - 0s 26ms/step - loss: 1.6017 - accuracy: 0.4400 - val_loss: 2.2132 - val_accuracy: 0.1600\n",
      "Epoch 15/100\n",
      "7/7 [==============================] - 0s 25ms/step - loss: 1.5822 - accuracy: 0.4775 - val_loss: 2.2033 - val_accuracy: 0.1600\n",
      "Epoch 16/100\n",
      "7/7 [==============================] - 0s 25ms/step - loss: 1.5414 - accuracy: 0.4675 - val_loss: 2.1949 - val_accuracy: 0.1800\n",
      "Epoch 17/100\n",
      "7/7 [==============================] - 0s 25ms/step - loss: 1.5289 - accuracy: 0.4550 - val_loss: 2.1877 - val_accuracy: 0.1800\n",
      "Epoch 18/100\n",
      "7/7 [==============================] - 0s 25ms/step - loss: 1.4791 - accuracy: 0.5075 - val_loss: 2.1818 - val_accuracy: 0.1900\n",
      "Epoch 19/100\n",
      "7/7 [==============================] - 0s 25ms/step - loss: 1.4953 - accuracy: 0.5125 - val_loss: 2.1708 - val_accuracy: 0.1900\n",
      "Epoch 20/100\n",
      "7/7 [==============================] - 0s 26ms/step - loss: 1.4887 - accuracy: 0.5100 - val_loss: 2.1597 - val_accuracy: 0.1900\n",
      "Epoch 21/100\n",
      "7/7 [==============================] - 0s 24ms/step - loss: 1.4459 - accuracy: 0.5300 - val_loss: 2.1510 - val_accuracy: 0.2000\n",
      "Epoch 22/100\n",
      "7/7 [==============================] - 0s 24ms/step - loss: 1.3997 - accuracy: 0.5475 - val_loss: 2.1432 - val_accuracy: 0.2200\n",
      "Epoch 23/100\n",
      "7/7 [==============================] - 0s 25ms/step - loss: 1.3854 - accuracy: 0.5450 - val_loss: 2.1355 - val_accuracy: 0.2200\n",
      "Epoch 24/100\n",
      "7/7 [==============================] - 0s 25ms/step - loss: 1.3815 - accuracy: 0.5600 - val_loss: 2.1260 - val_accuracy: 0.2200\n",
      "Epoch 25/100\n",
      "7/7 [==============================] - 0s 24ms/step - loss: 1.4055 - accuracy: 0.5425 - val_loss: 2.1153 - val_accuracy: 0.2200\n",
      "Epoch 26/100\n",
      "7/7 [==============================] - 0s 25ms/step - loss: 1.3144 - accuracy: 0.5650 - val_loss: 2.1016 - val_accuracy: 0.2300\n",
      "Epoch 27/100\n",
      "7/7 [==============================] - 0s 24ms/step - loss: 1.2540 - accuracy: 0.5900 - val_loss: 2.0865 - val_accuracy: 0.2300\n",
      "Epoch 28/100\n",
      "7/7 [==============================] - 0s 25ms/step - loss: 1.2904 - accuracy: 0.5575 - val_loss: 2.0725 - val_accuracy: 0.2600\n",
      "Epoch 29/100\n",
      "7/7 [==============================] - 0s 25ms/step - loss: 1.2573 - accuracy: 0.5900 - val_loss: 2.0594 - val_accuracy: 0.2600\n",
      "Epoch 30/100\n",
      "7/7 [==============================] - 0s 25ms/step - loss: 1.2708 - accuracy: 0.5775 - val_loss: 2.0508 - val_accuracy: 0.2500\n",
      "Epoch 31/100\n",
      "7/7 [==============================] - 0s 25ms/step - loss: 1.2672 - accuracy: 0.5825 - val_loss: 2.0446 - val_accuracy: 0.2300\n",
      "Epoch 32/100\n",
      "7/7 [==============================] - 0s 25ms/step - loss: 1.2485 - accuracy: 0.5825 - val_loss: 2.0414 - val_accuracy: 0.2300\n",
      "Epoch 33/100\n",
      "7/7 [==============================] - 0s 25ms/step - loss: 1.2077 - accuracy: 0.6100 - val_loss: 2.0266 - val_accuracy: 0.2300\n",
      "Epoch 34/100\n",
      "7/7 [==============================] - 0s 26ms/step - loss: 1.2439 - accuracy: 0.5750 - val_loss: 2.0100 - val_accuracy: 0.2500\n",
      "Epoch 35/100\n",
      "7/7 [==============================] - 0s 25ms/step - loss: 1.1569 - accuracy: 0.6100 - val_loss: 1.9947 - val_accuracy: 0.3100\n",
      "Epoch 36/100\n",
      "7/7 [==============================] - 0s 24ms/step - loss: 1.1300 - accuracy: 0.6450 - val_loss: 1.9786 - val_accuracy: 0.3100\n",
      "Epoch 37/100\n",
      "7/7 [==============================] - 0s 24ms/step - loss: 1.1729 - accuracy: 0.5775 - val_loss: 1.9609 - val_accuracy: 0.3100\n",
      "Epoch 38/100\n",
      "7/7 [==============================] - 0s 24ms/step - loss: 1.1405 - accuracy: 0.6375 - val_loss: 1.9510 - val_accuracy: 0.3100\n",
      "Epoch 39/100\n",
      "7/7 [==============================] - 0s 24ms/step - loss: 1.0838 - accuracy: 0.6625 - val_loss: 1.9435 - val_accuracy: 0.3100\n",
      "Epoch 40/100\n",
      "7/7 [==============================] - 0s 25ms/step - loss: 1.0943 - accuracy: 0.6475 - val_loss: 1.9371 - val_accuracy: 0.3100\n",
      "Epoch 41/100\n",
      "7/7 [==============================] - 0s 24ms/step - loss: 1.0615 - accuracy: 0.6800 - val_loss: 1.9258 - val_accuracy: 0.3000\n",
      "Epoch 42/100\n",
      "7/7 [==============================] - 0s 24ms/step - loss: 1.1026 - accuracy: 0.6225 - val_loss: 1.9166 - val_accuracy: 0.3100\n",
      "Epoch 43/100\n",
      "7/7 [==============================] - 0s 24ms/step - loss: 1.0509 - accuracy: 0.6650 - val_loss: 1.9118 - val_accuracy: 0.3000\n",
      "Epoch 44/100\n",
      "7/7 [==============================] - 0s 26ms/step - loss: 1.0681 - accuracy: 0.6600 - val_loss: 1.8977 - val_accuracy: 0.2900\n",
      "Epoch 45/100\n",
      "7/7 [==============================] - 0s 25ms/step - loss: 1.0394 - accuracy: 0.6525 - val_loss: 1.8829 - val_accuracy: 0.3000\n",
      "Epoch 46/100\n",
      "7/7 [==============================] - 0s 24ms/step - loss: 1.0358 - accuracy: 0.6500 - val_loss: 1.8718 - val_accuracy: 0.3200\n",
      "Epoch 47/100\n",
      "7/7 [==============================] - 0s 25ms/step - loss: 0.9999 - accuracy: 0.7100 - val_loss: 1.8546 - val_accuracy: 0.3300\n",
      "Epoch 48/100\n",
      "7/7 [==============================] - 0s 25ms/step - loss: 1.0437 - accuracy: 0.6600 - val_loss: 1.8360 - val_accuracy: 0.3300\n",
      "Epoch 49/100\n",
      "7/7 [==============================] - 0s 24ms/step - loss: 0.9509 - accuracy: 0.7025 - val_loss: 1.8178 - val_accuracy: 0.3500\n",
      "Epoch 50/100\n",
      "7/7 [==============================] - 0s 25ms/step - loss: 0.9824 - accuracy: 0.6975 - val_loss: 1.8072 - val_accuracy: 0.3700\n",
      "Epoch 51/100\n",
      "7/7 [==============================] - 0s 24ms/step - loss: 0.9642 - accuracy: 0.6900 - val_loss: 1.8062 - val_accuracy: 0.3700\n",
      "Epoch 52/100\n",
      "7/7 [==============================] - 0s 24ms/step - loss: 0.9483 - accuracy: 0.7075 - val_loss: 1.8041 - val_accuracy: 0.3600\n",
      "Epoch 53/100\n",
      "7/7 [==============================] - 0s 24ms/step - loss: 0.9306 - accuracy: 0.7175 - val_loss: 1.8002 - val_accuracy: 0.3600\n",
      "Epoch 54/100\n",
      "7/7 [==============================] - 0s 24ms/step - loss: 0.9546 - accuracy: 0.7050 - val_loss: 1.7770 - val_accuracy: 0.3600\n",
      "Epoch 55/100\n",
      "7/7 [==============================] - 0s 25ms/step - loss: 0.9111 - accuracy: 0.7400 - val_loss: 1.7491 - val_accuracy: 0.4000\n",
      "Epoch 56/100\n",
      "7/7 [==============================] - 0s 25ms/step - loss: 0.9307 - accuracy: 0.7150 - val_loss: 1.7332 - val_accuracy: 0.3900\n",
      "Epoch 57/100\n",
      "7/7 [==============================] - 0s 24ms/step - loss: 0.8772 - accuracy: 0.7400 - val_loss: 1.7258 - val_accuracy: 0.3900\n",
      "Epoch 58/100\n",
      "7/7 [==============================] - 0s 25ms/step - loss: 0.8743 - accuracy: 0.7350 - val_loss: 1.7206 - val_accuracy: 0.3800\n",
      "Epoch 59/100\n",
      "7/7 [==============================] - 0s 24ms/step - loss: 0.8775 - accuracy: 0.7350 - val_loss: 1.7146 - val_accuracy: 0.3800\n",
      "Epoch 60/100\n",
      "7/7 [==============================] - 0s 24ms/step - loss: 0.8665 - accuracy: 0.7375 - val_loss: 1.7079 - val_accuracy: 0.3600\n",
      "Epoch 61/100\n",
      "7/7 [==============================] - 0s 24ms/step - loss: 0.8998 - accuracy: 0.7125 - val_loss: 1.6898 - val_accuracy: 0.3700\n",
      "Epoch 62/100\n",
      "7/7 [==============================] - 0s 25ms/step - loss: 0.8709 - accuracy: 0.7200 - val_loss: 1.6744 - val_accuracy: 0.3800\n",
      "Epoch 63/100\n",
      "7/7 [==============================] - 0s 24ms/step - loss: 0.8296 - accuracy: 0.7475 - val_loss: 1.6590 - val_accuracy: 0.3900\n",
      "Epoch 64/100\n",
      "7/7 [==============================] - 0s 24ms/step - loss: 0.8393 - accuracy: 0.7350 - val_loss: 1.6521 - val_accuracy: 0.4000\n",
      "Epoch 65/100\n",
      "7/7 [==============================] - 0s 24ms/step - loss: 0.7840 - accuracy: 0.7850 - val_loss: 1.6438 - val_accuracy: 0.4100\n",
      "Epoch 66/100\n",
      "7/7 [==============================] - 0s 25ms/step - loss: 0.8071 - accuracy: 0.7675 - val_loss: 1.6243 - val_accuracy: 0.4800\n",
      "Epoch 67/100\n",
      "7/7 [==============================] - 0s 23ms/step - loss: 0.8403 - accuracy: 0.7500 - val_loss: 1.6154 - val_accuracy: 0.5000\n",
      "Epoch 68/100\n",
      "7/7 [==============================] - 0s 24ms/step - loss: 0.8103 - accuracy: 0.7400 - val_loss: 1.6083 - val_accuracy: 0.5200\n",
      "Epoch 69/100\n",
      "7/7 [==============================] - 0s 24ms/step - loss: 0.7802 - accuracy: 0.7450 - val_loss: 1.5913 - val_accuracy: 0.5300\n",
      "Epoch 70/100\n",
      "7/7 [==============================] - 0s 24ms/step - loss: 0.7859 - accuracy: 0.7600 - val_loss: 1.5790 - val_accuracy: 0.5200\n",
      "Epoch 71/100\n",
      "7/7 [==============================] - 0s 24ms/step - loss: 0.7754 - accuracy: 0.7775 - val_loss: 1.5776 - val_accuracy: 0.4200\n",
      "Epoch 72/100\n",
      "7/7 [==============================] - 0s 24ms/step - loss: 0.7320 - accuracy: 0.7800 - val_loss: 1.5707 - val_accuracy: 0.4100\n",
      "Epoch 73/100\n",
      "7/7 [==============================] - 0s 24ms/step - loss: 0.7448 - accuracy: 0.7925 - val_loss: 1.5708 - val_accuracy: 0.4500\n",
      "Epoch 74/100\n",
      "7/7 [==============================] - 0s 25ms/step - loss: 0.7469 - accuracy: 0.7875 - val_loss: 1.5565 - val_accuracy: 0.4500\n",
      "Epoch 75/100\n",
      "7/7 [==============================] - 0s 25ms/step - loss: 0.6825 - accuracy: 0.7875 - val_loss: 1.5346 - val_accuracy: 0.4600\n",
      "Epoch 76/100\n",
      "7/7 [==============================] - 0s 24ms/step - loss: 0.7314 - accuracy: 0.7800 - val_loss: 1.5182 - val_accuracy: 0.5300\n",
      "Epoch 77/100\n",
      "7/7 [==============================] - 0s 25ms/step - loss: 0.6995 - accuracy: 0.7950 - val_loss: 1.5121 - val_accuracy: 0.5600\n",
      "Epoch 78/100\n",
      "7/7 [==============================] - 0s 25ms/step - loss: 0.7051 - accuracy: 0.7825 - val_loss: 1.4996 - val_accuracy: 0.5700\n",
      "Epoch 79/100\n",
      "7/7 [==============================] - 0s 24ms/step - loss: 0.7086 - accuracy: 0.7875 - val_loss: 1.5033 - val_accuracy: 0.5700\n",
      "Epoch 80/100\n",
      "7/7 [==============================] - 0s 25ms/step - loss: 0.6503 - accuracy: 0.8100 - val_loss: 1.5162 - val_accuracy: 0.5500\n",
      "Epoch 81/100\n",
      "7/7 [==============================] - 0s 24ms/step - loss: 0.6978 - accuracy: 0.7975 - val_loss: 1.5078 - val_accuracy: 0.5400\n",
      "Epoch 82/100\n",
      "7/7 [==============================] - 0s 25ms/step - loss: 0.7132 - accuracy: 0.7800 - val_loss: 1.4910 - val_accuracy: 0.5500\n",
      "Epoch 83/100\n",
      "7/7 [==============================] - 0s 24ms/step - loss: 0.6871 - accuracy: 0.7825 - val_loss: 1.4700 - val_accuracy: 0.5600\n",
      "Epoch 84/100\n",
      "7/7 [==============================] - 0s 24ms/step - loss: 0.6751 - accuracy: 0.7875 - val_loss: 1.4507 - val_accuracy: 0.5700\n",
      "Epoch 85/100\n",
      "7/7 [==============================] - 0s 25ms/step - loss: 0.6237 - accuracy: 0.8250 - val_loss: 1.4557 - val_accuracy: 0.5500\n",
      "Epoch 86/100\n",
      "7/7 [==============================] - 0s 24ms/step - loss: 0.6603 - accuracy: 0.7950 - val_loss: 1.4744 - val_accuracy: 0.5600\n",
      "Epoch 87/100\n",
      "7/7 [==============================] - 0s 24ms/step - loss: 0.6396 - accuracy: 0.8175 - val_loss: 1.4584 - val_accuracy: 0.5700\n",
      "Epoch 88/100\n",
      "7/7 [==============================] - 0s 25ms/step - loss: 0.6677 - accuracy: 0.8050 - val_loss: 1.4442 - val_accuracy: 0.5800\n",
      "Epoch 89/100\n",
      "7/7 [==============================] - 0s 24ms/step - loss: 0.6027 - accuracy: 0.8250 - val_loss: 1.4309 - val_accuracy: 0.5800\n",
      "Epoch 90/100\n",
      "7/7 [==============================] - 0s 25ms/step - loss: 0.6402 - accuracy: 0.7975 - val_loss: 1.4176 - val_accuracy: 0.5700\n",
      "Epoch 91/100\n",
      "7/7 [==============================] - 0s 25ms/step - loss: 0.6342 - accuracy: 0.8200 - val_loss: 1.4060 - val_accuracy: 0.5600\n",
      "Epoch 92/100\n",
      "7/7 [==============================] - 0s 24ms/step - loss: 0.6013 - accuracy: 0.8150 - val_loss: 1.4044 - val_accuracy: 0.5900\n",
      "Epoch 93/100\n",
      "7/7 [==============================] - 0s 25ms/step - loss: 0.6232 - accuracy: 0.8225 - val_loss: 1.3927 - val_accuracy: 0.5600\n",
      "Epoch 94/100\n",
      "7/7 [==============================] - 0s 24ms/step - loss: 0.6071 - accuracy: 0.8325 - val_loss: 1.3782 - val_accuracy: 0.5800\n",
      "Epoch 95/100\n",
      "7/7 [==============================] - 0s 24ms/step - loss: 0.5849 - accuracy: 0.8300 - val_loss: 1.3619 - val_accuracy: 0.5600\n",
      "Epoch 96/100\n",
      "7/7 [==============================] - 0s 24ms/step - loss: 0.5636 - accuracy: 0.8225 - val_loss: 1.3505 - val_accuracy: 0.5600\n",
      "Epoch 97/100\n",
      "7/7 [==============================] - 0s 23ms/step - loss: 0.5829 - accuracy: 0.8275 - val_loss: 1.3353 - val_accuracy: 0.5800\n",
      "Epoch 98/100\n",
      "7/7 [==============================] - 0s 23ms/step - loss: 0.6005 - accuracy: 0.8350 - val_loss: 1.3425 - val_accuracy: 0.5800\n",
      "Epoch 99/100\n",
      "7/7 [==============================] - 0s 23ms/step - loss: 0.5899 - accuracy: 0.8325 - val_loss: 1.3344 - val_accuracy: 0.5900\n",
      "Epoch 100/100\n",
      "7/7 [==============================] - 0s 25ms/step - loss: 0.5584 - accuracy: 0.8225 - val_loss: 1.3359 - val_accuracy: 0.5900\n"
     ]
    }
   ],
   "source": [
    "lstm_history_spect_norm = _NN_(lstm_spect_norm, X_train_2_spect_norm, X_test_2_spect_norm,\n",
    "                               y_train_2_spect_norm, y_test_2_spect_norm)"
   ],
   "metadata": {
    "collapsed": false,
    "ExecuteTime": {
     "end_time": "2024-04-30T02:01:27.260690700Z",
     "start_time": "2024-04-30T02:01:09.545275400Z"
    }
   },
   "id": "32e73e1ce07ce718"
  },
  {
   "cell_type": "code",
   "execution_count": 98,
   "outputs": [
    {
     "name": "stdout",
     "output_type": "stream",
     "text": [
      "4/4 - 0s - loss: 1.3359 - accuracy: 0.5900 - 38ms/epoch - 9ms/step\n",
      "Loss: 1.3359266519546509, Accuracy: 0.5899999737739563\n"
     ]
    }
   ],
   "source": [
    "_print_loss_accuracy(lstm_spect_norm, X_test_2_spect_norm, y_test_2_spect_norm)"
   ],
   "metadata": {
    "collapsed": false,
    "ExecuteTime": {
     "end_time": "2024-04-30T02:01:27.321611600Z",
     "start_time": "2024-04-30T02:01:27.260690700Z"
    }
   },
   "id": "353fdcd0412a6fe2"
  },
  {
   "cell_type": "code",
   "execution_count": 99,
   "outputs": [
    {
     "name": "stdout",
     "output_type": "stream",
     "text": [
      "Model: \"sequential_11\"\n",
      "_________________________________________________________________\n",
      " Layer (type)                Output Shape              Param #   \n",
      "=================================================================\n",
      " conv2d_33 (Conv2D)          (None, 15, 126, 32)       320       \n",
      "                                                                 \n",
      " max_pooling2d_33 (MaxPooli  (None, 8, 63, 32)         0         \n",
      " ng2D)                                                           \n",
      "                                                                 \n",
      " batch_normalization_33 (Ba  (None, 8, 63, 32)         128       \n",
      " tchNormalization)                                               \n",
      "                                                                 \n",
      " conv2d_34 (Conv2D)          (None, 6, 61, 64)         18496     \n",
      "                                                                 \n",
      " max_pooling2d_34 (MaxPooli  (None, 3, 31, 64)         0         \n",
      " ng2D)                                                           \n",
      "                                                                 \n",
      " batch_normalization_34 (Ba  (None, 3, 31, 64)         256       \n",
      " tchNormalization)                                               \n",
      "                                                                 \n",
      " conv2d_35 (Conv2D)          (None, 2, 30, 64)         16448     \n",
      "                                                                 \n",
      " max_pooling2d_35 (MaxPooli  (None, 1, 15, 64)         0         \n",
      " ng2D)                                                           \n",
      "                                                                 \n",
      " batch_normalization_35 (Ba  (None, 1, 15, 64)         256       \n",
      " tchNormalization)                                               \n",
      "                                                                 \n",
      " flatten_11 (Flatten)        (None, 960)               0         \n",
      "                                                                 \n",
      " dense_22 (Dense)            (None, 64)                61504     \n",
      "                                                                 \n",
      " dropout_11 (Dropout)        (None, 64)                0         \n",
      "                                                                 \n",
      " dense_23 (Dense)            (None, 10)                650       \n",
      "                                                                 \n",
      "=================================================================\n",
      "Total params: 98058 (383.04 KB)\n",
      "Trainable params: 97738 (381.79 KB)\n",
      "Non-trainable params: 320 (1.25 KB)\n",
      "_________________________________________________________________\n"
     ]
    }
   ],
   "source": [
    "# Mel Spectogram decibels (dB)\n",
    "lstm_spect_db = _LSTM_model_compile(X_train_2_spect_db)\n",
    "lstm_spect_db.summary()"
   ],
   "metadata": {
    "collapsed": false,
    "ExecuteTime": {
     "end_time": "2024-04-30T02:01:27.492444500Z",
     "start_time": "2024-04-30T02:01:27.326441500Z"
    }
   },
   "id": "cd26fbbbdf080aa7"
  },
  {
   "cell_type": "code",
   "execution_count": 100,
   "outputs": [
    {
     "name": "stdout",
     "output_type": "stream",
     "text": [
      "Epoch 1/100\n",
      "7/7 [==============================] - 1s 43ms/step - loss: 2.8368 - accuracy: 0.1050 - val_loss: 2.2605 - val_accuracy: 0.1500\n",
      "Epoch 2/100\n",
      "7/7 [==============================] - 0s 26ms/step - loss: 2.5398 - accuracy: 0.1300 - val_loss: 2.2291 - val_accuracy: 0.1600\n",
      "Epoch 3/100\n",
      "7/7 [==============================] - 0s 26ms/step - loss: 2.4055 - accuracy: 0.1625 - val_loss: 2.2087 - val_accuracy: 0.1800\n",
      "Epoch 4/100\n",
      "7/7 [==============================] - 0s 25ms/step - loss: 2.2290 - accuracy: 0.2000 - val_loss: 2.1931 - val_accuracy: 0.2100\n",
      "Epoch 5/100\n",
      "7/7 [==============================] - 0s 26ms/step - loss: 2.1308 - accuracy: 0.2300 - val_loss: 2.1828 - val_accuracy: 0.2200\n",
      "Epoch 6/100\n",
      "7/7 [==============================] - 0s 25ms/step - loss: 2.0278 - accuracy: 0.2725 - val_loss: 2.1737 - val_accuracy: 0.2700\n",
      "Epoch 7/100\n",
      "7/7 [==============================] - 0s 25ms/step - loss: 1.9698 - accuracy: 0.3050 - val_loss: 2.1668 - val_accuracy: 0.2300\n",
      "Epoch 8/100\n",
      "7/7 [==============================] - 0s 26ms/step - loss: 1.9291 - accuracy: 0.3300 - val_loss: 2.1599 - val_accuracy: 0.2200\n",
      "Epoch 9/100\n",
      "7/7 [==============================] - 0s 25ms/step - loss: 1.9116 - accuracy: 0.3125 - val_loss: 2.1543 - val_accuracy: 0.2100\n",
      "Epoch 10/100\n",
      "7/7 [==============================] - 0s 25ms/step - loss: 1.8475 - accuracy: 0.3400 - val_loss: 2.1501 - val_accuracy: 0.2400\n",
      "Epoch 11/100\n",
      "7/7 [==============================] - 0s 25ms/step - loss: 1.7872 - accuracy: 0.3675 - val_loss: 2.1430 - val_accuracy: 0.2500\n",
      "Epoch 12/100\n",
      "7/7 [==============================] - 0s 25ms/step - loss: 1.7750 - accuracy: 0.3900 - val_loss: 2.1327 - val_accuracy: 0.2500\n",
      "Epoch 13/100\n",
      "7/7 [==============================] - 0s 25ms/step - loss: 1.7374 - accuracy: 0.3950 - val_loss: 2.1220 - val_accuracy: 0.2200\n",
      "Epoch 14/100\n",
      "7/7 [==============================] - 0s 25ms/step - loss: 1.6753 - accuracy: 0.4350 - val_loss: 2.1121 - val_accuracy: 0.2900\n",
      "Epoch 15/100\n",
      "7/7 [==============================] - 0s 25ms/step - loss: 1.6251 - accuracy: 0.4275 - val_loss: 2.1020 - val_accuracy: 0.2600\n",
      "Epoch 16/100\n",
      "7/7 [==============================] - 0s 24ms/step - loss: 1.6143 - accuracy: 0.4475 - val_loss: 2.0925 - val_accuracy: 0.2700\n",
      "Epoch 17/100\n",
      "7/7 [==============================] - 0s 25ms/step - loss: 1.6184 - accuracy: 0.4250 - val_loss: 2.0833 - val_accuracy: 0.2600\n",
      "Epoch 18/100\n",
      "7/7 [==============================] - 0s 25ms/step - loss: 1.5898 - accuracy: 0.4350 - val_loss: 2.0747 - val_accuracy: 0.2900\n",
      "Epoch 19/100\n",
      "7/7 [==============================] - 0s 25ms/step - loss: 1.5056 - accuracy: 0.4950 - val_loss: 2.0660 - val_accuracy: 0.2900\n",
      "Epoch 20/100\n",
      "7/7 [==============================] - 0s 25ms/step - loss: 1.4715 - accuracy: 0.4975 - val_loss: 2.0573 - val_accuracy: 0.2900\n",
      "Epoch 21/100\n",
      "7/7 [==============================] - 0s 24ms/step - loss: 1.5028 - accuracy: 0.4275 - val_loss: 2.0473 - val_accuracy: 0.2800\n",
      "Epoch 22/100\n",
      "7/7 [==============================] - 0s 24ms/step - loss: 1.4799 - accuracy: 0.5100 - val_loss: 2.0377 - val_accuracy: 0.2900\n",
      "Epoch 23/100\n",
      "7/7 [==============================] - 0s 24ms/step - loss: 1.4771 - accuracy: 0.4825 - val_loss: 2.0265 - val_accuracy: 0.3200\n",
      "Epoch 24/100\n",
      "7/7 [==============================] - 0s 24ms/step - loss: 1.4500 - accuracy: 0.4925 - val_loss: 2.0170 - val_accuracy: 0.3400\n",
      "Epoch 25/100\n",
      "7/7 [==============================] - 0s 25ms/step - loss: 1.3976 - accuracy: 0.5050 - val_loss: 2.0046 - val_accuracy: 0.3400\n",
      "Epoch 26/100\n",
      "7/7 [==============================] - 0s 25ms/step - loss: 1.4104 - accuracy: 0.5225 - val_loss: 1.9951 - val_accuracy: 0.3300\n",
      "Epoch 27/100\n",
      "7/7 [==============================] - 0s 25ms/step - loss: 1.4054 - accuracy: 0.4900 - val_loss: 1.9877 - val_accuracy: 0.3300\n",
      "Epoch 28/100\n",
      "7/7 [==============================] - 0s 25ms/step - loss: 1.3328 - accuracy: 0.5525 - val_loss: 1.9790 - val_accuracy: 0.3300\n",
      "Epoch 29/100\n",
      "7/7 [==============================] - 0s 24ms/step - loss: 1.3812 - accuracy: 0.5375 - val_loss: 1.9711 - val_accuracy: 0.3400\n",
      "Epoch 30/100\n",
      "7/7 [==============================] - 0s 24ms/step - loss: 1.3094 - accuracy: 0.5950 - val_loss: 1.9641 - val_accuracy: 0.3300\n",
      "Epoch 31/100\n",
      "7/7 [==============================] - 0s 24ms/step - loss: 1.3209 - accuracy: 0.5400 - val_loss: 1.9576 - val_accuracy: 0.3500\n",
      "Epoch 32/100\n",
      "7/7 [==============================] - 0s 24ms/step - loss: 1.3192 - accuracy: 0.5675 - val_loss: 1.9524 - val_accuracy: 0.3400\n",
      "Epoch 33/100\n",
      "7/7 [==============================] - 0s 24ms/step - loss: 1.2827 - accuracy: 0.5675 - val_loss: 1.9440 - val_accuracy: 0.3500\n",
      "Epoch 34/100\n",
      "7/7 [==============================] - 0s 24ms/step - loss: 1.2400 - accuracy: 0.5725 - val_loss: 1.9378 - val_accuracy: 0.3600\n",
      "Epoch 35/100\n",
      "7/7 [==============================] - 0s 24ms/step - loss: 1.2548 - accuracy: 0.5650 - val_loss: 1.9324 - val_accuracy: 0.4200\n",
      "Epoch 36/100\n",
      "7/7 [==============================] - 0s 24ms/step - loss: 1.2407 - accuracy: 0.5850 - val_loss: 1.9237 - val_accuracy: 0.4200\n",
      "Epoch 37/100\n",
      "7/7 [==============================] - 0s 24ms/step - loss: 1.2114 - accuracy: 0.5950 - val_loss: 1.9179 - val_accuracy: 0.3900\n",
      "Epoch 38/100\n",
      "7/7 [==============================] - 0s 25ms/step - loss: 1.1845 - accuracy: 0.6175 - val_loss: 1.9115 - val_accuracy: 0.3700\n",
      "Epoch 39/100\n",
      "7/7 [==============================] - 0s 25ms/step - loss: 1.1562 - accuracy: 0.6175 - val_loss: 1.9069 - val_accuracy: 0.3900\n",
      "Epoch 40/100\n",
      "7/7 [==============================] - 0s 23ms/step - loss: 1.1841 - accuracy: 0.5975 - val_loss: 1.9027 - val_accuracy: 0.4300\n",
      "Epoch 41/100\n",
      "7/7 [==============================] - 0s 24ms/step - loss: 1.1554 - accuracy: 0.6000 - val_loss: 1.8859 - val_accuracy: 0.4400\n",
      "Epoch 42/100\n",
      "7/7 [==============================] - 0s 25ms/step - loss: 1.1416 - accuracy: 0.6075 - val_loss: 1.8721 - val_accuracy: 0.4200\n",
      "Epoch 43/100\n",
      "7/7 [==============================] - 0s 24ms/step - loss: 1.1560 - accuracy: 0.6475 - val_loss: 1.8625 - val_accuracy: 0.4100\n",
      "Epoch 44/100\n",
      "7/7 [==============================] - 0s 24ms/step - loss: 1.1252 - accuracy: 0.6350 - val_loss: 1.8590 - val_accuracy: 0.3500\n",
      "Epoch 45/100\n",
      "7/7 [==============================] - 0s 23ms/step - loss: 1.1011 - accuracy: 0.6500 - val_loss: 1.8577 - val_accuracy: 0.3400\n",
      "Epoch 46/100\n",
      "7/7 [==============================] - 0s 25ms/step - loss: 1.1082 - accuracy: 0.6225 - val_loss: 1.8584 - val_accuracy: 0.3100\n",
      "Epoch 47/100\n",
      "7/7 [==============================] - 0s 25ms/step - loss: 1.0887 - accuracy: 0.6325 - val_loss: 1.8561 - val_accuracy: 0.3200\n",
      "Epoch 48/100\n",
      "7/7 [==============================] - 0s 24ms/step - loss: 1.0885 - accuracy: 0.6275 - val_loss: 1.8384 - val_accuracy: 0.4100\n",
      "Epoch 49/100\n",
      "7/7 [==============================] - 0s 24ms/step - loss: 1.0321 - accuracy: 0.6600 - val_loss: 1.8246 - val_accuracy: 0.4700\n",
      "Epoch 50/100\n",
      "7/7 [==============================] - 0s 24ms/step - loss: 1.0805 - accuracy: 0.6375 - val_loss: 1.8140 - val_accuracy: 0.4700\n",
      "Epoch 51/100\n",
      "7/7 [==============================] - 0s 24ms/step - loss: 1.0504 - accuracy: 0.6450 - val_loss: 1.8118 - val_accuracy: 0.5000\n",
      "Epoch 52/100\n",
      "7/7 [==============================] - 0s 24ms/step - loss: 1.0220 - accuracy: 0.7000 - val_loss: 1.8110 - val_accuracy: 0.4900\n",
      "Epoch 53/100\n",
      "7/7 [==============================] - 0s 25ms/step - loss: 0.9836 - accuracy: 0.6775 - val_loss: 1.8218 - val_accuracy: 0.3700\n",
      "Epoch 54/100\n",
      "7/7 [==============================] - 0s 24ms/step - loss: 1.0168 - accuracy: 0.6750 - val_loss: 1.8298 - val_accuracy: 0.3400\n",
      "Epoch 55/100\n",
      "7/7 [==============================] - 0s 25ms/step - loss: 0.9840 - accuracy: 0.7000 - val_loss: 1.8376 - val_accuracy: 0.3600\n",
      "Epoch 56/100\n",
      "7/7 [==============================] - 0s 25ms/step - loss: 0.9956 - accuracy: 0.6675 - val_loss: 1.8314 - val_accuracy: 0.3500\n",
      "Epoch 57/100\n",
      "7/7 [==============================] - 0s 24ms/step - loss: 1.0016 - accuracy: 0.6775 - val_loss: 1.8062 - val_accuracy: 0.3900\n",
      "Epoch 58/100\n",
      "7/7 [==============================] - 0s 25ms/step - loss: 1.0031 - accuracy: 0.6650 - val_loss: 1.7937 - val_accuracy: 0.3900\n",
      "Epoch 59/100\n",
      "7/7 [==============================] - 0s 24ms/step - loss: 0.9617 - accuracy: 0.6900 - val_loss: 1.7828 - val_accuracy: 0.4100\n",
      "Epoch 60/100\n",
      "7/7 [==============================] - 0s 24ms/step - loss: 0.9430 - accuracy: 0.6925 - val_loss: 1.7698 - val_accuracy: 0.4000\n",
      "Epoch 61/100\n",
      "7/7 [==============================] - 0s 25ms/step - loss: 0.9488 - accuracy: 0.7000 - val_loss: 1.7557 - val_accuracy: 0.4200\n",
      "Epoch 62/100\n",
      "7/7 [==============================] - 0s 24ms/step - loss: 0.9160 - accuracy: 0.7125 - val_loss: 1.7542 - val_accuracy: 0.4300\n",
      "Epoch 63/100\n",
      "7/7 [==============================] - 0s 25ms/step - loss: 0.9035 - accuracy: 0.7175 - val_loss: 1.7471 - val_accuracy: 0.4000\n",
      "Epoch 64/100\n",
      "7/7 [==============================] - 0s 25ms/step - loss: 0.9071 - accuracy: 0.6975 - val_loss: 1.7374 - val_accuracy: 0.4200\n",
      "Epoch 65/100\n",
      "7/7 [==============================] - 0s 24ms/step - loss: 0.8989 - accuracy: 0.7125 - val_loss: 1.7327 - val_accuracy: 0.4100\n",
      "Epoch 66/100\n",
      "7/7 [==============================] - 0s 24ms/step - loss: 0.9022 - accuracy: 0.7000 - val_loss: 1.7344 - val_accuracy: 0.4100\n",
      "Epoch 67/100\n",
      "7/7 [==============================] - 0s 24ms/step - loss: 0.8862 - accuracy: 0.7200 - val_loss: 1.7279 - val_accuracy: 0.4100\n",
      "Epoch 68/100\n",
      "7/7 [==============================] - 0s 25ms/step - loss: 0.9136 - accuracy: 0.7125 - val_loss: 1.7110 - val_accuracy: 0.4100\n",
      "Epoch 69/100\n",
      "7/7 [==============================] - 0s 25ms/step - loss: 0.8814 - accuracy: 0.7100 - val_loss: 1.6936 - val_accuracy: 0.5200\n",
      "Epoch 70/100\n",
      "7/7 [==============================] - 0s 25ms/step - loss: 0.8298 - accuracy: 0.7425 - val_loss: 1.6947 - val_accuracy: 0.5300\n",
      "Epoch 71/100\n",
      "7/7 [==============================] - 0s 24ms/step - loss: 0.8325 - accuracy: 0.7425 - val_loss: 1.6968 - val_accuracy: 0.5100\n",
      "Epoch 72/100\n",
      "7/7 [==============================] - 0s 24ms/step - loss: 0.8068 - accuracy: 0.7700 - val_loss: 1.6878 - val_accuracy: 0.5300\n",
      "Epoch 73/100\n",
      "7/7 [==============================] - 0s 24ms/step - loss: 0.8354 - accuracy: 0.7425 - val_loss: 1.6847 - val_accuracy: 0.5100\n",
      "Epoch 74/100\n",
      "7/7 [==============================] - 0s 24ms/step - loss: 0.8083 - accuracy: 0.7400 - val_loss: 1.6738 - val_accuracy: 0.5300\n",
      "Epoch 75/100\n",
      "7/7 [==============================] - 0s 25ms/step - loss: 0.8457 - accuracy: 0.7300 - val_loss: 1.6523 - val_accuracy: 0.5400\n",
      "Epoch 76/100\n",
      "7/7 [==============================] - 0s 24ms/step - loss: 0.7630 - accuracy: 0.7650 - val_loss: 1.6691 - val_accuracy: 0.5300\n",
      "Epoch 77/100\n",
      "7/7 [==============================] - 0s 25ms/step - loss: 0.7828 - accuracy: 0.7450 - val_loss: 1.6531 - val_accuracy: 0.5400\n",
      "Epoch 78/100\n",
      "7/7 [==============================] - 0s 24ms/step - loss: 0.8184 - accuracy: 0.7250 - val_loss: 1.6449 - val_accuracy: 0.5400\n",
      "Epoch 79/100\n",
      "7/7 [==============================] - 0s 25ms/step - loss: 0.7739 - accuracy: 0.7650 - val_loss: 1.6490 - val_accuracy: 0.5500\n",
      "Epoch 80/100\n",
      "7/7 [==============================] - 0s 23ms/step - loss: 0.7732 - accuracy: 0.7875 - val_loss: 1.6623 - val_accuracy: 0.5400\n",
      "Epoch 81/100\n",
      "7/7 [==============================] - 0s 25ms/step - loss: 0.7668 - accuracy: 0.7500 - val_loss: 1.6775 - val_accuracy: 0.4900\n",
      "Epoch 82/100\n",
      "7/7 [==============================] - 0s 24ms/step - loss: 0.7572 - accuracy: 0.7625 - val_loss: 1.6704 - val_accuracy: 0.5000\n",
      "Epoch 83/100\n",
      "7/7 [==============================] - 0s 24ms/step - loss: 0.7532 - accuracy: 0.7750 - val_loss: 1.6501 - val_accuracy: 0.5500\n",
      "Epoch 84/100\n",
      "7/7 [==============================] - 0s 25ms/step - loss: 0.7176 - accuracy: 0.8000 - val_loss: 1.6443 - val_accuracy: 0.5600\n",
      "Epoch 85/100\n",
      "7/7 [==============================] - 0s 25ms/step - loss: 0.7168 - accuracy: 0.7900 - val_loss: 1.6421 - val_accuracy: 0.5800\n",
      "Epoch 86/100\n",
      "7/7 [==============================] - 0s 24ms/step - loss: 0.7419 - accuracy: 0.7925 - val_loss: 1.6328 - val_accuracy: 0.5500\n",
      "Epoch 87/100\n",
      "7/7 [==============================] - 0s 24ms/step - loss: 0.7479 - accuracy: 0.7625 - val_loss: 1.6071 - val_accuracy: 0.5400\n",
      "Epoch 88/100\n",
      "7/7 [==============================] - 0s 25ms/step - loss: 0.7081 - accuracy: 0.7775 - val_loss: 1.6001 - val_accuracy: 0.5300\n",
      "Epoch 89/100\n",
      "7/7 [==============================] - 0s 25ms/step - loss: 0.7239 - accuracy: 0.7800 - val_loss: 1.6177 - val_accuracy: 0.5500\n",
      "Epoch 90/100\n",
      "7/7 [==============================] - 0s 24ms/step - loss: 0.6863 - accuracy: 0.7900 - val_loss: 1.6055 - val_accuracy: 0.5500\n",
      "Epoch 91/100\n",
      "7/7 [==============================] - 0s 25ms/step - loss: 0.6738 - accuracy: 0.8075 - val_loss: 1.6092 - val_accuracy: 0.5500\n",
      "Epoch 92/100\n",
      "7/7 [==============================] - 0s 25ms/step - loss: 0.6832 - accuracy: 0.7950 - val_loss: 1.5909 - val_accuracy: 0.5300\n",
      "Epoch 93/100\n",
      "7/7 [==============================] - 0s 24ms/step - loss: 0.6933 - accuracy: 0.7800 - val_loss: 1.5854 - val_accuracy: 0.5300\n",
      "Epoch 94/100\n",
      "7/7 [==============================] - 0s 24ms/step - loss: 0.6532 - accuracy: 0.8150 - val_loss: 1.5811 - val_accuracy: 0.5400\n",
      "Epoch 95/100\n",
      "7/7 [==============================] - 0s 25ms/step - loss: 0.6698 - accuracy: 0.8025 - val_loss: 1.6077 - val_accuracy: 0.5200\n",
      "Epoch 96/100\n",
      "7/7 [==============================] - 0s 24ms/step - loss: 0.6597 - accuracy: 0.8025 - val_loss: 1.6182 - val_accuracy: 0.5400\n",
      "Epoch 97/100\n",
      "7/7 [==============================] - 0s 24ms/step - loss: 0.6503 - accuracy: 0.8075 - val_loss: 1.6079 - val_accuracy: 0.5300\n",
      "Epoch 98/100\n",
      "7/7 [==============================] - 0s 25ms/step - loss: 0.6459 - accuracy: 0.8175 - val_loss: 1.5963 - val_accuracy: 0.5300\n",
      "Epoch 99/100\n",
      "7/7 [==============================] - 0s 24ms/step - loss: 0.6266 - accuracy: 0.8175 - val_loss: 1.5905 - val_accuracy: 0.5200\n",
      "Epoch 100/100\n",
      "7/7 [==============================] - 0s 23ms/step - loss: 0.6317 - accuracy: 0.8025 - val_loss: 1.5860 - val_accuracy: 0.5000\n"
     ]
    }
   ],
   "source": [
    "lstm_history_spect_db = _NN_(lstm_spect_db, X_train_2_spect_db, X_test_2_spect_db,\n",
    "                             y_train_2_spect_db, y_test_2_spect_db)"
   ],
   "metadata": {
    "collapsed": false,
    "ExecuteTime": {
     "end_time": "2024-04-30T02:01:45.134730100Z",
     "start_time": "2024-04-30T02:01:27.398422700Z"
    }
   },
   "id": "6c2143e21010e34f"
  },
  {
   "cell_type": "code",
   "execution_count": 101,
   "outputs": [
    {
     "name": "stdout",
     "output_type": "stream",
     "text": [
      "4/4 - 0s - loss: 1.5860 - accuracy: 0.5000 - 37ms/epoch - 9ms/step\n",
      "Loss: 1.585968017578125, Accuracy: 0.5\n"
     ]
    }
   ],
   "source": [
    "_print_loss_accuracy(lstm_spect_db, X_test_2_spect_db, y_test_2_spect_db)"
   ],
   "metadata": {
    "collapsed": false,
    "ExecuteTime": {
     "end_time": "2024-04-30T02:01:45.183995900Z",
     "start_time": "2024-04-30T02:01:45.124430800Z"
    }
   },
   "id": "828d8268414f1390"
  },
  {
   "cell_type": "code",
   "execution_count": 111,
   "outputs": [
    {
     "name": "stdout",
     "output_type": "stream",
     "text": [
      "Model: \"sequential_16\"\n",
      "_________________________________________________________________\n",
      " Layer (type)                Output Shape              Param #   \n",
      "=================================================================\n",
      " conv2d_48 (Conv2D)          (None, 15, 18, 32)        320       \n",
      "                                                                 \n",
      " max_pooling2d_48 (MaxPooli  (None, 8, 9, 32)          0         \n",
      " ng2D)                                                           \n",
      "                                                                 \n",
      " batch_normalization_48 (Ba  (None, 8, 9, 32)          128       \n",
      " tchNormalization)                                               \n",
      "                                                                 \n",
      " conv2d_49 (Conv2D)          (None, 6, 7, 64)          18496     \n",
      "                                                                 \n",
      " max_pooling2d_49 (MaxPooli  (None, 3, 4, 64)          0         \n",
      " ng2D)                                                           \n",
      "                                                                 \n",
      " batch_normalization_49 (Ba  (None, 3, 4, 64)          256       \n",
      " tchNormalization)                                               \n",
      "                                                                 \n",
      " conv2d_50 (Conv2D)          (None, 2, 3, 64)          16448     \n",
      "                                                                 \n",
      " max_pooling2d_50 (MaxPooli  (None, 1, 2, 64)          0         \n",
      " ng2D)                                                           \n",
      "                                                                 \n",
      " batch_normalization_50 (Ba  (None, 1, 2, 64)          256       \n",
      " tchNormalization)                                               \n",
      "                                                                 \n",
      " flatten_16 (Flatten)        (None, 128)               0         \n",
      "                                                                 \n",
      " dense_32 (Dense)            (None, 64)                8256      \n",
      "                                                                 \n",
      " dropout_16 (Dropout)        (None, 64)                0         \n",
      "                                                                 \n",
      " dense_33 (Dense)            (None, 10)                650       \n",
      "                                                                 \n",
      "=================================================================\n",
      "Total params: 44810 (175.04 KB)\n",
      "Trainable params: 44490 (173.79 KB)\n",
      "Non-trainable params: 320 (1.25 KB)\n",
      "_________________________________________________________________\n"
     ]
    }
   ],
   "source": [
    "# Mel-Frequency Cepstral Coefficients\n",
    "lstm_mfcc = _LSTM_model_compile(X_train_2_mfcc)\n",
    "lstm_mfcc.summary()"
   ],
   "metadata": {
    "collapsed": false,
    "ExecuteTime": {
     "end_time": "2024-04-30T02:08:32.335484400Z",
     "start_time": "2024-04-30T02:08:32.198276700Z"
    }
   },
   "id": "b62496120f087d63"
  },
  {
   "cell_type": "code",
   "execution_count": 112,
   "outputs": [
    {
     "name": "stdout",
     "output_type": "stream",
     "text": [
      "Epoch 1/100\n",
      "7/7 [==============================] - 1s 31ms/step - loss: 2.6441 - accuracy: 0.1200 - val_loss: 2.9769 - val_accuracy: 0.0500\n",
      "Epoch 2/100\n",
      "7/7 [==============================] - 0s 16ms/step - loss: 2.1807 - accuracy: 0.2625 - val_loss: 2.5683 - val_accuracy: 0.1500\n",
      "Epoch 3/100\n",
      "7/7 [==============================] - 0s 17ms/step - loss: 1.8453 - accuracy: 0.4125 - val_loss: 2.3943 - val_accuracy: 0.1600\n",
      "Epoch 4/100\n",
      "7/7 [==============================] - 0s 16ms/step - loss: 1.7139 - accuracy: 0.4725 - val_loss: 2.2846 - val_accuracy: 0.1700\n",
      "Epoch 5/100\n",
      "7/7 [==============================] - 0s 16ms/step - loss: 1.5357 - accuracy: 0.5125 - val_loss: 2.1961 - val_accuracy: 0.1800\n",
      "Epoch 6/100\n",
      "7/7 [==============================] - 0s 15ms/step - loss: 1.4415 - accuracy: 0.5525 - val_loss: 2.1230 - val_accuracy: 0.1900\n",
      "Epoch 7/100\n",
      "7/7 [==============================] - 0s 16ms/step - loss: 1.3172 - accuracy: 0.5775 - val_loss: 2.0638 - val_accuracy: 0.3400\n",
      "Epoch 8/100\n",
      "7/7 [==============================] - 0s 16ms/step - loss: 1.2394 - accuracy: 0.6075 - val_loss: 2.0041 - val_accuracy: 0.4800\n",
      "Epoch 9/100\n",
      "7/7 [==============================] - 0s 15ms/step - loss: 1.1693 - accuracy: 0.6300 - val_loss: 1.9444 - val_accuracy: 0.4800\n",
      "Epoch 10/100\n",
      "7/7 [==============================] - 0s 15ms/step - loss: 1.1096 - accuracy: 0.6575 - val_loss: 1.8884 - val_accuracy: 0.4700\n",
      "Epoch 11/100\n",
      "7/7 [==============================] - 0s 16ms/step - loss: 1.0225 - accuracy: 0.7125 - val_loss: 1.8331 - val_accuracy: 0.5000\n",
      "Epoch 12/100\n",
      "7/7 [==============================] - 0s 16ms/step - loss: 0.9644 - accuracy: 0.7075 - val_loss: 1.7851 - val_accuracy: 0.5300\n",
      "Epoch 13/100\n",
      "7/7 [==============================] - 0s 16ms/step - loss: 0.9664 - accuracy: 0.7175 - val_loss: 1.7364 - val_accuracy: 0.6700\n",
      "Epoch 14/100\n",
      "7/7 [==============================] - 0s 15ms/step - loss: 0.9048 - accuracy: 0.7250 - val_loss: 1.6924 - val_accuracy: 0.6700\n",
      "Epoch 15/100\n",
      "7/7 [==============================] - 0s 15ms/step - loss: 0.8597 - accuracy: 0.7550 - val_loss: 1.6491 - val_accuracy: 0.6800\n",
      "Epoch 16/100\n",
      "7/7 [==============================] - 0s 15ms/step - loss: 0.8297 - accuracy: 0.7475 - val_loss: 1.6086 - val_accuracy: 0.7000\n",
      "Epoch 17/100\n",
      "7/7 [==============================] - 0s 15ms/step - loss: 0.8042 - accuracy: 0.7750 - val_loss: 1.5664 - val_accuracy: 0.7100\n",
      "Epoch 18/100\n",
      "7/7 [==============================] - 0s 15ms/step - loss: 0.7602 - accuracy: 0.7875 - val_loss: 1.5242 - val_accuracy: 0.7100\n",
      "Epoch 19/100\n",
      "7/7 [==============================] - 0s 15ms/step - loss: 0.7078 - accuracy: 0.7900 - val_loss: 1.4864 - val_accuracy: 0.7100\n",
      "Epoch 20/100\n",
      "7/7 [==============================] - 0s 15ms/step - loss: 0.7153 - accuracy: 0.7925 - val_loss: 1.4477 - val_accuracy: 0.7100\n",
      "Epoch 21/100\n",
      "7/7 [==============================] - 0s 15ms/step - loss: 0.7041 - accuracy: 0.7875 - val_loss: 1.4121 - val_accuracy: 0.7300\n",
      "Epoch 22/100\n",
      "7/7 [==============================] - 0s 15ms/step - loss: 0.6770 - accuracy: 0.8025 - val_loss: 1.3681 - val_accuracy: 0.7500\n",
      "Epoch 23/100\n",
      "7/7 [==============================] - 0s 15ms/step - loss: 0.6435 - accuracy: 0.8250 - val_loss: 1.3238 - val_accuracy: 0.7600\n",
      "Epoch 24/100\n",
      "7/7 [==============================] - 0s 15ms/step - loss: 0.6100 - accuracy: 0.8375 - val_loss: 1.2840 - val_accuracy: 0.7800\n",
      "Epoch 25/100\n",
      "7/7 [==============================] - 0s 14ms/step - loss: 0.5699 - accuracy: 0.8475 - val_loss: 1.2475 - val_accuracy: 0.7600\n",
      "Epoch 26/100\n",
      "7/7 [==============================] - 0s 15ms/step - loss: 0.6124 - accuracy: 0.8325 - val_loss: 1.2190 - val_accuracy: 0.7700\n",
      "Epoch 27/100\n",
      "7/7 [==============================] - 0s 15ms/step - loss: 0.5467 - accuracy: 0.8675 - val_loss: 1.1868 - val_accuracy: 0.7900\n",
      "Epoch 28/100\n",
      "7/7 [==============================] - 0s 14ms/step - loss: 0.5476 - accuracy: 0.8625 - val_loss: 1.1505 - val_accuracy: 0.8000\n",
      "Epoch 29/100\n",
      "7/7 [==============================] - 0s 15ms/step - loss: 0.5395 - accuracy: 0.8425 - val_loss: 1.1108 - val_accuracy: 0.7900\n",
      "Epoch 30/100\n",
      "7/7 [==============================] - 0s 15ms/step - loss: 0.5413 - accuracy: 0.8350 - val_loss: 1.0732 - val_accuracy: 0.8000\n",
      "Epoch 31/100\n",
      "7/7 [==============================] - 0s 15ms/step - loss: 0.5076 - accuracy: 0.8675 - val_loss: 1.0438 - val_accuracy: 0.8000\n",
      "Epoch 32/100\n",
      "7/7 [==============================] - 0s 15ms/step - loss: 0.4675 - accuracy: 0.8825 - val_loss: 1.0118 - val_accuracy: 0.8000\n",
      "Epoch 33/100\n",
      "7/7 [==============================] - 0s 15ms/step - loss: 0.4941 - accuracy: 0.8750 - val_loss: 0.9865 - val_accuracy: 0.8000\n",
      "Epoch 34/100\n",
      "7/7 [==============================] - 0s 15ms/step - loss: 0.4642 - accuracy: 0.8675 - val_loss: 0.9641 - val_accuracy: 0.7900\n",
      "Epoch 35/100\n",
      "7/7 [==============================] - 0s 14ms/step - loss: 0.4254 - accuracy: 0.9025 - val_loss: 0.9333 - val_accuracy: 0.7900\n",
      "Epoch 36/100\n",
      "7/7 [==============================] - 0s 15ms/step - loss: 0.4344 - accuracy: 0.8875 - val_loss: 0.9035 - val_accuracy: 0.7900\n",
      "Epoch 37/100\n",
      "7/7 [==============================] - 0s 15ms/step - loss: 0.4088 - accuracy: 0.9000 - val_loss: 0.8791 - val_accuracy: 0.8000\n",
      "Epoch 38/100\n",
      "7/7 [==============================] - 0s 15ms/step - loss: 0.3943 - accuracy: 0.9325 - val_loss: 0.8495 - val_accuracy: 0.7900\n",
      "Epoch 39/100\n",
      "7/7 [==============================] - 0s 15ms/step - loss: 0.4102 - accuracy: 0.9075 - val_loss: 0.8218 - val_accuracy: 0.7900\n",
      "Epoch 40/100\n",
      "7/7 [==============================] - 0s 15ms/step - loss: 0.3895 - accuracy: 0.9025 - val_loss: 0.7884 - val_accuracy: 0.8000\n",
      "Epoch 41/100\n",
      "7/7 [==============================] - 0s 15ms/step - loss: 0.3403 - accuracy: 0.9275 - val_loss: 0.7597 - val_accuracy: 0.8000\n",
      "Epoch 42/100\n",
      "7/7 [==============================] - 0s 15ms/step - loss: 0.3633 - accuracy: 0.9175 - val_loss: 0.7334 - val_accuracy: 0.8000\n",
      "Epoch 43/100\n",
      "7/7 [==============================] - 0s 14ms/step - loss: 0.3468 - accuracy: 0.9225 - val_loss: 0.7058 - val_accuracy: 0.8000\n",
      "Epoch 44/100\n",
      "7/7 [==============================] - 0s 15ms/step - loss: 0.3402 - accuracy: 0.9400 - val_loss: 0.6822 - val_accuracy: 0.8000\n",
      "Epoch 45/100\n",
      "7/7 [==============================] - 0s 15ms/step - loss: 0.3256 - accuracy: 0.9375 - val_loss: 0.6569 - val_accuracy: 0.8000\n",
      "Epoch 46/100\n",
      "7/7 [==============================] - 0s 15ms/step - loss: 0.3171 - accuracy: 0.9325 - val_loss: 0.6366 - val_accuracy: 0.8200\n",
      "Epoch 47/100\n",
      "7/7 [==============================] - 0s 14ms/step - loss: 0.3294 - accuracy: 0.9250 - val_loss: 0.6209 - val_accuracy: 0.8000\n",
      "Epoch 48/100\n",
      "7/7 [==============================] - 0s 15ms/step - loss: 0.2875 - accuracy: 0.9325 - val_loss: 0.6038 - val_accuracy: 0.8000\n",
      "Epoch 49/100\n",
      "7/7 [==============================] - 0s 15ms/step - loss: 0.2954 - accuracy: 0.9325 - val_loss: 0.5912 - val_accuracy: 0.8100\n",
      "Epoch 50/100\n",
      "7/7 [==============================] - 0s 15ms/step - loss: 0.2988 - accuracy: 0.9400 - val_loss: 0.5786 - val_accuracy: 0.8200\n",
      "Epoch 51/100\n",
      "7/7 [==============================] - 0s 14ms/step - loss: 0.2903 - accuracy: 0.9425 - val_loss: 0.5724 - val_accuracy: 0.8100\n",
      "Epoch 52/100\n",
      "7/7 [==============================] - 0s 14ms/step - loss: 0.2963 - accuracy: 0.9425 - val_loss: 0.5573 - val_accuracy: 0.8200\n",
      "Epoch 53/100\n",
      "7/7 [==============================] - 0s 16ms/step - loss: 0.2829 - accuracy: 0.9425 - val_loss: 0.5476 - val_accuracy: 0.8200\n",
      "Epoch 54/100\n",
      "7/7 [==============================] - 0s 14ms/step - loss: 0.2607 - accuracy: 0.9550 - val_loss: 0.5391 - val_accuracy: 0.8200\n",
      "Epoch 55/100\n",
      "7/7 [==============================] - 0s 15ms/step - loss: 0.2320 - accuracy: 0.9750 - val_loss: 0.5340 - val_accuracy: 0.8200\n",
      "Epoch 56/100\n",
      "7/7 [==============================] - 0s 15ms/step - loss: 0.2443 - accuracy: 0.9500 - val_loss: 0.5265 - val_accuracy: 0.8200\n",
      "Epoch 57/100\n",
      "7/7 [==============================] - 0s 15ms/step - loss: 0.2222 - accuracy: 0.9625 - val_loss: 0.5181 - val_accuracy: 0.8300\n",
      "Epoch 58/100\n",
      "7/7 [==============================] - 0s 15ms/step - loss: 0.2384 - accuracy: 0.9550 - val_loss: 0.5114 - val_accuracy: 0.8300\n",
      "Epoch 59/100\n",
      "7/7 [==============================] - 0s 16ms/step - loss: 0.2256 - accuracy: 0.9575 - val_loss: 0.5020 - val_accuracy: 0.8200\n",
      "Epoch 60/100\n",
      "7/7 [==============================] - 0s 15ms/step - loss: 0.2268 - accuracy: 0.9550 - val_loss: 0.4966 - val_accuracy: 0.8200\n",
      "Epoch 61/100\n",
      "7/7 [==============================] - 0s 15ms/step - loss: 0.2103 - accuracy: 0.9775 - val_loss: 0.4896 - val_accuracy: 0.8200\n",
      "Epoch 62/100\n",
      "7/7 [==============================] - 0s 14ms/step - loss: 0.2270 - accuracy: 0.9600 - val_loss: 0.4820 - val_accuracy: 0.8100\n",
      "Epoch 63/100\n",
      "7/7 [==============================] - 0s 15ms/step - loss: 0.1982 - accuracy: 0.9650 - val_loss: 0.4762 - val_accuracy: 0.8100\n",
      "Epoch 64/100\n",
      "7/7 [==============================] - 0s 15ms/step - loss: 0.2010 - accuracy: 0.9675 - val_loss: 0.4718 - val_accuracy: 0.8200\n",
      "Epoch 65/100\n",
      "7/7 [==============================] - 0s 14ms/step - loss: 0.1797 - accuracy: 0.9750 - val_loss: 0.4656 - val_accuracy: 0.8200\n",
      "Epoch 66/100\n",
      "7/7 [==============================] - 0s 15ms/step - loss: 0.1961 - accuracy: 0.9700 - val_loss: 0.4615 - val_accuracy: 0.8200\n",
      "Epoch 67/100\n",
      "7/7 [==============================] - 0s 15ms/step - loss: 0.1889 - accuracy: 0.9600 - val_loss: 0.4558 - val_accuracy: 0.8200\n",
      "Epoch 68/100\n",
      "7/7 [==============================] - 0s 15ms/step - loss: 0.1869 - accuracy: 0.9750 - val_loss: 0.4517 - val_accuracy: 0.8200\n",
      "Epoch 69/100\n",
      "7/7 [==============================] - 0s 15ms/step - loss: 0.1780 - accuracy: 0.9725 - val_loss: 0.4509 - val_accuracy: 0.8200\n",
      "Epoch 70/100\n",
      "7/7 [==============================] - 0s 15ms/step - loss: 0.1753 - accuracy: 0.9750 - val_loss: 0.4493 - val_accuracy: 0.8100\n",
      "Epoch 71/100\n",
      "7/7 [==============================] - 0s 15ms/step - loss: 0.1876 - accuracy: 0.9675 - val_loss: 0.4466 - val_accuracy: 0.8100\n",
      "Epoch 72/100\n",
      "7/7 [==============================] - 0s 15ms/step - loss: 0.1717 - accuracy: 0.9725 - val_loss: 0.4446 - val_accuracy: 0.8100\n",
      "Epoch 73/100\n",
      "7/7 [==============================] - 0s 15ms/step - loss: 0.1596 - accuracy: 0.9775 - val_loss: 0.4421 - val_accuracy: 0.8100\n",
      "Epoch 74/100\n",
      "7/7 [==============================] - 0s 14ms/step - loss: 0.1901 - accuracy: 0.9625 - val_loss: 0.4386 - val_accuracy: 0.8100\n",
      "Epoch 75/100\n",
      "7/7 [==============================] - 0s 15ms/step - loss: 0.1702 - accuracy: 0.9725 - val_loss: 0.4381 - val_accuracy: 0.8100\n",
      "Epoch 76/100\n",
      "7/7 [==============================] - 0s 15ms/step - loss: 0.1605 - accuracy: 0.9825 - val_loss: 0.4389 - val_accuracy: 0.8200\n",
      "Epoch 77/100\n",
      "7/7 [==============================] - 0s 15ms/step - loss: 0.1662 - accuracy: 0.9750 - val_loss: 0.4369 - val_accuracy: 0.8200\n",
      "Epoch 78/100\n",
      "7/7 [==============================] - 0s 15ms/step - loss: 0.1506 - accuracy: 0.9800 - val_loss: 0.4373 - val_accuracy: 0.8100\n",
      "Epoch 79/100\n",
      "7/7 [==============================] - 0s 15ms/step - loss: 0.1317 - accuracy: 0.9850 - val_loss: 0.4333 - val_accuracy: 0.8100\n",
      "Epoch 80/100\n",
      "7/7 [==============================] - 0s 15ms/step - loss: 0.1420 - accuracy: 0.9850 - val_loss: 0.4287 - val_accuracy: 0.8100\n",
      "Epoch 81/100\n",
      "7/7 [==============================] - 0s 15ms/step - loss: 0.1324 - accuracy: 0.9800 - val_loss: 0.4272 - val_accuracy: 0.8300\n",
      "Epoch 82/100\n",
      "7/7 [==============================] - 0s 15ms/step - loss: 0.1513 - accuracy: 0.9750 - val_loss: 0.4281 - val_accuracy: 0.8200\n",
      "Epoch 83/100\n",
      "7/7 [==============================] - 0s 15ms/step - loss: 0.1339 - accuracy: 0.9775 - val_loss: 0.4262 - val_accuracy: 0.8300\n",
      "Epoch 84/100\n",
      "7/7 [==============================] - 0s 14ms/step - loss: 0.1435 - accuracy: 0.9875 - val_loss: 0.4221 - val_accuracy: 0.8200\n",
      "Epoch 85/100\n",
      "7/7 [==============================] - 0s 15ms/step - loss: 0.1341 - accuracy: 0.9800 - val_loss: 0.4184 - val_accuracy: 0.8100\n",
      "Epoch 86/100\n",
      "7/7 [==============================] - 0s 15ms/step - loss: 0.1231 - accuracy: 0.9925 - val_loss: 0.4173 - val_accuracy: 0.8100\n",
      "Epoch 87/100\n",
      "7/7 [==============================] - 0s 15ms/step - loss: 0.1156 - accuracy: 0.9900 - val_loss: 0.4173 - val_accuracy: 0.8100\n",
      "Epoch 88/100\n",
      "7/7 [==============================] - 0s 15ms/step - loss: 0.1344 - accuracy: 0.9875 - val_loss: 0.4193 - val_accuracy: 0.8200\n",
      "Epoch 89/100\n",
      "7/7 [==============================] - 0s 15ms/step - loss: 0.1233 - accuracy: 0.9900 - val_loss: 0.4209 - val_accuracy: 0.8200\n",
      "Epoch 90/100\n",
      "7/7 [==============================] - 0s 15ms/step - loss: 0.1210 - accuracy: 0.9825 - val_loss: 0.4187 - val_accuracy: 0.8200\n",
      "Epoch 91/100\n",
      "7/7 [==============================] - 0s 15ms/step - loss: 0.1171 - accuracy: 0.9850 - val_loss: 0.4143 - val_accuracy: 0.8300\n",
      "Epoch 92/100\n",
      "7/7 [==============================] - 0s 14ms/step - loss: 0.1189 - accuracy: 0.9875 - val_loss: 0.4123 - val_accuracy: 0.8300\n",
      "Epoch 93/100\n",
      "7/7 [==============================] - 0s 15ms/step - loss: 0.1256 - accuracy: 0.9900 - val_loss: 0.4090 - val_accuracy: 0.8300\n",
      "Epoch 94/100\n",
      "7/7 [==============================] - 0s 14ms/step - loss: 0.0928 - accuracy: 0.9950 - val_loss: 0.4039 - val_accuracy: 0.8300\n",
      "Epoch 95/100\n",
      "7/7 [==============================] - 0s 16ms/step - loss: 0.1223 - accuracy: 0.9875 - val_loss: 0.4016 - val_accuracy: 0.8300\n",
      "Epoch 96/100\n",
      "7/7 [==============================] - 0s 15ms/step - loss: 0.1066 - accuracy: 0.9900 - val_loss: 0.4021 - val_accuracy: 0.8300\n",
      "Epoch 97/100\n",
      "7/7 [==============================] - 0s 15ms/step - loss: 0.1110 - accuracy: 0.9875 - val_loss: 0.4039 - val_accuracy: 0.8200\n",
      "Epoch 98/100\n",
      "7/7 [==============================] - 0s 15ms/step - loss: 0.0966 - accuracy: 0.9875 - val_loss: 0.4051 - val_accuracy: 0.8200\n",
      "Epoch 99/100\n",
      "7/7 [==============================] - 0s 15ms/step - loss: 0.0909 - accuracy: 0.9900 - val_loss: 0.4058 - val_accuracy: 0.8200\n",
      "Epoch 100/100\n",
      "7/7 [==============================] - 0s 15ms/step - loss: 0.0881 - accuracy: 0.9900 - val_loss: 0.4045 - val_accuracy: 0.8300\n"
     ]
    }
   ],
   "source": [
    "lstm_history_mfcc = _NN_(lstm_mfcc, X_train_2_mfcc, X_test_2_mfcc, y_train_2_mfcc, y_test_2_mfcc)"
   ],
   "metadata": {
    "collapsed": false,
    "ExecuteTime": {
     "end_time": "2024-04-30T02:08:45.328525400Z",
     "start_time": "2024-04-30T02:08:34.236960200Z"
    }
   },
   "id": "256942c448f6ee4c"
  },
  {
   "cell_type": "code",
   "execution_count": 114,
   "outputs": [
    {
     "name": "stdout",
     "output_type": "stream",
     "text": [
      "4/4 - 0s - loss: 0.4045 - accuracy: 0.8300 - 27ms/epoch - 7ms/step\n",
      "Loss: 0.40447208285331726, Accuracy: 0.8299999833106995\n"
     ]
    }
   ],
   "source": [
    "_print_loss_accuracy(lstm_mfcc, X_test_2_mfcc, y_test_2_mfcc)"
   ],
   "metadata": {
    "collapsed": false,
    "ExecuteTime": {
     "end_time": "2024-04-30T02:09:49.309767700Z",
     "start_time": "2024-04-30T02:09:49.204340200Z"
    }
   },
   "id": "b284fbff992c9f36"
  },
  {
   "cell_type": "code",
   "execution_count": 104,
   "outputs": [
    {
     "name": "stdout",
     "output_type": "stream",
     "text": [
      "Model: \"sequential_13\"\n",
      "_________________________________________________________________\n",
      " Layer (type)                Output Shape              Param #   \n",
      "=================================================================\n",
      " conv2d_39 (Conv2D)          (None, 15, 18, 32)        320       \n",
      "                                                                 \n",
      " max_pooling2d_39 (MaxPooli  (None, 8, 9, 32)          0         \n",
      " ng2D)                                                           \n",
      "                                                                 \n",
      " batch_normalization_39 (Ba  (None, 8, 9, 32)          128       \n",
      " tchNormalization)                                               \n",
      "                                                                 \n",
      " conv2d_40 (Conv2D)          (None, 6, 7, 64)          18496     \n",
      "                                                                 \n",
      " max_pooling2d_40 (MaxPooli  (None, 3, 4, 64)          0         \n",
      " ng2D)                                                           \n",
      "                                                                 \n",
      " batch_normalization_40 (Ba  (None, 3, 4, 64)          256       \n",
      " tchNormalization)                                               \n",
      "                                                                 \n",
      " conv2d_41 (Conv2D)          (None, 2, 3, 64)          16448     \n",
      "                                                                 \n",
      " max_pooling2d_41 (MaxPooli  (None, 1, 2, 64)          0         \n",
      " ng2D)                                                           \n",
      "                                                                 \n",
      " batch_normalization_41 (Ba  (None, 1, 2, 64)          256       \n",
      " tchNormalization)                                               \n",
      "                                                                 \n",
      " flatten_13 (Flatten)        (None, 128)               0         \n",
      "                                                                 \n",
      " dense_26 (Dense)            (None, 64)                8256      \n",
      "                                                                 \n",
      " dropout_13 (Dropout)        (None, 64)                0         \n",
      "                                                                 \n",
      " dense_27 (Dense)            (None, 10)                650       \n",
      "                                                                 \n",
      "=================================================================\n",
      "Total params: 44810 (175.04 KB)\n",
      "Trainable params: 44490 (173.79 KB)\n",
      "Non-trainable params: 320 (1.25 KB)\n",
      "_________________________________________________________________\n"
     ]
    }
   ],
   "source": [
    "# Mel-Frequency Cepstral Coefficients (normalized)\n",
    "lstm_mfcc_norm = _LSTM_model_compile(X_train_2_mfcc_norm)\n",
    "lstm_mfcc_norm.summary()"
   ],
   "metadata": {
    "collapsed": false,
    "ExecuteTime": {
     "end_time": "2024-04-30T02:02:06.478313200Z",
     "start_time": "2024-04-30T02:02:06.390640800Z"
    }
   },
   "id": "fb3d6bc7f3ab2e1a"
  },
  {
   "cell_type": "code",
   "execution_count": 105,
   "outputs": [
    {
     "name": "stdout",
     "output_type": "stream",
     "text": [
      "Epoch 1/100\n",
      "7/7 [==============================] - 1s 29ms/step - loss: 2.7800 - accuracy: 0.1125 - val_loss: 2.3038 - val_accuracy: 0.0900\n",
      "Epoch 2/100\n",
      "7/7 [==============================] - 0s 16ms/step - loss: 2.6109 - accuracy: 0.1250 - val_loss: 2.3072 - val_accuracy: 0.0600\n",
      "Epoch 3/100\n",
      "7/7 [==============================] - 0s 17ms/step - loss: 2.4858 - accuracy: 0.1550 - val_loss: 2.3115 - val_accuracy: 0.0600\n",
      "Epoch 4/100\n",
      "7/7 [==============================] - 0s 16ms/step - loss: 2.2992 - accuracy: 0.2200 - val_loss: 2.3162 - val_accuracy: 0.0600\n",
      "Epoch 5/100\n",
      "7/7 [==============================] - 0s 16ms/step - loss: 2.2119 - accuracy: 0.2075 - val_loss: 2.3207 - val_accuracy: 0.0600\n",
      "Epoch 6/100\n",
      "7/7 [==============================] - 0s 16ms/step - loss: 2.1109 - accuracy: 0.2350 - val_loss: 2.3258 - val_accuracy: 0.0600\n",
      "Epoch 7/100\n",
      "7/7 [==============================] - 0s 16ms/step - loss: 1.9934 - accuracy: 0.2950 - val_loss: 2.3308 - val_accuracy: 0.0600\n",
      "Epoch 8/100\n",
      "7/7 [==============================] - 0s 15ms/step - loss: 1.9430 - accuracy: 0.3000 - val_loss: 2.3353 - val_accuracy: 0.0600\n",
      "Epoch 9/100\n",
      "7/7 [==============================] - 0s 17ms/step - loss: 1.8813 - accuracy: 0.3325 - val_loss: 2.3393 - val_accuracy: 0.0600\n",
      "Epoch 10/100\n",
      "7/7 [==============================] - 0s 15ms/step - loss: 1.8005 - accuracy: 0.3750 - val_loss: 2.3432 - val_accuracy: 0.0600\n",
      "Epoch 11/100\n",
      "7/7 [==============================] - 0s 16ms/step - loss: 1.7971 - accuracy: 0.3625 - val_loss: 2.3468 - val_accuracy: 0.0600\n",
      "Epoch 12/100\n",
      "7/7 [==============================] - 0s 16ms/step - loss: 1.7140 - accuracy: 0.4400 - val_loss: 2.3500 - val_accuracy: 0.0600\n",
      "Epoch 13/100\n",
      "7/7 [==============================] - 0s 16ms/step - loss: 1.7159 - accuracy: 0.4050 - val_loss: 2.3523 - val_accuracy: 0.0600\n",
      "Epoch 14/100\n",
      "7/7 [==============================] - 0s 16ms/step - loss: 1.6594 - accuracy: 0.4375 - val_loss: 2.3541 - val_accuracy: 0.0600\n",
      "Epoch 15/100\n",
      "7/7 [==============================] - 0s 15ms/step - loss: 1.6332 - accuracy: 0.4500 - val_loss: 2.3556 - val_accuracy: 0.0600\n",
      "Epoch 16/100\n",
      "7/7 [==============================] - 0s 15ms/step - loss: 1.5664 - accuracy: 0.4625 - val_loss: 2.3570 - val_accuracy: 0.0600\n",
      "Epoch 17/100\n",
      "7/7 [==============================] - 0s 14ms/step - loss: 1.5219 - accuracy: 0.4950 - val_loss: 2.3578 - val_accuracy: 0.0600\n",
      "Epoch 18/100\n",
      "7/7 [==============================] - 0s 15ms/step - loss: 1.5112 - accuracy: 0.4975 - val_loss: 2.3583 - val_accuracy: 0.0700\n",
      "Epoch 19/100\n",
      "7/7 [==============================] - 0s 15ms/step - loss: 1.4802 - accuracy: 0.5175 - val_loss: 2.3583 - val_accuracy: 0.0800\n",
      "Epoch 20/100\n",
      "7/7 [==============================] - 0s 14ms/step - loss: 1.4299 - accuracy: 0.5450 - val_loss: 2.3564 - val_accuracy: 0.1000\n",
      "Epoch 21/100\n",
      "7/7 [==============================] - 0s 15ms/step - loss: 1.4039 - accuracy: 0.5500 - val_loss: 2.3536 - val_accuracy: 0.1500\n",
      "Epoch 22/100\n",
      "7/7 [==============================] - 0s 14ms/step - loss: 1.4071 - accuracy: 0.5325 - val_loss: 2.3503 - val_accuracy: 0.1400\n",
      "Epoch 23/100\n",
      "7/7 [==============================] - 0s 15ms/step - loss: 1.3841 - accuracy: 0.5875 - val_loss: 2.3474 - val_accuracy: 0.1300\n",
      "Epoch 24/100\n",
      "7/7 [==============================] - 0s 15ms/step - loss: 1.3131 - accuracy: 0.5775 - val_loss: 2.3445 - val_accuracy: 0.1100\n",
      "Epoch 25/100\n",
      "7/7 [==============================] - 0s 14ms/step - loss: 1.2996 - accuracy: 0.5525 - val_loss: 2.3424 - val_accuracy: 0.1100\n",
      "Epoch 26/100\n",
      "7/7 [==============================] - 0s 15ms/step - loss: 1.2711 - accuracy: 0.6025 - val_loss: 2.3412 - val_accuracy: 0.1000\n",
      "Epoch 27/100\n",
      "7/7 [==============================] - 0s 15ms/step - loss: 1.2675 - accuracy: 0.6125 - val_loss: 2.3390 - val_accuracy: 0.1000\n",
      "Epoch 28/100\n",
      "7/7 [==============================] - 0s 15ms/step - loss: 1.1842 - accuracy: 0.6500 - val_loss: 2.3367 - val_accuracy: 0.1000\n",
      "Epoch 29/100\n",
      "7/7 [==============================] - 0s 15ms/step - loss: 1.2174 - accuracy: 0.6200 - val_loss: 2.3356 - val_accuracy: 0.1000\n",
      "Epoch 30/100\n",
      "7/7 [==============================] - 0s 15ms/step - loss: 1.1513 - accuracy: 0.6550 - val_loss: 2.3346 - val_accuracy: 0.1000\n",
      "Epoch 31/100\n",
      "7/7 [==============================] - 0s 16ms/step - loss: 1.1869 - accuracy: 0.6300 - val_loss: 2.3337 - val_accuracy: 0.1000\n",
      "Epoch 32/100\n",
      "7/7 [==============================] - 0s 15ms/step - loss: 1.1536 - accuracy: 0.6625 - val_loss: 2.3326 - val_accuracy: 0.1000\n",
      "Epoch 33/100\n",
      "7/7 [==============================] - 0s 15ms/step - loss: 1.1492 - accuracy: 0.6300 - val_loss: 2.3314 - val_accuracy: 0.1000\n",
      "Epoch 34/100\n",
      "7/7 [==============================] - 0s 15ms/step - loss: 1.1425 - accuracy: 0.6600 - val_loss: 2.3280 - val_accuracy: 0.1000\n",
      "Epoch 35/100\n",
      "7/7 [==============================] - 0s 15ms/step - loss: 1.0816 - accuracy: 0.6800 - val_loss: 2.3251 - val_accuracy: 0.1000\n",
      "Epoch 36/100\n",
      "7/7 [==============================] - 0s 15ms/step - loss: 1.0967 - accuracy: 0.6875 - val_loss: 2.3249 - val_accuracy: 0.1000\n",
      "Epoch 37/100\n",
      "7/7 [==============================] - 0s 15ms/step - loss: 1.0528 - accuracy: 0.7000 - val_loss: 2.3253 - val_accuracy: 0.1000\n",
      "Epoch 38/100\n",
      "7/7 [==============================] - 0s 14ms/step - loss: 1.0152 - accuracy: 0.7225 - val_loss: 2.3227 - val_accuracy: 0.1000\n",
      "Epoch 39/100\n",
      "7/7 [==============================] - 0s 14ms/step - loss: 1.0001 - accuracy: 0.7100 - val_loss: 2.3183 - val_accuracy: 0.1000\n",
      "Epoch 40/100\n",
      "7/7 [==============================] - 0s 16ms/step - loss: 0.9646 - accuracy: 0.7425 - val_loss: 2.3126 - val_accuracy: 0.1000\n",
      "Epoch 41/100\n",
      "7/7 [==============================] - 0s 15ms/step - loss: 0.9307 - accuracy: 0.7575 - val_loss: 2.3074 - val_accuracy: 0.1000\n",
      "Epoch 42/100\n",
      "7/7 [==============================] - 0s 15ms/step - loss: 0.9824 - accuracy: 0.7075 - val_loss: 2.3026 - val_accuracy: 0.1000\n",
      "Epoch 43/100\n",
      "7/7 [==============================] - 0s 15ms/step - loss: 0.9002 - accuracy: 0.7750 - val_loss: 2.3002 - val_accuracy: 0.1100\n",
      "Epoch 44/100\n",
      "7/7 [==============================] - 0s 15ms/step - loss: 0.9567 - accuracy: 0.7300 - val_loss: 2.2990 - val_accuracy: 0.1100\n",
      "Epoch 45/100\n",
      "7/7 [==============================] - 0s 15ms/step - loss: 0.9019 - accuracy: 0.7475 - val_loss: 2.2943 - val_accuracy: 0.1100\n",
      "Epoch 46/100\n",
      "7/7 [==============================] - 0s 15ms/step - loss: 0.8846 - accuracy: 0.7375 - val_loss: 2.2889 - val_accuracy: 0.1300\n",
      "Epoch 47/100\n",
      "7/7 [==============================] - 0s 15ms/step - loss: 0.9258 - accuracy: 0.7350 - val_loss: 2.2837 - val_accuracy: 0.1400\n",
      "Epoch 48/100\n",
      "7/7 [==============================] - 0s 14ms/step - loss: 0.8502 - accuracy: 0.7850 - val_loss: 2.2765 - val_accuracy: 0.1300\n",
      "Epoch 49/100\n",
      "7/7 [==============================] - 0s 15ms/step - loss: 0.8943 - accuracy: 0.7475 - val_loss: 2.2703 - val_accuracy: 0.1500\n",
      "Epoch 50/100\n",
      "7/7 [==============================] - 0s 15ms/step - loss: 0.8226 - accuracy: 0.7875 - val_loss: 2.2626 - val_accuracy: 0.1600\n",
      "Epoch 51/100\n",
      "7/7 [==============================] - 0s 14ms/step - loss: 0.7998 - accuracy: 0.7925 - val_loss: 2.2550 - val_accuracy: 0.1900\n",
      "Epoch 52/100\n",
      "7/7 [==============================] - 0s 15ms/step - loss: 0.7895 - accuracy: 0.7825 - val_loss: 2.2497 - val_accuracy: 0.2000\n",
      "Epoch 53/100\n",
      "7/7 [==============================] - 0s 14ms/step - loss: 0.8022 - accuracy: 0.8125 - val_loss: 2.2460 - val_accuracy: 0.1900\n",
      "Epoch 54/100\n",
      "7/7 [==============================] - 0s 14ms/step - loss: 0.8005 - accuracy: 0.8000 - val_loss: 2.2403 - val_accuracy: 0.2100\n",
      "Epoch 55/100\n",
      "7/7 [==============================] - 0s 15ms/step - loss: 0.7839 - accuracy: 0.7825 - val_loss: 2.2344 - val_accuracy: 0.2200\n",
      "Epoch 56/100\n",
      "7/7 [==============================] - 0s 14ms/step - loss: 0.7706 - accuracy: 0.8050 - val_loss: 2.2302 - val_accuracy: 0.2200\n",
      "Epoch 57/100\n",
      "7/7 [==============================] - 0s 15ms/step - loss: 0.6991 - accuracy: 0.8125 - val_loss: 2.2274 - val_accuracy: 0.2400\n",
      "Epoch 58/100\n",
      "7/7 [==============================] - 0s 15ms/step - loss: 0.7774 - accuracy: 0.7800 - val_loss: 2.2212 - val_accuracy: 0.2400\n",
      "Epoch 59/100\n",
      "7/7 [==============================] - 0s 16ms/step - loss: 0.7836 - accuracy: 0.7600 - val_loss: 2.2114 - val_accuracy: 0.2100\n",
      "Epoch 60/100\n",
      "7/7 [==============================] - 0s 16ms/step - loss: 0.7319 - accuracy: 0.7900 - val_loss: 2.2010 - val_accuracy: 0.2000\n",
      "Epoch 61/100\n",
      "7/7 [==============================] - 0s 14ms/step - loss: 0.7682 - accuracy: 0.7900 - val_loss: 2.1924 - val_accuracy: 0.2100\n",
      "Epoch 62/100\n",
      "7/7 [==============================] - 0s 15ms/step - loss: 0.7041 - accuracy: 0.8225 - val_loss: 2.1850 - val_accuracy: 0.2200\n",
      "Epoch 63/100\n",
      "7/7 [==============================] - 0s 14ms/step - loss: 0.6675 - accuracy: 0.8175 - val_loss: 2.1764 - val_accuracy: 0.2100\n",
      "Epoch 64/100\n",
      "7/7 [==============================] - 0s 15ms/step - loss: 0.6906 - accuracy: 0.8125 - val_loss: 2.1667 - val_accuracy: 0.2300\n",
      "Epoch 65/100\n",
      "7/7 [==============================] - 0s 15ms/step - loss: 0.6563 - accuracy: 0.8275 - val_loss: 2.1550 - val_accuracy: 0.2300\n",
      "Epoch 66/100\n",
      "7/7 [==============================] - 0s 15ms/step - loss: 0.6739 - accuracy: 0.8125 - val_loss: 2.1423 - val_accuracy: 0.2400\n",
      "Epoch 67/100\n",
      "7/7 [==============================] - 0s 16ms/step - loss: 0.6708 - accuracy: 0.8250 - val_loss: 2.1329 - val_accuracy: 0.2300\n",
      "Epoch 68/100\n",
      "7/7 [==============================] - 0s 15ms/step - loss: 0.6389 - accuracy: 0.8375 - val_loss: 2.1240 - val_accuracy: 0.2400\n",
      "Epoch 69/100\n",
      "7/7 [==============================] - 0s 15ms/step - loss: 0.6073 - accuracy: 0.8550 - val_loss: 2.1079 - val_accuracy: 0.2500\n",
      "Epoch 70/100\n",
      "7/7 [==============================] - 0s 16ms/step - loss: 0.6201 - accuracy: 0.8550 - val_loss: 2.0864 - val_accuracy: 0.2800\n",
      "Epoch 71/100\n",
      "7/7 [==============================] - 0s 14ms/step - loss: 0.5785 - accuracy: 0.8650 - val_loss: 2.0561 - val_accuracy: 0.2700\n",
      "Epoch 72/100\n",
      "7/7 [==============================] - 0s 16ms/step - loss: 0.5995 - accuracy: 0.8550 - val_loss: 2.0291 - val_accuracy: 0.3000\n",
      "Epoch 73/100\n",
      "7/7 [==============================] - 0s 15ms/step - loss: 0.6028 - accuracy: 0.8475 - val_loss: 2.0118 - val_accuracy: 0.2700\n",
      "Epoch 74/100\n",
      "7/7 [==============================] - 0s 15ms/step - loss: 0.6187 - accuracy: 0.8250 - val_loss: 1.9971 - val_accuracy: 0.2800\n",
      "Epoch 75/100\n",
      "7/7 [==============================] - 0s 15ms/step - loss: 0.5691 - accuracy: 0.8675 - val_loss: 1.9702 - val_accuracy: 0.3000\n",
      "Epoch 76/100\n",
      "7/7 [==============================] - 0s 15ms/step - loss: 0.6356 - accuracy: 0.8275 - val_loss: 1.9453 - val_accuracy: 0.2900\n",
      "Epoch 77/100\n",
      "7/7 [==============================] - 0s 15ms/step - loss: 0.5672 - accuracy: 0.8800 - val_loss: 1.9179 - val_accuracy: 0.2900\n",
      "Epoch 78/100\n",
      "7/7 [==============================] - 0s 15ms/step - loss: 0.5924 - accuracy: 0.8325 - val_loss: 1.8907 - val_accuracy: 0.3200\n",
      "Epoch 79/100\n",
      "7/7 [==============================] - 0s 15ms/step - loss: 0.5598 - accuracy: 0.8475 - val_loss: 1.8732 - val_accuracy: 0.3600\n",
      "Epoch 80/100\n",
      "7/7 [==============================] - 0s 15ms/step - loss: 0.5349 - accuracy: 0.8600 - val_loss: 1.8679 - val_accuracy: 0.3500\n",
      "Epoch 81/100\n",
      "7/7 [==============================] - 0s 15ms/step - loss: 0.5079 - accuracy: 0.8875 - val_loss: 1.8553 - val_accuracy: 0.3700\n",
      "Epoch 82/100\n",
      "7/7 [==============================] - 0s 15ms/step - loss: 0.5348 - accuracy: 0.8775 - val_loss: 1.8268 - val_accuracy: 0.3700\n",
      "Epoch 83/100\n",
      "7/7 [==============================] - 0s 14ms/step - loss: 0.5028 - accuracy: 0.8925 - val_loss: 1.7763 - val_accuracy: 0.3900\n",
      "Epoch 84/100\n",
      "7/7 [==============================] - 0s 15ms/step - loss: 0.5480 - accuracy: 0.8750 - val_loss: 1.7252 - val_accuracy: 0.4200\n",
      "Epoch 85/100\n",
      "7/7 [==============================] - 0s 15ms/step - loss: 0.5230 - accuracy: 0.8750 - val_loss: 1.6910 - val_accuracy: 0.4400\n",
      "Epoch 86/100\n",
      "7/7 [==============================] - 0s 14ms/step - loss: 0.5338 - accuracy: 0.8650 - val_loss: 1.6789 - val_accuracy: 0.4300\n",
      "Epoch 87/100\n",
      "7/7 [==============================] - 0s 15ms/step - loss: 0.4878 - accuracy: 0.8875 - val_loss: 1.6732 - val_accuracy: 0.4300\n",
      "Epoch 88/100\n",
      "7/7 [==============================] - 0s 15ms/step - loss: 0.4803 - accuracy: 0.8925 - val_loss: 1.6538 - val_accuracy: 0.4600\n",
      "Epoch 89/100\n",
      "7/7 [==============================] - 0s 15ms/step - loss: 0.4956 - accuracy: 0.8800 - val_loss: 1.6338 - val_accuracy: 0.4500\n",
      "Epoch 90/100\n",
      "7/7 [==============================] - 0s 15ms/step - loss: 0.4782 - accuracy: 0.8850 - val_loss: 1.5976 - val_accuracy: 0.4600\n",
      "Epoch 91/100\n",
      "7/7 [==============================] - 0s 14ms/step - loss: 0.4840 - accuracy: 0.8700 - val_loss: 1.5509 - val_accuracy: 0.4600\n",
      "Epoch 92/100\n",
      "7/7 [==============================] - 0s 15ms/step - loss: 0.4819 - accuracy: 0.8900 - val_loss: 1.5274 - val_accuracy: 0.4600\n",
      "Epoch 93/100\n",
      "7/7 [==============================] - 0s 14ms/step - loss: 0.4511 - accuracy: 0.9025 - val_loss: 1.5123 - val_accuracy: 0.4500\n",
      "Epoch 94/100\n",
      "7/7 [==============================] - 0s 15ms/step - loss: 0.4567 - accuracy: 0.8800 - val_loss: 1.4888 - val_accuracy: 0.4800\n",
      "Epoch 95/100\n",
      "7/7 [==============================] - 0s 15ms/step - loss: 0.4706 - accuracy: 0.9075 - val_loss: 1.4587 - val_accuracy: 0.5000\n",
      "Epoch 96/100\n",
      "7/7 [==============================] - 0s 15ms/step - loss: 0.4643 - accuracy: 0.8950 - val_loss: 1.4344 - val_accuracy: 0.5200\n",
      "Epoch 97/100\n",
      "7/7 [==============================] - 0s 15ms/step - loss: 0.4693 - accuracy: 0.8925 - val_loss: 1.4020 - val_accuracy: 0.5300\n",
      "Epoch 98/100\n",
      "7/7 [==============================] - 0s 15ms/step - loss: 0.4604 - accuracy: 0.8750 - val_loss: 1.3872 - val_accuracy: 0.5200\n",
      "Epoch 99/100\n",
      "7/7 [==============================] - 0s 15ms/step - loss: 0.4293 - accuracy: 0.9075 - val_loss: 1.3765 - val_accuracy: 0.5100\n",
      "Epoch 100/100\n",
      "7/7 [==============================] - 0s 15ms/step - loss: 0.4043 - accuracy: 0.9000 - val_loss: 1.3717 - val_accuracy: 0.5100\n"
     ]
    }
   ],
   "source": [
    "lstm_history_mfcc_norm = _NN_(lstm_mfcc_norm, X_train_2_mfcc_norm, X_test_2_mfcc_norm,\n",
    "                              y_train_2_mfcc_norm, y_test_2_mfcc_norm)"
   ],
   "metadata": {
    "collapsed": false,
    "ExecuteTime": {
     "end_time": "2024-04-30T02:02:17.429278500Z",
     "start_time": "2024-04-30T02:02:06.459851300Z"
    }
   },
   "id": "28bf2bf7dcc75e9a"
  },
  {
   "cell_type": "code",
   "execution_count": 106,
   "outputs": [
    {
     "name": "stdout",
     "output_type": "stream",
     "text": [
      "4/4 - 0s - loss: 1.3717 - accuracy: 0.5100 - 27ms/epoch - 7ms/step\n",
      "Loss: 1.3717471361160278, Accuracy: 0.5099999904632568\n"
     ]
    }
   ],
   "source": [
    "_print_loss_accuracy(lstm_mfcc_norm, X_test_2_mfcc_norm, y_test_2_mfcc_norm)"
   ],
   "metadata": {
    "collapsed": false,
    "ExecuteTime": {
     "end_time": "2024-04-30T02:02:17.462186900Z",
     "start_time": "2024-04-30T02:02:17.411467700Z"
    }
   },
   "id": "b4410bb13874f993"
  },
  {
   "cell_type": "code",
   "execution_count": 116,
   "outputs": [
    {
     "data": {
      "text/plain": "<Figure size 640x480 with 2 Axes>",
      "image/png": "[encoded data removed]"
     },
     "metadata": {},
     "output_type": "display_data"
    }
   ],
   "source": [
    "acc_err_plot(lstm_history_mfcc)"
   ],
   "metadata": {
    "collapsed": false,
    "ExecuteTime": {
     "end_time": "2024-04-30T02:10:25.792439600Z",
     "start_time": "2024-04-30T02:10:25.614326Z"
    }
   },
   "id": "98fc6dca481b2c04"
  },
  {
   "cell_type": "markdown",
   "source": [
    "## Prediction by CNN (87%)"
   ],
   "metadata": {
    "collapsed": false
   },
   "id": "9a22cb2f39c1a1ba"
  },
  {
   "cell_type": "code",
   "execution_count": 117,
   "outputs": [],
   "source": [
    "def prediction_by_model(model):\n",
    "  rnd_test_index = random.randint(0, len(X_test_2_mfcc))\n",
    "\n",
    "  x_to_predict = X_test_2_mfcc[rnd_test_index]\n",
    "  y_to_predict = y_test_2_mfcc[rnd_test_index]\n",
    "  \n",
    "  # add 1 dimension to input data for sample - model.predict() expects a 4d array in this case\n",
    "  x_to_predict = x_to_predict[np.newaxis, ...]\n",
    "  \n",
    "  prediction = model.predict(x_to_predict)\n",
    "  \n",
    "  predicted_index = np.argmax(prediction, axis=1)\n",
    "  \n",
    "  print(f\"Target: {find_category(y_to_predict)}, Predicted label: {find_category(predicted_index)}; test index: {rnd_test_index}\")"
   ],
   "metadata": {
    "collapsed": false,
    "ExecuteTime": {
     "end_time": "2024-04-30T02:11:48.860557500Z",
     "start_time": "2024-04-30T02:11:48.836693800Z"
    }
   },
   "id": "bd99ece112e37875"
  },
  {
   "cell_type": "code",
   "execution_count": 118,
   "outputs": [
    {
     "name": "stdout",
     "output_type": "stream",
     "text": [
      "1/1 [==============================] - 0s 70ms/step\n",
      "Target: Human, Predicted label: Human; test index: 95\n"
     ]
    }
   ],
   "source": [
    "prediction_by_model(cnn_mfcc)"
   ],
   "metadata": {
    "collapsed": false,
    "ExecuteTime": {
     "end_time": "2024-04-30T02:11:55.813470200Z",
     "start_time": "2024-04-30T02:11:55.720874400Z"
    }
   },
   "id": "f206d5c0ffa8bd34"
  },
  {
   "cell_type": "code",
   "execution_count": 119,
   "outputs": [
    {
     "name": "stdout",
     "output_type": "stream",
     "text": [
      "1/1 [==============================] - 0s 16ms/step\n",
      "Target: Police, Predicted label: Police; test index: 25\n"
     ]
    }
   ],
   "source": [
    "prediction_by_model(cnn_mfcc)"
   ],
   "metadata": {
    "collapsed": false,
    "ExecuteTime": {
     "end_time": "2024-04-30T02:12:03.598290700Z",
     "start_time": "2024-04-30T02:12:03.550111300Z"
    }
   },
   "id": "e5874a4cfc05f7b"
  },
  {
   "cell_type": "code",
   "execution_count": 136,
   "outputs": [
    {
     "name": "stdout",
     "output_type": "stream",
     "text": [
      "1/1 [==============================] - 0s 15ms/step\n",
      "Target: Engine, Predicted label: Engine; test index: 85\n"
     ]
    }
   ],
   "source": [
    "prediction_by_model(cnn_mfcc)"
   ],
   "metadata": {
    "collapsed": false,
    "ExecuteTime": {
     "end_time": "2024-04-30T02:12:32.565963300Z",
     "start_time": "2024-04-30T02:12:32.488561500Z"
    }
   },
   "id": "ee676a6a6432625b"
  },
  {
   "cell_type": "markdown",
   "source": [
    "# Performance metrics (Best from each algorithms)"
   ],
   "metadata": {
    "collapsed": false
   },
   "id": "e90d9cd12027925b"
  },
  {
   "cell_type": "code",
   "execution_count": 141,
   "outputs": [],
   "source": [
    "def get_performance_metrics(_model, _X_test, _y_test, _prediction=None):\n",
    "  if _prediction is None:\n",
    "    _y_pred = _model.predict(_X_test)\n",
    "    _prediction = np.argmax(_y_pred, axis=1)\n",
    "  \n",
    "  _accuracy = accuracy_score(_y_test, _prediction)\n",
    "  _precision = precision_score(_y_test, _prediction, average='weighted')\n",
    "  _recall = recall_score(_y_test, _prediction, average='weighted')\n",
    "  _f1 = f1_score(_y_test, _prediction, average='weighted')\n",
    "  _conf_matx = confusion_matrix(_y_test, _prediction)\n",
    "  \n",
    "  print(f\"Accuracy: {_accuracy}\")\n",
    "  print(f\"Precision: {_precision}\")\n",
    "  print(f\"Recall: {_recall}\")\n",
    "  print(f\"F1 Score: {_f1}\")\n",
    "  \n",
    "  return _accuracy, _precision, _recall, _f1, _conf_matx"
   ],
   "metadata": {
    "collapsed": false,
    "ExecuteTime": {
     "end_time": "2024-04-30T02:23:04.295981600Z",
     "start_time": "2024-04-30T02:23:04.275929700Z"
    }
   },
   "id": "fcad996df8f24ef2"
  },
  {
   "cell_type": "code",
   "execution_count": 145,
   "outputs": [
    {
     "name": "stdout",
     "output_type": "stream",
     "text": [
      "Accuracy: 0.59\n",
      "Precision: 0.619974358974359\n",
      "Recall: 0.59\n",
      "F1 Score: 0.5917658569500674\n"
     ]
    }
   ],
   "source": [
    "svm_accuracy, svm_precision, svm_recall, svm_f1, svm_conf_matx = get_performance_metrics(\n",
    "  None, X_test_1_mfcc, y_test_1_mfcc, svm_predictions_mfcc \n",
    ")"
   ],
   "metadata": {
    "collapsed": false,
    "ExecuteTime": {
     "end_time": "2024-04-30T02:27:02.420639300Z",
     "start_time": "2024-04-30T02:27:02.377282Z"
    }
   },
   "id": "c99f9d468f2a4bbe"
  },
  {
   "cell_type": "code",
   "execution_count": 146,
   "outputs": [
    {
     "name": "stdout",
     "output_type": "stream",
     "text": [
      "Accuracy: 0.54\n",
      "Precision: 0.5780194805194806\n",
      "Recall: 0.54\n",
      "F1 Score: 0.5493635477582846\n"
     ]
    }
   ],
   "source": [
    "lr_accuracy, lr_precision, lr_recall, lr_f1, lr_conf_matx = get_performance_metrics(\n",
    "  None, X_test_1_mfcc, y_test_1_mfcc, lr_predictions_mfcc \n",
    ")"
   ],
   "metadata": {
    "collapsed": false,
    "ExecuteTime": {
     "end_time": "2024-04-30T02:27:31.784790200Z",
     "start_time": "2024-04-30T02:27:31.734370900Z"
    }
   },
   "id": "3b578ee0285ba6df"
  },
  {
   "cell_type": "code",
   "execution_count": 147,
   "outputs": [
    {
     "name": "stdout",
     "output_type": "stream",
     "text": [
      "Accuracy: 0.57\n",
      "Precision: 0.5796017316017317\n",
      "Recall: 0.57\n",
      "F1 Score: 0.5618878089873514\n"
     ]
    }
   ],
   "source": [
    "dt_accuracy, dt_precision, dt_recall, dt_f1, dt_conf_matx = get_performance_metrics(\n",
    "  None, X_test_1_spect, y_test_1_spect, dt_predictions_spect \n",
    ")"
   ],
   "metadata": {
    "collapsed": false,
    "ExecuteTime": {
     "end_time": "2024-04-30T02:27:55.633798600Z",
     "start_time": "2024-04-30T02:27:55.593735900Z"
    }
   },
   "id": "9ec54075f35b719a"
  },
  {
   "cell_type": "code",
   "execution_count": 142,
   "outputs": [
    {
     "name": "stdout",
     "output_type": "stream",
     "text": [
      "4/4 [==============================] - 0s 5ms/step\n",
      "Accuracy: 0.87\n",
      "Precision: 0.8746536796536796\n",
      "Recall: 0.87\n",
      "F1 Score: 0.8696137566137565\n"
     ]
    }
   ],
   "source": [
    "cnn_accuracy, cnn_precision, cnn_recall, cnn_f1, cnn_conf_matx = get_performance_metrics(\n",
    "  cnn_mfcc, X_test_2_mfcc, y_test_2_mfcc\n",
    ")"
   ],
   "metadata": {
    "collapsed": false,
    "ExecuteTime": {
     "end_time": "2024-04-30T02:23:04.967097700Z",
     "start_time": "2024-04-30T02:23:04.881704300Z"
    }
   },
   "id": "cbfc008dada3f547"
  },
  {
   "cell_type": "code",
   "execution_count": 143,
   "outputs": [
    {
     "name": "stdout",
     "output_type": "stream",
     "text": [
      "4/4 [==============================] - 0s 6ms/step\n",
      "Accuracy: 0.83\n",
      "Precision: 0.8281060606060606\n",
      "Recall: 0.83\n",
      "F1 Score: 0.8244920634920635\n"
     ]
    }
   ],
   "source": [
    "lstm_accuracy, lstm_precision, lstm_recall, lstm_f1, lstm_conf_matx = get_performance_metrics(\n",
    "  lstm_mfcc, X_test_2_mfcc, y_test_2_mfcc\n",
    ")"
   ],
   "metadata": {
    "collapsed": false,
    "ExecuteTime": {
     "end_time": "2024-04-30T02:23:35.491708900Z",
     "start_time": "2024-04-30T02:23:35.391480Z"
    }
   },
   "id": "462178c026e04bf4"
  },
  {
   "cell_type": "markdown",
   "source": [
    "## Performance metrics graph"
   ],
   "metadata": {
    "collapsed": false
   },
   "id": "3a42e351395c9533"
  },
  {
   "cell_type": "code",
   "execution_count": 148,
   "outputs": [
    {
     "data": {
      "text/plain": "{'SVM': [0.59, 0.619974358974359, 0.59, 0.5917658569500674],\n 'LR': [0.54, 0.5780194805194806, 0.54, 0.5493635477582846],\n 'DT': [0.57, 0.5796017316017317, 0.57, 0.5618878089873514],\n 'CNN': [0.87, 0.8746536796536796, 0.87, 0.8696137566137565],\n 'LSTM': [0.83, 0.8281060606060606, 0.83, 0.8244920634920635]}"
     },
     "execution_count": 148,
     "metadata": {},
     "output_type": "execute_result"
    }
   ],
   "source": [
    "labels = ['Accuracy', 'Precision', 'Recall', 'F1 Score']\n",
    "performance_metrics = {\n",
    "  'SVM': [svm_accuracy, svm_precision, svm_recall, svm_f1],\n",
    "  'LR': [lr_accuracy, lr_precision, lr_recall, lr_f1],\n",
    "  'DT': [dt_accuracy, dt_precision, dt_recall, dt_f1],\n",
    "  'CNN': [cnn_accuracy, cnn_precision, cnn_recall, cnn_f1],\n",
    "  'LSTM': [lstm_accuracy, lstm_precision, lstm_recall, lstm_f1],\n",
    "}\n",
    "performance_metrics"
   ],
   "metadata": {
    "collapsed": false,
    "ExecuteTime": {
     "end_time": "2024-04-30T02:29:24.759219500Z",
     "start_time": "2024-04-30T02:29:24.713205Z"
    }
   },
   "id": "d4705c9c64d42ea6"
  },
  {
   "cell_type": "code",
   "execution_count": 149,
   "outputs": [
    {
     "data": {
      "text/plain": "<Figure size 640x480 with 1 Axes>",
      "image/png": "[encoded data removed]"
     },
     "metadata": {},
     "output_type": "display_data"
    }
   ],
   "source": [
    "x = np.arange(4)  # total performance metrics\n",
    "width = 0.17\n",
    "\n",
    "fig, ax = plt.subplots()\n",
    "\n",
    "for i, name in enumerate([\"SVM\", \"LR\", \"DT\", \"CNN\", \"LSTM\"]):\n",
    "    ax.bar(x + width*i, performance_metrics[name], width, label=name)\n",
    "\n",
    "ax.set_ylabel('Scores')\n",
    "ax.set_title('Performance Metrics Comparison')\n",
    "ax.set_xticks(x + width * 1.5)\n",
    "ax.set_xticklabels(labels)\n",
    "ax.legend()\n",
    "\n",
    "fig.tight_layout()\n",
    "\n",
    "plt.show()\n",
    "\n",
    "ax.set_ylabel('Scores')\n",
    "ax.set_title('Performance Metrics Comparison')\n",
    "ax.set_xticks(x)\n",
    "ax.set_xticklabels(labels)\n",
    "ax.legend()\n",
    "\n",
    "fig.tight_layout()\n",
    "\n",
    "plt.show()"
   ],
   "metadata": {
    "collapsed": false,
    "ExecuteTime": {
     "end_time": "2024-04-30T02:29:39.904198500Z",
     "start_time": "2024-04-30T02:29:39.782910600Z"
    }
   },
   "id": "c289d1b4ec64a92b"
  },
  {
   "cell_type": "markdown",
   "source": [
    "# Confusion matrix"
   ],
   "metadata": {
    "collapsed": false
   },
   "id": "7c2526e335bd53ea"
  },
  {
   "cell_type": "code",
   "execution_count": 151,
   "id": "dd008f9d165fd12c",
   "metadata": {
    "collapsed": false,
    "ExecuteTime": {
     "end_time": "2024-04-30T02:33:13.426224Z",
     "start_time": "2024-04-30T02:33:11.622192800Z"
    }
   },
   "outputs": [
    {
     "data": {
      "text/plain": "<Figure size 1200x1500 with 11 Axes>",
      "image/png": "[encoded data removed]"
     },
     "metadata": {},
     "output_type": "display_data"
    }
   ],
   "source": [
    "def plot_confusion_matrix(conf_mat, title, ax):\n",
    "  sns.heatmap(conf_mat, annot=True, fmt='d', cmap='Blues', ax=ax)\n",
    "  ax.set_title(title + ' Confusion Matrix')\n",
    "  ax.set_xlabel('Predicted')\n",
    "  ax.set_ylabel('True')\n",
    "\n",
    "fig, axes = plt.subplots(3, 2, figsize=(12, 15))\n",
    "\n",
    "plot_confusion_matrix(cnn_conf_matx, 'CNN', axes[0, 0])\n",
    "plot_confusion_matrix(lstm_conf_matx, 'LSTM', axes[0, 1])\n",
    "plot_confusion_matrix(dt_conf_matx, 'Decision Tree', axes[1, 0])\n",
    "plot_confusion_matrix(lr_conf_matx, 'Logistic Regression', axes[1, 1])\n",
    "plot_confusion_matrix(svm_conf_matx, 'SVM', axes[2, 0])\n",
    "\n",
    "plt.tight_layout()\n",
    "plt.show()\n",
    "plt.close()"
   ]
  },
  {
   "cell_type": "code",
   "execution_count": 163,
   "outputs": [
    {
     "name": "stdout",
     "output_type": "stream",
     "text": [
      "Class 1: TP=6, TN=84, FP=9, FN=1\n",
      "Class 2: TP=10, TN=85, FP=3, FN=2\n",
      "Class 3: TP=4, TN=80, FP=8, FN=8\n",
      "Class 4: TP=5, TN=86, FP=5, FN=4\n",
      "Class 5: TP=4, TN=91, FP=1, FN=4\n",
      "Class 6: TP=4, TN=88, FP=2, FN=6\n",
      "Class 7: TP=2, TN=91, FP=3, FN=4\n",
      "Class 8: TP=6, TN=86, FP=4, FN=4\n",
      "Class 9: TP=11, TN=87, FP=0, FN=2\n",
      "Class 10: TP=7, TN=81, FP=6, FN=6\n",
      "--------------------\n",
      "Class 1: TP=5, TN=91, FP=2, FN=2\n",
      "Class 2: TP=6, TN=87, FP=1, FN=6\n",
      "Class 3: TP=5, TN=78, FP=10, FN=7\n",
      "Class 4: TP=4, TN=84, FP=7, FN=5\n",
      "Class 5: TP=4, TN=89, FP=3, FN=4\n",
      "Class 6: TP=5, TN=87, FP=3, FN=5\n",
      "Class 7: TP=3, TN=91, FP=3, FN=3\n",
      "Class 8: TP=6, TN=82, FP=8, FN=4\n",
      "Class 9: TP=9, TN=85, FP=2, FN=4\n",
      "Class 10: TP=7, TN=80, FP=7, FN=6\n",
      "--------------------\n",
      "Class 1: TP=4, TN=91, FP=2, FN=3\n",
      "Class 2: TP=9, TN=82, FP=6, FN=3\n",
      "Class 3: TP=3, TN=84, FP=4, FN=9\n",
      "Class 4: TP=4, TN=86, FP=5, FN=5\n",
      "Class 5: TP=3, TN=89, FP=3, FN=5\n",
      "Class 6: TP=5, TN=85, FP=5, FN=5\n",
      "Class 7: TP=5, TN=87, FP=7, FN=1\n",
      "Class 8: TP=8, TN=84, FP=6, FN=2\n",
      "Class 9: TP=9, TN=85, FP=2, FN=4\n",
      "Class 10: TP=7, TN=84, FP=3, FN=6\n",
      "--------------------\n",
      "Class 1: TP=6, TN=92, FP=1, FN=1\n",
      "Class 2: TP=7, TN=83, FP=5, FN=5\n",
      "Class 3: TP=8, TN=87, FP=1, FN=4\n",
      "Class 4: TP=7, TN=87, FP=4, FN=2\n",
      "Class 5: TP=8, TN=92, FP=0, FN=0\n",
      "Class 6: TP=9, TN=89, FP=1, FN=1\n",
      "Class 7: TP=6, TN=94, FP=0, FN=0\n",
      "Class 8: TP=10, TN=90, FP=0, FN=0\n",
      "Class 9: TP=13, TN=86, FP=1, FN=0\n",
      "Class 10: TP=13, TN=87, FP=0, FN=0\n",
      "--------------------\n",
      "Class 1: TP=7, TN=93, FP=0, FN=0\n",
      "Class 2: TP=4, TN=83, FP=5, FN=8\n",
      "Class 3: TP=8, TN=84, FP=4, FN=4\n",
      "Class 4: TP=7, TN=87, FP=4, FN=2\n",
      "Class 5: TP=8, TN=92, FP=0, FN=0\n",
      "Class 6: TP=7, TN=89, FP=1, FN=3\n",
      "Class 7: TP=6, TN=91, FP=3, FN=0\n",
      "Class 8: TP=10, TN=90, FP=0, FN=0\n",
      "Class 9: TP=13, TN=87, FP=0, FN=0\n",
      "Class 10: TP=13, TN=87, FP=0, FN=0\n",
      "--------------------\n"
     ]
    }
   ],
   "source": [
    "def calculate_metrics(conf_matrix):\n",
    "  num_classes = len(conf_matrix)\n",
    "  _metrics = {'TP': [0] * num_classes, 'TN': [0] * num_classes, 'FP': [0] * num_classes, 'FN': [0] * num_classes}\n",
    "  \n",
    "  for i in range(num_classes):\n",
    "    _metrics['TP'][i] = conf_matrix[i, i]\n",
    "    _metrics['TN'][i] = (np.sum(conf_matrix) - np.sum(conf_matrix[i, :])\n",
    "                         - np.sum(conf_matrix[:, i]) + conf_matrix[i, i])\n",
    "    _metrics['FP'][i] = np.sum(conf_matrix[:, i]) - conf_matrix[i, i]\n",
    "    _metrics['FN'][i] = np.sum(conf_matrix[i, :]) - conf_matrix[i, i]\n",
    "    \n",
    "  for i2 in range(i+1):\n",
    "      print(f\"Class {i2+1}: TP={_metrics['TP'][i2]}, TN={_metrics['TN'][i2]}, FP={_metrics['FP'][i2]}, FN={_metrics['FN'][i2]}\")\n",
    "\n",
    "for alg in [svm_conf_matx, lr_conf_matx, dt_conf_matx, cnn_conf_matx, lstm_conf_matx]:\n",
    "  calculate_metrics(alg)\n",
    "  print(\"-\"*20)"
   ],
   "metadata": {
    "collapsed": false,
    "ExecuteTime": {
     "end_time": "2024-04-30T12:31:39.151636200Z",
     "start_time": "2024-04-30T12:31:39.143943800Z"
    }
   },
   "id": "c904458a5f868aad"
  }
 ],
 "metadata": {
  "kernelspec": {
   "display_name": "Python 3 (ipykernel)",
   "language": "python",
   "name": "python3"
  },
  "language_info": {
   "codemirror_mode": {
    "name": "ipython",
    "version": 3
   },
   "file_extension": ".py",
   "mimetype": "text/x-python",
   "name": "python",
   "nbconvert_exporter": "python",
   "pygments_lexer": "ipython3",
   "version": "3.10.12"
  }
 },
 "nbformat": 4,
 "nbformat_minor": 5
}
