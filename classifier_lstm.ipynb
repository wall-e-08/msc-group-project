{
 "cells": [
  {
   "cell_type": "code",
   "execution_count": 10,
   "id": "initial_id",
   "metadata": {
    "collapsed": true,
    "ExecuteTime": {
     "end_time": "2024-03-03T23:15:55.209783200Z",
     "start_time": "2024-03-03T23:15:55.178190600Z"
    }
   },
   "outputs": [],
   "source": [
    "import json\n",
    "import numpy as np\n",
    "from sklearn.model_selection import train_test_split\n",
    "from tensorflow.keras import Sequential, optimizers\n",
    "from tensorflow.keras.optimizers import Adam\n",
    "from tensorflow.keras.layers import LSTM, Dense, Dropout\n",
    "import matplotlib.pyplot as plt"
   ]
  },
  {
   "cell_type": "code",
   "execution_count": 11,
   "outputs": [],
   "source": [
    "with open(\"data2.json\", \"r\") as fp:\n",
    "  data = json.load(fp)\n",
    "\n",
    "X = np.array(data[\"mfcc\"])\n",
    "y = np.array(data[\"labels\"])"
   ],
   "metadata": {
    "collapsed": false,
    "ExecuteTime": {
     "end_time": "2024-03-03T23:15:56.966398100Z",
     "start_time": "2024-03-03T23:15:56.834944400Z"
    }
   },
   "id": "2f91ca66f8308b87"
  },
  {
   "cell_type": "code",
   "execution_count": 12,
   "outputs": [],
   "source": [
    "X_train, X_test, y_train, y_test = train_test_split(X, y, test_size=0.2,\n",
    "                                                    random_state=42)"
   ],
   "metadata": {
    "collapsed": false,
    "ExecuteTime": {
     "end_time": "2024-03-03T23:15:57.566249400Z",
     "start_time": "2024-03-03T23:15:57.559750900Z"
    }
   },
   "id": "1f8eb67e4273bf24"
  },
  {
   "cell_type": "code",
   "execution_count": 13,
   "outputs": [],
   "source": [
    "model = Sequential([\n",
    "  LSTM(64, input_shape=(X_train.shape[1], X_train.shape[2]),\n",
    "       return_sequences=True),\n",
    "  LSTM(64),\n",
    "  \n",
    "  Dense(64, activation='relu'),\n",
    "  Dropout(0.3),\n",
    "  \n",
    "  # output\n",
    "  Dense(3, activation='softmax')\n",
    "])"
   ],
   "metadata": {
    "collapsed": false,
    "ExecuteTime": {
     "end_time": "2024-03-03T23:15:58.587495200Z",
     "start_time": "2024-03-03T23:15:58.318290Z"
    }
   },
   "id": "5f089230dfe46e40"
  },
  {
   "cell_type": "code",
   "execution_count": 14,
   "outputs": [
    {
     "name": "stdout",
     "output_type": "stream",
     "text": [
      "Model: \"sequential_2\"\n",
      "_________________________________________________________________\n",
      " Layer (type)                Output Shape              Param #   \n",
      "=================================================================\n",
      " lstm_4 (LSTM)               (None, 259, 64)           19968     \n",
      "                                                                 \n",
      " lstm_5 (LSTM)               (None, 64)                33024     \n",
      "                                                                 \n",
      " dense_4 (Dense)             (None, 64)                4160      \n",
      "                                                                 \n",
      " dropout_2 (Dropout)         (None, 64)                0         \n",
      "                                                                 \n",
      " dense_5 (Dense)             (None, 3)                 195       \n",
      "                                                                 \n",
      "=================================================================\n",
      "Total params: 57347 (224.01 KB)\n",
      "Trainable params: 57347 (224.01 KB)\n",
      "Non-trainable params: 0 (0.00 Byte)\n",
      "_________________________________________________________________\n"
     ]
    }
   ],
   "source": [
    "model.compile(optimizer=Adam(learning_rate=0.0001),\n",
    "              loss='sparse_categorical_crossentropy',\n",
    "              metrics=['accuracy'])\n",
    "\n",
    "model.summary()"
   ],
   "metadata": {
    "collapsed": false,
    "ExecuteTime": {
     "end_time": "2024-03-03T23:15:59.237210700Z",
     "start_time": "2024-03-03T23:15:59.221455Z"
    }
   },
   "id": "1547a4f6f3d87a14"
  },
  {
   "cell_type": "code",
   "execution_count": 15,
   "outputs": [
    {
     "name": "stdout",
     "output_type": "stream",
     "text": [
      "Epoch 1/50\n",
      "4/4 [==============================] - 2s 240ms/step - loss: 1.1785 - accuracy: 0.2656 - val_loss: 1.1517 - val_accuracy: 0.2188\n",
      "Epoch 2/50\n",
      "4/4 [==============================] - 0s 100ms/step - loss: 1.1411 - accuracy: 0.3125 - val_loss: 1.1413 - val_accuracy: 0.2812\n",
      "Epoch 3/50\n",
      "4/4 [==============================] - 0s 100ms/step - loss: 1.1372 - accuracy: 0.2734 - val_loss: 1.1316 - val_accuracy: 0.3438\n",
      "Epoch 4/50\n",
      "4/4 [==============================] - 0s 97ms/step - loss: 1.1344 - accuracy: 0.2969 - val_loss: 1.1234 - val_accuracy: 0.4062\n",
      "Epoch 5/50\n",
      "4/4 [==============================] - 0s 114ms/step - loss: 1.1219 - accuracy: 0.3125 - val_loss: 1.1157 - val_accuracy: 0.3438\n",
      "Epoch 6/50\n",
      "4/4 [==============================] - 1s 151ms/step - loss: 1.0911 - accuracy: 0.3516 - val_loss: 1.1083 - val_accuracy: 0.3125\n",
      "Epoch 7/50\n",
      "4/4 [==============================] - 0s 97ms/step - loss: 1.0796 - accuracy: 0.4297 - val_loss: 1.1022 - val_accuracy: 0.3438\n",
      "Epoch 8/50\n",
      "4/4 [==============================] - 0s 96ms/step - loss: 1.0730 - accuracy: 0.4141 - val_loss: 1.0955 - val_accuracy: 0.3438\n",
      "Epoch 9/50\n",
      "4/4 [==============================] - 0s 97ms/step - loss: 1.0548 - accuracy: 0.4531 - val_loss: 1.0891 - val_accuracy: 0.3750\n",
      "Epoch 10/50\n",
      "4/4 [==============================] - 0s 96ms/step - loss: 1.0476 - accuracy: 0.4844 - val_loss: 1.0833 - val_accuracy: 0.4688\n",
      "Epoch 11/50\n",
      "4/4 [==============================] - 0s 97ms/step - loss: 1.0306 - accuracy: 0.5156 - val_loss: 1.0777 - val_accuracy: 0.5000\n",
      "Epoch 12/50\n",
      "4/4 [==============================] - 0s 97ms/step - loss: 1.0255 - accuracy: 0.5000 - val_loss: 1.0731 - val_accuracy: 0.5000\n",
      "Epoch 13/50\n",
      "4/4 [==============================] - 0s 98ms/step - loss: 1.0186 - accuracy: 0.5391 - val_loss: 1.0689 - val_accuracy: 0.5312\n",
      "Epoch 14/50\n",
      "4/4 [==============================] - 0s 97ms/step - loss: 0.9989 - accuracy: 0.5625 - val_loss: 1.0645 - val_accuracy: 0.5312\n",
      "Epoch 15/50\n",
      "4/4 [==============================] - 0s 98ms/step - loss: 1.0071 - accuracy: 0.5938 - val_loss: 1.0606 - val_accuracy: 0.5312\n",
      "Epoch 16/50\n",
      "4/4 [==============================] - 0s 97ms/step - loss: 0.9802 - accuracy: 0.5938 - val_loss: 1.0566 - val_accuracy: 0.5312\n",
      "Epoch 17/50\n",
      "4/4 [==============================] - 0s 99ms/step - loss: 0.9763 - accuracy: 0.6094 - val_loss: 1.0519 - val_accuracy: 0.5000\n",
      "Epoch 18/50\n",
      "4/4 [==============================] - 0s 98ms/step - loss: 0.9669 - accuracy: 0.5703 - val_loss: 1.0472 - val_accuracy: 0.5312\n",
      "Epoch 19/50\n",
      "4/4 [==============================] - 0s 96ms/step - loss: 0.9565 - accuracy: 0.6406 - val_loss: 1.0416 - val_accuracy: 0.5312\n",
      "Epoch 20/50\n",
      "4/4 [==============================] - 0s 96ms/step - loss: 0.9318 - accuracy: 0.6484 - val_loss: 1.0361 - val_accuracy: 0.5312\n",
      "Epoch 21/50\n",
      "4/4 [==============================] - 0s 96ms/step - loss: 0.9384 - accuracy: 0.6094 - val_loss: 1.0317 - val_accuracy: 0.5000\n",
      "Epoch 22/50\n",
      "4/4 [==============================] - 0s 100ms/step - loss: 0.9322 - accuracy: 0.6406 - val_loss: 1.0277 - val_accuracy: 0.5000\n",
      "Epoch 23/50\n",
      "4/4 [==============================] - 0s 102ms/step - loss: 0.9047 - accuracy: 0.6797 - val_loss: 1.0242 - val_accuracy: 0.5000\n",
      "Epoch 24/50\n",
      "4/4 [==============================] - 0s 97ms/step - loss: 0.9074 - accuracy: 0.6953 - val_loss: 1.0200 - val_accuracy: 0.5000\n",
      "Epoch 25/50\n",
      "4/4 [==============================] - 0s 98ms/step - loss: 0.8766 - accuracy: 0.6953 - val_loss: 1.0173 - val_accuracy: 0.5000\n",
      "Epoch 26/50\n",
      "4/4 [==============================] - 0s 96ms/step - loss: 0.8728 - accuracy: 0.7109 - val_loss: 1.0152 - val_accuracy: 0.5000\n",
      "Epoch 27/50\n",
      "4/4 [==============================] - 0s 99ms/step - loss: 0.8801 - accuracy: 0.6719 - val_loss: 1.0127 - val_accuracy: 0.5000\n",
      "Epoch 28/50\n",
      "4/4 [==============================] - 0s 95ms/step - loss: 0.8822 - accuracy: 0.6641 - val_loss: 1.0108 - val_accuracy: 0.5000\n",
      "Epoch 29/50\n",
      "4/4 [==============================] - 0s 95ms/step - loss: 0.8451 - accuracy: 0.6875 - val_loss: 1.0077 - val_accuracy: 0.5000\n",
      "Epoch 30/50\n",
      "4/4 [==============================] - 0s 95ms/step - loss: 0.8291 - accuracy: 0.7031 - val_loss: 1.0048 - val_accuracy: 0.5000\n",
      "Epoch 31/50\n",
      "4/4 [==============================] - 0s 93ms/step - loss: 0.8155 - accuracy: 0.7344 - val_loss: 1.0024 - val_accuracy: 0.5000\n",
      "Epoch 32/50\n",
      "4/4 [==============================] - 0s 94ms/step - loss: 0.7881 - accuracy: 0.7422 - val_loss: 1.0006 - val_accuracy: 0.5000\n",
      "Epoch 33/50\n",
      "4/4 [==============================] - 0s 96ms/step - loss: 0.7875 - accuracy: 0.7266 - val_loss: 0.9992 - val_accuracy: 0.5000\n",
      "Epoch 34/50\n",
      "4/4 [==============================] - 0s 95ms/step - loss: 0.7677 - accuracy: 0.7344 - val_loss: 0.9973 - val_accuracy: 0.5000\n",
      "Epoch 35/50\n",
      "4/4 [==============================] - 0s 96ms/step - loss: 0.7475 - accuracy: 0.7500 - val_loss: 0.9943 - val_accuracy: 0.5000\n",
      "Epoch 36/50\n",
      "4/4 [==============================] - 0s 95ms/step - loss: 0.7603 - accuracy: 0.7500 - val_loss: 0.9926 - val_accuracy: 0.5000\n",
      "Epoch 37/50\n",
      "4/4 [==============================] - 0s 98ms/step - loss: 0.7340 - accuracy: 0.7656 - val_loss: 0.9914 - val_accuracy: 0.5000\n",
      "Epoch 38/50\n",
      "4/4 [==============================] - 0s 95ms/step - loss: 0.7260 - accuracy: 0.7578 - val_loss: 0.9918 - val_accuracy: 0.5000\n",
      "Epoch 39/50\n",
      "4/4 [==============================] - 0s 96ms/step - loss: 0.6867 - accuracy: 0.7812 - val_loss: 0.9907 - val_accuracy: 0.5000\n",
      "Epoch 40/50\n",
      "4/4 [==============================] - 0s 96ms/step - loss: 0.6846 - accuracy: 0.7734 - val_loss: 0.9908 - val_accuracy: 0.5000\n",
      "Epoch 41/50\n",
      "4/4 [==============================] - 0s 95ms/step - loss: 0.6746 - accuracy: 0.7891 - val_loss: 0.9886 - val_accuracy: 0.5000\n",
      "Epoch 42/50\n",
      "4/4 [==============================] - 0s 96ms/step - loss: 0.6519 - accuracy: 0.8125 - val_loss: 0.9868 - val_accuracy: 0.5000\n",
      "Epoch 43/50\n",
      "4/4 [==============================] - 0s 99ms/step - loss: 0.6597 - accuracy: 0.8047 - val_loss: 0.9850 - val_accuracy: 0.5000\n",
      "Epoch 44/50\n",
      "4/4 [==============================] - 0s 94ms/step - loss: 0.6415 - accuracy: 0.7891 - val_loss: 0.9815 - val_accuracy: 0.5000\n",
      "Epoch 45/50\n",
      "4/4 [==============================] - 0s 93ms/step - loss: 0.6197 - accuracy: 0.7891 - val_loss: 0.9779 - val_accuracy: 0.5000\n",
      "Epoch 46/50\n",
      "4/4 [==============================] - 0s 97ms/step - loss: 0.5721 - accuracy: 0.8203 - val_loss: 0.9799 - val_accuracy: 0.5000\n",
      "Epoch 47/50\n",
      "4/4 [==============================] - 0s 94ms/step - loss: 0.5694 - accuracy: 0.8203 - val_loss: 0.9768 - val_accuracy: 0.5000\n",
      "Epoch 48/50\n",
      "4/4 [==============================] - 0s 94ms/step - loss: 0.5505 - accuracy: 0.8281 - val_loss: 0.9775 - val_accuracy: 0.5000\n",
      "Epoch 49/50\n",
      "4/4 [==============================] - 0s 97ms/step - loss: 0.5088 - accuracy: 0.8438 - val_loss: 0.9814 - val_accuracy: 0.5000\n",
      "Epoch 50/50\n",
      "4/4 [==============================] - 0s 95ms/step - loss: 0.4918 - accuracy: 0.8438 - val_loss: 0.9882 - val_accuracy: 0.5312\n"
     ]
    }
   ],
   "source": [
    "history = model.fit(X_train, y_train,\n",
    "                    validation_data=(X_test, y_test),\n",
    "                    batch_size=32, epochs=50)"
   ],
   "metadata": {
    "collapsed": false,
    "ExecuteTime": {
     "end_time": "2024-03-03T23:16:19.765161500Z",
     "start_time": "2024-03-03T23:16:00.600537600Z"
    }
   },
   "id": "fb3f2fbb24eeb372"
  },
  {
   "cell_type": "code",
   "execution_count": 16,
   "outputs": [
    {
     "data": {
      "text/plain": "<Figure size 640x480 with 2 Axes>",
      "image/png": "[encoded data removed]"
     },
     "metadata": {},
     "output_type": "display_data"
    }
   ],
   "source": [
    "fig, axs = plt.subplots(2)\n",
    "\n",
    "# create accuracy sublpot\n",
    "axs[0].plot(history.history[\"accuracy\"], label=\"train accuracy\")\n",
    "axs[0].plot(history.history[\"val_accuracy\"], label=\"test accuracy\")\n",
    "axs[0].set_ylabel(\"Accuracy\")\n",
    "axs[0].legend(loc=\"lower right\")\n",
    "axs[0].set_title(\"Accuracy eval\")\n",
    "\n",
    "# create error sublpot\n",
    "axs[1].plot(history.history[\"loss\"], label=\"train error\")\n",
    "axs[1].plot(history.history[\"val_loss\"], label=\"test error\")\n",
    "axs[1].set_ylabel(\"Error\")\n",
    "axs[1].set_xlabel(\"Epoch\")\n",
    "axs[1].legend(loc=\"upper right\")\n",
    "axs[1].set_title(\"Error eval\")\n",
    "\n",
    "plt.show()"
   ],
   "metadata": {
    "collapsed": false,
    "ExecuteTime": {
     "end_time": "2024-03-03T23:16:27.310028300Z",
     "start_time": "2024-03-03T23:16:27.191247200Z"
    }
   },
   "id": "89938b2c668095b7"
  },
  {
   "cell_type": "code",
   "execution_count": 17,
   "outputs": [
    {
     "name": "stdout",
     "output_type": "stream",
     "text": [
      "1/1 - 0s - loss: 0.9882 - accuracy: 0.5312 - 59ms/epoch - 59ms/step\n"
     ]
    },
    {
     "data": {
      "text/plain": "'Loss: 0.9882477521896362, Accuracy: 0.53125'"
     },
     "execution_count": 17,
     "metadata": {},
     "output_type": "execute_result"
    }
   ],
   "source": [
    "loss, accuracy = model.evaluate(X_test, y_test, verbose=2)\n",
    "f'Loss: {loss}, Accuracy: {accuracy}'"
   ],
   "metadata": {
    "collapsed": false,
    "ExecuteTime": {
     "end_time": "2024-03-03T23:16:31.995789300Z",
     "start_time": "2024-03-03T23:16:31.918785600Z"
    }
   },
   "id": "91e938edccf98835"
  },
  {
   "cell_type": "code",
   "execution_count": null,
   "outputs": [],
   "source": [],
   "metadata": {
    "collapsed": false
   },
   "id": "7997d6fb68916b33"
  }
 ],
 "metadata": {
  "kernelspec": {
   "display_name": "Python 3",
   "language": "python",
   "name": "python3"
  },
  "language_info": {
   "codemirror_mode": {
    "name": "ipython",
    "version": 2
   },
   "file_extension": ".py",
   "mimetype": "text/x-python",
   "name": "python",
   "nbconvert_exporter": "python",
   "pygments_lexer": "ipython2",
   "version": "2.7.6"
  }
 },
 "nbformat": 4,
 "nbformat_minor": 5
}
